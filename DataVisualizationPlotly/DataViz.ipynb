{
 "cells": [
  {
   "cell_type": "code",
   "execution_count": 3,
   "metadata": {},
   "outputs": [],
   "source": [
    "import plotly.offline as pyo\n",
    "import pandas as pd\n",
    "import matplotlib.pyplot as plt"
   ]
  },
  {
   "cell_type": "code",
   "execution_count": 6,
   "metadata": {},
   "outputs": [],
   "source": [
    "orders = pd.read_csv('Orders_Central.csv', encoding = \"ISO-8859-1\", engine='python')"
   ]
  },
  {
   "cell_type": "code",
   "execution_count": 7,
   "metadata": {},
   "outputs": [
    {
     "data": {
      "text/html": [
       "<div>\n",
       "<style scoped>\n",
       "    .dataframe tbody tr th:only-of-type {\n",
       "        vertical-align: middle;\n",
       "    }\n",
       "\n",
       "    .dataframe tbody tr th {\n",
       "        vertical-align: top;\n",
       "    }\n",
       "\n",
       "    .dataframe thead th {\n",
       "        text-align: right;\n",
       "    }\n",
       "</style>\n",
       "<table border=\"1\" class=\"dataframe\">\n",
       "  <thead>\n",
       "    <tr style=\"text-align: right;\">\n",
       "      <th></th>\n",
       "      <th>Row ID</th>\n",
       "      <th>Order ID</th>\n",
       "      <th>Ship Mode</th>\n",
       "      <th>Customer ID</th>\n",
       "      <th>Customer Name</th>\n",
       "      <th>Segment</th>\n",
       "      <th>Country</th>\n",
       "      <th>City</th>\n",
       "      <th>State</th>\n",
       "      <th>Postal Code</th>\n",
       "      <th>...</th>\n",
       "      <th>Sales</th>\n",
       "      <th>Quantity</th>\n",
       "      <th>Profit</th>\n",
       "      <th>Order Year</th>\n",
       "      <th>Order Month</th>\n",
       "      <th>Order Day</th>\n",
       "      <th>Ship Year</th>\n",
       "      <th>Ship Month</th>\n",
       "      <th>Ship Day</th>\n",
       "      <th>Discounts</th>\n",
       "    </tr>\n",
       "  </thead>\n",
       "  <tbody>\n",
       "    <tr>\n",
       "      <th>0</th>\n",
       "      <td>15</td>\n",
       "      <td>US-2016-118983</td>\n",
       "      <td>Standard Class</td>\n",
       "      <td>HP-14815</td>\n",
       "      <td>Harold Pawlan</td>\n",
       "      <td>Home Office</td>\n",
       "      <td>United States</td>\n",
       "      <td>Fort Worth</td>\n",
       "      <td>Texas</td>\n",
       "      <td>76106</td>\n",
       "      <td>...</td>\n",
       "      <td>68.810</td>\n",
       "      <td>5</td>\n",
       "      <td>-123.8580</td>\n",
       "      <td>2016</td>\n",
       "      <td>11</td>\n",
       "      <td>22</td>\n",
       "      <td>2016</td>\n",
       "      <td>11</td>\n",
       "      <td>26</td>\n",
       "      <td>0.8</td>\n",
       "    </tr>\n",
       "    <tr>\n",
       "      <th>1</th>\n",
       "      <td>16</td>\n",
       "      <td>US-2016-118983</td>\n",
       "      <td>Standard Class</td>\n",
       "      <td>HP-14815</td>\n",
       "      <td>Harold Pawlan</td>\n",
       "      <td>Home Office</td>\n",
       "      <td>United States</td>\n",
       "      <td>Fort Worth</td>\n",
       "      <td>Texas</td>\n",
       "      <td>76106</td>\n",
       "      <td>...</td>\n",
       "      <td>2.544</td>\n",
       "      <td>3</td>\n",
       "      <td>-3.8160</td>\n",
       "      <td>2016</td>\n",
       "      <td>11</td>\n",
       "      <td>22</td>\n",
       "      <td>2016</td>\n",
       "      <td>11</td>\n",
       "      <td>26</td>\n",
       "      <td>0.8</td>\n",
       "    </tr>\n",
       "    <tr>\n",
       "      <th>2</th>\n",
       "      <td>17</td>\n",
       "      <td>CA-2015-105893</td>\n",
       "      <td>Standard Class</td>\n",
       "      <td>PK-19075</td>\n",
       "      <td>Pete Kriz</td>\n",
       "      <td>Consumer</td>\n",
       "      <td>United States</td>\n",
       "      <td>Madison</td>\n",
       "      <td>Wisconsin</td>\n",
       "      <td>53711</td>\n",
       "      <td>...</td>\n",
       "      <td>665.880</td>\n",
       "      <td>6</td>\n",
       "      <td>13.3176</td>\n",
       "      <td>2015</td>\n",
       "      <td>11</td>\n",
       "      <td>11</td>\n",
       "      <td>2015</td>\n",
       "      <td>11</td>\n",
       "      <td>18</td>\n",
       "      <td>None</td>\n",
       "    </tr>\n",
       "    <tr>\n",
       "      <th>3</th>\n",
       "      <td>22</td>\n",
       "      <td>CA-2017-137330</td>\n",
       "      <td>Standard Class</td>\n",
       "      <td>KB-16585</td>\n",
       "      <td>Ken Black</td>\n",
       "      <td>Corporate</td>\n",
       "      <td>United States</td>\n",
       "      <td>Fremont</td>\n",
       "      <td>Nebraska</td>\n",
       "      <td>68025</td>\n",
       "      <td>...</td>\n",
       "      <td>19.460</td>\n",
       "      <td>7</td>\n",
       "      <td>5.0596</td>\n",
       "      <td>2017</td>\n",
       "      <td>12</td>\n",
       "      <td>9</td>\n",
       "      <td>2017</td>\n",
       "      <td>12</td>\n",
       "      <td>13</td>\n",
       "      <td>None</td>\n",
       "    </tr>\n",
       "    <tr>\n",
       "      <th>4</th>\n",
       "      <td>23</td>\n",
       "      <td>CA-2017-137330</td>\n",
       "      <td>Standard Class</td>\n",
       "      <td>KB-16585</td>\n",
       "      <td>Ken Black</td>\n",
       "      <td>Corporate</td>\n",
       "      <td>United States</td>\n",
       "      <td>Fremont</td>\n",
       "      <td>Nebraska</td>\n",
       "      <td>68025</td>\n",
       "      <td>...</td>\n",
       "      <td>60.340</td>\n",
       "      <td>7</td>\n",
       "      <td>15.6884</td>\n",
       "      <td>2017</td>\n",
       "      <td>12</td>\n",
       "      <td>9</td>\n",
       "      <td>2017</td>\n",
       "      <td>12</td>\n",
       "      <td>13</td>\n",
       "      <td>None</td>\n",
       "    </tr>\n",
       "  </tbody>\n",
       "</table>\n",
       "<p>5 rows × 24 columns</p>\n",
       "</div>"
      ],
      "text/plain": [
       "   Row ID        Order ID       Ship Mode Customer ID  Customer Name  \\\n",
       "0      15  US-2016-118983  Standard Class    HP-14815  Harold Pawlan   \n",
       "1      16  US-2016-118983  Standard Class    HP-14815  Harold Pawlan   \n",
       "2      17  CA-2015-105893  Standard Class    PK-19075      Pete Kriz   \n",
       "3      22  CA-2017-137330  Standard Class    KB-16585      Ken Black   \n",
       "4      23  CA-2017-137330  Standard Class    KB-16585      Ken Black   \n",
       "\n",
       "       Segment        Country        City      State  Postal Code  ...  \\\n",
       "0  Home Office  United States  Fort Worth      Texas        76106  ...   \n",
       "1  Home Office  United States  Fort Worth      Texas        76106  ...   \n",
       "2     Consumer  United States     Madison  Wisconsin        53711  ...   \n",
       "3    Corporate  United States     Fremont   Nebraska        68025  ...   \n",
       "4    Corporate  United States     Fremont   Nebraska        68025  ...   \n",
       "\n",
       "     Sales Quantity    Profit Order Year  Order Month  Order Day  Ship Year  \\\n",
       "0   68.810        5 -123.8580       2016           11         22       2016   \n",
       "1    2.544        3   -3.8160       2016           11         22       2016   \n",
       "2  665.880        6   13.3176       2015           11         11       2015   \n",
       "3   19.460        7    5.0596       2017           12          9       2017   \n",
       "4   60.340        7   15.6884       2017           12          9       2017   \n",
       "\n",
       "   Ship Month  Ship Day  Discounts  \n",
       "0          11        26        0.8  \n",
       "1          11        26        0.8  \n",
       "2          11        18       None  \n",
       "3          12        13       None  \n",
       "4          12        13       None  \n",
       "\n",
       "[5 rows x 24 columns]"
      ]
     },
     "execution_count": 7,
     "metadata": {},
     "output_type": "execute_result"
    }
   ],
   "source": [
    "orders.head()"
   ]
  },
  {
   "cell_type": "code",
   "execution_count": 47,
   "metadata": {
    "scrolled": true
   },
   "outputs": [
    {
     "data": {
      "text/html": [
       "<div>\n",
       "<style scoped>\n",
       "    .dataframe tbody tr th:only-of-type {\n",
       "        vertical-align: middle;\n",
       "    }\n",
       "\n",
       "    .dataframe tbody tr th {\n",
       "        vertical-align: top;\n",
       "    }\n",
       "\n",
       "    .dataframe thead th {\n",
       "        text-align: right;\n",
       "    }\n",
       "</style>\n",
       "<table border=\"1\" class=\"dataframe\">\n",
       "  <thead>\n",
       "    <tr style=\"text-align: right;\">\n",
       "      <th></th>\n",
       "      <th>Row ID</th>\n",
       "      <th>Postal Code</th>\n",
       "      <th>Sales</th>\n",
       "      <th>Quantity</th>\n",
       "      <th>Profit</th>\n",
       "      <th>Order Year</th>\n",
       "      <th>Order Month</th>\n",
       "      <th>Order Day</th>\n",
       "      <th>Ship Year</th>\n",
       "      <th>Ship Month</th>\n",
       "      <th>Ship Day</th>\n",
       "    </tr>\n",
       "  </thead>\n",
       "  <tbody>\n",
       "    <tr>\n",
       "      <th>count</th>\n",
       "      <td>2323.000000</td>\n",
       "      <td>2323.000000</td>\n",
       "      <td>2323.000000</td>\n",
       "      <td>2323.000000</td>\n",
       "      <td>2323.000000</td>\n",
       "      <td>2323.000000</td>\n",
       "      <td>2323.000000</td>\n",
       "      <td>2323.000000</td>\n",
       "      <td>2323.000000</td>\n",
       "      <td>2323.000000</td>\n",
       "      <td>2323.000000</td>\n",
       "    </tr>\n",
       "    <tr>\n",
       "      <th>mean</th>\n",
       "      <td>5030.547998</td>\n",
       "      <td>65340.572536</td>\n",
       "      <td>215.772661</td>\n",
       "      <td>3.779595</td>\n",
       "      <td>17.092709</td>\n",
       "      <td>2016.728799</td>\n",
       "      <td>7.692639</td>\n",
       "      <td>15.428325</td>\n",
       "      <td>2016.749462</td>\n",
       "      <td>7.566078</td>\n",
       "      <td>15.759363</td>\n",
       "    </tr>\n",
       "    <tr>\n",
       "      <th>std</th>\n",
       "      <td>2923.638538</td>\n",
       "      <td>11427.949045</td>\n",
       "      <td>632.779010</td>\n",
       "      <td>2.160561</td>\n",
       "      <td>291.487465</td>\n",
       "      <td>1.126599</td>\n",
       "      <td>3.347807</td>\n",
       "      <td>8.840895</td>\n",
       "      <td>1.132517</td>\n",
       "      <td>3.403310</td>\n",
       "      <td>8.785179</td>\n",
       "    </tr>\n",
       "    <tr>\n",
       "      <th>min</th>\n",
       "      <td>15.000000</td>\n",
       "      <td>46060.000000</td>\n",
       "      <td>0.444000</td>\n",
       "      <td>1.000000</td>\n",
       "      <td>-3701.892800</td>\n",
       "      <td>2015.000000</td>\n",
       "      <td>1.000000</td>\n",
       "      <td>1.000000</td>\n",
       "      <td>2015.000000</td>\n",
       "      <td>1.000000</td>\n",
       "      <td>1.000000</td>\n",
       "    </tr>\n",
       "    <tr>\n",
       "      <th>25%</th>\n",
       "      <td>2564.500000</td>\n",
       "      <td>55125.000000</td>\n",
       "      <td>14.620000</td>\n",
       "      <td>2.000000</td>\n",
       "      <td>-5.664300</td>\n",
       "      <td>2016.000000</td>\n",
       "      <td>5.000000</td>\n",
       "      <td>8.000000</td>\n",
       "      <td>2016.000000</td>\n",
       "      <td>5.000000</td>\n",
       "      <td>8.000000</td>\n",
       "    </tr>\n",
       "    <tr>\n",
       "      <th>50%</th>\n",
       "      <td>5029.000000</td>\n",
       "      <td>65203.000000</td>\n",
       "      <td>45.980000</td>\n",
       "      <td>3.000000</td>\n",
       "      <td>5.184000</td>\n",
       "      <td>2017.000000</td>\n",
       "      <td>8.000000</td>\n",
       "      <td>15.000000</td>\n",
       "      <td>2017.000000</td>\n",
       "      <td>8.000000</td>\n",
       "      <td>16.000000</td>\n",
       "    </tr>\n",
       "    <tr>\n",
       "      <th>75%</th>\n",
       "      <td>7612.500000</td>\n",
       "      <td>77041.000000</td>\n",
       "      <td>200.012000</td>\n",
       "      <td>5.000000</td>\n",
       "      <td>22.456200</td>\n",
       "      <td>2018.000000</td>\n",
       "      <td>11.000000</td>\n",
       "      <td>23.000000</td>\n",
       "      <td>2018.000000</td>\n",
       "      <td>11.000000</td>\n",
       "      <td>24.000000</td>\n",
       "    </tr>\n",
       "    <tr>\n",
       "      <th>max</th>\n",
       "      <td>9984.000000</td>\n",
       "      <td>79907.000000</td>\n",
       "      <td>17499.950000</td>\n",
       "      <td>14.000000</td>\n",
       "      <td>8399.976000</td>\n",
       "      <td>2018.000000</td>\n",
       "      <td>12.000000</td>\n",
       "      <td>31.000000</td>\n",
       "      <td>2019.000000</td>\n",
       "      <td>12.000000</td>\n",
       "      <td>31.000000</td>\n",
       "    </tr>\n",
       "  </tbody>\n",
       "</table>\n",
       "</div>"
      ],
      "text/plain": [
       "            Row ID   Postal Code         Sales     Quantity       Profit  \\\n",
       "count  2323.000000   2323.000000   2323.000000  2323.000000  2323.000000   \n",
       "mean   5030.547998  65340.572536    215.772661     3.779595    17.092709   \n",
       "std    2923.638538  11427.949045    632.779010     2.160561   291.487465   \n",
       "min      15.000000  46060.000000      0.444000     1.000000 -3701.892800   \n",
       "25%    2564.500000  55125.000000     14.620000     2.000000    -5.664300   \n",
       "50%    5029.000000  65203.000000     45.980000     3.000000     5.184000   \n",
       "75%    7612.500000  77041.000000    200.012000     5.000000    22.456200   \n",
       "max    9984.000000  79907.000000  17499.950000    14.000000  8399.976000   \n",
       "\n",
       "        Order Year  Order Month    Order Day    Ship Year   Ship Month  \\\n",
       "count  2323.000000  2323.000000  2323.000000  2323.000000  2323.000000   \n",
       "mean   2016.728799     7.692639    15.428325  2016.749462     7.566078   \n",
       "std       1.126599     3.347807     8.840895     1.132517     3.403310   \n",
       "min    2015.000000     1.000000     1.000000  2015.000000     1.000000   \n",
       "25%    2016.000000     5.000000     8.000000  2016.000000     5.000000   \n",
       "50%    2017.000000     8.000000    15.000000  2017.000000     8.000000   \n",
       "75%    2018.000000    11.000000    23.000000  2018.000000    11.000000   \n",
       "max    2018.000000    12.000000    31.000000  2019.000000    12.000000   \n",
       "\n",
       "          Ship Day  \n",
       "count  2323.000000  \n",
       "mean     15.759363  \n",
       "std       8.785179  \n",
       "min       1.000000  \n",
       "25%       8.000000  \n",
       "50%      16.000000  \n",
       "75%      24.000000  \n",
       "max      31.000000  "
      ]
     },
     "execution_count": 47,
     "metadata": {},
     "output_type": "execute_result"
    }
   ],
   "source": [
    "orders.describe()"
   ]
  },
  {
   "cell_type": "code",
   "execution_count": 50,
   "metadata": {},
   "outputs": [
    {
     "data": {
      "text/plain": [
       "Index(['Row ID', 'Order ID', 'Ship Mode', 'Customer ID', 'Customer Name',\n",
       "       'Segment', 'Country', 'City', 'State', 'Postal Code', 'Product ID',\n",
       "       'Category', 'Sub-Category', 'Product', 'Sales', 'Quantity', 'Profit',\n",
       "       'Order Year', 'Order Month', 'Order Day', 'Ship Year', 'Ship Month',\n",
       "       'Ship Day', 'Discounts'],\n",
       "      dtype='object')"
      ]
     },
     "execution_count": 50,
     "metadata": {},
     "output_type": "execute_result"
    }
   ],
   "source": [
    "orders.columns"
   ]
  },
  {
   "cell_type": "code",
   "execution_count": 15,
   "metadata": {},
   "outputs": [
    {
     "data": {
      "image/png": "[encoded data removed]",
      "text/plain": [
       "<Figure size 864x648 with 1 Axes>"
      ]
     },
     "metadata": {
      "needs_background": "light"
     },
     "output_type": "display_data"
    }
   ],
   "source": [
    "plt.figure(figsize=(12,9))\n",
    "plt.plot(orders.Sales)\n",
    "plt.show()"
   ]
  },
  {
   "cell_type": "code",
   "execution_count": 16,
   "metadata": {},
   "outputs": [
    {
     "data": {
      "text/plain": [
       "'temp-plot.html'"
      ]
     },
     "execution_count": 16,
     "metadata": {},
     "output_type": "execute_result"
    }
   ],
   "source": [
    "pyo.plot([{\n",
    "    'x':orders.index,\n",
    "    'y':orders.Sales\n",
    "}])"
   ]
  },
  {
   "cell_type": "code",
   "execution_count": 17,
   "metadata": {},
   "outputs": [],
   "source": [
    "orders_sf = orders[['Sales','Profit']]"
   ]
  },
  {
   "cell_type": "code",
   "execution_count": 19,
   "metadata": {},
   "outputs": [
    {
     "data": {
      "text/plain": [
       "'temp-plot.html'"
      ]
     },
     "execution_count": 19,
     "metadata": {},
     "output_type": "execute_result"
    }
   ],
   "source": [
    "pyo.plot([{\n",
    "    'x': orders_sf.index,\n",
    "    'y': orders_sf[col],\n",
    "    'name': col\n",
    "} for col in orders_sf.columns])"
   ]
  },
  {
   "cell_type": "code",
   "execution_count": 20,
   "metadata": {},
   "outputs": [],
   "source": [
    "import plotly.graph_objs as go"
   ]
  },
  {
   "cell_type": "code",
   "execution_count": 30,
   "metadata": {},
   "outputs": [
    {
     "data": {
      "text/plain": [
       "'temp-plot.html'"
      ]
     },
     "execution_count": 30,
     "metadata": {},
     "output_type": "execute_result"
    }
   ],
   "source": [
    "pyo.plot([\n",
    "    go.Scatter(\n",
    "        x = orders_sf.Sales,\n",
    "        y = orders_sf.Profit,\n",
    "        mode = 'markers',\n",
    "    )\n",
    "])"
   ]
  },
  {
   "cell_type": "code",
   "execution_count": 32,
   "metadata": {},
   "outputs": [],
   "source": [
    "data = [go.Scatter(\n",
    "        x = orders_sf.Sales,\n",
    "        y = orders_sf.Profit,\n",
    "        mode = 'markers',\n",
    "    )]"
   ]
  },
  {
   "cell_type": "code",
   "execution_count": 41,
   "metadata": {},
   "outputs": [],
   "source": [
    "layout = go.Layout(\n",
    "title='Sales vs Profit Chart',\n",
    "xaxis=dict(title='Sales'),\n",
    "yaxis=dict(title='Profit in K'),\n",
    "hovermode='closest'\n",
    ")"
   ]
  },
  {
   "cell_type": "code",
   "execution_count": 42,
   "metadata": {},
   "outputs": [],
   "source": [
    "figure = go.Figure(data=data, layout=layout)"
   ]
  },
  {
   "cell_type": "code",
   "execution_count": 43,
   "metadata": {},
   "outputs": [
    {
     "data": {
      "text/plain": [
       "'temp-plot.html'"
      ]
     },
     "execution_count": 43,
     "metadata": {},
     "output_type": "execute_result"
    }
   ],
   "source": [
    "pyo.plot(figure)"
   ]
  },
  {
   "cell_type": "code",
   "execution_count": 55,
   "metadata": {},
   "outputs": [],
   "source": [
    "sales = pd.read_excel('sales.xls',1)"
   ]
  },
  {
   "cell_type": "code",
   "execution_count": 57,
   "metadata": {
    "scrolled": true
   },
   "outputs": [
    {
     "data": {
      "text/html": [
       "<div>\n",
       "<style scoped>\n",
       "    .dataframe tbody tr th:only-of-type {\n",
       "        vertical-align: middle;\n",
       "    }\n",
       "\n",
       "    .dataframe tbody tr th {\n",
       "        vertical-align: top;\n",
       "    }\n",
       "\n",
       "    .dataframe thead th {\n",
       "        text-align: right;\n",
       "    }\n",
       "</style>\n",
       "<table border=\"1\" class=\"dataframe\">\n",
       "  <thead>\n",
       "    <tr style=\"text-align: right;\">\n",
       "      <th></th>\n",
       "      <th>Row ID</th>\n",
       "      <th>Order ID</th>\n",
       "      <th>Order Date</th>\n",
       "      <th>Order Priority</th>\n",
       "      <th>Order Quantity</th>\n",
       "      <th>Sales</th>\n",
       "      <th>Discount</th>\n",
       "      <th>Ship Mode</th>\n",
       "      <th>Profit</th>\n",
       "      <th>Unit Price</th>\n",
       "      <th>...</th>\n",
       "      <th>Customer Name</th>\n",
       "      <th>Province</th>\n",
       "      <th>Region</th>\n",
       "      <th>Customer Segment</th>\n",
       "      <th>Product Category</th>\n",
       "      <th>Product Sub-Category</th>\n",
       "      <th>Product Name</th>\n",
       "      <th>Product Container</th>\n",
       "      <th>Product Base Margin</th>\n",
       "      <th>Ship Date</th>\n",
       "    </tr>\n",
       "  </thead>\n",
       "  <tbody>\n",
       "    <tr>\n",
       "      <th>0</th>\n",
       "      <td>1</td>\n",
       "      <td>3</td>\n",
       "      <td>2010-10-13</td>\n",
       "      <td>Low</td>\n",
       "      <td>6</td>\n",
       "      <td>261.54</td>\n",
       "      <td>0.04</td>\n",
       "      <td>Regular Air</td>\n",
       "      <td>-213.2500</td>\n",
       "      <td>38.94</td>\n",
       "      <td>...</td>\n",
       "      <td>Muhammed MacIntyre</td>\n",
       "      <td>Nunavut</td>\n",
       "      <td>Nunavut</td>\n",
       "      <td>Small Business</td>\n",
       "      <td>Office Supplies</td>\n",
       "      <td>Storage &amp; Organization</td>\n",
       "      <td>Eldon Base for stackable storage shelf, platinum</td>\n",
       "      <td>Large Box</td>\n",
       "      <td>0.80</td>\n",
       "      <td>2010-10-20</td>\n",
       "    </tr>\n",
       "    <tr>\n",
       "      <th>1</th>\n",
       "      <td>49</td>\n",
       "      <td>293</td>\n",
       "      <td>2012-10-01</td>\n",
       "      <td>High</td>\n",
       "      <td>49</td>\n",
       "      <td>10123.02</td>\n",
       "      <td>0.07</td>\n",
       "      <td>Delivery Truck</td>\n",
       "      <td>457.8100</td>\n",
       "      <td>208.16</td>\n",
       "      <td>...</td>\n",
       "      <td>Barry French</td>\n",
       "      <td>Nunavut</td>\n",
       "      <td>Nunavut</td>\n",
       "      <td>Consumer</td>\n",
       "      <td>Office Supplies</td>\n",
       "      <td>Appliances</td>\n",
       "      <td>1.7 Cubic Foot Compact \"Cube\" Office Refrigera...</td>\n",
       "      <td>Jumbo Drum</td>\n",
       "      <td>0.58</td>\n",
       "      <td>2012-10-02</td>\n",
       "    </tr>\n",
       "    <tr>\n",
       "      <th>2</th>\n",
       "      <td>50</td>\n",
       "      <td>293</td>\n",
       "      <td>2012-10-01</td>\n",
       "      <td>High</td>\n",
       "      <td>27</td>\n",
       "      <td>244.57</td>\n",
       "      <td>0.01</td>\n",
       "      <td>Regular Air</td>\n",
       "      <td>46.7075</td>\n",
       "      <td>8.69</td>\n",
       "      <td>...</td>\n",
       "      <td>Barry French</td>\n",
       "      <td>Nunavut</td>\n",
       "      <td>Nunavut</td>\n",
       "      <td>Consumer</td>\n",
       "      <td>Office Supplies</td>\n",
       "      <td>Binders and Binder Accessories</td>\n",
       "      <td>Cardinal Slant-D® Ring Binder, Heavy Gauge Vinyl</td>\n",
       "      <td>Small Box</td>\n",
       "      <td>0.39</td>\n",
       "      <td>2012-10-03</td>\n",
       "    </tr>\n",
       "  </tbody>\n",
       "</table>\n",
       "<p>3 rows × 21 columns</p>\n",
       "</div>"
      ],
      "text/plain": [
       "   Row ID  Order ID Order Date Order Priority  Order Quantity     Sales  \\\n",
       "0       1         3 2010-10-13            Low               6    261.54   \n",
       "1      49       293 2012-10-01           High              49  10123.02   \n",
       "2      50       293 2012-10-01           High              27    244.57   \n",
       "\n",
       "   Discount       Ship Mode    Profit  Unit Price  ...       Customer Name  \\\n",
       "0      0.04     Regular Air -213.2500       38.94  ...  Muhammed MacIntyre   \n",
       "1      0.07  Delivery Truck  457.8100      208.16  ...        Barry French   \n",
       "2      0.01     Regular Air   46.7075        8.69  ...        Barry French   \n",
       "\n",
       "  Province   Region Customer Segment Product Category  \\\n",
       "0  Nunavut  Nunavut   Small Business  Office Supplies   \n",
       "1  Nunavut  Nunavut         Consumer  Office Supplies   \n",
       "2  Nunavut  Nunavut         Consumer  Office Supplies   \n",
       "\n",
       "             Product Sub-Category  \\\n",
       "0          Storage & Organization   \n",
       "1                      Appliances   \n",
       "2  Binders and Binder Accessories   \n",
       "\n",
       "                                        Product Name Product Container  \\\n",
       "0   Eldon Base for stackable storage shelf, platinum         Large Box   \n",
       "1  1.7 Cubic Foot Compact \"Cube\" Office Refrigera...        Jumbo Drum   \n",
       "2   Cardinal Slant-D® Ring Binder, Heavy Gauge Vinyl         Small Box   \n",
       "\n",
       "  Product Base Margin  Ship Date  \n",
       "0                0.80 2010-10-20  \n",
       "1                0.58 2012-10-02  \n",
       "2                0.39 2012-10-03  \n",
       "\n",
       "[3 rows x 21 columns]"
      ]
     },
     "execution_count": 57,
     "metadata": {},
     "output_type": "execute_result"
    }
   ],
   "source": [
    "sales.head(3)"
   ]
  },
  {
   "cell_type": "code",
   "execution_count": 58,
   "metadata": {},
   "outputs": [
    {
     "data": {
      "text/plain": [
       "Index(['Row ID', 'Order ID', 'Order Date', 'Order Priority', 'Order Quantity',\n",
       "       'Sales', 'Discount', 'Ship Mode', 'Profit', 'Unit Price',\n",
       "       'Shipping Cost', 'Customer Name', 'Province', 'Region',\n",
       "       'Customer Segment', 'Product Category', 'Product Sub-Category',\n",
       "       'Product Name', 'Product Container', 'Product Base Margin',\n",
       "       'Ship Date'],\n",
       "      dtype='object')"
      ]
     },
     "execution_count": 58,
     "metadata": {},
     "output_type": "execute_result"
    }
   ],
   "source": [
    "sales.columns"
   ]
  },
  {
   "cell_type": "code",
   "execution_count": 96,
   "metadata": {},
   "outputs": [],
   "source": [
    "order_priority = pd.pivot_table(sales,values='Sales',index='Order Priority') #aggfunc='mean' hence we get avg values in the table"
   ]
  },
  {
   "cell_type": "code",
   "execution_count": 110,
   "metadata": {},
   "outputs": [
    {
     "data": {
      "text/plain": [
       "[1694.5265376243806,\n",
       " 1848.0522403846178,\n",
       " 1908.5060325581392,\n",
       " 1755.0288896382567,\n",
       " 1661.700535586124]"
      ]
     },
     "execution_count": 110,
     "metadata": {},
     "output_type": "execute_result"
    }
   ],
   "source": [
    "order_priority.values.ravel().tolist()"
   ]
  },
  {
   "cell_type": "code",
   "execution_count": 111,
   "metadata": {},
   "outputs": [],
   "source": [
    "priority = order_priority.index.values.tolist()\n",
    "sales_val = order_priority.values.ravel().tolist()"
   ]
  },
  {
   "cell_type": "code",
   "execution_count": 85,
   "metadata": {},
   "outputs": [],
   "source": [
    "data_2 = [go.Bar(\n",
    "                x = priority,\n",
    "                y = sales_val,\n",
    "                name = 'Avg. Sales by Ship Mode'\n",
    ")]\n",
    "\n",
    "layout_2 = go.Layout(title='Avg. Sales by Ship Mode')"
   ]
  },
  {
   "cell_type": "code",
   "execution_count": 112,
   "metadata": {},
   "outputs": [],
   "source": [
    "figure_2 = go.Figure([go.Bar(x=priority,y=sales_val)])"
   ]
  },
  {
   "cell_type": "code",
   "execution_count": 113,
   "metadata": {
    "scrolled": true
   },
   "outputs": [
    {
     "data": {
      "application/vnd.plotly.v1+json": {
       "config": {
        "plotlyServerURL": "https://plot.ly"
       },
       "data": [
        {
         "type": "bar",
         "x": [
          "Critical",
          "High",
          "Low",
          "Medium",
          "Not Specified"
         ],
         "y": [
          1694.5265376243806,
          1848.0522403846178,
          1908.5060325581392,
          1755.0288896382567,
          1661.700535586124
         ]
        }
       ],
       "layout": {
        "template": {
         "data": {
          "bar": [
           {
            "error_x": {
             "color": "#2a3f5f"
            },
            "error_y": {
             "color": "#2a3f5f"
            },
            "marker": {
             "line": {
              "color": "#E5ECF6",
              "width": 0.5
             }
            },
            "type": "bar"
           }
          ],
          "barpolar": [
           {
            "marker": {
             "line": {
              "color": "#E5ECF6",
              "width": 0.5
             }
            },
            "type": "barpolar"
           }
          ],
          "carpet": [
           {
            "aaxis": {
             "endlinecolor": "#2a3f5f",
             "gridcolor": "white",
             "linecolor": "white",
             "minorgridcolor": "white",
             "startlinecolor": "#2a3f5f"
            },
            "baxis": {
             "endlinecolor": "#2a3f5f",
             "gridcolor": "white",
             "linecolor": "white",
             "minorgridcolor": "white",
             "startlinecolor": "#2a3f5f"
            },
            "type": "carpet"
           }
          ],
          "choropleth": [
           {
            "colorbar": {
             "outlinewidth": 0,
             "ticks": ""
            },
            "type": "choropleth"
           }
          ],
          "contour": [
           {
            "colorbar": {
             "outlinewidth": 0,
             "ticks": ""
            },
            "colorscale": [
             [
              0,
              "#0d0887"
             ],
             [
              0.1111111111111111,
              "#46039f"
             ],
             [
              0.2222222222222222,
              "#7201a8"
             ],
             [
              0.3333333333333333,
              "#9c179e"
             ],
             [
              0.4444444444444444,
              "#bd3786"
             ],
             [
              0.5555555555555556,
              "#d8576b"
             ],
             [
              0.6666666666666666,
              "#ed7953"
             ],
             [
              0.7777777777777778,
              "#fb9f3a"
             ],
             [
              0.8888888888888888,
              "#fdca26"
             ],
             [
              1,
              "#f0f921"
             ]
            ],
            "type": "contour"
           }
          ],
          "contourcarpet": [
           {
            "colorbar": {
             "outlinewidth": 0,
             "ticks": ""
            },
            "type": "contourcarpet"
           }
          ],
          "heatmap": [
           {
            "colorbar": {
             "outlinewidth": 0,
             "ticks": ""
            },
            "colorscale": [
             [
              0,
              "#0d0887"
             ],
             [
              0.1111111111111111,
              "#46039f"
             ],
             [
              0.2222222222222222,
              "#7201a8"
             ],
             [
              0.3333333333333333,
              "#9c179e"
             ],
             [
              0.4444444444444444,
              "#bd3786"
             ],
             [
              0.5555555555555556,
              "#d8576b"
             ],
             [
              0.6666666666666666,
              "#ed7953"
             ],
             [
              0.7777777777777778,
              "#fb9f3a"
             ],
             [
              0.8888888888888888,
              "#fdca26"
             ],
             [
              1,
              "#f0f921"
             ]
            ],
            "type": "heatmap"
           }
          ],
          "heatmapgl": [
           {
            "colorbar": {
             "outlinewidth": 0,
             "ticks": ""
            },
            "colorscale": [
             [
              0,
              "#0d0887"
             ],
             [
              0.1111111111111111,
              "#46039f"
             ],
             [
              0.2222222222222222,
              "#7201a8"
             ],
             [
              0.3333333333333333,
              "#9c179e"
             ],
             [
              0.4444444444444444,
              "#bd3786"
             ],
             [
              0.5555555555555556,
              "#d8576b"
             ],
             [
              0.6666666666666666,
              "#ed7953"
             ],
             [
              0.7777777777777778,
              "#fb9f3a"
             ],
             [
              0.8888888888888888,
              "#fdca26"
             ],
             [
              1,
              "#f0f921"
             ]
            ],
            "type": "heatmapgl"
           }
          ],
          "histogram": [
           {
            "marker": {
             "colorbar": {
              "outlinewidth": 0,
              "ticks": ""
             }
            },
            "type": "histogram"
           }
          ],
          "histogram2d": [
           {
            "colorbar": {
             "outlinewidth": 0,
             "ticks": ""
            },
            "colorscale": [
             [
              0,
              "#0d0887"
             ],
             [
              0.1111111111111111,
              "#46039f"
             ],
             [
              0.2222222222222222,
              "#7201a8"
             ],
             [
              0.3333333333333333,
              "#9c179e"
             ],
             [
              0.4444444444444444,
              "#bd3786"
             ],
             [
              0.5555555555555556,
              "#d8576b"
             ],
             [
              0.6666666666666666,
              "#ed7953"
             ],
             [
              0.7777777777777778,
              "#fb9f3a"
             ],
             [
              0.8888888888888888,
              "#fdca26"
             ],
             [
              1,
              "#f0f921"
             ]
            ],
            "type": "histogram2d"
           }
          ],
          "histogram2dcontour": [
           {
            "colorbar": {
             "outlinewidth": 0,
             "ticks": ""
            },
            "colorscale": [
             [
              0,
              "#0d0887"
             ],
             [
              0.1111111111111111,
              "#46039f"
             ],
             [
              0.2222222222222222,
              "#7201a8"
             ],
             [
              0.3333333333333333,
              "#9c179e"
             ],
             [
              0.4444444444444444,
              "#bd3786"
             ],
             [
              0.5555555555555556,
              "#d8576b"
             ],
             [
              0.6666666666666666,
              "#ed7953"
             ],
             [
              0.7777777777777778,
              "#fb9f3a"
             ],
             [
              0.8888888888888888,
              "#fdca26"
             ],
             [
              1,
              "#f0f921"
             ]
            ],
            "type": "histogram2dcontour"
           }
          ],
          "mesh3d": [
           {
            "colorbar": {
             "outlinewidth": 0,
             "ticks": ""
            },
            "type": "mesh3d"
           }
          ],
          "parcoords": [
           {
            "line": {
             "colorbar": {
              "outlinewidth": 0,
              "ticks": ""
             }
            },
            "type": "parcoords"
           }
          ],
          "pie": [
           {
            "automargin": true,
            "type": "pie"
           }
          ],
          "scatter": [
           {
            "marker": {
             "colorbar": {
              "outlinewidth": 0,
              "ticks": ""
             }
            },
            "type": "scatter"
           }
          ],
          "scatter3d": [
           {
            "line": {
             "colorbar": {
              "outlinewidth": 0,
              "ticks": ""
             }
            },
            "marker": {
             "colorbar": {
              "outlinewidth": 0,
              "ticks": ""
             }
            },
            "type": "scatter3d"
           }
          ],
          "scattercarpet": [
           {
            "marker": {
             "colorbar": {
              "outlinewidth": 0,
              "ticks": ""
             }
            },
            "type": "scattercarpet"
           }
          ],
          "scattergeo": [
           {
            "marker": {
             "colorbar": {
              "outlinewidth": 0,
              "ticks": ""
             }
            },
            "type": "scattergeo"
           }
          ],
          "scattergl": [
           {
            "marker": {
             "colorbar": {
              "outlinewidth": 0,
              "ticks": ""
             }
            },
            "type": "scattergl"
           }
          ],
          "scattermapbox": [
           {
            "marker": {
             "colorbar": {
              "outlinewidth": 0,
              "ticks": ""
             }
            },
            "type": "scattermapbox"
           }
          ],
          "scatterpolar": [
           {
            "marker": {
             "colorbar": {
              "outlinewidth": 0,
              "ticks": ""
             }
            },
            "type": "scatterpolar"
           }
          ],
          "scatterpolargl": [
           {
            "marker": {
             "colorbar": {
              "outlinewidth": 0,
              "ticks": ""
             }
            },
            "type": "scatterpolargl"
           }
          ],
          "scatterternary": [
           {
            "marker": {
             "colorbar": {
              "outlinewidth": 0,
              "ticks": ""
             }
            },
            "type": "scatterternary"
           }
          ],
          "surface": [
           {
            "colorbar": {
             "outlinewidth": 0,
             "ticks": ""
            },
            "colorscale": [
             [
              0,
              "#0d0887"
             ],
             [
              0.1111111111111111,
              "#46039f"
             ],
             [
              0.2222222222222222,
              "#7201a8"
             ],
             [
              0.3333333333333333,
              "#9c179e"
             ],
             [
              0.4444444444444444,
              "#bd3786"
             ],
             [
              0.5555555555555556,
              "#d8576b"
             ],
             [
              0.6666666666666666,
              "#ed7953"
             ],
             [
              0.7777777777777778,
              "#fb9f3a"
             ],
             [
              0.8888888888888888,
              "#fdca26"
             ],
             [
              1,
              "#f0f921"
             ]
            ],
            "type": "surface"
           }
          ],
          "table": [
           {
            "cells": {
             "fill": {
              "color": "#EBF0F8"
             },
             "line": {
              "color": "white"
             }
            },
            "header": {
             "fill": {
              "color": "#C8D4E3"
             },
             "line": {
              "color": "white"
             }
            },
            "type": "table"
           }
          ]
         },
         "layout": {
          "annotationdefaults": {
           "arrowcolor": "#2a3f5f",
           "arrowhead": 0,
           "arrowwidth": 1
          },
          "coloraxis": {
           "colorbar": {
            "outlinewidth": 0,
            "ticks": ""
           }
          },
          "colorscale": {
           "diverging": [
            [
             0,
             "#8e0152"
            ],
            [
             0.1,
             "#c51b7d"
            ],
            [
             0.2,
             "#de77ae"
            ],
            [
             0.3,
             "#f1b6da"
            ],
            [
             0.4,
             "#fde0ef"
            ],
            [
             0.5,
             "#f7f7f7"
            ],
            [
             0.6,
             "#e6f5d0"
            ],
            [
             0.7,
             "#b8e186"
            ],
            [
             0.8,
             "#7fbc41"
            ],
            [
             0.9,
             "#4d9221"
            ],
            [
             1,
             "#276419"
            ]
           ],
           "sequential": [
            [
             0,
             "#0d0887"
            ],
            [
             0.1111111111111111,
             "#46039f"
            ],
            [
             0.2222222222222222,
             "#7201a8"
            ],
            [
             0.3333333333333333,
             "#9c179e"
            ],
            [
             0.4444444444444444,
             "#bd3786"
            ],
            [
             0.5555555555555556,
             "#d8576b"
            ],
            [
             0.6666666666666666,
             "#ed7953"
            ],
            [
             0.7777777777777778,
             "#fb9f3a"
            ],
            [
             0.8888888888888888,
             "#fdca26"
            ],
            [
             1,
             "#f0f921"
            ]
           ],
           "sequentialminus": [
            [
             0,
             "#0d0887"
            ],
            [
             0.1111111111111111,
             "#46039f"
            ],
            [
             0.2222222222222222,
             "#7201a8"
            ],
            [
             0.3333333333333333,
             "#9c179e"
            ],
            [
             0.4444444444444444,
             "#bd3786"
            ],
            [
             0.5555555555555556,
             "#d8576b"
            ],
            [
             0.6666666666666666,
             "#ed7953"
            ],
            [
             0.7777777777777778,
             "#fb9f3a"
            ],
            [
             0.8888888888888888,
             "#fdca26"
            ],
            [
             1,
             "#f0f921"
            ]
           ]
          },
          "colorway": [
           "#636efa",
           "#EF553B",
           "#00cc96",
           "#ab63fa",
           "#FFA15A",
           "#19d3f3",
           "#FF6692",
           "#B6E880",
           "#FF97FF",
           "#FECB52"
          ],
          "font": {
           "color": "#2a3f5f"
          },
          "geo": {
           "bgcolor": "white",
           "lakecolor": "white",
           "landcolor": "#E5ECF6",
           "showlakes": true,
           "showland": true,
           "subunitcolor": "white"
          },
          "hoverlabel": {
           "align": "left"
          },
          "hovermode": "closest",
          "mapbox": {
           "style": "light"
          },
          "paper_bgcolor": "white",
          "plot_bgcolor": "#E5ECF6",
          "polar": {
           "angularaxis": {
            "gridcolor": "white",
            "linecolor": "white",
            "ticks": ""
           },
           "bgcolor": "#E5ECF6",
           "radialaxis": {
            "gridcolor": "white",
            "linecolor": "white",
            "ticks": ""
           }
          },
          "scene": {
           "xaxis": {
            "backgroundcolor": "#E5ECF6",
            "gridcolor": "white",
            "gridwidth": 2,
            "linecolor": "white",
            "showbackground": true,
            "ticks": "",
            "zerolinecolor": "white"
           },
           "yaxis": {
            "backgroundcolor": "#E5ECF6",
            "gridcolor": "white",
            "gridwidth": 2,
            "linecolor": "white",
            "showbackground": true,
            "ticks": "",
            "zerolinecolor": "white"
           },
           "zaxis": {
            "backgroundcolor": "#E5ECF6",
            "gridcolor": "white",
            "gridwidth": 2,
            "linecolor": "white",
            "showbackground": true,
            "ticks": "",
            "zerolinecolor": "white"
           }
          },
          "shapedefaults": {
           "line": {
            "color": "#2a3f5f"
           }
          },
          "ternary": {
           "aaxis": {
            "gridcolor": "white",
            "linecolor": "white",
            "ticks": ""
           },
           "baxis": {
            "gridcolor": "white",
            "linecolor": "white",
            "ticks": ""
           },
           "bgcolor": "#E5ECF6",
           "caxis": {
            "gridcolor": "white",
            "linecolor": "white",
            "ticks": ""
           }
          },
          "title": {
           "x": 0.05
          },
          "xaxis": {
           "automargin": true,
           "gridcolor": "white",
           "linecolor": "white",
           "ticks": "",
           "title": {
            "standoff": 15
           },
           "zerolinecolor": "white",
           "zerolinewidth": 2
          },
          "yaxis": {
           "automargin": true,
           "gridcolor": "white",
           "linecolor": "white",
           "ticks": "",
           "title": {
            "standoff": 15
           },
           "zerolinecolor": "white",
           "zerolinewidth": 2
          }
         }
        }
       }
      },
      "text/html": [
       "<div>\n",
       "        \n",
       "        \n",
       "            <div id=\"e547d255-d081-48a0-a48b-1ea5dfb7f21d\" class=\"plotly-graph-div\" style=\"height:525px; width:100%;\"></div>\n",
       "            <script type=\"text/javascript\">\n",
       "                require([\"plotly\"], function(Plotly) {\n",
       "                    window.PLOTLYENV=window.PLOTLYENV || {};\n",
       "                    \n",
       "                if (document.getElementById(\"e547d255-d081-48a0-a48b-1ea5dfb7f21d\")) {\n",
       "                    Plotly.newPlot(\n",
       "                        'e547d255-d081-48a0-a48b-1ea5dfb7f21d',\n",
       "                        [{\"type\": \"bar\", \"x\": [\"Critical\", \"High\", \"Low\", \"Medium\", \"Not Specified\"], \"y\": [1694.5265376243806, 1848.0522403846178, 1908.5060325581392, 1755.0288896382567, 1661.700535586124]}],\n",
       "                        {\"template\": {\"data\": {\"bar\": [{\"error_x\": {\"color\": \"#2a3f5f\"}, \"error_y\": {\"color\": \"#2a3f5f\"}, \"marker\": {\"line\": {\"color\": \"#E5ECF6\", \"width\": 0.5}}, \"type\": \"bar\"}], \"barpolar\": [{\"marker\": {\"line\": {\"color\": \"#E5ECF6\", \"width\": 0.5}}, \"type\": \"barpolar\"}], \"carpet\": [{\"aaxis\": {\"endlinecolor\": \"#2a3f5f\", \"gridcolor\": \"white\", \"linecolor\": \"white\", \"minorgridcolor\": \"white\", \"startlinecolor\": \"#2a3f5f\"}, \"baxis\": {\"endlinecolor\": \"#2a3f5f\", \"gridcolor\": \"white\", \"linecolor\": \"white\", \"minorgridcolor\": \"white\", \"startlinecolor\": \"#2a3f5f\"}, \"type\": \"carpet\"}], \"choropleth\": [{\"colorbar\": {\"outlinewidth\": 0, \"ticks\": \"\"}, \"type\": \"choropleth\"}], \"contour\": [{\"colorbar\": {\"outlinewidth\": 0, \"ticks\": \"\"}, \"colorscale\": [[0.0, \"#0d0887\"], [0.1111111111111111, \"#46039f\"], [0.2222222222222222, \"#7201a8\"], [0.3333333333333333, \"#9c179e\"], [0.4444444444444444, \"#bd3786\"], [0.5555555555555556, \"#d8576b\"], [0.6666666666666666, \"#ed7953\"], [0.7777777777777778, \"#fb9f3a\"], [0.8888888888888888, \"#fdca26\"], [1.0, \"#f0f921\"]], \"type\": \"contour\"}], \"contourcarpet\": [{\"colorbar\": {\"outlinewidth\": 0, \"ticks\": \"\"}, \"type\": \"contourcarpet\"}], \"heatmap\": [{\"colorbar\": {\"outlinewidth\": 0, \"ticks\": \"\"}, \"colorscale\": [[0.0, \"#0d0887\"], [0.1111111111111111, \"#46039f\"], [0.2222222222222222, \"#7201a8\"], [0.3333333333333333, \"#9c179e\"], [0.4444444444444444, \"#bd3786\"], [0.5555555555555556, \"#d8576b\"], [0.6666666666666666, \"#ed7953\"], [0.7777777777777778, \"#fb9f3a\"], [0.8888888888888888, \"#fdca26\"], [1.0, \"#f0f921\"]], \"type\": \"heatmap\"}], \"heatmapgl\": [{\"colorbar\": {\"outlinewidth\": 0, \"ticks\": \"\"}, \"colorscale\": [[0.0, \"#0d0887\"], [0.1111111111111111, \"#46039f\"], [0.2222222222222222, \"#7201a8\"], [0.3333333333333333, \"#9c179e\"], [0.4444444444444444, \"#bd3786\"], [0.5555555555555556, \"#d8576b\"], [0.6666666666666666, \"#ed7953\"], [0.7777777777777778, \"#fb9f3a\"], [0.8888888888888888, \"#fdca26\"], [1.0, \"#f0f921\"]], \"type\": \"heatmapgl\"}], \"histogram\": [{\"marker\": {\"colorbar\": {\"outlinewidth\": 0, \"ticks\": \"\"}}, \"type\": \"histogram\"}], \"histogram2d\": [{\"colorbar\": {\"outlinewidth\": 0, \"ticks\": \"\"}, \"colorscale\": [[0.0, \"#0d0887\"], [0.1111111111111111, \"#46039f\"], [0.2222222222222222, \"#7201a8\"], [0.3333333333333333, \"#9c179e\"], [0.4444444444444444, \"#bd3786\"], [0.5555555555555556, \"#d8576b\"], [0.6666666666666666, \"#ed7953\"], [0.7777777777777778, \"#fb9f3a\"], [0.8888888888888888, \"#fdca26\"], [1.0, \"#f0f921\"]], \"type\": \"histogram2d\"}], \"histogram2dcontour\": [{\"colorbar\": {\"outlinewidth\": 0, \"ticks\": \"\"}, \"colorscale\": [[0.0, \"#0d0887\"], [0.1111111111111111, \"#46039f\"], [0.2222222222222222, \"#7201a8\"], [0.3333333333333333, \"#9c179e\"], [0.4444444444444444, \"#bd3786\"], [0.5555555555555556, \"#d8576b\"], [0.6666666666666666, \"#ed7953\"], [0.7777777777777778, \"#fb9f3a\"], [0.8888888888888888, \"#fdca26\"], [1.0, \"#f0f921\"]], \"type\": \"histogram2dcontour\"}], \"mesh3d\": [{\"colorbar\": {\"outlinewidth\": 0, \"ticks\": \"\"}, \"type\": \"mesh3d\"}], \"parcoords\": [{\"line\": {\"colorbar\": {\"outlinewidth\": 0, \"ticks\": \"\"}}, \"type\": \"parcoords\"}], \"pie\": [{\"automargin\": true, \"type\": \"pie\"}], \"scatter\": [{\"marker\": {\"colorbar\": {\"outlinewidth\": 0, \"ticks\": \"\"}}, \"type\": \"scatter\"}], \"scatter3d\": [{\"line\": {\"colorbar\": {\"outlinewidth\": 0, \"ticks\": \"\"}}, \"marker\": {\"colorbar\": {\"outlinewidth\": 0, \"ticks\": \"\"}}, \"type\": \"scatter3d\"}], \"scattercarpet\": [{\"marker\": {\"colorbar\": {\"outlinewidth\": 0, \"ticks\": \"\"}}, \"type\": \"scattercarpet\"}], \"scattergeo\": [{\"marker\": {\"colorbar\": {\"outlinewidth\": 0, \"ticks\": \"\"}}, \"type\": \"scattergeo\"}], \"scattergl\": [{\"marker\": {\"colorbar\": {\"outlinewidth\": 0, \"ticks\": \"\"}}, \"type\": \"scattergl\"}], \"scattermapbox\": [{\"marker\": {\"colorbar\": {\"outlinewidth\": 0, \"ticks\": \"\"}}, \"type\": \"scattermapbox\"}], \"scatterpolar\": [{\"marker\": {\"colorbar\": {\"outlinewidth\": 0, \"ticks\": \"\"}}, \"type\": \"scatterpolar\"}], \"scatterpolargl\": [{\"marker\": {\"colorbar\": {\"outlinewidth\": 0, \"ticks\": \"\"}}, \"type\": \"scatterpolargl\"}], \"scatterternary\": [{\"marker\": {\"colorbar\": {\"outlinewidth\": 0, \"ticks\": \"\"}}, \"type\": \"scatterternary\"}], \"surface\": [{\"colorbar\": {\"outlinewidth\": 0, \"ticks\": \"\"}, \"colorscale\": [[0.0, \"#0d0887\"], [0.1111111111111111, \"#46039f\"], [0.2222222222222222, \"#7201a8\"], [0.3333333333333333, \"#9c179e\"], [0.4444444444444444, \"#bd3786\"], [0.5555555555555556, \"#d8576b\"], [0.6666666666666666, \"#ed7953\"], [0.7777777777777778, \"#fb9f3a\"], [0.8888888888888888, \"#fdca26\"], [1.0, \"#f0f921\"]], \"type\": \"surface\"}], \"table\": [{\"cells\": {\"fill\": {\"color\": \"#EBF0F8\"}, \"line\": {\"color\": \"white\"}}, \"header\": {\"fill\": {\"color\": \"#C8D4E3\"}, \"line\": {\"color\": \"white\"}}, \"type\": \"table\"}]}, \"layout\": {\"annotationdefaults\": {\"arrowcolor\": \"#2a3f5f\", \"arrowhead\": 0, \"arrowwidth\": 1}, \"coloraxis\": {\"colorbar\": {\"outlinewidth\": 0, \"ticks\": \"\"}}, \"colorscale\": {\"diverging\": [[0, \"#8e0152\"], [0.1, \"#c51b7d\"], [0.2, \"#de77ae\"], [0.3, \"#f1b6da\"], [0.4, \"#fde0ef\"], [0.5, \"#f7f7f7\"], [0.6, \"#e6f5d0\"], [0.7, \"#b8e186\"], [0.8, \"#7fbc41\"], [0.9, \"#4d9221\"], [1, \"#276419\"]], \"sequential\": [[0.0, \"#0d0887\"], [0.1111111111111111, \"#46039f\"], [0.2222222222222222, \"#7201a8\"], [0.3333333333333333, \"#9c179e\"], [0.4444444444444444, \"#bd3786\"], [0.5555555555555556, \"#d8576b\"], [0.6666666666666666, \"#ed7953\"], [0.7777777777777778, \"#fb9f3a\"], [0.8888888888888888, \"#fdca26\"], [1.0, \"#f0f921\"]], \"sequentialminus\": [[0.0, \"#0d0887\"], [0.1111111111111111, \"#46039f\"], [0.2222222222222222, \"#7201a8\"], [0.3333333333333333, \"#9c179e\"], [0.4444444444444444, \"#bd3786\"], [0.5555555555555556, \"#d8576b\"], [0.6666666666666666, \"#ed7953\"], [0.7777777777777778, \"#fb9f3a\"], [0.8888888888888888, \"#fdca26\"], [1.0, \"#f0f921\"]]}, \"colorway\": [\"#636efa\", \"#EF553B\", \"#00cc96\", \"#ab63fa\", \"#FFA15A\", \"#19d3f3\", \"#FF6692\", \"#B6E880\", \"#FF97FF\", \"#FECB52\"], \"font\": {\"color\": \"#2a3f5f\"}, \"geo\": {\"bgcolor\": \"white\", \"lakecolor\": \"white\", \"landcolor\": \"#E5ECF6\", \"showlakes\": true, \"showland\": true, \"subunitcolor\": \"white\"}, \"hoverlabel\": {\"align\": \"left\"}, \"hovermode\": \"closest\", \"mapbox\": {\"style\": \"light\"}, \"paper_bgcolor\": \"white\", \"plot_bgcolor\": \"#E5ECF6\", \"polar\": {\"angularaxis\": {\"gridcolor\": \"white\", \"linecolor\": \"white\", \"ticks\": \"\"}, \"bgcolor\": \"#E5ECF6\", \"radialaxis\": {\"gridcolor\": \"white\", \"linecolor\": \"white\", \"ticks\": \"\"}}, \"scene\": {\"xaxis\": {\"backgroundcolor\": \"#E5ECF6\", \"gridcolor\": \"white\", \"gridwidth\": 2, \"linecolor\": \"white\", \"showbackground\": true, \"ticks\": \"\", \"zerolinecolor\": \"white\"}, \"yaxis\": {\"backgroundcolor\": \"#E5ECF6\", \"gridcolor\": \"white\", \"gridwidth\": 2, \"linecolor\": \"white\", \"showbackground\": true, \"ticks\": \"\", \"zerolinecolor\": \"white\"}, \"zaxis\": {\"backgroundcolor\": \"#E5ECF6\", \"gridcolor\": \"white\", \"gridwidth\": 2, \"linecolor\": \"white\", \"showbackground\": true, \"ticks\": \"\", \"zerolinecolor\": \"white\"}}, \"shapedefaults\": {\"line\": {\"color\": \"#2a3f5f\"}}, \"ternary\": {\"aaxis\": {\"gridcolor\": \"white\", \"linecolor\": \"white\", \"ticks\": \"\"}, \"baxis\": {\"gridcolor\": \"white\", \"linecolor\": \"white\", \"ticks\": \"\"}, \"bgcolor\": \"#E5ECF6\", \"caxis\": {\"gridcolor\": \"white\", \"linecolor\": \"white\", \"ticks\": \"\"}}, \"title\": {\"x\": 0.05}, \"xaxis\": {\"automargin\": true, \"gridcolor\": \"white\", \"linecolor\": \"white\", \"ticks\": \"\", \"title\": {\"standoff\": 15}, \"zerolinecolor\": \"white\", \"zerolinewidth\": 2}, \"yaxis\": {\"automargin\": true, \"gridcolor\": \"white\", \"linecolor\": \"white\", \"ticks\": \"\", \"title\": {\"standoff\": 15}, \"zerolinecolor\": \"white\", \"zerolinewidth\": 2}}}},\n",
       "                        {\"responsive\": true}\n",
       "                    ).then(function(){\n",
       "                            \n",
       "var gd = document.getElementById('e547d255-d081-48a0-a48b-1ea5dfb7f21d');\n",
       "var x = new MutationObserver(function (mutations, observer) {{\n",
       "        var display = window.getComputedStyle(gd).display;\n",
       "        if (!display || display === 'none') {{\n",
       "            console.log([gd, 'removed!']);\n",
       "            Plotly.purge(gd);\n",
       "            observer.disconnect();\n",
       "        }}\n",
       "}});\n",
       "\n",
       "// Listen for the removal of the full notebook cells\n",
       "var notebookContainer = gd.closest('#notebook-container');\n",
       "if (notebookContainer) {{\n",
       "    x.observe(notebookContainer, {childList: true});\n",
       "}}\n",
       "\n",
       "// Listen for the clearing of the current output cell\n",
       "var outputEl = gd.closest('.output');\n",
       "if (outputEl) {{\n",
       "    x.observe(outputEl, {childList: true});\n",
       "}}\n",
       "\n",
       "                        })\n",
       "                };\n",
       "                });\n",
       "            </script>\n",
       "        </div>"
      ]
     },
     "metadata": {},
     "output_type": "display_data"
    }
   ],
   "source": [
    "figure_2.show()"
   ]
  },
  {
   "cell_type": "code",
   "execution_count": 114,
   "metadata": {},
   "outputs": [
    {
     "data": {
      "application/vnd.plotly.v1+json": {
       "config": {
        "plotlyServerURL": "https://plot.ly"
       },
       "data": [
        {
         "mode": "markers",
         "type": "scatter",
         "x": [
          68.81,
          2.544,
          665.88,
          19.46,
          60.34,
          29.471999999999998,
          1097.5439999999999,
          190.92,
          113.32799999999999,
          532.3992,
          212.058,
          371.168,
          147.168,
          45.98,
          17.46,
          211.96,
          38.22,
          75.18,
          6.16,
          89.99,
          213.115,
          19.05,
          1.248,
          9.708,
          27.24,
          19.3,
          230.37599999999998,
          19.99,
          6.16,
          158.368,
          12.96,
          53.34,
          32.96,
          77.88,
          64.624,
          95.976,
          1.788,
          23.92,
          339.96,
          75.96,
          27.24,
          600.558,
          617.7,
          839.43,
          384.45,
          149.97,
          1951.84,
          171.55,
          14.62,
          944.93,
          9.936,
          8159.951999999999,
          275.928,
          1740.06,
          32.064,
          177.98,
          143.976,
          52.448,
          20.16,
          97.264,
          24.816,
          408.744,
          37.224000000000004,
          20.016,
          66.28399999999999,
          83.92,
          131.98,
          15.92,
          52.29,
          91.99,
          20.8,
          2.2,
          622.45,
          21.98,
          25.92,
          419.68,
          11.687999999999999,
          31.984,
          177.225,
          4.044,
          7.4079999999999995,
          2001.86,
          166.72,
          47.88,
          1503.25,
          25.92,
          12.132,
          82.368,
          53.92,
          647.904,
          1.624,
          3059.982,
          2519.958,
          328.224,
          2.08,
          1114.4,
          219.075,
          9.84,
          88.8,
          25.92,
          53.424,
          99.13600000000001,
          8.652000000000001,
          23.831999999999997,
          12.175999999999998,
          41.9,
          12.462,
          70.12,
          35.952,
          2396.2656,
          131.136,
          57.583999999999996,
          28.4,
          287.92,
          6.672000000000001,
          1007.9789999999999,
          313.488,
          31.872,
          12.22,
          194.94,
          70.95,
          91.36,
          242.94,
          22.05,
          2.91,
          63.88,
          747.558,
          8.927999999999999,
          254.74400000000003,
          205.3328,
          4.788,
          2735.952,
          7.992000000000001,
          63.983999999999995,
          70.368,
          126.3,
          38.04,
          18.392,
          129.56799999999998,
          14.112,
          210.98,
          42.61600000000001,
          468.9,
          58.111999999999995,
          100.792,
          66.112,
          250.27200000000002,
          11.364,
          8.72,
          10.824000000000002,
          69.712,
          8.792,
          9.344,
          31.2,
          369.57599999999996,
          15.712,
          8.69,
          301.96,
          555.21,
          523.48,
          161.82,
          18.84,
          132.52,
          209.3,
          701.372,
          2.3080000000000003,
          999.432,
          724.08,
          918.785,
          2.7239999999999998,
          23.76,
          85.056,
          381.57599999999996,
          23.976,
          108.925,
          36.352,
          19.56,
          61.44,
          38.9,
          99.39,
          2.688,
          27.816,
          82.524,
          182.99400000000003,
          1652.94,
          296.37,
          17.567999999999998,
          55.992,
          11.784,
          272.736,
          3.54,
          51.52,
          3.528,
          4.624,
          55.168,
          11.992,
          58.05,
          157.74,
          56.98,
          2.88,
          24.56,
          119.8,
          22.72,
          18.28,
          207,
          32.35,
          7.71,
          40.3,
          34.58,
          20.16,
          28.4,
          149.97,
          51.84,
          35,
          37.24,
          15.28,
          51.184,
          21.072,
          31.4,
          4.54,
          15.92,
          543.92,
          15.648,
          103.6,
          10.44,
          18.336,
          323.976,
          1199.8,
          1928.78,
          352.38,
          46.94,
          143.73,
          99.91799999999999,
          797.944,
          8.568,
          149.352,
          12.992,
          27.168000000000003,
          78.8528,
          3059.982,
          34.02,
          7.968,
          27.968000000000004,
          336.51,
          1.112,
          44.75,
          95.984,
          86.62,
          697.16,
          8.84,
          58.464,
          254.604,
          107.772,
          1.744,
          40.88,
          19.92,
          1106.91,
          6.48,
          2.694,
          2.9339999999999997,
          100.704,
          2.3280000000000003,
          10.78,
          58.368,
          40.968,
          71.96,
          10.368,
          1.192,
          10.16,
          101.88,
          287.52,
          37.68,
          19.98,
          20.58,
          17.38,
          644.076,
          5.84,
          12.76,
          10.95,
          599.98,
          362.94,
          11.54,
          46.8,
          22.38,
          5.176,
          258.69599999999997,
          431.92800000000005,
          95.984,
          1088.792,
          1099.96,
          69.9,
          41.85,
          102.336,
          48.792,
          44.848,
          10.368,
          388.43,
          14.352,
          63.992,
          86.352,
          278.4,
          2.772,
          114.95,
          419.944,
          17.46,
          1.08,
          7.96,
          93.78,
          47.18,
          19.68,
          53.4,
          35.88,
          258.279,
          220.77599999999998,
          281.42400000000004,
          1.9880000000000002,
          83.95200000000001,
          652.45,
          66.645,
          23.68,
          946.3439999999999,
          151.2,
          4.928,
          263.88,
          2453.43,
          1979.9279999999999,
          164.736,
          470.30199999999996,
          47.983999999999995,
          15.936,
          159.984,
          1024.7160000000001,
          872.94,
          41.54,
          12.96,
          6.688,
          10.192,
          16.784000000000002,
          13.12,
          16.055999999999997,
          223.05599999999998,
          540.048,
          34.5,
          200.06400000000002,
          21.38,
          6.744,
          16.52,
          335.52,
          23.912,
          27.055999999999997,
          9.324,
          21.56,
          21.48,
          8.783999999999999,
          40.68,
          763.28,
          23.951999999999998,
          33.488,
          8.04,
          359.05800000000005,
          16.896,
          6.672000000000001,
          99.13600000000001,
          15.992,
          3.75,
          41.4,
          29.79,
          12.624,
          34.79,
          41.92,
          297.57599999999996,
          4.343999999999999,
          94.992,
          74.352,
          14.04,
          16.68,
          167.968,
          21.936,
          6.587999999999999,
          33.45,
          10.4,
          13.616,
          14.304,
          765.625,
          159.984,
          255.968,
          359.05800000000005,
          338.04,
          154.24,
          10.368,
          6.24,
          206.96200000000002,
          360.712,
          1718.4,
          41.568000000000005,
          46.864,
          6.976,
          12.222000000000001,
          97.984,
          62.4,
          219.84,
          98.16,
          33.04,
          86.97,
          134.97,
          699.98,
          139.95,
          2807.84,
          46.64,
          60.416000000000004,
          107.94,
          11.168,
          53.952,
          69.93,
          16.156,
          54.816,
          75.6,
          29.32,
          92.064,
          6.976,
          62.958,
          5.184,
          1439.92,
          262.11,
          1439.9820000000002,
          36.288000000000004,
          40.096,
          40.784,
          34.76,
          831.2,
          26.4,
          106.75,
          97.82,
          141.4,
          127.92,
          34.24,
          49.632,
          470.376,
          6,
          1793.98,
          14.78,
          909.12,
          273.89599999999996,
          597.132,
          299.9,
          863.64,
          47.61600000000001,
          47.36,
          27.44,
          3.24,
          95.96799999999999,
          10.368,
          16.2,
          33.99,
          296.85,
          112.8,
          13.71,
          24.9,
          286.29,
          24.18,
          291.96,
          6.4079999999999995,
          408.744,
          5.104,
          2.8960000000000004,
          35.016,
          479.96,
          17.22,
          1024.38,
          26.22,
          17.34,
          294.62,
          8.752,
          11.364,
          29.68,
          47.53,
          183.372,
          159.984,
          46.343999999999994,
          9.392000000000001,
          9.328,
          8.26,
          269.97,
          15.552,
          17.31,
          199.95,
          1586.69,
          84.99,
          411.8,
          23.68,
          479.9,
          0.8759999999999999,
          241.96,
          27.72,
          14.76,
          3.656,
          233.058,
          111.79,
          22.608,
          501.81,
          161.94,
          8.808,
          191.976,
          8.288,
          139.92,
          15.872,
          6.2860000000000005,
          305.312,
          9.264,
          61.792,
          70.08,
          121.3,
          1454.49,
          29.932,
          38.272,
          167.292,
          2.8960000000000004,
          124.792,
          526.45,
          228.92,
          190.86,
          24.32,
          44.4,
          23.92,
          60.69,
          12.72,
          11.52,
          141.372,
          27.215999999999998,
          14.62,
          416.32,
          43,
          182.94,
          60.83,
          389.97,
          277.4,
          5.78,
          123.552,
          490.32,
          70.08,
          1.272,
          557.585,
          60.288000000000004,
          2.6319999999999997,
          23.688000000000002,
          253.372,
          94.2,
          28.4,
          956.6648,
          754.45,
          230.37599999999998,
          9.664,
          1.344,
          8.272,
          12.544,
          54.368,
          11.184000000000001,
          153.584,
          300.93,
          719.96,
          647.84,
          12.224,
          2.3040000000000003,
          9.36,
          32.784,
          1117.92,
          95.96799999999999,
          47.992,
          604.656,
          20.16,
          29.46,
          868.59,
          12.96,
          5.5,
          121.6,
          42.048,
          25.488000000000003,
          6.9,
          9.648,
          7.968,
          51.711999999999996,
          2.912,
          1399.944,
          526.45,
          6.608,
          14.136,
          601.47,
          180.96,
          914.97,
          587.97,
          530.34,
          14.94,
          24.671999999999997,
          2.52,
          1218.735,
          5.904,
          15.696,
          6.096,
          25.92,
          14.94,
          186.048,
          57.69,
          42.81,
          12.96,
          821.88,
          104.85,
          8.76,
          79.512,
          28.351999999999997,
          14.4,
          619.95,
          89.52,
          350.973,
          164.99,
          3.98,
          5.247999999999999,
          23.976,
          27.168000000000003,
          32.192,
          50.12,
          47.976000000000006,
          54.5,
          49.44,
          22,
          257.98,
          58.36,
          16.464000000000002,
          39.96,
          25.96,
          36.27,
          6.48,
          47.516000000000005,
          179.82,
          185.58,
          214.11,
          999.96,
          653.55,
          8.927999999999999,
          47.583999999999996,
          33.792,
          300.5328,
          2.7239999999999998,
          3.264,
          143.72799999999998,
          845.488,
          762.5939999999999,
          28.16,
          20.23,
          8.85,
          408.42199999999997,
          23.12,
          37.464,
          539.658,
          8.56,
          52.4,
          14.94,
          135.72,
          12.56,
          263.96,
          5.952000000000001,
          3.8819999999999997,
          6.08,
          8.64,
          19.76,
          90.99,
          1526.56,
          368.97,
          32.952,
          30.016,
          10.8,
          244.00599999999997,
          15.936,
          895.92,
          19,
          91.68,
          727.296,
          22.608,
          666.4,
          327.7328,
          194.32,
          25.99,
          13.9,
          26.38,
          517.9,
          5.28,
          2799.96,
          26.88,
          342.86400000000003,
          16.74,
          981.372,
          252.78400000000002,
          127.984,
          3.984,
          12.992,
          31.68,
          10.368,
          12.032,
          5.768,
          33.12,
          220.2656,
          15.712,
          298.464,
          21.93,
          242.94,
          7.64,
          51.84,
          265.17,
          30.56,
          77.952,
          67.992,
          12.224,
          44.784,
          22.848000000000003,
          210.392,
          347.80199999999996,
          735.98,
          5.18,
          67,
          3.168,
          528.43,
          13.392000000000001,
          181.86,
          26.046,
          74.352,
          12.672,
          6.37,
          3.648,
          31.104,
          13.392000000000001,
          11.228,
          207.24,
          26.046,
          2.8960000000000004,
          32.544000000000004,
          318.43,
          122.92,
          7.068,
          13.468,
          219.8,
          317.058,
          24.85,
          7.056,
          27.184,
          3.136,
          20.736,
          2.97,
          6.54,
          18.24,
          27.78,
          6.56,
          13.11,
          11.68,
          30.96,
          12.984000000000002,
          217.584,
          328.776,
          2.286,
          47.983999999999995,
          341.96,
          896.99,
          1.234,
          67.56,
          21.72,
          262.336,
          148.48,
          241.176,
          227.976,
          52.68,
          2.032,
          16.03,
          73.008,
          3.208,
          26.176,
          9.552,
          10.368,
          14.352,
          1287.45,
          111.67200000000001,
          13.776,
          10.272,
          6.848,
          6.928,
          443.92,
          169.99,
          25.92,
          22.288,
          65.42399999999999,
          1.81,
          8.26,
          15.24,
          1408.1,
          15.08,
          24.288,
          16.192,
          251.00599999999997,
          54.192,
          492.76800000000003,
          180.98,
          99.98,
          34.95,
          152,
          408.42199999999997,
          382.116,
          68.6,
          435.504,
          11.168,
          72,
          655.9,
          603.92,
          10.368,
          95.736,
          201.584,
          3.392,
          193.0656,
          15.552,
          11.648,
          418.8,
          509.48800000000006,
          825.174,
          17.76,
          6.912000000000001,
          796.425,
          40.46,
          404.94,
          657.552,
          21.4,
          28.671999999999997,
          29.311999999999998,
          45.528,
          844.1160000000001,
          812.7360000000001,
          1577.94,
          15.008,
          5.184,
          104.85,
          3.9,
          801.96,
          191.96,
          2.61,
          2.92,
          58.416000000000004,
          718.1160000000001,
          31.776,
          104.88,
          34.7,
          33.72,
          14.94,
          638.73,
          377.97,
          23.831999999999997,
          6.367999999999999,
          34.176,
          5.544,
          23.55,
          33.4,
          35.711999999999996,
          7.056,
          10.9,
          59.98,
          61.928999999999995,
          42.784,
          563.43,
          241.96,
          8.52,
          1.788,
          99.37200000000001,
          1.344,
          119.96,
          273.96,
          3.912,
          62.376000000000005,
          29.05,
          25.06,
          19.824,
          107.44,
          1458.65,
          26.64,
          476.8,
          87.444,
          501.81,
          85.96,
          33.568000000000005,
          3.5639999999999996,
          823.96,
          10.272,
          480.96,
          124.792,
          151.96,
          155.34,
          49.632,
          52.096000000000004,
          12.128,
          134.85,
          279.944,
          9.98,
          3.552,
          15.552,
          2.3680000000000003,
          10.368,
          470.376,
          359.976,
          25.344,
          26.72,
          241.332,
          5.184,
          145.54399999999998,
          28.752,
          27.215999999999998,
          197.372,
          1424.9,
          6.367999999999999,
          48.848,
          19.648,
          255.108,
          5.47,
          79.36,
          38.28,
          149.95,
          5.728,
          42.24,
          79.36,
          512.94,
          860.93,
          769.95,
          14.98,
          373.08,
          637.896,
          287.91,
          36.6,
          17.12,
          29.664,
          9.184,
          153.584,
          12.864,
          24.816,
          9.156,
          23.991999999999997,
          646.2,
          68.112,
          13.14,
          10.024,
          156.3728,
          999.98,
          821.94,
          7.04,
          5.04,
          116.28,
          182.99400000000003,
          10.272,
          32.4,
          404.9,
          9449.95,
          12.94,
          2.2640000000000002,
          0.444,
          146.17600000000002,
          15.92,
          4.312,
          73.98,
          160.98,
          17.34,
          3.28,
          8.856,
          158.376,
          14.48,
          6.9239999999999995,
          18.9,
          57.42,
          9.762,
          13.72,
          55.2,
          259.13599999999997,
          15.696,
          4.24,
          6.874,
          1.996,
          8.927999999999999,
          9.99,
          21.12,
          15.984000000000002,
          128.4,
          1.964,
          94.428,
          45.92,
          22.48,
          332.028,
          11.394,
          15.552,
          31.104,
          6.316,
          11.415999999999999,
          209.7,
          63.312,
          96.78399999999999,
          10.475999999999999,
          63.96,
          863.128,
          3.5639999999999996,
          956.6648,
          12.588,
          171.96,
          48.632,
          3.69,
          1103.97,
          246.1328,
          11.696,
          439.99199999999996,
          33.28,
          14.088,
          59.751999999999995,
          16.28,
          10.368,
          77.72,
          520.464,
          131.94,
          25.92,
          704.76,
          7.41,
          21.5,
          10.527999999999999,
          20.544,
          104.9,
          39.68,
          51.75,
          11.68,
          159.75,
          2.88,
          384.944,
          153.584,
          913.43,
          70.368,
          59.96,
          9.08,
          314.55,
          4.91,
          478.24,
          40.92,
          1805.88,
          2.182,
          27.384,
          26.406,
          10.368,
          23.68,
          109.95,
          965.85,
          29.2,
          32.4,
          78.35,
          31.68,
          29.12,
          169.45,
          333.09,
          248.98,
          16.27,
          69.12,
          4.47,
          25.92,
          21.311999999999998,
          37.3,
          81.96,
          10.784,
          36.44,
          62.31,
          20.32,
          2.296,
          5.936,
          325.86,
          383.60699999999997,
          148.48,
          537.544,
          1.9280000000000002,
          6.912000000000001,
          7.76,
          659.168,
          56.82,
          49.568000000000005,
          127.869,
          10.475999999999999,
          21.24,
          127.96,
          657.93,
          33.48,
          13.9,
          26.86,
          21.81,
          91.6,
          62.79,
          28.44,
          134.376,
          17.14,
          45.248000000000005,
          11.06,
          623.4648,
          772.68,
          283.14,
          635.96,
          118.99,
          272.94,
          440.91,
          29.52,
          302.94,
          142.36,
          546.66,
          212.13,
          5.247999999999999,
          74.416,
          6.848,
          7.996,
          8.712,
          36.288000000000004,
          56.568000000000005,
          268.935,
          15.575999999999999,
          7.9,
          221.16,
          127.96,
          18.69,
          22.368000000000002,
          43.372,
          113.52,
          359.88,
          6.4639999999999995,
          11.52,
          222.38400000000001,
          683.1439999999999,
          1.476,
          40.711999999999996,
          279.9,
          195.64,
          239.9,
          463.24800000000005,
          383.952,
          245.88,
          36.63,
          22.58,
          12.39,
          10.192,
          758.352,
          1.824,
          18.32,
          48.816,
          1.188,
          114.2,
          674.058,
          67.14399999999999,
          254.058,
          2.296,
          91.275,
          375.34,
          12.96,
          2.512,
          18.864,
          20.568,
          4.356,
          19.04,
          1889.99,
          714.3,
          33.48,
          461.97,
          137.62,
          302.67,
          239.976,
          687.4,
          239.96,
          8.134,
          79.984,
          398.4,
          7.056,
          1352.3976,
          43.98,
          377.97,
          123.96,
          549.99,
          167.535,
          38.34,
          53.88,
          299.98,
          744.1,
          44.84,
          401.59,
          18.24,
          5.792000000000001,
          14.015999999999998,
          214.95,
          35.04,
          10.776,
          4.6,
          35.168,
          4.448,
          5.184,
          15.552,
          17.496,
          15.552,
          30.36,
          28.4,
          212.94,
          1001.584,
          569.058,
          14.224,
          301.96,
          3.9,
          12.84,
          15.84,
          563.94,
          62.94,
          535.41,
          3504.9,
          144.12,
          314.55,
          2.072,
          328.3992,
          199.96,
          1516.2,
          167.952,
          45.04,
          3930.072,
          2.3040000000000003,
          431.976,
          41.72,
          17.48,
          498.26,
          212.94,
          706.86,
          114.95,
          43.19,
          54.96,
          3.318,
          20.768,
          10.56,
          196.77599999999998,
          2.92,
          200.795,
          46.688,
          21.864,
          340.116,
          13.48,
          85.52,
          6.16,
          36.84,
          17.904,
          966.7,
          182.112,
          50.4,
          89.568,
          37.296,
          8.544,
          191.058,
          13.04,
          1525.1879999999999,
          15.96,
          31.92,
          1.632,
          267.96,
          32.34,
          39.9,
          143.856,
          41.92,
          329.584,
          720.76,
          70.56,
          81.96,
          151.192,
          273.96,
          306.9,
          15.552,
          347.361,
          10.368,
          25.92,
          15.808,
          10.368,
          224.75,
          73.176,
          20.736,
          39.984,
          15.36,
          36.288000000000004,
          150.384,
          20.936,
          357.93,
          57.4,
          331.96,
          40.56,
          38.016,
          16.176,
          750.68,
          44.4,
          84.55,
          17.94,
          3.592,
          18.16,
          56.70399999999999,
          11.12,
          115.296,
          2479.96,
          17.43,
          181.986,
          1.5919999999999999,
          22.344,
          2.6719999999999997,
          16.656,
          79.512,
          36.288000000000004,
          67.9932,
          19.456,
          209.986,
          29.76,
          89.76799999999999,
          959.9839999999999,
          15.552,
          34.36,
          14.16,
          79.92,
          499.95,
          3.04,
          201.96,
          68.64,
          152.8,
          60.84,
          15.84,
          8.448,
          38.976,
          20.44,
          109.92,
          6.38,
          6.48,
          275.058,
          27.396,
          13.456,
          11.84,
          36.792,
          619.95,
          29.16,
          57.96,
          29.403000000000002,
          81.4,
          331.536,
          946.3439999999999,
          178.11,
          1089.75,
          61.06,
          459.92,
          27.52,
          355.455,
          3.16,
          1999.96,
          60.144,
          85.2,
          599.99,
          23.968000000000004,
          421.37199999999996,
          575.9680000000001,
          10.368,
          61.792,
          205.9992,
          581.96,
          29.98,
          715.64,
          795.51,
          549.99,
          74.76,
          29.22,
          33.488,
          23.04,
          1.3619999999999999,
          14.76,
          127.95,
          38.431999999999995,
          21.568,
          81.57600000000001,
          71.12,
          259.96,
          95.992,
          13.216,
          25.9,
          20.736,
          360.38,
          13.56,
          429.9,
          32.06,
          161.96,
          19.86,
          7.08,
          19.567999999999998,
          310.392,
          692.94,
          173.488,
          57.75,
          272.4,
          2.068,
          83.84,
          152.688,
          3.488,
          5.888,
          151.056,
          25.16,
          6.216,
          23.616,
          24.031999999999996,
          2.088,
          4.488,
          19.432000000000002,
          65.44,
          6,
          1.9080000000000001,
          61.568000000000005,
          20.96,
          27.695999999999998,
          73.164,
          20.07,
          81.54,
          167.28,
          117.456,
          26.7,
          21.2,
          838.38,
          383.84,
          25.92,
          6.33,
          75.88,
          63.77,
          50.97,
          96.08,
          1439.9679999999998,
          43.56,
          51.016000000000005,
          25.248,
          56.68600000000001,
          125.7,
          191.98,
          20.86,
          88.77600000000001,
          30.32,
          43.41,
          6.24,
          465.16,
          7.98,
          2.394,
          9.856,
          11.36,
          442.37199999999996,
          28.85,
          116.31200000000001,
          24.588,
          13.984000000000002,
          195.96,
          74.352,
          151.92,
          196.62,
          144.12,
          15.96,
          15.28,
          13.98,
          272.94,
          19.05,
          247.71599999999998,
          66.58,
          43.92,
          14.73,
          29.7,
          108.4,
          38.08,
          32.784,
          47.983999999999995,
          62.592,
          4.276,
          10.56,
          229.94,
          5.247999999999999,
          899.43,
          46.2,
          47.952,
          7.992000000000001,
          76.86399999999999,
          21.96,
          368.97,
          12.39,
          332.94,
          23.52,
          180.96,
          974.988,
          7.104,
          103.5,
          2.464,
          8.72,
          158.376,
          3.44,
          131.98,
          114.52,
          100.24,
          24,
          15.552,
          26.176,
          5.303999999999999,
          5443.96,
          302.67,
          56.07,
          6.936,
          4.428,
          8.8,
          142.8,
          399.95,
          634.116,
          17.472,
          155.88,
          319.968,
          505.32,
          3.8080000000000003,
          8.682,
          24.424,
          33.62,
          243.99200000000002,
          7.12,
          2.688,
          317.058,
          149.352,
          227.976,
          125.93,
          32.4,
          209.94,
          4164.05,
          212.94,
          102.43799999999999,
          199.304,
          54.48,
          125.88,
          79.78,
          133.2,
          42.61600000000001,
          319.98400000000004,
          45.92,
          21.184,
          20.736,
          213.43,
          219.84,
          10.92,
          83.9,
          19.75,
          393.54,
          3.6,
          180.016,
          41.552,
          13.12,
          12.16,
          17.52,
          155.88,
          47.97,
          266.35200000000003,
          56.328,
          39.264,
          95.23200000000001,
          177.2,
          102.624,
          359.772,
          13.392000000000001,
          29.24,
          35.168,
          1362.9,
          317.058,
          15.76,
          14.56,
          93.456,
          21.488000000000003,
          239.976,
          34.504,
          20.104,
          3.798,
          7.88,
          98.376,
          22.38,
          1.68,
          7.968,
          113.37200000000001,
          2.96,
          32.48,
          17499.95,
          735.98,
          34.37,
          33.96,
          8.016,
          76.86399999999999,
          1565.88,
          106.05,
          10.368,
          11.952,
          10.78,
          119.976,
          131.376,
          5.343999999999999,
          2567.84,
          602.651,
          7.656000000000001,
          16,
          5.587999999999999,
          235.92,
          41.28,
          132.16,
          17.904,
          124.03200000000001,
          95.976,
          84.272,
          36.544000000000004,
          221.024,
          128.058,
          479.98800000000006,
          31.744,
          24.1,
          8.78,
          376.74,
          29.52,
          11.96,
          26.4,
          1.392,
          13.84,
          175.872,
          366.744,
          5.184,
          8.544,
          33.9,
          9.248,
          1.964,
          82.656,
          9.248,
          4.448,
          5.184,
          175.92,
          4.752,
          13.344000000000001,
          479.952,
          19.648,
          257.94,
          1879.96,
          27.46,
          89.98,
          828.6,
          113.52,
          135.3,
          971.88,
          53.088,
          222.38400000000001,
          16,
          143.96,
          2399.96,
          74.352,
          87.16799999999999,
          32.232,
          5.5520000000000005,
          8.016,
          74.592,
          16.784000000000002,
          38.864000000000004,
          8.736,
          16.4,
          25.92,
          40.68,
          68.52,
          364.74,
          47.4,
          49.76,
          5.56,
          629.1,
          14.7,
          45.36,
          125.99,
          155.372,
          3.036,
          6.9,
          57.69,
          559.71,
          37.84,
          5.472,
          292.1,
          8.544,
          424.116,
          2.892,
          381.72,
          890.841,
          64.75,
          286.4,
          8.904,
          100.8,
          22.752,
          176.77200000000002,
          38.82,
          21.9,
          116.4,
          257.98,
          54.336000000000006,
          40.74,
          14.4,
          149.95,
          16.9,
          17.61,
          378,
          17.64,
          373.08,
          1336.44,
          29.97,
          35.856,
          23.84,
          11.52,
          85.24600000000001,
          32.711999999999996,
          10.687999999999999,
          237.09599999999998,
          5.184,
          65.584,
          22.2,
          419.4,
          9.912,
          318.43,
          5.8,
          1415.76,
          148.48,
          9.248,
          1036.624,
          13.568,
          2.48,
          25.9,
          10.272,
          512.19,
          1.556,
          12.175999999999998,
          13.592,
          719.952,
          755.944,
          11.98,
          0.898,
          21.204,
          158.28,
          497.94,
          198.74400000000003,
          47.976000000000006,
          20.736,
          563.94,
          128.744,
          146.86,
          36.56,
          25.176,
          5.584,
          1297.368,
          264.32,
          9.54,
          5.81,
          5.76,
          850.5,
          75.33,
          335.72,
          251.94400000000002,
          127.302,
          119.448,
          118.16,
          53.9,
          76.72800000000001,
          10.43,
          186.732,
          3812.97,
          1568.61,
          17.3,
          160,
          163.96,
          5.232,
          11.56,
          209.97,
          447.84,
          479.97,
          8.64,
          179.886,
          17.855999999999998,
          114.848,
          10.687999999999999,
          25.488000000000003,
          15.552,
          10.368,
          8.568,
          2.89,
          7.896,
          22.608,
          30.528000000000002,
          1.8,
          39.984,
          307.168,
          508.76800000000003,
          9.912,
          19.136,
          6.12,
          1184.72,
          124.404,
          16.192,
          18.936,
          12.672,
          5.04,
          8.448,
          20.387999999999998,
          242.176,
          76.64,
          4.4639999999999995,
          3.96,
          30.344,
          30.384,
          298.116,
          39.582,
          44.688,
          31.744,
          40.98,
          3.168,
          18.84,
          362.25,
          63.552,
          129.55200000000002,
          16.448,
          15.12,
          7.872000000000001,
          25.2,
          37.59,
          14.97,
          1.98,
          263.96,
          541.24,
          106.32,
          1323.9,
          83.9,
          11.76,
          4.992,
          87.92,
          657.93,
          1.044,
          106.08,
          23.076,
          25.92,
          47.952,
          0.9840000000000001,
          75.384,
          4.6080000000000005,
          454.56,
          141.42,
          310.744,
          12.735999999999999,
          6.47,
          13.748,
          15.224,
          89.0664,
          175.44,
          438.336,
          55.583999999999996,
          127.38600000000001,
          248.43,
          11.648,
          85.24600000000001,
          20.64,
          33.29,
          526.344,
          2.9339999999999997,
          18.528,
          670.752,
          64.96,
          72.78,
          471.9,
          3.52,
          10.68,
          141.96,
          16.032,
          156.512,
          22.608,
          1.892,
          63.312,
          7.824,
          170.072,
          10.43,
          72.78399999999999,
          44.46,
          314.08799999999997,
          4.343999999999999,
          31.776,
          4.928,
          1.788,
          15.072000000000001,
          12.624,
          70.97,
          36.784,
          11.212,
          4.712,
          180.98,
          60.416000000000004,
          368.91,
          8.02,
          171.04,
          69.375,
          31.68,
          2003.168,
          9.344,
          600.53,
          59.903999999999996,
          637.44,
          51.756,
          180.96,
          32.4,
          41.86,
          77.56,
          137.352,
          376.509,
          512.3580000000001,
          3.488,
          22.288,
          16.032,
          45.04,
          15.624,
          2.864,
          94.19200000000001,
          31.744,
          5.432,
          913.43,
          372.144,
          4.984,
          64.78399999999999,
          15.552,
          223.888,
          10.895999999999999,
          241.5,
          7.68,
          933.408,
          51.84,
          165.6,
          106.32,
          4.36,
          129.3,
          6.047999999999999,
          6.848,
          9.96,
          8.552,
          49.61600000000001,
          344.37199999999996,
          1554.9360000000001,
          127.88,
          106.869,
          3.5639999999999996,
          25.68,
          12.384,
          7.5,
          2678.94,
          35.98,
          83.7,
          60.736000000000004,
          479.976,
          6.08,
          366.744,
          8.856,
          27.96,
          146.352,
          175.23,
          125.99,
          23,
          73.78399999999999,
          30.336,
          12.99,
          33.36,
          13.76,
          496.86,
          389.97,
          6.263999999999999,
          14.432,
          719.9760000000001,
          453.57599999999996,
          45.36,
          287.88,
          131.88,
          2.3280000000000003,
          1454.9,
          67.176,
          15.232000000000001,
          10.272,
          998.85,
          607.52,
          31.16,
          10.332,
          10.368,
          20.784000000000002,
          66.96,
          30.08,
          165.6,
          180.96,
          30.56,
          399.95,
          760.98,
          0.836,
          21.968000000000004,
          619.1519999999999,
          127.904,
          18.368,
          600.558,
          50.352,
          28.031999999999996,
          7.692,
          517.405,
          8.607999999999999,
          159.56,
          19.44,
          115.13600000000001,
          64.384,
          6.984,
          11.264000000000001,
          15.552,
          379.37199999999996,
          67.536,
          1.524,
          52.59,
          535.41,
          10.74,
          5.343999999999999,
          1.696,
          24.588,
          7.98,
          3.536,
          528.43,
          41.472,
          55.328,
          1227.9984,
          537.544,
          10.687999999999999,
          221.98,
          341.96,
          207.144,
          13.9,
          335.52,
          26.72,
          33.488,
          10.56,
          386.34,
          67.15,
          493.43,
          11.12,
          21.99,
          185.37599999999998,
          58.924,
          50.12,
          449.97,
          1927.59,
          489.23,
          32.064,
          18.496,
          191.079,
          10.368,
          856.6560000000001,
          13.184000000000001,
          48.784,
          76.64,
          18.528,
          1439.9679999999998,
          1.7280000000000002,
          626.1,
          609.98,
          211.372,
          239.976,
          99.95,
          29.34,
          16.74,
          239.358,
          299.96,
          67.84,
          853.93,
          18.688,
          1.248,
          36.288000000000004,
          78.304,
          127.785,
          6.104,
          1.72,
          8.952,
          2.334,
          1.7280000000000002,
          159.04,
          145.98,
          9.68,
          4899.93,
          35.184,
          56.70399999999999,
          274.064,
          92.52,
          37.76,
          7.38,
          5.82,
          100.8,
          487.96,
          2.992,
          108.76799999999999,
          55.176,
          9892.74,
          322.192,
          2.946,
          19.136,
          24.56,
          16.56,
          279.95,
          89.97,
          93.03200000000001,
          454.965,
          299.98,
          403.68,
          41.9,
          28.91,
          32.4,
          369.54400000000004,
          10.368,
          791.88,
          23.64,
          84.78399999999999,
          64.96,
          32.06,
          177.648,
          287.91,
          22.368000000000002,
          32.368,
          207.984,
          9.552,
          5.343999999999999,
          50.136,
          475.944,
          2.8080000000000003,
          138.56,
          65.52,
          405.86,
          680.01,
          2.376,
          143.128,
          29.372,
          344.704,
          39.816,
          7.28,
          5.4,
          13.762,
          15.28,
          7.5360000000000005,
          1.4080000000000001,
          4.144,
          52.751999999999995,
          115.84,
          60.89,
          14.94,
          9.64,
          332.94,
          51.9,
          64.96,
          25.5,
          389.97,
          269.91,
          392.94,
          6.888,
          457.485,
          0.556,
          41.424,
          244.768,
          74.352,
          4.312,
          56.68600000000001,
          97.96799999999999,
          7.872000000000001,
          15.552,
          1.476,
          4.928,
          63.488,
          418.32,
          123.85799999999999,
          47.903999999999996,
          11.376,
          66.112,
          520.464,
          11.424000000000001,
          19.44,
          3.64,
          18.54,
          11.56,
          32.56,
          7.072,
          228.92,
          7.992000000000001,
          14.112,
          574.91,
          8.448,
          6.816,
          15.224,
          21.984,
          1212.96,
          1099.96,
          103.48100000000001,
          22.24,
          95.84,
          12.39,
          35.88,
          477.3,
          5.904,
          173.488,
          51.56,
          3.5639999999999996,
          13.16,
          3.8280000000000003,
          304.99,
          18.16,
          781.8639999999999,
          30.816,
          38.16,
          1592.85,
          11.88,
          4.41,
          167.94,
          67.8,
          26.94,
          26.7,
          40.2,
          13.89,
          689.82,
          9.264,
          204.6664,
          1649.75,
          54.208,
          323.976,
          15.552,
          32.592,
          12.767999999999999,
          55.61600000000001,
          8.856,
          35.52,
          6.23,
          56.70399999999999,
          369.1992,
          1.98,
          75.88,
          5.312,
          79.96,
          105.686,
          399.54,
          104.93,
          53.72,
          195.136,
          121.536,
          17.472,
          104.58,
          24.7,
          302.72,
          41.472,
          21.392,
          307.314,
          409.9992,
          9.248,
          14.67,
          90.64,
          221.16,
          281.97,
          26.631999999999998,
          64.02,
          11.645999999999999,
          613.9992,
          491.55,
          79.96,
          223.96,
          18.96,
          12.224,
          269.98,
          268.57599999999996,
          10.984000000000002,
          797.944,
          5.343999999999999,
          27.72,
          54.9,
          2177.584,
          17.496,
          16.784000000000002,
          431.13599999999997,
          8.88,
          4.836,
          1023.332,
          600.558,
          39.992,
          211.24599999999998,
          56.06399999999999,
          107.772,
          4.832,
          18.24,
          3.798,
          2.112,
          319.968,
          8.624,
          3.984,
          14,
          16.392,
          15.936,
          61.544,
          132.696,
          67.4,
          2.52,
          67.8,
          18.76,
          12.12,
          11.34,
          159.8,
          18.96,
          290.336,
          19.152,
          5.94,
          20.62,
          124.25,
          297.55,
          403.56,
          95.2,
          153.82399999999998,
          62.016000000000005,
          25.128,
          127.984,
          12.96,
          94.85,
          13.48,
          14.91,
          528.43,
          22.386,
          191.968,
          1925.88,
          2405.2,
          83.97,
          39.89,
          17.38,
          65.584,
          383.4656,
          99.568,
          35.56,
          97.98
         ],
         "y": [
          -123.85799999999999,
          -3.8160000000000003,
          13.3176,
          5.0596,
          15.6884,
          9.9468,
          123.4737,
          -147.963,
          35.415,
          -46.9764,
          -15.147,
          41.7564,
          16.5564,
          19.7714,
          8.2062,
          8.4784,
          17.9634,
          35.3346,
          2.9568,
          17.0981,
          -15.2225,
          8.763,
          -1.9344,
          -5.8248,
          2.7239999999999998,
          -14.475,
          -48.9549,
          6.7966,
          2.9568,
          13.8572,
          6.2208,
          16.5354,
          16.1504,
          22.5852,
          22.6184,
          -10.7973,
          -3.0396,
          11.7208,
          67.992,
          22.788,
          13.3476,
          -8.5794,
          -407.68199999999996,
          218.2518,
          103.8015,
          5.9988,
          585.552,
          80.6285,
          6.8714,
          236.2325,
          2.7324,
          -1359.9920000000002,
          -58.6347,
          -24.858,
          6.8136,
          -453.849,
          8.9985,
          -131.12,
          6.5520000000000005,
          -243.16,
          1.8612,
          76.6395,
          3.7224,
          6.255,
          -178.9668,
          5.8744,
          35.6346,
          7.4824,
          16.2099,
          3.6796,
          6.5,
          0.968,
          136.939,
          0.2198,
          9.396,
          -356.728,
          -4.6752,
          11.1944,
          -120.51299999999999,
          -2.8308,
          1.2038,
          580.5394,
          41.68,
          23.94,
          496.0725,
          12.4416,
          -8.4924,
          -19.5624,
          4.044,
          56.6916,
          -4.466,
          -509.99699999999996,
          -251.9958,
          28.7196,
          -3.432,
          376.11,
          -131.445,
          2.8536,
          -2.22,
          9.396,
          4.6746,
          30.98,
          -20.3322,
          2.6811,
          -18.8728,
          8.799,
          -20.5623,
          21.035999999999998,
          3.5952,
          -317.1528,
          -32.784,
          0.7198,
          11.075999999999999,
          138.2016,
          0.5004,
          43.1991,
          113.6394,
          11.5536,
          3.6660000000000004,
          23.3928,
          20.5755,
          42.0256,
          29.1528,
          10.584000000000001,
          1.3677,
          24.9132,
          -96.1146,
          3.3480000000000003,
          -312.0614,
          -36.2352,
          -7.9002,
          341.994,
          0.5994,
          10.3974,
          6.1572,
          40.416,
          12.1728,
          5.2877,
          -25.9136,
          -21.168000000000003,
          21.098000000000003,
          -68.1856,
          206.31599999999997,
          7.263999999999999,
          6.2995,
          -84.2928,
          15.642000000000001,
          -17.046,
          -1.744,
          2.5707,
          8.714,
          -5.7148,
          1.168,
          9.75,
          41.5773,
          5.6956,
          -14.773,
          87.5684,
          178.90099999999998,
          130.87,
          46.9278,
          6.0288,
          54.3332,
          56.511,
          -50.098,
          -3.4619999999999997,
          124.929,
          -135.765,
          -118.1295,
          -4.2222,
          2.079,
          28.7064,
          28.6182,
          -14.3856,
          -71.8905,
          11.36,
          1.7115,
          16.5888,
          17.505,
          40.7499,
          -7.392,
          4.5201,
          -41.262,
          -320.2395,
          231.4116,
          80.0199,
          6.3684,
          5.5992,
          4.2717,
          -64.7748,
          -5.487,
          -10.948,
          1.1466,
          1.6762,
          6.2064,
          0.8994,
          26.703000000000003,
          56.7864,
          22.791999999999998,
          1.4112,
          6.8768,
          47.92,
          10.224,
          9.14,
          51.75,
          16.175,
          3.4695,
          10.880999999999998,
          14.5236,
          9.8784,
          11.075999999999999,
          50.9898,
          24.8832,
          16.8,
          10.7996,
          7.4872,
          -79.3352,
          1.5804,
          10.048,
          2.043,
          5.4128,
          135.98,
          5.0856,
          51.8,
          3.3930000000000002,
          -32.088,
          20.2485,
          323.94599999999997,
          829.3754,
          81.0474,
          19.2454,
          56.0547,
          -18.5562,
          -56.996,
          -14.5656,
          50.4063,
          -0.812,
          2.7168,
          -11.595999999999998,
          679.9960000000001,
          16.6698,
          2.5896,
          9.4392,
          44.868,
          -1.8904,
          20.585,
          5.999,
          8.662,
          146.4036,
          2.9835,
          -146.16,
          -18.186,
          -29.2524,
          -0.3488,
          10.6288,
          9.3624,
          121.7601,
          3.1104,
          -4.7145,
          -4.9878,
          -16.3644,
          -0.7566,
          -17.248,
          21.888,
          13.8267,
          25.186,
          3.6288,
          -2.0264,
          2.6416,
          50.94,
          129.384,
          10.5504,
          8.991,
          5.5566,
          8.69,
          107.346,
          2.628,
          5.8696,
          0.43799999999999994,
          209.993,
          90.735,
          5.77,
          21.06,
          10.7424,
          -7.763999999999999,
          64.67399999999999,
          64.7892,
          -4.1136,
          -1850.9464,
          285.9896,
          18.873,
          10.880999999999998,
          -12.792,
          -126.8592,
          -67.27199999999999,
          3.6288,
          -88.78399999999999,
          5.2026,
          -7.1991,
          5.397,
          80.736,
          -4.851,
          2.299,
          52.493,
          -30.555,
          -1.7280000000000002,
          -13.93,
          36.5742,
          23.59,
          5.7072,
          25.098000000000003,
          17.2224,
          -70.1043,
          -44.1552,
          -35.178000000000004,
          -1.4413,
          -90.2484,
          -430.61699999999996,
          -42.6528,
          8.88,
          118.29299999999999,
          32.13,
          -1.4784,
          42.8805,
          -350.49,
          148.4946,
          -39.1248,
          -87.3418,
          5.997999999999999,
          5.1792,
          43.9956,
          -29.2776,
          226.9644,
          19.5238,
          6.2208,
          -4.0128,
          3.185,
          -0.2098,
          3.772,
          5.8203,
          69.705,
          -47.2542,
          15.525,
          12.504000000000001,
          -33.139,
          -11.4648,
          2.065,
          117.432,
          -40.6504,
          2.3674,
          -24.7086,
          10.3488,
          -0.2685,
          -13.6152,
          -9.152999999999999,
          -21.808000000000003,
          2.3952,
          5.8604,
          2.9145,
          -35.9058,
          5.28,
          0.5004,
          8.6744,
          -13.993,
          1.8,
          19.872,
          12.5118,
          3.945,
          10.7849,
          3.668,
          -7.4394,
          0.8688,
          -2.3748,
          23.235,
          1.5795,
          5.2125,
          62.988,
          -10.4196,
          -10.2114,
          15.387,
          5.096,
          3.5742,
          5.0064,
          -566.5625,
          11.9988,
          51.1936,
          -71.8116,
          -33.804,
          17.352,
          3.6288,
          0.546,
          -32.5226,
          130.7581,
          150.36,
          -66.5088,
          7.6154,
          -1.3952,
          -20.1663,
          -24.496,
          19.5,
          107.7216,
          9.816,
          15.5288,
          25.2213,
          64.7856,
          195.9944,
          26.5905,
          673.8816,
          12.5928,
          6.0416,
          26.985,
          3.6296,
          17.5344,
          0.6993,
          -12.117,
          17.8152,
          -166.32,
          -24.189,
          -225.5568,
          1.8312,
          -2.6982,
          1.8144,
          374.3792,
          62.9064,
          -263.9967,
          12.7008,
          13.5324,
          -30.588,
          9.7328,
          124.68,
          11.88,
          49.105,
          45.9754,
          38.178000000000004,
          -15.99,
          -53.071999999999996,
          4.9632,
          47.0376,
          2.1,
          843.1706,
          3.9906,
          9.0912,
          92.4399,
          49.761,
          74.975,
          107.955,
          3.5712,
          17.76,
          2.401,
          -5.184,
          26.3912,
          3.6288,
          7.776,
          14.6157,
          53.433,
          6.768,
          6.5808,
          11.703,
          17.1774,
          7.254,
          102.186,
          0.6408,
          76.6395,
          -8.6768,
          0.4706,
          -2.1885,
          134.3888,
          7.9212,
          215.1198,
          12.3234,
          8.4966,
          -766.012,
          -3.7196,
          -17.046,
          11.5752,
          16.1602,
          -36.6744,
          35.9964,
          4.6344,
          3.2872,
          0.8162,
          3.8822,
          51.2943,
          5.4432,
          5.193,
          63.983999999999995,
          412.5394,
          30.5964,
          70.006,
          8.88,
          81.583,
          -1.4016,
          41.1332,
          13.3056,
          -11.439,
          -5.8496,
          -53.2704,
          43.5981,
          -10.1736,
          0,
          9.7164,
          -14.9736,
          23.997,
          3.0044,
          -150.414,
          1.1904,
          -11.0005,
          -8.7232,
          -13.895999999999999,
          6.1792,
          35.04,
          25.473000000000003,
          378.1674,
          -46.3946,
          3.8272,
          29.7408,
          0.4706,
          15.599,
          31.587,
          14.3075,
          11.4516,
          8.2688,
          -52.17,
          6.6976,
          16.3863,
          6.36,
          5.6448,
          -14.1372,
          9.8658,
          6.8714,
          112.4064,
          20.21,
          27.441,
          30.415,
          132.5898,
          133.15200000000002,
          2.8322,
          -29.3436,
          137.2896,
          24.528000000000002,
          -2.1624,
          0,
          -27.1296,
          0.8225,
          7.6986,
          -14.4784,
          23.55,
          13.347999999999999,
          -225.0976,
          60.356,
          -48.9549,
          3.2616,
          -2.1504,
          -13.6488,
          -9.0944,
          4.0776,
          0.8388,
          -32.6366,
          -34.391999999999996,
          53.997,
          32.391999999999996,
          4.4312,
          -3.5712,
          -16.38,
          -85.2384,
          55.896,
          1.1996,
          -2.0568,
          204.0714,
          9.8784,
          14.4354,
          251.8911,
          6.2208,
          1.375,
          55.93600000000001,
          5.256,
          4.4604,
          -12.075,
          -16.884,
          2.8884,
          -32.32,
          0.91,
          52.4979,
          31.587,
          2.1476,
          -7.7748,
          -300.735,
          81.432,
          411.7365,
          158.7519,
          95.4612,
          7.3206,
          0,
          0.882,
          -121.8735,
          1.9926,
          5.1012,
          -3.9624,
          12.4416,
          7.0218,
          67.4424,
          23.6529,
          20.1207,
          6.2208,
          213.6888,
          28.3095,
          4.2048,
          20.8719,
          9.5688,
          7.056,
          111.59100000000001,
          42.0744,
          152.0883,
          49.497,
          -6.567,
          1.64,
          -14.3856,
          -1.3584,
          -80.48,
          -0.6265,
          1.7991,
          14.17,
          24.2256,
          9.68,
          74.8142,
          -24.803,
          1.4406,
          -23.976,
          7.5284,
          10.880999999999998,
          3.1104,
          -2.0364,
          84.5154,
          76.0878,
          36.3987,
          229.9908,
          111.1035,
          0.5579999999999999,
          -2.9739999999999998,
          10.56,
          -97.2312,
          -4.3584,
          1.1016,
          -32.3388,
          -12.0784,
          -1143.891,
          13.2352,
          9.5081,
          -13.7175,
          -5.8346,
          8.381,
          12.1758,
          -7.7094,
          3.852,
          14.148,
          6.8724,
          35.2872,
          5.652,
          71.2692,
          0.37200000000000005,
          -5.8229999999999995,
          3.04,
          2.5056,
          8.2992,
          14.5584,
          427.4368,
          40.5867,
          -19.7712,
          3.0016,
          5.184,
          -31.3722,
          5.3784,
          421.0824,
          8.93,
          45.84,
          -172.7328,
          -10.1736,
          -33.32,
          -14.4588,
          31.0912,
          7.5371,
          3.614,
          12.1348,
          134.654,
          2.4288,
          874.9875,
          9.744,
          38.5722,
          -14.229000000000001,
          -140.196,
          -417.0936,
          15.998,
          -2.6892,
          -32.48,
          2.772,
          3.6288,
          2.256,
          -13.5548,
          11.592,
          -42.1096,
          5.6956,
          26.1156,
          10.0878,
          4.8588,
          3.7436,
          25.4016,
          47.7306,
          -45.84,
          -15.5904,
          8.499,
          4.4312,
          -0.5598,
          -17.7072,
          -336.6272,
          -24.843000000000004,
          331.191,
          -8.029,
          32.16,
          -4.752,
          0,
          1.5066,
          50.9208,
          -44.2782,
          26.9526,
          -3.168,
          -9.555,
          -6.0192,
          10.8864,
          5.022,
          -18.5262,
          58.0272,
          -44.2782,
          -4.7784,
          -7.7292,
          -77.333,
          46.095,
          -2.8272,
          -22.8956,
          24.7275,
          -18.1176,
          11.6795,
          2.205,
          2.0388,
          -4.704,
          7.2576,
          1.3068,
          2.6814,
          9.12,
          9.1674,
          1.9024,
          3.4086,
          3.5039999999999996,
          -52.632,
          4.7067,
          19.0386,
          28.7679,
          -3.6576,
          14.3952,
          -427.45,
          -1480.0335,
          -1.9744,
          6.756,
          7.8735,
          95.0968,
          16.704,
          15.0735,
          28.497,
          19.755,
          -1.3208,
          -25.648000000000003,
          26.4654,
          -5.2932,
          -3.272,
          -3.8208,
          3.6288,
          4.485,
          244.6155,
          6.9795,
          -22.0416,
          3.21,
          2.14,
          -11.0848,
          13.3176,
          78.1954,
          12.4416,
          -8.9152,
          -52.3392,
          0.6516,
          3.8822,
          6.858,
          394.26800000000003,
          -22.62,
          -12.7512,
          -8.5008,
          -68.1302,
          4.0644,
          55.4364,
          47.0548,
          42.9914,
          15.378,
          69.92,
          -5.8346,
          -92.7996,
          6.0025,
          48.9942,
          3.7692,
          12.96,
          275.478,
          181.176,
          3.6288,
          20.3439,
          20.1584,
          -5.088,
          -19.8744,
          5.4432,
          4.0768,
          -97.72,
          -127.37200000000001,
          -117.882,
          5.55,
          0.8640000000000001,
          -525.6405,
          19.8254,
          109.3338,
          49.3164,
          6.206,
          10.3936,
          -74.7456,
          15.9348,
          -36.1764,
          60.9552,
          757.4112,
          -12.0064,
          1.8144,
          50.328,
          1.521,
          200.49,
          32.6332,
          1.2006,
          0.365,
          16.7946,
          -71.8116,
          8.7384,
          41.952,
          12.492,
          15.5112,
          7.0218,
          166.0698,
          94.4925,
          6.5538,
          -2.5472,
          -87.1488,
          1.6632,
          1.1775,
          12.357999999999999,
          2.2319999999999998,
          2.205,
          3.052,
          25.1916,
          23.3954,
          15.5092,
          -56.343,
          24.195999999999998,
          4.1748,
          -3.0396,
          -1.4196,
          0.504,
          11.995999999999999,
          10.9584,
          1.0269,
          7.0173,
          9.0055,
          11.7782,
          6.4428,
          10.744000000000002,
          423.0085,
          7.4592,
          119.2,
          18.4604,
          0,
          40.4012,
          -53.7088,
          -6.237,
          51.4975,
          0.8988,
          -269.3376,
          10.9193,
          -182.352,
          55.9224,
          3.7224,
          3.9072,
          -20.6176,
          37.758,
          48.9902,
          -16.467,
          1.2432,
          5.4432,
          0.8288,
          3.6288,
          52.9173,
          35.9976,
          7.92,
          9.352,
          -14.196,
          1.8792,
          16.3737,
          9.3444,
          9.8658,
          -25.3764,
          356.225,
          1.0348,
          15.8756,
          6.6312,
          -18.222,
          2.3521,
          23.808000000000003,
          17.6088,
          44.985,
          -9.1648,
          13.2,
          20.6336,
          97.4586,
          189.4046,
          223.2855,
          4.494,
          82.0776,
          -127.5792,
          33.5895,
          11.895,
          4.9648,
          10.0116,
          2.87,
          13.4386,
          -22.511999999999997,
          1.551,
          -13.734000000000002,
          -62.3792,
          -8.0775,
          17.8794,
          -21.680999999999997,
          -16.5396,
          -52.8908,
          449.991,
          213.7044,
          3.3088,
          0.2016,
          56.9772,
          -320.2395,
          3.21,
          15.552,
          16.195999999999998,
          4630.4755,
          6.47,
          -5.2072,
          -1.11,
          47.5072,
          7.0048,
          -6.8992,
          19.9746,
          20.9274,
          8.4966,
          0.9512,
          2.9889,
          13.8579,
          -23.892,
          -10.386,
          8.693999999999999,
          26.4132,
          -15.1311,
          1.2005,
          -2.07,
          -58.3056,
          5.1012,
          -6.36,
          -10.6547,
          -3.2934,
          0.6696,
          4.4955,
          6.6,
          4.995,
          64.2,
          -3.2406,
          -42.4926,
          21.5824,
          10.3408,
          -348.6294,
          -17.6607,
          5.6376,
          11.2752,
          -10.4214,
          -18.8364,
          100.656,
          20.5764,
          -145.17600000000002,
          -6.8094,
          19.8276,
          -160.2952,
          -6.237,
          -225.0976,
          -20.1408,
          45.1395,
          -121.58,
          1.7343,
          496.7865,
          -76.0116,
          3.9474,
          164.997,
          -49.92,
          4.9308,
          19.4194,
          6.5120000000000005,
          3.6288,
          -66.062,
          -14.8704,
          35.6238,
          8.2944,
          162.0948,
          3.4827,
          7.095,
          3.29,
          6.42,
          50.352,
          16.2688,
          24.84,
          5.4896,
          11.1825,
          -4.4639999999999995,
          -126.4816,
          13.4386,
          -52.196000000000005,
          6.1572,
          21.7355,
          4.086,
          150.984,
          2.3077,
          219.9904,
          3.069,
          523.7052,
          -3.6003,
          2.7384,
          -71.2962,
          3.6288,
          7.4,
          36.2835,
          135.219,
          10.512,
          15.552,
          36.8245,
          14.255999999999998,
          14.2688,
          42.3625,
          23.3163,
          54.7756,
          -25.2185,
          -14.687999999999999,
          -7.8225,
          9.072000000000001,
          7.1928,
          17.158,
          39.3408,
          0.8088,
          12.0252,
          22.4316,
          6.9088,
          -3.9032,
          -8.904,
          149.8956,
          -5.4801,
          16.704,
          53.7544,
          -2.9884,
          0.6912,
          -2.134,
          49.4376,
          28.41,
          17.9684,
          -9.1335,
          -17.2854,
          8.0712,
          60.1412,
          184.2204,
          8.7048,
          3.614,
          6.715,
          5.8887,
          26.564,
          -166.3935,
          4.266,
          6.7188,
          6.1704,
          3.9592,
          -18.802,
          -119.1918,
          -57.951,
          72.358,
          165.3496,
          33.3172,
          30.0234,
          123.4548,
          14.4648,
          48.4704,
          38.4372,
          136.665,
          14.8491,
          0.5904,
          -14.8832,
          2.14,
          -6.9965,
          -19.602,
          12.7008,
          -74.9526,
          -209.7693,
          3.3099,
          2.528,
          57.5016,
          62.7004,
          9.1581,
          6.4308,
          -69.3952,
          29.799,
          22.4925,
          -4.04,
          4.176,
          16.6788,
          0,
          -2.214,
          3.5623,
          137.151,
          91.9508,
          71.97,
          -1181.2824,
          47.994,
          68.8464,
          9.8901,
          5.8708,
          5.8233,
          1.0192,
          265.4232,
          0.6156,
          -46.716,
          -11.5938,
          -1.9602,
          52.532,
          -19.2588,
          5.8751,
          -32.6646,
          -3.9032,
          -67.5435,
          18.767,
          6.2208,
          -4.396,
          6.1308,
          1.5426,
          -11.7612,
          -1.4280000000000002,
          -2929.4845,
          207.14700000000002,
          16.4052,
          133.9713,
          60.5528,
          72.6408,
          53.9946,
          48.118,
          83.986,
          -13.8278,
          13.9972,
          84.66,
          0.7938,
          -437.5404,
          21.99,
          105.8316,
          11.1564,
          274.995,
          37.23,
          17.253,
          22.6296,
          83.9944,
          -95.67,
          5.605,
          -131.951,
          8.5728,
          -9.5568,
          -31.535999999999998,
          -120.37200000000001,
          -7.007999999999999,
          -4.8492,
          -8.05,
          -8.3524,
          0.3336,
          1.8792,
          5.4432,
          -7.4358,
          5.4432,
          13.0548,
          13.064,
          34.0704,
          125.198,
          -178.8468,
          -10.3124,
          33.2156,
          1.521,
          5.778,
          7.127999999999999,
          112.788,
          11.9586,
          160.623,
          700.98,
          69.1776,
          150.984,
          -3.5224,
          -91.7586,
          15.9968,
          394.212,
          -27.2922,
          4.504,
          -786.0144,
          0.7776,
          32.3982,
          5.7365,
          8.2156,
          134.5302,
          57.4938,
          197.9208,
          2.299,
          20.7312,
          15.9384,
          -5.6406,
          -52.9584,
          4.752,
          14.7582,
          -4.8180000000000005,
          -22.948,
          -2.918,
          3.5529,
          -9.7176,
          1.8872,
          22.2352,
          2.9568,
          17.3148,
          6.2664,
          -13.81,
          61.4628,
          23.184,
          32.4684,
          -1.0656,
          -7.476,
          -46.3998,
          3.912,
          -2287.782,
          7.98,
          2.394,
          0.5508,
          16.7475,
          15.5232,
          19.95,
          48.5514,
          15.196,
          37.0782,
          54.056999999999995,
          23.9904,
          22.9488,
          13.2293,
          71.2296,
          79.794,
          5.4432,
          -69.4722,
          3.6288,
          9.072000000000001,
          5.3352,
          3.7584,
          62.93,
          -197.5752,
          7.2576,
          -8.9964,
          7.68,
          12.7008,
          15.0384,
          7.0659,
          7.1586,
          10.905999999999999,
          149.382,
          12.9792,
          13.7808,
          6.066,
          37.534,
          22.2,
          22.8285,
          8.7906,
          -6.2860000000000005,
          1.8159999999999998,
          19.1376,
          3.475,
          40.3536,
          743.988,
          8.0178,
          -54.5958,
          -2.6268,
          2.5137,
          0.33399999999999996,
          -3.123,
          20.8719,
          12.7008,
          -12.9987,
          2.1888,
          8.9994,
          1.86,
          -2.5648,
          335.9944,
          5.6376,
          -7.3015,
          1.062,
          27.971999999999998,
          174.9825,
          1.0336,
          50.49,
          17.16,
          76.4,
          23.1192,
          5.544,
          2.64,
          -50.6688,
          9.198,
          53.8608,
          2.9348,
          3.1104,
          -90.3762,
          -42.4638,
          -23.548000000000002,
          4.44,
          4.1391,
          111.59100000000001,
          8.4564,
          27.2412,
          5.2272,
          21.164,
          -82.884,
          118.29299999999999,
          32.0598,
          305.13,
          28.0876,
          41.3928,
          12.6592,
          -184.8366,
          -8.532,
          624.9875,
          20.2986,
          20.235,
          233.9961,
          2.3968,
          -6.0196,
          43.1976,
          3.6288,
          6.1792,
          -27.2646,
          104.7528,
          8.0946,
          178.91,
          143.1918,
          274.995,
          34.3896,
          12.8568,
          -1.2558,
          -4.896,
          -2.1792,
          -11.439,
          21.7515,
          13.4512,
          1.6176,
          2.0394,
          22.0472,
          124.7808,
          9.5992,
          4.2952,
          12.690999999999999,
          7.2576,
          93.6988,
          6.2376,
          111.774,
          15.3888,
          45.3488,
          5.7594,
          2.478,
          -52.8336,
          -512.1468,
          173.235,
          54.215,
          16.17,
          76.27199999999999,
          -3.4122,
          30.392,
          -26.7204,
          0.5668,
          -1.3248,
          7.5528,
          -11.322000000000001,
          -9.6348,
          2.6568,
          -0.6008,
          0.6786,
          -6.732,
          -49.5516,
          -8.18,
          2.1,
          -3.2436,
          4.6176,
          6.812,
          3.4619999999999997,
          -186.5682,
          9.2322,
          38.3238,
          23.4192,
          44.04600000000001,
          12.549000000000001,
          9.116,
          226.3626,
          47.98,
          9.072000000000001,
          -9.8115,
          26.558000000000003,
          28.6965,
          13.2522,
          46.1184,
          485.9892,
          -4.9005,
          15.9425,
          7.89,
          -14.5764,
          35.196,
          51.8346,
          1.4602,
          7.7679,
          11.8248,
          19.9686,
          2.6208,
          120.9416,
          3.99,
          -6.3441,
          3.4496,
          5.5664,
          -729.9138,
          14.425,
          23.2624,
          -38.1114,
          4.7196,
          19.596,
          23.235,
          45.576,
          96.3438,
          69.1776,
          7.98,
          7.4872,
          4.0542,
          30.0234,
          8.9535,
          93.5816,
          15.9792,
          12.7368,
          4.8609,
          13.365,
          -105.69,
          -29.511999999999997,
          -52.4544,
          14.3952,
          13.3008,
          -6.6278,
          4.752,
          6.8982,
          0.5904,
          -12.849,
          5.775,
          16.1838,
          0.6993,
          26.9024,
          6.1488,
          81.1734,
          3.4692,
          9.9882,
          8.526,
          13.572000000000001,
          -97.4988,
          2.4864,
          -77.625,
          0.8624,
          0.654,
          13.8579,
          0.5589999999999999,
          35.6346,
          11.452,
          33.830999999999996,
          -2.7,
          5.4432,
          -3.272,
          0.4641,
          2504.2216,
          72.6408,
          25.2315,
          2.3409,
          -6.8634,
          2.552,
          29.988000000000003,
          143.982,
          -172.1172,
          5.6784,
          38.97,
          71.9928,
          31.5825,
          1.2376,
          -14.7594,
          7.9378,
          -90.774,
          -426.986,
          0.7120000000000001,
          1.008,
          -18.1176,
          50.4063,
          28.497,
          35.2604,
          15.552,
          54.5844,
          83.281,
          53.235,
          -13.1706,
          -8.5416,
          15.2544,
          60.4224,
          29.5186,
          66.6,
          -68.1856,
          107.9946,
          15.498,
          -11.6512,
          7.2576,
          -39.637,
          79.692,
          4.914,
          22.653000000000002,
          5.135,
          165.2868,
          1.7280000000000002,
          -15.7514,
          -19.7372,
          1.476,
          2.128,
          8.4096,
          54.558,
          14.8707,
          -292.9872,
          -26.7558,
          -4.908,
          24.9984,
          83.28399999999999,
          7.6968,
          -5.1396,
          3.1806,
          9.8685,
          -8.3524,
          -19.47,
          -18.1176,
          3.5460000000000003,
          -6.188,
          -17.523,
          1.6116,
          26.9973,
          -15.5268,
          -16.5858,
          -6.0768,
          -3.94,
          35.6613,
          -7.832999999999999,
          -2.688,
          -2.3904,
          -3.2392,
          -1.406,
          4.872,
          8399.976,
          331.191,
          16.8413,
          9.5088,
          1.002,
          26.9024,
          407.1288,
          49.8435,
          3.6288,
          3.8844,
          -17.248,
          -17.9964,
          -95.2476,
          1.8704,
          770.352,
          -163.5767,
          -13.0152,
          5.6,
          -15.0876,
          -44.235,
          19.8144,
          9.912,
          -31.331999999999997,
          44.9616,
          -10.7973,
          -75.8448,
          11.8768,
          -55.256,
          -23.7822,
          55.9986,
          8.3328,
          11.085999999999999,
          2.2828,
          71.16199999999999,
          14.4648,
          2.99,
          12.672,
          -3.7584,
          -22.144000000000002,
          63.7536,
          -110.0232,
          1.8144,
          -7.476,
          15.594000000000001,
          3.3524,
          -3.2406,
          30.996,
          3.3524,
          0.3336,
          1.8144,
          15.392999999999999,
          -8.316,
          1.0008,
          89.991,
          6.6312,
          67.0644,
          545.1884,
          9.8856,
          43.1904,
          240.294,
          46.5432,
          37.884,
          109.3365,
          -108.8304,
          16.6788,
          5.6,
          1.7995,
          569.9905,
          23.235,
          -226.6368,
          2.4174,
          -1.041,
          1.002,
          -2.1312,
          -22.2388,
          -99.1032,
          -4.8048,
          4.756,
          12.4416,
          -7.119,
          31.5192,
          109.42200000000001,
          21.33,
          13.9328,
          1.4456,
          301.968,
          3.969,
          21.7728,
          35.2772,
          -35.5136,
          -5.0094,
          0.552,
          23.6529,
          -121.2705,
          2.838,
          1.8468,
          -175.26,
          -7.476,
          -30.294,
          -4.9164,
          -66.801,
          -152.7156,
          29.1375,
          25.06,
          3.339,
          21.42,
          -8.532,
          -459.6072,
          19.41,
          10.512,
          52.38,
          74.8142,
          5.4336,
          0.4074,
          7.056,
          41.986000000000004,
          5.07,
          8.4528,
          136.08,
          8.6436,
          100.7316,
          387.5676,
          0.2997,
          12.9978,
          3.278,
          4.176,
          -6.0889999999999995,
          -26.1696,
          3.7408,
          20.7459,
          1.8144,
          23.7742,
          -26.085,
          146.79,
          3.2214,
          -77.333,
          -10.15,
          88.485,
          16.704,
          3.1212,
          51.8312,
          3.2224,
          0.868,
          12.690999999999999,
          3.21,
          -65.85300000000001,
          -4.2012,
          -18.8728,
          -14.2716,
          71.9952,
          66.1451,
          -19.168,
          -1.5715,
          -11.6622,
          72.8088,
          224.07299999999998,
          0,
          8.3958,
          7.2576,
          112.788,
          12.8744,
          70.4928,
          18.28,
          -33.3582,
          -1.6752,
          97.3026,
          19.824,
          4.293,
          1.8011,
          1.7280000000000002,
          245.7,
          19.5858,
          113.3055,
          88.1804,
          -9.093,
          -13.4379,
          -25.109,
          25.872,
          -53.7096,
          -18.2525,
          41.496,
          1906.485,
          329.4081,
          8.304,
          62.4,
          59.4355,
          -8.1096,
          5.6644,
          58.7916,
          98.5248,
          163.1898,
          2.5056,
          -2.5698,
          4.2408,
          35.89,
          3.7408,
          4.779,
          5.4432,
          3.6288,
          -14.5656,
          -4.7685,
          2.4675,
          -10.1736,
          9.54,
          -2.88,
          -1.4994,
          30.7168,
          38.1576,
          3.2214,
          1.9136,
          2.8764,
          106.6248,
          -21.3264,
          -6.8816,
          -3.7872,
          -3.168,
          1.764,
          2.9568,
          -53.0088,
          -302.72,
          26.824,
          1.6740000000000002,
          -6.93,
          -31.8612,
          3.798,
          -4.2588,
          -59.373000000000005,
          5.0274,
          2.3808,
          -65.568,
          -5.0688,
          -3.5325,
          0,
          -34.9536,
          -22.6716,
          5.5512,
          4.914,
          0.8856,
          11.592,
          17.6673,
          4.1916,
          0.8909999999999999,
          76.5484,
          5.4124,
          49.9704,
          383.931,
          20.975,
          5.7624,
          -12.9792,
          29.673000000000002,
          -93.99,
          -1.827,
          -9.282,
          -10.9611,
          9.072000000000001,
          16.1838,
          -1.476,
          -20.7306,
          1.6704,
          -107.958,
          -187.3815,
          -26.6352,
          2.2288,
          -9.705,
          -22.6842,
          -38.8212,
          -17.0274,
          52.632,
          -87.6672,
          20.844,
          -25.4772,
          -17.745,
          -30.8672,
          -1.2178,
          2.322,
          7.9896,
          -75.192,
          -4.9878,
          4.4004,
          -125.766,
          -43.848,
          -70.9605,
          155.727,
          1.6896,
          5.0196,
          39.7488,
          5.6112,
          52.8228,
          -10.1736,
          -0.9933,
          20.5764,
          2.9339999999999997,
          -12.148,
          -18.2525,
          -18.195999999999998,
          -17.784000000000002,
          19.6305,
          0.8688,
          -19.0656,
          1.7248,
          -3.0396,
          -3.7680000000000002,
          -2.5248,
          -191.61900000000003,
          3.6784,
          -16.817999999999998,
          -1.8848,
          -470.548,
          6.0416,
          180.7659,
          3.7694,
          44.4704,
          -47.175,
          2.772,
          250.396,
          3.1536,
          137.264,
          14.2272,
          135.45600000000002,
          -33.6414,
          81.432,
          15.552,
          19.2556,
          35.6776,
          8.5845,
          -43.0296,
          -14.6388,
          0.5668,
          3.9004,
          5.6112,
          4.504,
          -24.9984,
          -4.5824,
          -164.83599999999998,
          3.968,
          -13.58,
          -169.637,
          27.9108,
          -8.4728,
          -14.5764,
          5.6376,
          69.965,
          3.405,
          0,
          -11.52,
          -173.3472,
          18.144000000000002,
          -6.21,
          49.9704,
          0.1744,
          6.465,
          -1.3608,
          2.14,
          -6.723,
          -13.6832,
          4.9616,
          -93.4724,
          77.7468,
          -67.137,
          -29.0073,
          -6.237,
          -39.804,
          -19.8144,
          3.6,
          241.1046,
          10.0744,
          41.013000000000005,
          20.4984,
          161.9919,
          -10.335999999999999,
          -110.0232,
          -14.1696,
          8.388,
          49.3938,
          61.3305,
          31.4975,
          10.35,
          -77.4732,
          -17.4432,
          0.2598,
          16.68,
          6.3296,
          24.843000000000004,
          35.0973,
          2.0358,
          3.4276,
          134.9955,
          39.6879,
          14.742,
          35.985,
          14.8365,
          -0.7566,
          378.274,
          6.7176,
          5.5216,
          3.21,
          -199.77,
          97.2032,
          7.79,
          -5.9409,
          3.6288,
          -3.6372,
          -13.392000000000001,
          -5.263999999999999,
          -6.21,
          13.572000000000001,
          -19.864,
          143.982,
          -1141.47,
          -1.3376,
          -15.9268,
          69.6546,
          41.5688,
          6.1992,
          -8.5794,
          -8.1822,
          3.5039999999999996,
          -3.6537,
          -81.3065,
          -13.3424,
          33.9065,
          9.5256,
          11.5136,
          -160.96,
          -4.5396,
          3.9424,
          5.6376,
          -119.2312,
          6.7536,
          -2.667,
          15.777000000000001,
          160.623,
          5.1552,
          0.7348,
          -2.544,
          -67.617,
          -13.167,
          0.3094,
          0,
          14.5152,
          6.2244,
          -36.1176,
          47.0351,
          3.7408,
          62.1544,
          54.7136,
          48.3336,
          3.753,
          117.432,
          9.352,
          10.465,
          4.752,
          54.0876,
          16.7875,
          -70.49,
          3.475,
          -32.985,
          -34.758,
          -153.2024,
          -0.6265,
          220.4853,
          751.7601,
          41.934,
          -12.8256,
          6.7048,
          -38.2158,
          3.6288,
          107.08200000000001,
          -20.4352,
          -131.7168,
          26.824,
          -27.791999999999998,
          143.9968,
          -2.6784,
          -538.446,
          -113.28200000000001,
          -45.294,
          17.9982,
          22.9885,
          10.8558,
          4.3524,
          -47.8716,
          37.495,
          -179.77599999999998,
          -24.398000000000003,
          3.7376,
          -1.9344,
          12.7008,
          29.364,
          -31.0335,
          -9.156,
          -2.838,
          -14.7708,
          -6.3018,
          -2.7648,
          -194.824,
          -99.2664,
          3.7752,
          2302.9671,
          12.3144,
          19.1376,
          102.774,
          24.9804,
          10.5728,
          3.4686,
          2.7354,
          21.42,
          146.388,
          -4.488,
          2.7192,
          -12.4146,
          4946.37,
          100.685,
          -4.8609,
          6.9368,
          6.8768,
          7.7832,
          67.188,
          18.8937,
          -251.1864,
          -136.4895,
          83.9944,
          181.65599999999998,
          11.732000000000001,
          13.2986,
          15.552,
          27.7158,
          3.7584,
          128.6805,
          5.319,
          -16.9568,
          -84.448,
          -51.29600000000001,
          -28.8678,
          33.5895,
          1.6776,
          11.7334,
          36.3972,
          -3.8208,
          -2.1376,
          -11.2806,
          95.1888,
          -4.4928,
          66.5088,
          12.376,
          32.4688,
          176.8026,
          0.7425,
          -393.602,
          -46.9952,
          38.7792,
          7.4655,
          3.4944,
          2.592,
          -24.7716,
          7.4872,
          -13.187999999999999,
          -2.3232,
          -6.4232,
          -12.5286,
          54.4448,
          15.2225,
          6.8724,
          4.4344,
          53.2704,
          24.393,
          2.5984,
          6.63,
          35.0973,
          53.982,
          43.2234,
          -11.0208,
          -84.9615,
          -0.9452,
          8.2848,
          24.4768,
          6.5058,
          -6.8992,
          -20.245,
          6.122999999999999,
          0.8856,
          5.4432,
          -2.2878,
          1.7248,
          4.7616,
          117.1296,
          46.7908,
          -2.9939999999999998,
          -5.688,
          -84.2928,
          -14.8704,
          3.7128,
          9.3312,
          1.0192,
          8.7138,
          5.6644,
          8.4656,
          2.3868,
          14.3075,
          2.5974,
          1.2348,
          156.047,
          2.64,
          -11.5872,
          -38.8212,
          -56.0592,
          -69.312,
          82.49700000000001,
          -16.2613,
          2.502,
          34.742,
          5.6994,
          16.146,
          138.417,
          1.9926,
          54.215,
          -61.872,
          -6.237,
          4.1125,
          -6.5076,
          -533.7325,
          1.8159999999999998,
          -137.976,
          9.63,
          19.08,
          350.42699999999996,
          5.346,
          2.0286,
          82.2906,
          31.188000000000002,
          11.3148,
          7.476,
          18.09,
          4.5837,
          20.6946,
          -13.895999999999999,
          -6.0196,
          544.4175,
          8.8088,
          36.4473,
          5.4432,
          -7.7406,
          0.9576,
          5.5616,
          -6.8634,
          13.32,
          -9.6565,
          19.1376,
          -114.0174,
          0.8909999999999999,
          35.6636,
          -1.5936,
          22.3888,
          -28.6862,
          -79.908,
          -4.497,
          13.9672,
          -43.9056,
          15.192,
          5.6784,
          -172.55700000000002,
          -9.88,
          -378.4,
          14.5152,
          -54.5496,
          -39.5118,
          -96.4704,
          3.3524,
          6.7482,
          38.9752,
          57.5016,
          78.9516,
          1.3316,
          29.4492,
          -17.469,
          -18.0588,
          240.8595,
          7.996,
          11.198,
          7.584,
          4.4312,
          72.8946,
          90.6444,
          -7.9634,
          -56.996,
          0.6679999999999999,
          3.465,
          26.901,
          -3701.8928,
          -10.0602,
          -26.8544,
          -26.945999999999998,
          -13.32,
          -12.09,
          -30.098000000000003,
          -8.5794,
          6.9986,
          -66.3916,
          21.024,
          -29.2524,
          1.6308,
          -31.008000000000003,
          -5.8869,
          -3.3792,
          95.9904,
          -2.5872,
          1.4442,
          -6.3,
          -26.2272,
          5.1792,
          -40.0036,
          9.9522,
          17.524,
          0.1008,
          1.3559999999999999,
          5.2528,
          2.5452,
          5.5566,
          70.312,
          8.532,
          32.6628,
          1.197,
          0,
          9.6914,
          48.4575,
          83.314,
          96.8544,
          27.608,
          38.455999999999996,
          22.4808,
          -6.9102,
          25.5968,
          6.2208,
          45.528,
          3.5048,
          4.6221,
          -143.431,
          -35.8176,
          28.7952,
          539.2464,
          793.716,
          15.9543,
          14.7593,
          8.69,
          23.7742,
          -67.6704,
          33.6042,
          16.7132,
          27.4344
         ]
        }
       ],
       "layout": {
        "hovermode": "closest",
        "template": {
         "data": {
          "bar": [
           {
            "error_x": {
             "color": "#2a3f5f"
            },
            "error_y": {
             "color": "#2a3f5f"
            },
            "marker": {
             "line": {
              "color": "#E5ECF6",
              "width": 0.5
             }
            },
            "type": "bar"
           }
          ],
          "barpolar": [
           {
            "marker": {
             "line": {
              "color": "#E5ECF6",
              "width": 0.5
             }
            },
            "type": "barpolar"
           }
          ],
          "carpet": [
           {
            "aaxis": {
             "endlinecolor": "#2a3f5f",
             "gridcolor": "white",
             "linecolor": "white",
             "minorgridcolor": "white",
             "startlinecolor": "#2a3f5f"
            },
            "baxis": {
             "endlinecolor": "#2a3f5f",
             "gridcolor": "white",
             "linecolor": "white",
             "minorgridcolor": "white",
             "startlinecolor": "#2a3f5f"
            },
            "type": "carpet"
           }
          ],
          "choropleth": [
           {
            "colorbar": {
             "outlinewidth": 0,
             "ticks": ""
            },
            "type": "choropleth"
           }
          ],
          "contour": [
           {
            "colorbar": {
             "outlinewidth": 0,
             "ticks": ""
            },
            "colorscale": [
             [
              0,
              "#0d0887"
             ],
             [
              0.1111111111111111,
              "#46039f"
             ],
             [
              0.2222222222222222,
              "#7201a8"
             ],
             [
              0.3333333333333333,
              "#9c179e"
             ],
             [
              0.4444444444444444,
              "#bd3786"
             ],
             [
              0.5555555555555556,
              "#d8576b"
             ],
             [
              0.6666666666666666,
              "#ed7953"
             ],
             [
              0.7777777777777778,
              "#fb9f3a"
             ],
             [
              0.8888888888888888,
              "#fdca26"
             ],
             [
              1,
              "#f0f921"
             ]
            ],
            "type": "contour"
           }
          ],
          "contourcarpet": [
           {
            "colorbar": {
             "outlinewidth": 0,
             "ticks": ""
            },
            "type": "contourcarpet"
           }
          ],
          "heatmap": [
           {
            "colorbar": {
             "outlinewidth": 0,
             "ticks": ""
            },
            "colorscale": [
             [
              0,
              "#0d0887"
             ],
             [
              0.1111111111111111,
              "#46039f"
             ],
             [
              0.2222222222222222,
              "#7201a8"
             ],
             [
              0.3333333333333333,
              "#9c179e"
             ],
             [
              0.4444444444444444,
              "#bd3786"
             ],
             [
              0.5555555555555556,
              "#d8576b"
             ],
             [
              0.6666666666666666,
              "#ed7953"
             ],
             [
              0.7777777777777778,
              "#fb9f3a"
             ],
             [
              0.8888888888888888,
              "#fdca26"
             ],
             [
              1,
              "#f0f921"
             ]
            ],
            "type": "heatmap"
           }
          ],
          "heatmapgl": [
           {
            "colorbar": {
             "outlinewidth": 0,
             "ticks": ""
            },
            "colorscale": [
             [
              0,
              "#0d0887"
             ],
             [
              0.1111111111111111,
              "#46039f"
             ],
             [
              0.2222222222222222,
              "#7201a8"
             ],
             [
              0.3333333333333333,
              "#9c179e"
             ],
             [
              0.4444444444444444,
              "#bd3786"
             ],
             [
              0.5555555555555556,
              "#d8576b"
             ],
             [
              0.6666666666666666,
              "#ed7953"
             ],
             [
              0.7777777777777778,
              "#fb9f3a"
             ],
             [
              0.8888888888888888,
              "#fdca26"
             ],
             [
              1,
              "#f0f921"
             ]
            ],
            "type": "heatmapgl"
           }
          ],
          "histogram": [
           {
            "marker": {
             "colorbar": {
              "outlinewidth": 0,
              "ticks": ""
             }
            },
            "type": "histogram"
           }
          ],
          "histogram2d": [
           {
            "colorbar": {
             "outlinewidth": 0,
             "ticks": ""
            },
            "colorscale": [
             [
              0,
              "#0d0887"
             ],
             [
              0.1111111111111111,
              "#46039f"
             ],
             [
              0.2222222222222222,
              "#7201a8"
             ],
             [
              0.3333333333333333,
              "#9c179e"
             ],
             [
              0.4444444444444444,
              "#bd3786"
             ],
             [
              0.5555555555555556,
              "#d8576b"
             ],
             [
              0.6666666666666666,
              "#ed7953"
             ],
             [
              0.7777777777777778,
              "#fb9f3a"
             ],
             [
              0.8888888888888888,
              "#fdca26"
             ],
             [
              1,
              "#f0f921"
             ]
            ],
            "type": "histogram2d"
           }
          ],
          "histogram2dcontour": [
           {
            "colorbar": {
             "outlinewidth": 0,
             "ticks": ""
            },
            "colorscale": [
             [
              0,
              "#0d0887"
             ],
             [
              0.1111111111111111,
              "#46039f"
             ],
             [
              0.2222222222222222,
              "#7201a8"
             ],
             [
              0.3333333333333333,
              "#9c179e"
             ],
             [
              0.4444444444444444,
              "#bd3786"
             ],
             [
              0.5555555555555556,
              "#d8576b"
             ],
             [
              0.6666666666666666,
              "#ed7953"
             ],
             [
              0.7777777777777778,
              "#fb9f3a"
             ],
             [
              0.8888888888888888,
              "#fdca26"
             ],
             [
              1,
              "#f0f921"
             ]
            ],
            "type": "histogram2dcontour"
           }
          ],
          "mesh3d": [
           {
            "colorbar": {
             "outlinewidth": 0,
             "ticks": ""
            },
            "type": "mesh3d"
           }
          ],
          "parcoords": [
           {
            "line": {
             "colorbar": {
              "outlinewidth": 0,
              "ticks": ""
             }
            },
            "type": "parcoords"
           }
          ],
          "pie": [
           {
            "automargin": true,
            "type": "pie"
           }
          ],
          "scatter": [
           {
            "marker": {
             "colorbar": {
              "outlinewidth": 0,
              "ticks": ""
             }
            },
            "type": "scatter"
           }
          ],
          "scatter3d": [
           {
            "line": {
             "colorbar": {
              "outlinewidth": 0,
              "ticks": ""
             }
            },
            "marker": {
             "colorbar": {
              "outlinewidth": 0,
              "ticks": ""
             }
            },
            "type": "scatter3d"
           }
          ],
          "scattercarpet": [
           {
            "marker": {
             "colorbar": {
              "outlinewidth": 0,
              "ticks": ""
             }
            },
            "type": "scattercarpet"
           }
          ],
          "scattergeo": [
           {
            "marker": {
             "colorbar": {
              "outlinewidth": 0,
              "ticks": ""
             }
            },
            "type": "scattergeo"
           }
          ],
          "scattergl": [
           {
            "marker": {
             "colorbar": {
              "outlinewidth": 0,
              "ticks": ""
             }
            },
            "type": "scattergl"
           }
          ],
          "scattermapbox": [
           {
            "marker": {
             "colorbar": {
              "outlinewidth": 0,
              "ticks": ""
             }
            },
            "type": "scattermapbox"
           }
          ],
          "scatterpolar": [
           {
            "marker": {
             "colorbar": {
              "outlinewidth": 0,
              "ticks": ""
             }
            },
            "type": "scatterpolar"
           }
          ],
          "scatterpolargl": [
           {
            "marker": {
             "colorbar": {
              "outlinewidth": 0,
              "ticks": ""
             }
            },
            "type": "scatterpolargl"
           }
          ],
          "scatterternary": [
           {
            "marker": {
             "colorbar": {
              "outlinewidth": 0,
              "ticks": ""
             }
            },
            "type": "scatterternary"
           }
          ],
          "surface": [
           {
            "colorbar": {
             "outlinewidth": 0,
             "ticks": ""
            },
            "colorscale": [
             [
              0,
              "#0d0887"
             ],
             [
              0.1111111111111111,
              "#46039f"
             ],
             [
              0.2222222222222222,
              "#7201a8"
             ],
             [
              0.3333333333333333,
              "#9c179e"
             ],
             [
              0.4444444444444444,
              "#bd3786"
             ],
             [
              0.5555555555555556,
              "#d8576b"
             ],
             [
              0.6666666666666666,
              "#ed7953"
             ],
             [
              0.7777777777777778,
              "#fb9f3a"
             ],
             [
              0.8888888888888888,
              "#fdca26"
             ],
             [
              1,
              "#f0f921"
             ]
            ],
            "type": "surface"
           }
          ],
          "table": [
           {
            "cells": {
             "fill": {
              "color": "#EBF0F8"
             },
             "line": {
              "color": "white"
             }
            },
            "header": {
             "fill": {
              "color": "#C8D4E3"
             },
             "line": {
              "color": "white"
             }
            },
            "type": "table"
           }
          ]
         },
         "layout": {
          "annotationdefaults": {
           "arrowcolor": "#2a3f5f",
           "arrowhead": 0,
           "arrowwidth": 1
          },
          "coloraxis": {
           "colorbar": {
            "outlinewidth": 0,
            "ticks": ""
           }
          },
          "colorscale": {
           "diverging": [
            [
             0,
             "#8e0152"
            ],
            [
             0.1,
             "#c51b7d"
            ],
            [
             0.2,
             "#de77ae"
            ],
            [
             0.3,
             "#f1b6da"
            ],
            [
             0.4,
             "#fde0ef"
            ],
            [
             0.5,
             "#f7f7f7"
            ],
            [
             0.6,
             "#e6f5d0"
            ],
            [
             0.7,
             "#b8e186"
            ],
            [
             0.8,
             "#7fbc41"
            ],
            [
             0.9,
             "#4d9221"
            ],
            [
             1,
             "#276419"
            ]
           ],
           "sequential": [
            [
             0,
             "#0d0887"
            ],
            [
             0.1111111111111111,
             "#46039f"
            ],
            [
             0.2222222222222222,
             "#7201a8"
            ],
            [
             0.3333333333333333,
             "#9c179e"
            ],
            [
             0.4444444444444444,
             "#bd3786"
            ],
            [
             0.5555555555555556,
             "#d8576b"
            ],
            [
             0.6666666666666666,
             "#ed7953"
            ],
            [
             0.7777777777777778,
             "#fb9f3a"
            ],
            [
             0.8888888888888888,
             "#fdca26"
            ],
            [
             1,
             "#f0f921"
            ]
           ],
           "sequentialminus": [
            [
             0,
             "#0d0887"
            ],
            [
             0.1111111111111111,
             "#46039f"
            ],
            [
             0.2222222222222222,
             "#7201a8"
            ],
            [
             0.3333333333333333,
             "#9c179e"
            ],
            [
             0.4444444444444444,
             "#bd3786"
            ],
            [
             0.5555555555555556,
             "#d8576b"
            ],
            [
             0.6666666666666666,
             "#ed7953"
            ],
            [
             0.7777777777777778,
             "#fb9f3a"
            ],
            [
             0.8888888888888888,
             "#fdca26"
            ],
            [
             1,
             "#f0f921"
            ]
           ]
          },
          "colorway": [
           "#636efa",
           "#EF553B",
           "#00cc96",
           "#ab63fa",
           "#FFA15A",
           "#19d3f3",
           "#FF6692",
           "#B6E880",
           "#FF97FF",
           "#FECB52"
          ],
          "font": {
           "color": "#2a3f5f"
          },
          "geo": {
           "bgcolor": "white",
           "lakecolor": "white",
           "landcolor": "#E5ECF6",
           "showlakes": true,
           "showland": true,
           "subunitcolor": "white"
          },
          "hoverlabel": {
           "align": "left"
          },
          "hovermode": "closest",
          "mapbox": {
           "style": "light"
          },
          "paper_bgcolor": "white",
          "plot_bgcolor": "#E5ECF6",
          "polar": {
           "angularaxis": {
            "gridcolor": "white",
            "linecolor": "white",
            "ticks": ""
           },
           "bgcolor": "#E5ECF6",
           "radialaxis": {
            "gridcolor": "white",
            "linecolor": "white",
            "ticks": ""
           }
          },
          "scene": {
           "xaxis": {
            "backgroundcolor": "#E5ECF6",
            "gridcolor": "white",
            "gridwidth": 2,
            "linecolor": "white",
            "showbackground": true,
            "ticks": "",
            "zerolinecolor": "white"
           },
           "yaxis": {
            "backgroundcolor": "#E5ECF6",
            "gridcolor": "white",
            "gridwidth": 2,
            "linecolor": "white",
            "showbackground": true,
            "ticks": "",
            "zerolinecolor": "white"
           },
           "zaxis": {
            "backgroundcolor": "#E5ECF6",
            "gridcolor": "white",
            "gridwidth": 2,
            "linecolor": "white",
            "showbackground": true,
            "ticks": "",
            "zerolinecolor": "white"
           }
          },
          "shapedefaults": {
           "line": {
            "color": "#2a3f5f"
           }
          },
          "ternary": {
           "aaxis": {
            "gridcolor": "white",
            "linecolor": "white",
            "ticks": ""
           },
           "baxis": {
            "gridcolor": "white",
            "linecolor": "white",
            "ticks": ""
           },
           "bgcolor": "#E5ECF6",
           "caxis": {
            "gridcolor": "white",
            "linecolor": "white",
            "ticks": ""
           }
          },
          "title": {
           "x": 0.05
          },
          "xaxis": {
           "automargin": true,
           "gridcolor": "white",
           "linecolor": "white",
           "ticks": "",
           "title": {
            "standoff": 15
           },
           "zerolinecolor": "white",
           "zerolinewidth": 2
          },
          "yaxis": {
           "automargin": true,
           "gridcolor": "white",
           "linecolor": "white",
           "ticks": "",
           "title": {
            "standoff": 15
           },
           "zerolinecolor": "white",
           "zerolinewidth": 2
          }
         }
        },
        "title": {
         "text": "Sales vs Profit Chart"
        },
        "xaxis": {
         "title": {
          "text": "Sales"
         }
        },
        "yaxis": {
         "title": {
          "text": "Profit in K"
         }
        }
       }
      },
      "text/html": [
       "<div>\n",
       "        \n",
       "        \n",
       "            <div id=\"fde8297e-de9b-4fa5-b555-25deadabd4a4\" class=\"plotly-graph-div\" style=\"height:525px; width:100%;\"></div>\n",
       "            <script type=\"text/javascript\">\n",
       "                require([\"plotly\"], function(Plotly) {\n",
       "                    window.PLOTLYENV=window.PLOTLYENV || {};\n",
       "                    \n",
       "                if (document.getElementById(\"fde8297e-de9b-4fa5-b555-25deadabd4a4\")) {\n",
       "                    Plotly.newPlot(\n",
       "                        'fde8297e-de9b-4fa5-b555-25deadabd4a4',\n",
       "                        [{\"mode\": \"markers\", \"type\": \"scatter\", \"x\": [68.81, 2.544, 665.88, 19.46, 60.34, 29.471999999999998, 1097.5439999999999, 190.92, 113.32799999999999, 532.3992, 212.058, 371.168, 147.168, 45.98, 17.46, 211.96, 38.22, 75.18, 6.16, 89.99, 213.115, 19.05, 1.248, 9.708, 27.24, 19.3, 230.37599999999998, 19.99, 6.16, 158.368, 12.96, 53.34, 32.96, 77.88, 64.624, 95.976, 1.788, 23.92, 339.96, 75.96, 27.24, 600.558, 617.7, 839.43, 384.45, 149.97, 1951.84, 171.55, 14.62, 944.93, 9.936, 8159.951999999999, 275.928, 1740.06, 32.064, 177.98, 143.976, 52.448, 20.16, 97.264, 24.816, 408.744, 37.224000000000004, 20.016, 66.28399999999999, 83.92, 131.98, 15.92, 52.29, 91.99, 20.8, 2.2, 622.45, 21.98, 25.92, 419.68, 11.687999999999999, 31.984, 177.225, 4.044, 7.4079999999999995, 2001.86, 166.72, 47.88, 1503.25, 25.92, 12.132, 82.368, 53.92, 647.904, 1.624, 3059.982, 2519.958, 328.224, 2.08, 1114.4, 219.075, 9.84, 88.8, 25.92, 53.424, 99.13600000000001, 8.652000000000001, 23.831999999999997, 12.175999999999998, 41.9, 12.462, 70.12, 35.952, 2396.2656, 131.136, 57.583999999999996, 28.4, 287.92, 6.672000000000001, 1007.9789999999999, 313.488, 31.872, 12.22, 194.94, 70.95, 91.36, 242.94, 22.05, 2.91, 63.88, 747.558, 8.927999999999999, 254.74400000000003, 205.3328, 4.788, 2735.952, 7.992000000000001, 63.983999999999995, 70.368, 126.3, 38.04, 18.392, 129.56799999999998, 14.112, 210.98, 42.61600000000001, 468.9, 58.111999999999995, 100.792, 66.112, 250.27200000000002, 11.364, 8.72, 10.824000000000002, 69.712, 8.792, 9.344, 31.2, 369.57599999999996, 15.712, 8.69, 301.96, 555.21, 523.48, 161.82, 18.84, 132.52, 209.3, 701.372, 2.3080000000000003, 999.432, 724.08, 918.785, 2.7239999999999998, 23.76, 85.056, 381.57599999999996, 23.976, 108.925, 36.352, 19.56, 61.44, 38.9, 99.39, 2.688, 27.816, 82.524, 182.99400000000003, 1652.94, 296.37, 17.567999999999998, 55.992, 11.784, 272.736, 3.54, 51.52, 3.528, 4.624, 55.168, 11.992, 58.05, 157.74, 56.98, 2.88, 24.56, 119.8, 22.72, 18.28, 207.0, 32.35, 7.71, 40.3, 34.58, 20.16, 28.4, 149.97, 51.84, 35.0, 37.24, 15.28, 51.184, 21.072, 31.4, 4.54, 15.92, 543.92, 15.648, 103.6, 10.44, 18.336, 323.976, 1199.8, 1928.78, 352.38, 46.94, 143.73, 99.91799999999999, 797.944, 8.568, 149.352, 12.992, 27.168000000000003, 78.8528, 3059.982, 34.02, 7.968, 27.968000000000004, 336.51, 1.112, 44.75, 95.984, 86.62, 697.16, 8.84, 58.464, 254.604, 107.772, 1.744, 40.88, 19.92, 1106.91, 6.48, 2.694, 2.9339999999999997, 100.704, 2.3280000000000003, 10.78, 58.368, 40.968, 71.96, 10.368, 1.192, 10.16, 101.88, 287.52, 37.68, 19.98, 20.58, 17.38, 644.076, 5.84, 12.76, 10.95, 599.98, 362.94, 11.54, 46.8, 22.38, 5.176, 258.69599999999997, 431.92800000000005, 95.984, 1088.792, 1099.96, 69.9, 41.85, 102.336, 48.792, 44.848, 10.368, 388.43, 14.352, 63.992, 86.352, 278.4, 2.772, 114.95, 419.944, 17.46, 1.08, 7.96, 93.78, 47.18, 19.68, 53.4, 35.88, 258.279, 220.77599999999998, 281.42400000000004, 1.9880000000000002, 83.95200000000001, 652.45, 66.645, 23.68, 946.3439999999999, 151.2, 4.928, 263.88, 2453.43, 1979.9279999999999, 164.736, 470.30199999999996, 47.983999999999995, 15.936, 159.984, 1024.7160000000001, 872.94, 41.54, 12.96, 6.688, 10.192, 16.784000000000002, 13.12, 16.055999999999997, 223.05599999999998, 540.048, 34.5, 200.06400000000002, 21.38, 6.744, 16.52, 335.52, 23.912, 27.055999999999997, 9.324, 21.56, 21.48, 8.783999999999999, 40.68, 763.28, 23.951999999999998, 33.488, 8.04, 359.05800000000005, 16.896, 6.672000000000001, 99.13600000000001, 15.992, 3.75, 41.4, 29.79, 12.624, 34.79, 41.92, 297.57599999999996, 4.343999999999999, 94.992, 74.352, 14.04, 16.68, 167.968, 21.936, 6.587999999999999, 33.45, 10.4, 13.616, 14.304, 765.625, 159.984, 255.968, 359.05800000000005, 338.04, 154.24, 10.368, 6.24, 206.96200000000002, 360.712, 1718.4, 41.568000000000005, 46.864, 6.976, 12.222000000000001, 97.984, 62.4, 219.84, 98.16, 33.04, 86.97, 134.97, 699.98, 139.95, 2807.84, 46.64, 60.416000000000004, 107.94, 11.168, 53.952, 69.93, 16.156, 54.816, 75.6, 29.32, 92.064, 6.976, 62.958, 5.184, 1439.92, 262.11, 1439.9820000000002, 36.288000000000004, 40.096, 40.784, 34.76, 831.2, 26.4, 106.75, 97.82, 141.4, 127.92, 34.24, 49.632, 470.376, 6.0, 1793.98, 14.78, 909.12, 273.89599999999996, 597.132, 299.9, 863.64, 47.61600000000001, 47.36, 27.44, 3.24, 95.96799999999999, 10.368, 16.2, 33.99, 296.85, 112.8, 13.71, 24.9, 286.29, 24.18, 291.96, 6.4079999999999995, 408.744, 5.104, 2.8960000000000004, 35.016, 479.96, 17.22, 1024.38, 26.22, 17.34, 294.62, 8.752, 11.364, 29.68, 47.53, 183.372, 159.984, 46.343999999999994, 9.392000000000001, 9.328, 8.26, 269.97, 15.552, 17.31, 199.95, 1586.69, 84.99, 411.8, 23.68, 479.9, 0.8759999999999999, 241.96, 27.72, 14.76, 3.656, 233.058, 111.79, 22.608, 501.81, 161.94, 8.808, 191.976, 8.288, 139.92, 15.872, 6.2860000000000005, 305.312, 9.264, 61.792, 70.08, 121.3, 1454.49, 29.932, 38.272, 167.292, 2.8960000000000004, 124.792, 526.45, 228.92, 190.86, 24.32, 44.4, 23.92, 60.69, 12.72, 11.52, 141.372, 27.215999999999998, 14.62, 416.32, 43.0, 182.94, 60.83, 389.97, 277.4, 5.78, 123.552, 490.32, 70.08, 1.272, 557.585, 60.288000000000004, 2.6319999999999997, 23.688000000000002, 253.372, 94.2, 28.4, 956.6648, 754.45, 230.37599999999998, 9.664, 1.344, 8.272, 12.544, 54.368, 11.184000000000001, 153.584, 300.93, 719.96, 647.84, 12.224, 2.3040000000000003, 9.36, 32.784, 1117.92, 95.96799999999999, 47.992, 604.656, 20.16, 29.46, 868.59, 12.96, 5.5, 121.6, 42.048, 25.488000000000003, 6.9, 9.648, 7.968, 51.711999999999996, 2.912, 1399.944, 526.45, 6.608, 14.136, 601.47, 180.96, 914.97, 587.97, 530.34, 14.94, 24.671999999999997, 2.52, 1218.735, 5.904, 15.696, 6.096, 25.92, 14.94, 186.048, 57.69, 42.81, 12.96, 821.88, 104.85, 8.76, 79.512, 28.351999999999997, 14.4, 619.95, 89.52, 350.973, 164.99, 3.98, 5.247999999999999, 23.976, 27.168000000000003, 32.192, 50.12, 47.976000000000006, 54.5, 49.44, 22.0, 257.98, 58.36, 16.464000000000002, 39.96, 25.96, 36.27, 6.48, 47.516000000000005, 179.82, 185.58, 214.11, 999.96, 653.55, 8.927999999999999, 47.583999999999996, 33.792, 300.5328, 2.7239999999999998, 3.264, 143.72799999999998, 845.488, 762.5939999999999, 28.16, 20.23, 8.85, 408.42199999999997, 23.12, 37.464, 539.658, 8.56, 52.4, 14.94, 135.72, 12.56, 263.96, 5.952000000000001, 3.8819999999999997, 6.08, 8.64, 19.76, 90.99, 1526.56, 368.97, 32.952, 30.016, 10.8, 244.00599999999997, 15.936, 895.92, 19.0, 91.68, 727.296, 22.608, 666.4, 327.7328, 194.32, 25.99, 13.9, 26.38, 517.9, 5.28, 2799.96, 26.88, 342.86400000000003, 16.74, 981.372, 252.78400000000002, 127.984, 3.984, 12.992, 31.68, 10.368, 12.032, 5.768, 33.12, 220.2656, 15.712, 298.464, 21.93, 242.94, 7.64, 51.84, 265.17, 30.56, 77.952, 67.992, 12.224, 44.784, 22.848000000000003, 210.392, 347.80199999999996, 735.98, 5.18, 67.0, 3.168, 528.43, 13.392000000000001, 181.86, 26.046, 74.352, 12.672, 6.37, 3.648, 31.104, 13.392000000000001, 11.228, 207.24, 26.046, 2.8960000000000004, 32.544000000000004, 318.43, 122.92, 7.068, 13.468, 219.8, 317.058, 24.85, 7.056, 27.184, 3.136, 20.736, 2.97, 6.54, 18.24, 27.78, 6.56, 13.11, 11.68, 30.96, 12.984000000000002, 217.584, 328.776, 2.286, 47.983999999999995, 341.96, 896.99, 1.234, 67.56, 21.72, 262.336, 148.48, 241.176, 227.976, 52.68, 2.032, 16.03, 73.008, 3.208, 26.176, 9.552, 10.368, 14.352, 1287.45, 111.67200000000001, 13.776, 10.272, 6.848, 6.928, 443.92, 169.99, 25.92, 22.288, 65.42399999999999, 1.81, 8.26, 15.24, 1408.1, 15.08, 24.288, 16.192, 251.00599999999997, 54.192, 492.76800000000003, 180.98, 99.98, 34.95, 152.0, 408.42199999999997, 382.116, 68.6, 435.504, 11.168, 72.0, 655.9, 603.92, 10.368, 95.736, 201.584, 3.392, 193.0656, 15.552, 11.648, 418.8, 509.48800000000006, 825.174, 17.76, 6.912000000000001, 796.425, 40.46, 404.94, 657.552, 21.4, 28.671999999999997, 29.311999999999998, 45.528, 844.1160000000001, 812.7360000000001, 1577.94, 15.008, 5.184, 104.85, 3.9, 801.96, 191.96, 2.61, 2.92, 58.416000000000004, 718.1160000000001, 31.776, 104.88, 34.7, 33.72, 14.94, 638.73, 377.97, 23.831999999999997, 6.367999999999999, 34.176, 5.544, 23.55, 33.4, 35.711999999999996, 7.056, 10.9, 59.98, 61.928999999999995, 42.784, 563.43, 241.96, 8.52, 1.788, 99.37200000000001, 1.344, 119.96, 273.96, 3.912, 62.376000000000005, 29.05, 25.06, 19.824, 107.44, 1458.65, 26.64, 476.8, 87.444, 501.81, 85.96, 33.568000000000005, 3.5639999999999996, 823.96, 10.272, 480.96, 124.792, 151.96, 155.34, 49.632, 52.096000000000004, 12.128, 134.85, 279.944, 9.98, 3.552, 15.552, 2.3680000000000003, 10.368, 470.376, 359.976, 25.344, 26.72, 241.332, 5.184, 145.54399999999998, 28.752, 27.215999999999998, 197.372, 1424.9, 6.367999999999999, 48.848, 19.648, 255.108, 5.47, 79.36, 38.28, 149.95, 5.728, 42.24, 79.36, 512.94, 860.93, 769.95, 14.98, 373.08, 637.896, 287.91, 36.6, 17.12, 29.664, 9.184, 153.584, 12.864, 24.816, 9.156, 23.991999999999997, 646.2, 68.112, 13.14, 10.024, 156.3728, 999.98, 821.94, 7.04, 5.04, 116.28, 182.99400000000003, 10.272, 32.4, 404.9, 9449.95, 12.94, 2.2640000000000002, 0.444, 146.17600000000002, 15.92, 4.312, 73.98, 160.98, 17.34, 3.28, 8.856, 158.376, 14.48, 6.9239999999999995, 18.9, 57.42, 9.762, 13.72, 55.2, 259.13599999999997, 15.696, 4.24, 6.874, 1.996, 8.927999999999999, 9.99, 21.12, 15.984000000000002, 128.4, 1.964, 94.428, 45.92, 22.48, 332.028, 11.394, 15.552, 31.104, 6.316, 11.415999999999999, 209.7, 63.312, 96.78399999999999, 10.475999999999999, 63.96, 863.128, 3.5639999999999996, 956.6648, 12.588, 171.96, 48.632, 3.69, 1103.97, 246.1328, 11.696, 439.99199999999996, 33.28, 14.088, 59.751999999999995, 16.28, 10.368, 77.72, 520.464, 131.94, 25.92, 704.76, 7.41, 21.5, 10.527999999999999, 20.544, 104.9, 39.68, 51.75, 11.68, 159.75, 2.88, 384.944, 153.584, 913.43, 70.368, 59.96, 9.08, 314.55, 4.91, 478.24, 40.92, 1805.88, 2.182, 27.384, 26.406, 10.368, 23.68, 109.95, 965.85, 29.2, 32.4, 78.35, 31.68, 29.12, 169.45, 333.09, 248.98, 16.27, 69.12, 4.47, 25.92, 21.311999999999998, 37.3, 81.96, 10.784, 36.44, 62.31, 20.32, 2.296, 5.936, 325.86, 383.60699999999997, 148.48, 537.544, 1.9280000000000002, 6.912000000000001, 7.76, 659.168, 56.82, 49.568000000000005, 127.869, 10.475999999999999, 21.24, 127.96, 657.93, 33.48, 13.9, 26.86, 21.81, 91.6, 62.79, 28.44, 134.376, 17.14, 45.248000000000005, 11.06, 623.4648, 772.68, 283.14, 635.96, 118.99, 272.94, 440.91, 29.52, 302.94, 142.36, 546.66, 212.13, 5.247999999999999, 74.416, 6.848, 7.996, 8.712, 36.288000000000004, 56.568000000000005, 268.935, 15.575999999999999, 7.9, 221.16, 127.96, 18.69, 22.368000000000002, 43.372, 113.52, 359.88, 6.4639999999999995, 11.52, 222.38400000000001, 683.1439999999999, 1.476, 40.711999999999996, 279.9, 195.64, 239.9, 463.24800000000005, 383.952, 245.88, 36.63, 22.58, 12.39, 10.192, 758.352, 1.824, 18.32, 48.816, 1.188, 114.2, 674.058, 67.14399999999999, 254.058, 2.296, 91.275, 375.34, 12.96, 2.512, 18.864, 20.568, 4.356, 19.04, 1889.99, 714.3, 33.48, 461.97, 137.62, 302.67, 239.976, 687.4, 239.96, 8.134, 79.984, 398.4, 7.056, 1352.3976, 43.98, 377.97, 123.96, 549.99, 167.535, 38.34, 53.88, 299.98, 744.1, 44.84, 401.59, 18.24, 5.792000000000001, 14.015999999999998, 214.95, 35.04, 10.776, 4.6, 35.168, 4.448, 5.184, 15.552, 17.496, 15.552, 30.36, 28.4, 212.94, 1001.584, 569.058, 14.224, 301.96, 3.9, 12.84, 15.84, 563.94, 62.94, 535.41, 3504.9, 144.12, 314.55, 2.072, 328.3992, 199.96, 1516.2, 167.952, 45.04, 3930.072, 2.3040000000000003, 431.976, 41.72, 17.48, 498.26, 212.94, 706.86, 114.95, 43.19, 54.96, 3.318, 20.768, 10.56, 196.77599999999998, 2.92, 200.795, 46.688, 21.864, 340.116, 13.48, 85.52, 6.16, 36.84, 17.904, 966.7, 182.112, 50.4, 89.568, 37.296, 8.544, 191.058, 13.04, 1525.1879999999999, 15.96, 31.92, 1.632, 267.96, 32.34, 39.9, 143.856, 41.92, 329.584, 720.76, 70.56, 81.96, 151.192, 273.96, 306.9, 15.552, 347.361, 10.368, 25.92, 15.808, 10.368, 224.75, 73.176, 20.736, 39.984, 15.36, 36.288000000000004, 150.384, 20.936, 357.93, 57.4, 331.96, 40.56, 38.016, 16.176, 750.68, 44.4, 84.55, 17.94, 3.592, 18.16, 56.70399999999999, 11.12, 115.296, 2479.96, 17.43, 181.986, 1.5919999999999999, 22.344, 2.6719999999999997, 16.656, 79.512, 36.288000000000004, 67.9932, 19.456, 209.986, 29.76, 89.76799999999999, 959.9839999999999, 15.552, 34.36, 14.16, 79.92, 499.95, 3.04, 201.96, 68.64, 152.8, 60.84, 15.84, 8.448, 38.976, 20.44, 109.92, 6.38, 6.48, 275.058, 27.396, 13.456, 11.84, 36.792, 619.95, 29.16, 57.96, 29.403000000000002, 81.4, 331.536, 946.3439999999999, 178.11, 1089.75, 61.06, 459.92, 27.52, 355.455, 3.16, 1999.96, 60.144, 85.2, 599.99, 23.968000000000004, 421.37199999999996, 575.9680000000001, 10.368, 61.792, 205.9992, 581.96, 29.98, 715.64, 795.51, 549.99, 74.76, 29.22, 33.488, 23.04, 1.3619999999999999, 14.76, 127.95, 38.431999999999995, 21.568, 81.57600000000001, 71.12, 259.96, 95.992, 13.216, 25.9, 20.736, 360.38, 13.56, 429.9, 32.06, 161.96, 19.86, 7.08, 19.567999999999998, 310.392, 692.94, 173.488, 57.75, 272.4, 2.068, 83.84, 152.688, 3.488, 5.888, 151.056, 25.16, 6.216, 23.616, 24.031999999999996, 2.088, 4.488, 19.432000000000002, 65.44, 6.0, 1.9080000000000001, 61.568000000000005, 20.96, 27.695999999999998, 73.164, 20.07, 81.54, 167.28, 117.456, 26.7, 21.2, 838.38, 383.84, 25.92, 6.33, 75.88, 63.77, 50.97, 96.08, 1439.9679999999998, 43.56, 51.016000000000005, 25.248, 56.68600000000001, 125.7, 191.98, 20.86, 88.77600000000001, 30.32, 43.41, 6.24, 465.16, 7.98, 2.394, 9.856, 11.36, 442.37199999999996, 28.85, 116.31200000000001, 24.588, 13.984000000000002, 195.96, 74.352, 151.92, 196.62, 144.12, 15.96, 15.28, 13.98, 272.94, 19.05, 247.71599999999998, 66.58, 43.92, 14.73, 29.7, 108.4, 38.08, 32.784, 47.983999999999995, 62.592, 4.276, 10.56, 229.94, 5.247999999999999, 899.43, 46.2, 47.952, 7.992000000000001, 76.86399999999999, 21.96, 368.97, 12.39, 332.94, 23.52, 180.96, 974.988, 7.104, 103.5, 2.464, 8.72, 158.376, 3.44, 131.98, 114.52, 100.24, 24.0, 15.552, 26.176, 5.303999999999999, 5443.96, 302.67, 56.07, 6.936, 4.428, 8.8, 142.8, 399.95, 634.116, 17.472, 155.88, 319.968, 505.32, 3.8080000000000003, 8.682, 24.424, 33.62, 243.99200000000002, 7.12, 2.688, 317.058, 149.352, 227.976, 125.93, 32.4, 209.94, 4164.05, 212.94, 102.43799999999999, 199.304, 54.48, 125.88, 79.78, 133.2, 42.61600000000001, 319.98400000000004, 45.92, 21.184, 20.736, 213.43, 219.84, 10.92, 83.9, 19.75, 393.54, 3.6, 180.016, 41.552, 13.12, 12.16, 17.52, 155.88, 47.97, 266.35200000000003, 56.328, 39.264, 95.23200000000001, 177.2, 102.624, 359.772, 13.392000000000001, 29.24, 35.168, 1362.9, 317.058, 15.76, 14.56, 93.456, 21.488000000000003, 239.976, 34.504, 20.104, 3.798, 7.88, 98.376, 22.38, 1.68, 7.968, 113.37200000000001, 2.96, 32.48, 17499.95, 735.98, 34.37, 33.96, 8.016, 76.86399999999999, 1565.88, 106.05, 10.368, 11.952, 10.78, 119.976, 131.376, 5.343999999999999, 2567.84, 602.651, 7.656000000000001, 16.0, 5.587999999999999, 235.92, 41.28, 132.16, 17.904, 124.03200000000001, 95.976, 84.272, 36.544000000000004, 221.024, 128.058, 479.98800000000006, 31.744, 24.1, 8.78, 376.74, 29.52, 11.96, 26.4, 1.392, 13.84, 175.872, 366.744, 5.184, 8.544, 33.9, 9.248, 1.964, 82.656, 9.248, 4.448, 5.184, 175.92, 4.752, 13.344000000000001, 479.952, 19.648, 257.94, 1879.96, 27.46, 89.98, 828.6, 113.52, 135.3, 971.88, 53.088, 222.38400000000001, 16.0, 143.96, 2399.96, 74.352, 87.16799999999999, 32.232, 5.5520000000000005, 8.016, 74.592, 16.784000000000002, 38.864000000000004, 8.736, 16.4, 25.92, 40.68, 68.52, 364.74, 47.4, 49.76, 5.56, 629.1, 14.7, 45.36, 125.99, 155.372, 3.036, 6.9, 57.69, 559.71, 37.84, 5.472, 292.1, 8.544, 424.116, 2.892, 381.72, 890.841, 64.75, 286.4, 8.904, 100.8, 22.752, 176.77200000000002, 38.82, 21.9, 116.4, 257.98, 54.336000000000006, 40.74, 14.4, 149.95, 16.9, 17.61, 378.0, 17.64, 373.08, 1336.44, 29.97, 35.856, 23.84, 11.52, 85.24600000000001, 32.711999999999996, 10.687999999999999, 237.09599999999998, 5.184, 65.584, 22.2, 419.4, 9.912, 318.43, 5.8, 1415.76, 148.48, 9.248, 1036.624, 13.568, 2.48, 25.9, 10.272, 512.19, 1.556, 12.175999999999998, 13.592, 719.952, 755.944, 11.98, 0.898, 21.204, 158.28, 497.94, 198.74400000000003, 47.976000000000006, 20.736, 563.94, 128.744, 146.86, 36.56, 25.176, 5.584, 1297.368, 264.32, 9.54, 5.81, 5.76, 850.5, 75.33, 335.72, 251.94400000000002, 127.302, 119.448, 118.16, 53.9, 76.72800000000001, 10.43, 186.732, 3812.97, 1568.61, 17.3, 160.0, 163.96, 5.232, 11.56, 209.97, 447.84, 479.97, 8.64, 179.886, 17.855999999999998, 114.848, 10.687999999999999, 25.488000000000003, 15.552, 10.368, 8.568, 2.89, 7.896, 22.608, 30.528000000000002, 1.8, 39.984, 307.168, 508.76800000000003, 9.912, 19.136, 6.12, 1184.72, 124.404, 16.192, 18.936, 12.672, 5.04, 8.448, 20.387999999999998, 242.176, 76.64, 4.4639999999999995, 3.96, 30.344, 30.384, 298.116, 39.582, 44.688, 31.744, 40.98, 3.168, 18.84, 362.25, 63.552, 129.55200000000002, 16.448, 15.12, 7.872000000000001, 25.2, 37.59, 14.97, 1.98, 263.96, 541.24, 106.32, 1323.9, 83.9, 11.76, 4.992, 87.92, 657.93, 1.044, 106.08, 23.076, 25.92, 47.952, 0.9840000000000001, 75.384, 4.6080000000000005, 454.56, 141.42, 310.744, 12.735999999999999, 6.47, 13.748, 15.224, 89.0664, 175.44, 438.336, 55.583999999999996, 127.38600000000001, 248.43, 11.648, 85.24600000000001, 20.64, 33.29, 526.344, 2.9339999999999997, 18.528, 670.752, 64.96, 72.78, 471.9, 3.52, 10.68, 141.96, 16.032, 156.512, 22.608, 1.892, 63.312, 7.824, 170.072, 10.43, 72.78399999999999, 44.46, 314.08799999999997, 4.343999999999999, 31.776, 4.928, 1.788, 15.072000000000001, 12.624, 70.97, 36.784, 11.212, 4.712, 180.98, 60.416000000000004, 368.91, 8.02, 171.04, 69.375, 31.68, 2003.168, 9.344, 600.53, 59.903999999999996, 637.44, 51.756, 180.96, 32.4, 41.86, 77.56, 137.352, 376.509, 512.3580000000001, 3.488, 22.288, 16.032, 45.04, 15.624, 2.864, 94.19200000000001, 31.744, 5.432, 913.43, 372.144, 4.984, 64.78399999999999, 15.552, 223.888, 10.895999999999999, 241.5, 7.68, 933.408, 51.84, 165.6, 106.32, 4.36, 129.3, 6.047999999999999, 6.848, 9.96, 8.552, 49.61600000000001, 344.37199999999996, 1554.9360000000001, 127.88, 106.869, 3.5639999999999996, 25.68, 12.384, 7.5, 2678.94, 35.98, 83.7, 60.736000000000004, 479.976, 6.08, 366.744, 8.856, 27.96, 146.352, 175.23, 125.99, 23.0, 73.78399999999999, 30.336, 12.99, 33.36, 13.76, 496.86, 389.97, 6.263999999999999, 14.432, 719.9760000000001, 453.57599999999996, 45.36, 287.88, 131.88, 2.3280000000000003, 1454.9, 67.176, 15.232000000000001, 10.272, 998.85, 607.52, 31.16, 10.332, 10.368, 20.784000000000002, 66.96, 30.08, 165.6, 180.96, 30.56, 399.95, 760.98, 0.836, 21.968000000000004, 619.1519999999999, 127.904, 18.368, 600.558, 50.352, 28.031999999999996, 7.692, 517.405, 8.607999999999999, 159.56, 19.44, 115.13600000000001, 64.384, 6.984, 11.264000000000001, 15.552, 379.37199999999996, 67.536, 1.524, 52.59, 535.41, 10.74, 5.343999999999999, 1.696, 24.588, 7.98, 3.536, 528.43, 41.472, 55.328, 1227.9984, 537.544, 10.687999999999999, 221.98, 341.96, 207.144, 13.9, 335.52, 26.72, 33.488, 10.56, 386.34, 67.15, 493.43, 11.12, 21.99, 185.37599999999998, 58.924, 50.12, 449.97, 1927.59, 489.23, 32.064, 18.496, 191.079, 10.368, 856.6560000000001, 13.184000000000001, 48.784, 76.64, 18.528, 1439.9679999999998, 1.7280000000000002, 626.1, 609.98, 211.372, 239.976, 99.95, 29.34, 16.74, 239.358, 299.96, 67.84, 853.93, 18.688, 1.248, 36.288000000000004, 78.304, 127.785, 6.104, 1.72, 8.952, 2.334, 1.7280000000000002, 159.04, 145.98, 9.68, 4899.93, 35.184, 56.70399999999999, 274.064, 92.52, 37.76, 7.38, 5.82, 100.8, 487.96, 2.992, 108.76799999999999, 55.176, 9892.74, 322.192, 2.946, 19.136, 24.56, 16.56, 279.95, 89.97, 93.03200000000001, 454.965, 299.98, 403.68, 41.9, 28.91, 32.4, 369.54400000000004, 10.368, 791.88, 23.64, 84.78399999999999, 64.96, 32.06, 177.648, 287.91, 22.368000000000002, 32.368, 207.984, 9.552, 5.343999999999999, 50.136, 475.944, 2.8080000000000003, 138.56, 65.52, 405.86, 680.01, 2.376, 143.128, 29.372, 344.704, 39.816, 7.28, 5.4, 13.762, 15.28, 7.5360000000000005, 1.4080000000000001, 4.144, 52.751999999999995, 115.84, 60.89, 14.94, 9.64, 332.94, 51.9, 64.96, 25.5, 389.97, 269.91, 392.94, 6.888, 457.485, 0.556, 41.424, 244.768, 74.352, 4.312, 56.68600000000001, 97.96799999999999, 7.872000000000001, 15.552, 1.476, 4.928, 63.488, 418.32, 123.85799999999999, 47.903999999999996, 11.376, 66.112, 520.464, 11.424000000000001, 19.44, 3.64, 18.54, 11.56, 32.56, 7.072, 228.92, 7.992000000000001, 14.112, 574.91, 8.448, 6.816, 15.224, 21.984, 1212.96, 1099.96, 103.48100000000001, 22.24, 95.84, 12.39, 35.88, 477.3, 5.904, 173.488, 51.56, 3.5639999999999996, 13.16, 3.8280000000000003, 304.99, 18.16, 781.8639999999999, 30.816, 38.16, 1592.85, 11.88, 4.41, 167.94, 67.8, 26.94, 26.7, 40.2, 13.89, 689.82, 9.264, 204.6664, 1649.75, 54.208, 323.976, 15.552, 32.592, 12.767999999999999, 55.61600000000001, 8.856, 35.52, 6.23, 56.70399999999999, 369.1992, 1.98, 75.88, 5.312, 79.96, 105.686, 399.54, 104.93, 53.72, 195.136, 121.536, 17.472, 104.58, 24.7, 302.72, 41.472, 21.392, 307.314, 409.9992, 9.248, 14.67, 90.64, 221.16, 281.97, 26.631999999999998, 64.02, 11.645999999999999, 613.9992, 491.55, 79.96, 223.96, 18.96, 12.224, 269.98, 268.57599999999996, 10.984000000000002, 797.944, 5.343999999999999, 27.72, 54.9, 2177.584, 17.496, 16.784000000000002, 431.13599999999997, 8.88, 4.836, 1023.332, 600.558, 39.992, 211.24599999999998, 56.06399999999999, 107.772, 4.832, 18.24, 3.798, 2.112, 319.968, 8.624, 3.984, 14.0, 16.392, 15.936, 61.544, 132.696, 67.4, 2.52, 67.8, 18.76, 12.12, 11.34, 159.8, 18.96, 290.336, 19.152, 5.94, 20.62, 124.25, 297.55, 403.56, 95.2, 153.82399999999998, 62.016000000000005, 25.128, 127.984, 12.96, 94.85, 13.48, 14.91, 528.43, 22.386, 191.968, 1925.88, 2405.2, 83.97, 39.89, 17.38, 65.584, 383.4656, 99.568, 35.56, 97.98], \"y\": [-123.85799999999999, -3.8160000000000003, 13.3176, 5.0596, 15.6884, 9.9468, 123.4737, -147.963, 35.415, -46.9764, -15.147, 41.7564, 16.5564, 19.7714, 8.2062, 8.4784, 17.9634, 35.3346, 2.9568, 17.0981, -15.2225, 8.763, -1.9344, -5.8248, 2.7239999999999998, -14.475, -48.9549, 6.7966, 2.9568, 13.8572, 6.2208, 16.5354, 16.1504, 22.5852, 22.6184, -10.7973, -3.0396, 11.7208, 67.992, 22.788, 13.3476, -8.5794, -407.68199999999996, 218.2518, 103.8015, 5.9988, 585.552, 80.6285, 6.8714, 236.2325, 2.7324, -1359.9920000000002, -58.6347, -24.858, 6.8136, -453.849, 8.9985, -131.12, 6.5520000000000005, -243.16, 1.8612, 76.6395, 3.7224, 6.255, -178.9668, 5.8744, 35.6346, 7.4824, 16.2099, 3.6796, 6.5, 0.968, 136.939, 0.2198, 9.396, -356.728, -4.6752, 11.1944, -120.51299999999999, -2.8308, 1.2038, 580.5394, 41.68, 23.94, 496.0725, 12.4416, -8.4924, -19.5624, 4.044, 56.6916, -4.466, -509.99699999999996, -251.9958, 28.7196, -3.432, 376.11, -131.445, 2.8536, -2.22, 9.396, 4.6746, 30.98, -20.3322, 2.6811, -18.8728, 8.799, -20.5623, 21.035999999999998, 3.5952, -317.1528, -32.784, 0.7198, 11.075999999999999, 138.2016, 0.5004, 43.1991, 113.6394, 11.5536, 3.6660000000000004, 23.3928, 20.5755, 42.0256, 29.1528, 10.584000000000001, 1.3677, 24.9132, -96.1146, 3.3480000000000003, -312.0614, -36.2352, -7.9002, 341.994, 0.5994, 10.3974, 6.1572, 40.416, 12.1728, 5.2877, -25.9136, -21.168000000000003, 21.098000000000003, -68.1856, 206.31599999999997, 7.263999999999999, 6.2995, -84.2928, 15.642000000000001, -17.046, -1.744, 2.5707, 8.714, -5.7148, 1.168, 9.75, 41.5773, 5.6956, -14.773, 87.5684, 178.90099999999998, 130.87, 46.9278, 6.0288, 54.3332, 56.511, -50.098, -3.4619999999999997, 124.929, -135.765, -118.1295, -4.2222, 2.079, 28.7064, 28.6182, -14.3856, -71.8905, 11.36, 1.7115, 16.5888, 17.505, 40.7499, -7.392, 4.5201, -41.262, -320.2395, 231.4116, 80.0199, 6.3684, 5.5992, 4.2717, -64.7748, -5.487, -10.948, 1.1466, 1.6762, 6.2064, 0.8994, 26.703000000000003, 56.7864, 22.791999999999998, 1.4112, 6.8768, 47.92, 10.224, 9.14, 51.75, 16.175, 3.4695, 10.880999999999998, 14.5236, 9.8784, 11.075999999999999, 50.9898, 24.8832, 16.8, 10.7996, 7.4872, -79.3352, 1.5804, 10.048, 2.043, 5.4128, 135.98, 5.0856, 51.8, 3.3930000000000002, -32.088, 20.2485, 323.94599999999997, 829.3754, 81.0474, 19.2454, 56.0547, -18.5562, -56.996, -14.5656, 50.4063, -0.812, 2.7168, -11.595999999999998, 679.9960000000001, 16.6698, 2.5896, 9.4392, 44.868, -1.8904, 20.585, 5.999, 8.662, 146.4036, 2.9835, -146.16, -18.186, -29.2524, -0.3488, 10.6288, 9.3624, 121.7601, 3.1104, -4.7145, -4.9878, -16.3644, -0.7566, -17.248, 21.888, 13.8267, 25.186, 3.6288, -2.0264, 2.6416, 50.94, 129.384, 10.5504, 8.991, 5.5566, 8.69, 107.346, 2.628, 5.8696, 0.43799999999999994, 209.993, 90.735, 5.77, 21.06, 10.7424, -7.763999999999999, 64.67399999999999, 64.7892, -4.1136, -1850.9464, 285.9896, 18.873, 10.880999999999998, -12.792, -126.8592, -67.27199999999999, 3.6288, -88.78399999999999, 5.2026, -7.1991, 5.397, 80.736, -4.851, 2.299, 52.493, -30.555, -1.7280000000000002, -13.93, 36.5742, 23.59, 5.7072, 25.098000000000003, 17.2224, -70.1043, -44.1552, -35.178000000000004, -1.4413, -90.2484, -430.61699999999996, -42.6528, 8.88, 118.29299999999999, 32.13, -1.4784, 42.8805, -350.49, 148.4946, -39.1248, -87.3418, 5.997999999999999, 5.1792, 43.9956, -29.2776, 226.9644, 19.5238, 6.2208, -4.0128, 3.185, -0.2098, 3.772, 5.8203, 69.705, -47.2542, 15.525, 12.504000000000001, -33.139, -11.4648, 2.065, 117.432, -40.6504, 2.3674, -24.7086, 10.3488, -0.2685, -13.6152, -9.152999999999999, -21.808000000000003, 2.3952, 5.8604, 2.9145, -35.9058, 5.28, 0.5004, 8.6744, -13.993, 1.8, 19.872, 12.5118, 3.945, 10.7849, 3.668, -7.4394, 0.8688, -2.3748, 23.235, 1.5795, 5.2125, 62.988, -10.4196, -10.2114, 15.387, 5.096, 3.5742, 5.0064, -566.5625, 11.9988, 51.1936, -71.8116, -33.804, 17.352, 3.6288, 0.546, -32.5226, 130.7581, 150.36, -66.5088, 7.6154, -1.3952, -20.1663, -24.496, 19.5, 107.7216, 9.816, 15.5288, 25.2213, 64.7856, 195.9944, 26.5905, 673.8816, 12.5928, 6.0416, 26.985, 3.6296, 17.5344, 0.6993, -12.117, 17.8152, -166.32, -24.189, -225.5568, 1.8312, -2.6982, 1.8144, 374.3792, 62.9064, -263.9967, 12.7008, 13.5324, -30.588, 9.7328, 124.68, 11.88, 49.105, 45.9754, 38.178000000000004, -15.99, -53.071999999999996, 4.9632, 47.0376, 2.1, 843.1706, 3.9906, 9.0912, 92.4399, 49.761, 74.975, 107.955, 3.5712, 17.76, 2.401, -5.184, 26.3912, 3.6288, 7.776, 14.6157, 53.433, 6.768, 6.5808, 11.703, 17.1774, 7.254, 102.186, 0.6408, 76.6395, -8.6768, 0.4706, -2.1885, 134.3888, 7.9212, 215.1198, 12.3234, 8.4966, -766.012, -3.7196, -17.046, 11.5752, 16.1602, -36.6744, 35.9964, 4.6344, 3.2872, 0.8162, 3.8822, 51.2943, 5.4432, 5.193, 63.983999999999995, 412.5394, 30.5964, 70.006, 8.88, 81.583, -1.4016, 41.1332, 13.3056, -11.439, -5.8496, -53.2704, 43.5981, -10.1736, 0.0, 9.7164, -14.9736, 23.997, 3.0044, -150.414, 1.1904, -11.0005, -8.7232, -13.895999999999999, 6.1792, 35.04, 25.473000000000003, 378.1674, -46.3946, 3.8272, 29.7408, 0.4706, 15.599, 31.587, 14.3075, 11.4516, 8.2688, -52.17, 6.6976, 16.3863, 6.36, 5.6448, -14.1372, 9.8658, 6.8714, 112.4064, 20.21, 27.441, 30.415, 132.5898, 133.15200000000002, 2.8322, -29.3436, 137.2896, 24.528000000000002, -2.1624, 0.0, -27.1296, 0.8225, 7.6986, -14.4784, 23.55, 13.347999999999999, -225.0976, 60.356, -48.9549, 3.2616, -2.1504, -13.6488, -9.0944, 4.0776, 0.8388, -32.6366, -34.391999999999996, 53.997, 32.391999999999996, 4.4312, -3.5712, -16.38, -85.2384, 55.896, 1.1996, -2.0568, 204.0714, 9.8784, 14.4354, 251.8911, 6.2208, 1.375, 55.93600000000001, 5.256, 4.4604, -12.075, -16.884, 2.8884, -32.32, 0.91, 52.4979, 31.587, 2.1476, -7.7748, -300.735, 81.432, 411.7365, 158.7519, 95.4612, 7.3206, 0.0, 0.882, -121.8735, 1.9926, 5.1012, -3.9624, 12.4416, 7.0218, 67.4424, 23.6529, 20.1207, 6.2208, 213.6888, 28.3095, 4.2048, 20.8719, 9.5688, 7.056, 111.59100000000001, 42.0744, 152.0883, 49.497, -6.567, 1.64, -14.3856, -1.3584, -80.48, -0.6265, 1.7991, 14.17, 24.2256, 9.68, 74.8142, -24.803, 1.4406, -23.976, 7.5284, 10.880999999999998, 3.1104, -2.0364, 84.5154, 76.0878, 36.3987, 229.9908, 111.1035, 0.5579999999999999, -2.9739999999999998, 10.56, -97.2312, -4.3584, 1.1016, -32.3388, -12.0784, -1143.891, 13.2352, 9.5081, -13.7175, -5.8346, 8.381, 12.1758, -7.7094, 3.852, 14.148, 6.8724, 35.2872, 5.652, 71.2692, 0.37200000000000005, -5.8229999999999995, 3.04, 2.5056, 8.2992, 14.5584, 427.4368, 40.5867, -19.7712, 3.0016, 5.184, -31.3722, 5.3784, 421.0824, 8.93, 45.84, -172.7328, -10.1736, -33.32, -14.4588, 31.0912, 7.5371, 3.614, 12.1348, 134.654, 2.4288, 874.9875, 9.744, 38.5722, -14.229000000000001, -140.196, -417.0936, 15.998, -2.6892, -32.48, 2.772, 3.6288, 2.256, -13.5548, 11.592, -42.1096, 5.6956, 26.1156, 10.0878, 4.8588, 3.7436, 25.4016, 47.7306, -45.84, -15.5904, 8.499, 4.4312, -0.5598, -17.7072, -336.6272, -24.843000000000004, 331.191, -8.029, 32.16, -4.752, 0.0, 1.5066, 50.9208, -44.2782, 26.9526, -3.168, -9.555, -6.0192, 10.8864, 5.022, -18.5262, 58.0272, -44.2782, -4.7784, -7.7292, -77.333, 46.095, -2.8272, -22.8956, 24.7275, -18.1176, 11.6795, 2.205, 2.0388, -4.704, 7.2576, 1.3068, 2.6814, 9.12, 9.1674, 1.9024, 3.4086, 3.5039999999999996, -52.632, 4.7067, 19.0386, 28.7679, -3.6576, 14.3952, -427.45, -1480.0335, -1.9744, 6.756, 7.8735, 95.0968, 16.704, 15.0735, 28.497, 19.755, -1.3208, -25.648000000000003, 26.4654, -5.2932, -3.272, -3.8208, 3.6288, 4.485, 244.6155, 6.9795, -22.0416, 3.21, 2.14, -11.0848, 13.3176, 78.1954, 12.4416, -8.9152, -52.3392, 0.6516, 3.8822, 6.858, 394.26800000000003, -22.62, -12.7512, -8.5008, -68.1302, 4.0644, 55.4364, 47.0548, 42.9914, 15.378, 69.92, -5.8346, -92.7996, 6.0025, 48.9942, 3.7692, 12.96, 275.478, 181.176, 3.6288, 20.3439, 20.1584, -5.088, -19.8744, 5.4432, 4.0768, -97.72, -127.37200000000001, -117.882, 5.55, 0.8640000000000001, -525.6405, 19.8254, 109.3338, 49.3164, 6.206, 10.3936, -74.7456, 15.9348, -36.1764, 60.9552, 757.4112, -12.0064, 1.8144, 50.328, 1.521, 200.49, 32.6332, 1.2006, 0.365, 16.7946, -71.8116, 8.7384, 41.952, 12.492, 15.5112, 7.0218, 166.0698, 94.4925, 6.5538, -2.5472, -87.1488, 1.6632, 1.1775, 12.357999999999999, 2.2319999999999998, 2.205, 3.052, 25.1916, 23.3954, 15.5092, -56.343, 24.195999999999998, 4.1748, -3.0396, -1.4196, 0.504, 11.995999999999999, 10.9584, 1.0269, 7.0173, 9.0055, 11.7782, 6.4428, 10.744000000000002, 423.0085, 7.4592, 119.2, 18.4604, 0.0, 40.4012, -53.7088, -6.237, 51.4975, 0.8988, -269.3376, 10.9193, -182.352, 55.9224, 3.7224, 3.9072, -20.6176, 37.758, 48.9902, -16.467, 1.2432, 5.4432, 0.8288, 3.6288, 52.9173, 35.9976, 7.92, 9.352, -14.196, 1.8792, 16.3737, 9.3444, 9.8658, -25.3764, 356.225, 1.0348, 15.8756, 6.6312, -18.222, 2.3521, 23.808000000000003, 17.6088, 44.985, -9.1648, 13.2, 20.6336, 97.4586, 189.4046, 223.2855, 4.494, 82.0776, -127.5792, 33.5895, 11.895, 4.9648, 10.0116, 2.87, 13.4386, -22.511999999999997, 1.551, -13.734000000000002, -62.3792, -8.0775, 17.8794, -21.680999999999997, -16.5396, -52.8908, 449.991, 213.7044, 3.3088, 0.2016, 56.9772, -320.2395, 3.21, 15.552, 16.195999999999998, 4630.4755, 6.47, -5.2072, -1.11, 47.5072, 7.0048, -6.8992, 19.9746, 20.9274, 8.4966, 0.9512, 2.9889, 13.8579, -23.892, -10.386, 8.693999999999999, 26.4132, -15.1311, 1.2005, -2.07, -58.3056, 5.1012, -6.36, -10.6547, -3.2934, 0.6696, 4.4955, 6.6, 4.995, 64.2, -3.2406, -42.4926, 21.5824, 10.3408, -348.6294, -17.6607, 5.6376, 11.2752, -10.4214, -18.8364, 100.656, 20.5764, -145.17600000000002, -6.8094, 19.8276, -160.2952, -6.237, -225.0976, -20.1408, 45.1395, -121.58, 1.7343, 496.7865, -76.0116, 3.9474, 164.997, -49.92, 4.9308, 19.4194, 6.5120000000000005, 3.6288, -66.062, -14.8704, 35.6238, 8.2944, 162.0948, 3.4827, 7.095, 3.29, 6.42, 50.352, 16.2688, 24.84, 5.4896, 11.1825, -4.4639999999999995, -126.4816, 13.4386, -52.196000000000005, 6.1572, 21.7355, 4.086, 150.984, 2.3077, 219.9904, 3.069, 523.7052, -3.6003, 2.7384, -71.2962, 3.6288, 7.4, 36.2835, 135.219, 10.512, 15.552, 36.8245, 14.255999999999998, 14.2688, 42.3625, 23.3163, 54.7756, -25.2185, -14.687999999999999, -7.8225, 9.072000000000001, 7.1928, 17.158, 39.3408, 0.8088, 12.0252, 22.4316, 6.9088, -3.9032, -8.904, 149.8956, -5.4801, 16.704, 53.7544, -2.9884, 0.6912, -2.134, 49.4376, 28.41, 17.9684, -9.1335, -17.2854, 8.0712, 60.1412, 184.2204, 8.7048, 3.614, 6.715, 5.8887, 26.564, -166.3935, 4.266, 6.7188, 6.1704, 3.9592, -18.802, -119.1918, -57.951, 72.358, 165.3496, 33.3172, 30.0234, 123.4548, 14.4648, 48.4704, 38.4372, 136.665, 14.8491, 0.5904, -14.8832, 2.14, -6.9965, -19.602, 12.7008, -74.9526, -209.7693, 3.3099, 2.528, 57.5016, 62.7004, 9.1581, 6.4308, -69.3952, 29.799, 22.4925, -4.04, 4.176, 16.6788, 0.0, -2.214, 3.5623, 137.151, 91.9508, 71.97, -1181.2824, 47.994, 68.8464, 9.8901, 5.8708, 5.8233, 1.0192, 265.4232, 0.6156, -46.716, -11.5938, -1.9602, 52.532, -19.2588, 5.8751, -32.6646, -3.9032, -67.5435, 18.767, 6.2208, -4.396, 6.1308, 1.5426, -11.7612, -1.4280000000000002, -2929.4845, 207.14700000000002, 16.4052, 133.9713, 60.5528, 72.6408, 53.9946, 48.118, 83.986, -13.8278, 13.9972, 84.66, 0.7938, -437.5404, 21.99, 105.8316, 11.1564, 274.995, 37.23, 17.253, 22.6296, 83.9944, -95.67, 5.605, -131.951, 8.5728, -9.5568, -31.535999999999998, -120.37200000000001, -7.007999999999999, -4.8492, -8.05, -8.3524, 0.3336, 1.8792, 5.4432, -7.4358, 5.4432, 13.0548, 13.064, 34.0704, 125.198, -178.8468, -10.3124, 33.2156, 1.521, 5.778, 7.127999999999999, 112.788, 11.9586, 160.623, 700.98, 69.1776, 150.984, -3.5224, -91.7586, 15.9968, 394.212, -27.2922, 4.504, -786.0144, 0.7776, 32.3982, 5.7365, 8.2156, 134.5302, 57.4938, 197.9208, 2.299, 20.7312, 15.9384, -5.6406, -52.9584, 4.752, 14.7582, -4.8180000000000005, -22.948, -2.918, 3.5529, -9.7176, 1.8872, 22.2352, 2.9568, 17.3148, 6.2664, -13.81, 61.4628, 23.184, 32.4684, -1.0656, -7.476, -46.3998, 3.912, -2287.782, 7.98, 2.394, 0.5508, 16.7475, 15.5232, 19.95, 48.5514, 15.196, 37.0782, 54.056999999999995, 23.9904, 22.9488, 13.2293, 71.2296, 79.794, 5.4432, -69.4722, 3.6288, 9.072000000000001, 5.3352, 3.7584, 62.93, -197.5752, 7.2576, -8.9964, 7.68, 12.7008, 15.0384, 7.0659, 7.1586, 10.905999999999999, 149.382, 12.9792, 13.7808, 6.066, 37.534, 22.2, 22.8285, 8.7906, -6.2860000000000005, 1.8159999999999998, 19.1376, 3.475, 40.3536, 743.988, 8.0178, -54.5958, -2.6268, 2.5137, 0.33399999999999996, -3.123, 20.8719, 12.7008, -12.9987, 2.1888, 8.9994, 1.86, -2.5648, 335.9944, 5.6376, -7.3015, 1.062, 27.971999999999998, 174.9825, 1.0336, 50.49, 17.16, 76.4, 23.1192, 5.544, 2.64, -50.6688, 9.198, 53.8608, 2.9348, 3.1104, -90.3762, -42.4638, -23.548000000000002, 4.44, 4.1391, 111.59100000000001, 8.4564, 27.2412, 5.2272, 21.164, -82.884, 118.29299999999999, 32.0598, 305.13, 28.0876, 41.3928, 12.6592, -184.8366, -8.532, 624.9875, 20.2986, 20.235, 233.9961, 2.3968, -6.0196, 43.1976, 3.6288, 6.1792, -27.2646, 104.7528, 8.0946, 178.91, 143.1918, 274.995, 34.3896, 12.8568, -1.2558, -4.896, -2.1792, -11.439, 21.7515, 13.4512, 1.6176, 2.0394, 22.0472, 124.7808, 9.5992, 4.2952, 12.690999999999999, 7.2576, 93.6988, 6.2376, 111.774, 15.3888, 45.3488, 5.7594, 2.478, -52.8336, -512.1468, 173.235, 54.215, 16.17, 76.27199999999999, -3.4122, 30.392, -26.7204, 0.5668, -1.3248, 7.5528, -11.322000000000001, -9.6348, 2.6568, -0.6008, 0.6786, -6.732, -49.5516, -8.18, 2.1, -3.2436, 4.6176, 6.812, 3.4619999999999997, -186.5682, 9.2322, 38.3238, 23.4192, 44.04600000000001, 12.549000000000001, 9.116, 226.3626, 47.98, 9.072000000000001, -9.8115, 26.558000000000003, 28.6965, 13.2522, 46.1184, 485.9892, -4.9005, 15.9425, 7.89, -14.5764, 35.196, 51.8346, 1.4602, 7.7679, 11.8248, 19.9686, 2.6208, 120.9416, 3.99, -6.3441, 3.4496, 5.5664, -729.9138, 14.425, 23.2624, -38.1114, 4.7196, 19.596, 23.235, 45.576, 96.3438, 69.1776, 7.98, 7.4872, 4.0542, 30.0234, 8.9535, 93.5816, 15.9792, 12.7368, 4.8609, 13.365, -105.69, -29.511999999999997, -52.4544, 14.3952, 13.3008, -6.6278, 4.752, 6.8982, 0.5904, -12.849, 5.775, 16.1838, 0.6993, 26.9024, 6.1488, 81.1734, 3.4692, 9.9882, 8.526, 13.572000000000001, -97.4988, 2.4864, -77.625, 0.8624, 0.654, 13.8579, 0.5589999999999999, 35.6346, 11.452, 33.830999999999996, -2.7, 5.4432, -3.272, 0.4641, 2504.2216, 72.6408, 25.2315, 2.3409, -6.8634, 2.552, 29.988000000000003, 143.982, -172.1172, 5.6784, 38.97, 71.9928, 31.5825, 1.2376, -14.7594, 7.9378, -90.774, -426.986, 0.7120000000000001, 1.008, -18.1176, 50.4063, 28.497, 35.2604, 15.552, 54.5844, 83.281, 53.235, -13.1706, -8.5416, 15.2544, 60.4224, 29.5186, 66.6, -68.1856, 107.9946, 15.498, -11.6512, 7.2576, -39.637, 79.692, 4.914, 22.653000000000002, 5.135, 165.2868, 1.7280000000000002, -15.7514, -19.7372, 1.476, 2.128, 8.4096, 54.558, 14.8707, -292.9872, -26.7558, -4.908, 24.9984, 83.28399999999999, 7.6968, -5.1396, 3.1806, 9.8685, -8.3524, -19.47, -18.1176, 3.5460000000000003, -6.188, -17.523, 1.6116, 26.9973, -15.5268, -16.5858, -6.0768, -3.94, 35.6613, -7.832999999999999, -2.688, -2.3904, -3.2392, -1.406, 4.872, 8399.976, 331.191, 16.8413, 9.5088, 1.002, 26.9024, 407.1288, 49.8435, 3.6288, 3.8844, -17.248, -17.9964, -95.2476, 1.8704, 770.352, -163.5767, -13.0152, 5.6, -15.0876, -44.235, 19.8144, 9.912, -31.331999999999997, 44.9616, -10.7973, -75.8448, 11.8768, -55.256, -23.7822, 55.9986, 8.3328, 11.085999999999999, 2.2828, 71.16199999999999, 14.4648, 2.99, 12.672, -3.7584, -22.144000000000002, 63.7536, -110.0232, 1.8144, -7.476, 15.594000000000001, 3.3524, -3.2406, 30.996, 3.3524, 0.3336, 1.8144, 15.392999999999999, -8.316, 1.0008, 89.991, 6.6312, 67.0644, 545.1884, 9.8856, 43.1904, 240.294, 46.5432, 37.884, 109.3365, -108.8304, 16.6788, 5.6, 1.7995, 569.9905, 23.235, -226.6368, 2.4174, -1.041, 1.002, -2.1312, -22.2388, -99.1032, -4.8048, 4.756, 12.4416, -7.119, 31.5192, 109.42200000000001, 21.33, 13.9328, 1.4456, 301.968, 3.969, 21.7728, 35.2772, -35.5136, -5.0094, 0.552, 23.6529, -121.2705, 2.838, 1.8468, -175.26, -7.476, -30.294, -4.9164, -66.801, -152.7156, 29.1375, 25.06, 3.339, 21.42, -8.532, -459.6072, 19.41, 10.512, 52.38, 74.8142, 5.4336, 0.4074, 7.056, 41.986000000000004, 5.07, 8.4528, 136.08, 8.6436, 100.7316, 387.5676, 0.2997, 12.9978, 3.278, 4.176, -6.0889999999999995, -26.1696, 3.7408, 20.7459, 1.8144, 23.7742, -26.085, 146.79, 3.2214, -77.333, -10.15, 88.485, 16.704, 3.1212, 51.8312, 3.2224, 0.868, 12.690999999999999, 3.21, -65.85300000000001, -4.2012, -18.8728, -14.2716, 71.9952, 66.1451, -19.168, -1.5715, -11.6622, 72.8088, 224.07299999999998, 0.0, 8.3958, 7.2576, 112.788, 12.8744, 70.4928, 18.28, -33.3582, -1.6752, 97.3026, 19.824, 4.293, 1.8011, 1.7280000000000002, 245.7, 19.5858, 113.3055, 88.1804, -9.093, -13.4379, -25.109, 25.872, -53.7096, -18.2525, 41.496, 1906.485, 329.4081, 8.304, 62.4, 59.4355, -8.1096, 5.6644, 58.7916, 98.5248, 163.1898, 2.5056, -2.5698, 4.2408, 35.89, 3.7408, 4.779, 5.4432, 3.6288, -14.5656, -4.7685, 2.4675, -10.1736, 9.54, -2.88, -1.4994, 30.7168, 38.1576, 3.2214, 1.9136, 2.8764, 106.6248, -21.3264, -6.8816, -3.7872, -3.168, 1.764, 2.9568, -53.0088, -302.72, 26.824, 1.6740000000000002, -6.93, -31.8612, 3.798, -4.2588, -59.373000000000005, 5.0274, 2.3808, -65.568, -5.0688, -3.5325, 0.0, -34.9536, -22.6716, 5.5512, 4.914, 0.8856, 11.592, 17.6673, 4.1916, 0.8909999999999999, 76.5484, 5.4124, 49.9704, 383.931, 20.975, 5.7624, -12.9792, 29.673000000000002, -93.99, -1.827, -9.282, -10.9611, 9.072000000000001, 16.1838, -1.476, -20.7306, 1.6704, -107.958, -187.3815, -26.6352, 2.2288, -9.705, -22.6842, -38.8212, -17.0274, 52.632, -87.6672, 20.844, -25.4772, -17.745, -30.8672, -1.2178, 2.322, 7.9896, -75.192, -4.9878, 4.4004, -125.766, -43.848, -70.9605, 155.727, 1.6896, 5.0196, 39.7488, 5.6112, 52.8228, -10.1736, -0.9933, 20.5764, 2.9339999999999997, -12.148, -18.2525, -18.195999999999998, -17.784000000000002, 19.6305, 0.8688, -19.0656, 1.7248, -3.0396, -3.7680000000000002, -2.5248, -191.61900000000003, 3.6784, -16.817999999999998, -1.8848, -470.548, 6.0416, 180.7659, 3.7694, 44.4704, -47.175, 2.772, 250.396, 3.1536, 137.264, 14.2272, 135.45600000000002, -33.6414, 81.432, 15.552, 19.2556, 35.6776, 8.5845, -43.0296, -14.6388, 0.5668, 3.9004, 5.6112, 4.504, -24.9984, -4.5824, -164.83599999999998, 3.968, -13.58, -169.637, 27.9108, -8.4728, -14.5764, 5.6376, 69.965, 3.405, 0.0, -11.52, -173.3472, 18.144000000000002, -6.21, 49.9704, 0.1744, 6.465, -1.3608, 2.14, -6.723, -13.6832, 4.9616, -93.4724, 77.7468, -67.137, -29.0073, -6.237, -39.804, -19.8144, 3.6, 241.1046, 10.0744, 41.013000000000005, 20.4984, 161.9919, -10.335999999999999, -110.0232, -14.1696, 8.388, 49.3938, 61.3305, 31.4975, 10.35, -77.4732, -17.4432, 0.2598, 16.68, 6.3296, 24.843000000000004, 35.0973, 2.0358, 3.4276, 134.9955, 39.6879, 14.742, 35.985, 14.8365, -0.7566, 378.274, 6.7176, 5.5216, 3.21, -199.77, 97.2032, 7.79, -5.9409, 3.6288, -3.6372, -13.392000000000001, -5.263999999999999, -6.21, 13.572000000000001, -19.864, 143.982, -1141.47, -1.3376, -15.9268, 69.6546, 41.5688, 6.1992, -8.5794, -8.1822, 3.5039999999999996, -3.6537, -81.3065, -13.3424, 33.9065, 9.5256, 11.5136, -160.96, -4.5396, 3.9424, 5.6376, -119.2312, 6.7536, -2.667, 15.777000000000001, 160.623, 5.1552, 0.7348, -2.544, -67.617, -13.167, 0.3094, 0.0, 14.5152, 6.2244, -36.1176, 47.0351, 3.7408, 62.1544, 54.7136, 48.3336, 3.753, 117.432, 9.352, 10.465, 4.752, 54.0876, 16.7875, -70.49, 3.475, -32.985, -34.758, -153.2024, -0.6265, 220.4853, 751.7601, 41.934, -12.8256, 6.7048, -38.2158, 3.6288, 107.08200000000001, -20.4352, -131.7168, 26.824, -27.791999999999998, 143.9968, -2.6784, -538.446, -113.28200000000001, -45.294, 17.9982, 22.9885, 10.8558, 4.3524, -47.8716, 37.495, -179.77599999999998, -24.398000000000003, 3.7376, -1.9344, 12.7008, 29.364, -31.0335, -9.156, -2.838, -14.7708, -6.3018, -2.7648, -194.824, -99.2664, 3.7752, 2302.9671, 12.3144, 19.1376, 102.774, 24.9804, 10.5728, 3.4686, 2.7354, 21.42, 146.388, -4.488, 2.7192, -12.4146, 4946.37, 100.685, -4.8609, 6.9368, 6.8768, 7.7832, 67.188, 18.8937, -251.1864, -136.4895, 83.9944, 181.65599999999998, 11.732000000000001, 13.2986, 15.552, 27.7158, 3.7584, 128.6805, 5.319, -16.9568, -84.448, -51.29600000000001, -28.8678, 33.5895, 1.6776, 11.7334, 36.3972, -3.8208, -2.1376, -11.2806, 95.1888, -4.4928, 66.5088, 12.376, 32.4688, 176.8026, 0.7425, -393.602, -46.9952, 38.7792, 7.4655, 3.4944, 2.592, -24.7716, 7.4872, -13.187999999999999, -2.3232, -6.4232, -12.5286, 54.4448, 15.2225, 6.8724, 4.4344, 53.2704, 24.393, 2.5984, 6.63, 35.0973, 53.982, 43.2234, -11.0208, -84.9615, -0.9452, 8.2848, 24.4768, 6.5058, -6.8992, -20.245, 6.122999999999999, 0.8856, 5.4432, -2.2878, 1.7248, 4.7616, 117.1296, 46.7908, -2.9939999999999998, -5.688, -84.2928, -14.8704, 3.7128, 9.3312, 1.0192, 8.7138, 5.6644, 8.4656, 2.3868, 14.3075, 2.5974, 1.2348, 156.047, 2.64, -11.5872, -38.8212, -56.0592, -69.312, 82.49700000000001, -16.2613, 2.502, 34.742, 5.6994, 16.146, 138.417, 1.9926, 54.215, -61.872, -6.237, 4.1125, -6.5076, -533.7325, 1.8159999999999998, -137.976, 9.63, 19.08, 350.42699999999996, 5.346, 2.0286, 82.2906, 31.188000000000002, 11.3148, 7.476, 18.09, 4.5837, 20.6946, -13.895999999999999, -6.0196, 544.4175, 8.8088, 36.4473, 5.4432, -7.7406, 0.9576, 5.5616, -6.8634, 13.32, -9.6565, 19.1376, -114.0174, 0.8909999999999999, 35.6636, -1.5936, 22.3888, -28.6862, -79.908, -4.497, 13.9672, -43.9056, 15.192, 5.6784, -172.55700000000002, -9.88, -378.4, 14.5152, -54.5496, -39.5118, -96.4704, 3.3524, 6.7482, 38.9752, 57.5016, 78.9516, 1.3316, 29.4492, -17.469, -18.0588, 240.8595, 7.996, 11.198, 7.584, 4.4312, 72.8946, 90.6444, -7.9634, -56.996, 0.6679999999999999, 3.465, 26.901, -3701.8928, -10.0602, -26.8544, -26.945999999999998, -13.32, -12.09, -30.098000000000003, -8.5794, 6.9986, -66.3916, 21.024, -29.2524, 1.6308, -31.008000000000003, -5.8869, -3.3792, 95.9904, -2.5872, 1.4442, -6.3, -26.2272, 5.1792, -40.0036, 9.9522, 17.524, 0.1008, 1.3559999999999999, 5.2528, 2.5452, 5.5566, 70.312, 8.532, 32.6628, 1.197, 0.0, 9.6914, 48.4575, 83.314, 96.8544, 27.608, 38.455999999999996, 22.4808, -6.9102, 25.5968, 6.2208, 45.528, 3.5048, 4.6221, -143.431, -35.8176, 28.7952, 539.2464, 793.716, 15.9543, 14.7593, 8.69, 23.7742, -67.6704, 33.6042, 16.7132, 27.4344]}],\n",
       "                        {\"hovermode\": \"closest\", \"template\": {\"data\": {\"bar\": [{\"error_x\": {\"color\": \"#2a3f5f\"}, \"error_y\": {\"color\": \"#2a3f5f\"}, \"marker\": {\"line\": {\"color\": \"#E5ECF6\", \"width\": 0.5}}, \"type\": \"bar\"}], \"barpolar\": [{\"marker\": {\"line\": {\"color\": \"#E5ECF6\", \"width\": 0.5}}, \"type\": \"barpolar\"}], \"carpet\": [{\"aaxis\": {\"endlinecolor\": \"#2a3f5f\", \"gridcolor\": \"white\", \"linecolor\": \"white\", \"minorgridcolor\": \"white\", \"startlinecolor\": \"#2a3f5f\"}, \"baxis\": {\"endlinecolor\": \"#2a3f5f\", \"gridcolor\": \"white\", \"linecolor\": \"white\", \"minorgridcolor\": \"white\", \"startlinecolor\": \"#2a3f5f\"}, \"type\": \"carpet\"}], \"choropleth\": [{\"colorbar\": {\"outlinewidth\": 0, \"ticks\": \"\"}, \"type\": \"choropleth\"}], \"contour\": [{\"colorbar\": {\"outlinewidth\": 0, \"ticks\": \"\"}, \"colorscale\": [[0.0, \"#0d0887\"], [0.1111111111111111, \"#46039f\"], [0.2222222222222222, \"#7201a8\"], [0.3333333333333333, \"#9c179e\"], [0.4444444444444444, \"#bd3786\"], [0.5555555555555556, \"#d8576b\"], [0.6666666666666666, \"#ed7953\"], [0.7777777777777778, \"#fb9f3a\"], [0.8888888888888888, \"#fdca26\"], [1.0, \"#f0f921\"]], \"type\": \"contour\"}], \"contourcarpet\": [{\"colorbar\": {\"outlinewidth\": 0, \"ticks\": \"\"}, \"type\": \"contourcarpet\"}], \"heatmap\": [{\"colorbar\": {\"outlinewidth\": 0, \"ticks\": \"\"}, \"colorscale\": [[0.0, \"#0d0887\"], [0.1111111111111111, \"#46039f\"], [0.2222222222222222, \"#7201a8\"], [0.3333333333333333, \"#9c179e\"], [0.4444444444444444, \"#bd3786\"], [0.5555555555555556, \"#d8576b\"], [0.6666666666666666, \"#ed7953\"], [0.7777777777777778, \"#fb9f3a\"], [0.8888888888888888, \"#fdca26\"], [1.0, \"#f0f921\"]], \"type\": \"heatmap\"}], \"heatmapgl\": [{\"colorbar\": {\"outlinewidth\": 0, \"ticks\": \"\"}, \"colorscale\": [[0.0, \"#0d0887\"], [0.1111111111111111, \"#46039f\"], [0.2222222222222222, \"#7201a8\"], [0.3333333333333333, \"#9c179e\"], [0.4444444444444444, \"#bd3786\"], [0.5555555555555556, \"#d8576b\"], [0.6666666666666666, \"#ed7953\"], [0.7777777777777778, \"#fb9f3a\"], [0.8888888888888888, \"#fdca26\"], [1.0, \"#f0f921\"]], \"type\": \"heatmapgl\"}], \"histogram\": [{\"marker\": {\"colorbar\": {\"outlinewidth\": 0, \"ticks\": \"\"}}, \"type\": \"histogram\"}], \"histogram2d\": [{\"colorbar\": {\"outlinewidth\": 0, \"ticks\": \"\"}, \"colorscale\": [[0.0, \"#0d0887\"], [0.1111111111111111, \"#46039f\"], [0.2222222222222222, \"#7201a8\"], [0.3333333333333333, \"#9c179e\"], [0.4444444444444444, \"#bd3786\"], [0.5555555555555556, \"#d8576b\"], [0.6666666666666666, \"#ed7953\"], [0.7777777777777778, \"#fb9f3a\"], [0.8888888888888888, \"#fdca26\"], [1.0, \"#f0f921\"]], \"type\": \"histogram2d\"}], \"histogram2dcontour\": [{\"colorbar\": {\"outlinewidth\": 0, \"ticks\": \"\"}, \"colorscale\": [[0.0, \"#0d0887\"], [0.1111111111111111, \"#46039f\"], [0.2222222222222222, \"#7201a8\"], [0.3333333333333333, \"#9c179e\"], [0.4444444444444444, \"#bd3786\"], [0.5555555555555556, \"#d8576b\"], [0.6666666666666666, \"#ed7953\"], [0.7777777777777778, \"#fb9f3a\"], [0.8888888888888888, \"#fdca26\"], [1.0, \"#f0f921\"]], \"type\": \"histogram2dcontour\"}], \"mesh3d\": [{\"colorbar\": {\"outlinewidth\": 0, \"ticks\": \"\"}, \"type\": \"mesh3d\"}], \"parcoords\": [{\"line\": {\"colorbar\": {\"outlinewidth\": 0, \"ticks\": \"\"}}, \"type\": \"parcoords\"}], \"pie\": [{\"automargin\": true, \"type\": \"pie\"}], \"scatter\": [{\"marker\": {\"colorbar\": {\"outlinewidth\": 0, \"ticks\": \"\"}}, \"type\": \"scatter\"}], \"scatter3d\": [{\"line\": {\"colorbar\": {\"outlinewidth\": 0, \"ticks\": \"\"}}, \"marker\": {\"colorbar\": {\"outlinewidth\": 0, \"ticks\": \"\"}}, \"type\": \"scatter3d\"}], \"scattercarpet\": [{\"marker\": {\"colorbar\": {\"outlinewidth\": 0, \"ticks\": \"\"}}, \"type\": \"scattercarpet\"}], \"scattergeo\": [{\"marker\": {\"colorbar\": {\"outlinewidth\": 0, \"ticks\": \"\"}}, \"type\": \"scattergeo\"}], \"scattergl\": [{\"marker\": {\"colorbar\": {\"outlinewidth\": 0, \"ticks\": \"\"}}, \"type\": \"scattergl\"}], \"scattermapbox\": [{\"marker\": {\"colorbar\": {\"outlinewidth\": 0, \"ticks\": \"\"}}, \"type\": \"scattermapbox\"}], \"scatterpolar\": [{\"marker\": {\"colorbar\": {\"outlinewidth\": 0, \"ticks\": \"\"}}, \"type\": \"scatterpolar\"}], \"scatterpolargl\": [{\"marker\": {\"colorbar\": {\"outlinewidth\": 0, \"ticks\": \"\"}}, \"type\": \"scatterpolargl\"}], \"scatterternary\": [{\"marker\": {\"colorbar\": {\"outlinewidth\": 0, \"ticks\": \"\"}}, \"type\": \"scatterternary\"}], \"surface\": [{\"colorbar\": {\"outlinewidth\": 0, \"ticks\": \"\"}, \"colorscale\": [[0.0, \"#0d0887\"], [0.1111111111111111, \"#46039f\"], [0.2222222222222222, \"#7201a8\"], [0.3333333333333333, \"#9c179e\"], [0.4444444444444444, \"#bd3786\"], [0.5555555555555556, \"#d8576b\"], [0.6666666666666666, \"#ed7953\"], [0.7777777777777778, \"#fb9f3a\"], [0.8888888888888888, \"#fdca26\"], [1.0, \"#f0f921\"]], \"type\": \"surface\"}], \"table\": [{\"cells\": {\"fill\": {\"color\": \"#EBF0F8\"}, \"line\": {\"color\": \"white\"}}, \"header\": {\"fill\": {\"color\": \"#C8D4E3\"}, \"line\": {\"color\": \"white\"}}, \"type\": \"table\"}]}, \"layout\": {\"annotationdefaults\": {\"arrowcolor\": \"#2a3f5f\", \"arrowhead\": 0, \"arrowwidth\": 1}, \"coloraxis\": {\"colorbar\": {\"outlinewidth\": 0, \"ticks\": \"\"}}, \"colorscale\": {\"diverging\": [[0, \"#8e0152\"], [0.1, \"#c51b7d\"], [0.2, \"#de77ae\"], [0.3, \"#f1b6da\"], [0.4, \"#fde0ef\"], [0.5, \"#f7f7f7\"], [0.6, \"#e6f5d0\"], [0.7, \"#b8e186\"], [0.8, \"#7fbc41\"], [0.9, \"#4d9221\"], [1, \"#276419\"]], \"sequential\": [[0.0, \"#0d0887\"], [0.1111111111111111, \"#46039f\"], [0.2222222222222222, \"#7201a8\"], [0.3333333333333333, \"#9c179e\"], [0.4444444444444444, \"#bd3786\"], [0.5555555555555556, \"#d8576b\"], [0.6666666666666666, \"#ed7953\"], [0.7777777777777778, \"#fb9f3a\"], [0.8888888888888888, \"#fdca26\"], [1.0, \"#f0f921\"]], \"sequentialminus\": [[0.0, \"#0d0887\"], [0.1111111111111111, \"#46039f\"], [0.2222222222222222, \"#7201a8\"], [0.3333333333333333, \"#9c179e\"], [0.4444444444444444, \"#bd3786\"], [0.5555555555555556, \"#d8576b\"], [0.6666666666666666, \"#ed7953\"], [0.7777777777777778, \"#fb9f3a\"], [0.8888888888888888, \"#fdca26\"], [1.0, \"#f0f921\"]]}, \"colorway\": [\"#636efa\", \"#EF553B\", \"#00cc96\", \"#ab63fa\", \"#FFA15A\", \"#19d3f3\", \"#FF6692\", \"#B6E880\", \"#FF97FF\", \"#FECB52\"], \"font\": {\"color\": \"#2a3f5f\"}, \"geo\": {\"bgcolor\": \"white\", \"lakecolor\": \"white\", \"landcolor\": \"#E5ECF6\", \"showlakes\": true, \"showland\": true, \"subunitcolor\": \"white\"}, \"hoverlabel\": {\"align\": \"left\"}, \"hovermode\": \"closest\", \"mapbox\": {\"style\": \"light\"}, \"paper_bgcolor\": \"white\", \"plot_bgcolor\": \"#E5ECF6\", \"polar\": {\"angularaxis\": {\"gridcolor\": \"white\", \"linecolor\": \"white\", \"ticks\": \"\"}, \"bgcolor\": \"#E5ECF6\", \"radialaxis\": {\"gridcolor\": \"white\", \"linecolor\": \"white\", \"ticks\": \"\"}}, \"scene\": {\"xaxis\": {\"backgroundcolor\": \"#E5ECF6\", \"gridcolor\": \"white\", \"gridwidth\": 2, \"linecolor\": \"white\", \"showbackground\": true, \"ticks\": \"\", \"zerolinecolor\": \"white\"}, \"yaxis\": {\"backgroundcolor\": \"#E5ECF6\", \"gridcolor\": \"white\", \"gridwidth\": 2, \"linecolor\": \"white\", \"showbackground\": true, \"ticks\": \"\", \"zerolinecolor\": \"white\"}, \"zaxis\": {\"backgroundcolor\": \"#E5ECF6\", \"gridcolor\": \"white\", \"gridwidth\": 2, \"linecolor\": \"white\", \"showbackground\": true, \"ticks\": \"\", \"zerolinecolor\": \"white\"}}, \"shapedefaults\": {\"line\": {\"color\": \"#2a3f5f\"}}, \"ternary\": {\"aaxis\": {\"gridcolor\": \"white\", \"linecolor\": \"white\", \"ticks\": \"\"}, \"baxis\": {\"gridcolor\": \"white\", \"linecolor\": \"white\", \"ticks\": \"\"}, \"bgcolor\": \"#E5ECF6\", \"caxis\": {\"gridcolor\": \"white\", \"linecolor\": \"white\", \"ticks\": \"\"}}, \"title\": {\"x\": 0.05}, \"xaxis\": {\"automargin\": true, \"gridcolor\": \"white\", \"linecolor\": \"white\", \"ticks\": \"\", \"title\": {\"standoff\": 15}, \"zerolinecolor\": \"white\", \"zerolinewidth\": 2}, \"yaxis\": {\"automargin\": true, \"gridcolor\": \"white\", \"linecolor\": \"white\", \"ticks\": \"\", \"title\": {\"standoff\": 15}, \"zerolinecolor\": \"white\", \"zerolinewidth\": 2}}}, \"title\": {\"text\": \"Sales vs Profit Chart\"}, \"xaxis\": {\"title\": {\"text\": \"Sales\"}}, \"yaxis\": {\"title\": {\"text\": \"Profit in K\"}}},\n",
       "                        {\"responsive\": true}\n",
       "                    ).then(function(){\n",
       "                            \n",
       "var gd = document.getElementById('fde8297e-de9b-4fa5-b555-25deadabd4a4');\n",
       "var x = new MutationObserver(function (mutations, observer) {{\n",
       "        var display = window.getComputedStyle(gd).display;\n",
       "        if (!display || display === 'none') {{\n",
       "            console.log([gd, 'removed!']);\n",
       "            Plotly.purge(gd);\n",
       "            observer.disconnect();\n",
       "        }}\n",
       "}});\n",
       "\n",
       "// Listen for the removal of the full notebook cells\n",
       "var notebookContainer = gd.closest('#notebook-container');\n",
       "if (notebookContainer) {{\n",
       "    x.observe(notebookContainer, {childList: true});\n",
       "}}\n",
       "\n",
       "// Listen for the clearing of the current output cell\n",
       "var outputEl = gd.closest('.output');\n",
       "if (outputEl) {{\n",
       "    x.observe(outputEl, {childList: true});\n",
       "}}\n",
       "\n",
       "                        })\n",
       "                };\n",
       "                });\n",
       "            </script>\n",
       "        </div>"
      ]
     },
     "metadata": {},
     "output_type": "display_data"
    }
   ],
   "source": [
    "figure.show()"
   ]
  },
  {
   "cell_type": "code",
   "execution_count": 116,
   "metadata": {},
   "outputs": [],
   "source": [
    "order_group = pd.pivot_table(sales,values='Sales',index=['Order Priority', 'Ship Mode'],aggfunc='sum') #aggfunc='mean' hence we get avg values in the table"
   ]
  },
  {
   "cell_type": "code",
   "execution_count": 117,
   "metadata": {},
   "outputs": [
    {
     "data": {
      "text/html": [
       "<div>\n",
       "<style scoped>\n",
       "    .dataframe tbody tr th:only-of-type {\n",
       "        vertical-align: middle;\n",
       "    }\n",
       "\n",
       "    .dataframe tbody tr th {\n",
       "        vertical-align: top;\n",
       "    }\n",
       "\n",
       "    .dataframe thead th {\n",
       "        text-align: right;\n",
       "    }\n",
       "</style>\n",
       "<table border=\"1\" class=\"dataframe\">\n",
       "  <thead>\n",
       "    <tr style=\"text-align: right;\">\n",
       "      <th></th>\n",
       "      <th></th>\n",
       "      <th>Sales</th>\n",
       "    </tr>\n",
       "    <tr>\n",
       "      <th>Order Priority</th>\n",
       "      <th>Ship Mode</th>\n",
       "      <th></th>\n",
       "    </tr>\n",
       "  </thead>\n",
       "  <tbody>\n",
       "    <tr>\n",
       "      <th rowspan=\"3\" valign=\"top\">Critical</th>\n",
       "      <th>Delivery Truck</th>\n",
       "      <td>1.204481e+06</td>\n",
       "    </tr>\n",
       "    <tr>\n",
       "      <th>Express Air</th>\n",
       "      <td>2.322686e+05</td>\n",
       "    </tr>\n",
       "    <tr>\n",
       "      <th>Regular Air</th>\n",
       "      <td>1.288049e+06</td>\n",
       "    </tr>\n",
       "    <tr>\n",
       "      <th rowspan=\"3\" valign=\"top\">High</th>\n",
       "      <th>Delivery Truck</th>\n",
       "      <td>1.416794e+06</td>\n",
       "    </tr>\n",
       "    <tr>\n",
       "      <th>Express Air</th>\n",
       "      <td>2.465870e+05</td>\n",
       "    </tr>\n",
       "    <tr>\n",
       "      <th>Regular Air</th>\n",
       "      <td>1.603975e+06</td>\n",
       "    </tr>\n",
       "    <tr>\n",
       "      <th rowspan=\"3\" valign=\"top\">Low</th>\n",
       "      <th>Delivery Truck</th>\n",
       "      <td>1.431122e+06</td>\n",
       "    </tr>\n",
       "    <tr>\n",
       "      <th>Express Air</th>\n",
       "      <td>2.178006e+05</td>\n",
       "    </tr>\n",
       "    <tr>\n",
       "      <th>Regular Air</th>\n",
       "      <td>1.633707e+06</td>\n",
       "    </tr>\n",
       "    <tr>\n",
       "      <th rowspan=\"3\" valign=\"top\">Medium</th>\n",
       "      <th>Delivery Truck</th>\n",
       "      <td>1.042383e+06</td>\n",
       "    </tr>\n",
       "    <tr>\n",
       "      <th>Express Air</th>\n",
       "      <td>2.804178e+05</td>\n",
       "    </tr>\n",
       "    <tr>\n",
       "      <th>Regular Air</th>\n",
       "      <td>1.539652e+06</td>\n",
       "    </tr>\n",
       "    <tr>\n",
       "      <th rowspan=\"3\" valign=\"top\">Not Specified</th>\n",
       "      <th>Delivery Truck</th>\n",
       "      <td>1.130098e+06</td>\n",
       "    </tr>\n",
       "    <tr>\n",
       "      <th>Express Air</th>\n",
       "      <td>2.073449e+05</td>\n",
       "    </tr>\n",
       "    <tr>\n",
       "      <th>Regular Air</th>\n",
       "      <td>1.440920e+06</td>\n",
       "    </tr>\n",
       "  </tbody>\n",
       "</table>\n",
       "</div>"
      ],
      "text/plain": [
       "                                      Sales\n",
       "Order Priority Ship Mode                   \n",
       "Critical       Delivery Truck  1.204481e+06\n",
       "               Express Air     2.322686e+05\n",
       "               Regular Air     1.288049e+06\n",
       "High           Delivery Truck  1.416794e+06\n",
       "               Express Air     2.465870e+05\n",
       "               Regular Air     1.603975e+06\n",
       "Low            Delivery Truck  1.431122e+06\n",
       "               Express Air     2.178006e+05\n",
       "               Regular Air     1.633707e+06\n",
       "Medium         Delivery Truck  1.042383e+06\n",
       "               Express Air     2.804178e+05\n",
       "               Regular Air     1.539652e+06\n",
       "Not Specified  Delivery Truck  1.130098e+06\n",
       "               Express Air     2.073449e+05\n",
       "               Regular Air     1.440920e+06"
      ]
     },
     "execution_count": 117,
     "metadata": {},
     "output_type": "execute_result"
    }
   ],
   "source": [
    "order_group"
   ]
  },
  {
   "cell_type": "code",
   "execution_count": 125,
   "metadata": {},
   "outputs": [],
   "source": [
    "level1 = order_group.index.levels[0]\n",
    "level2 = order_group.index.levels[1]\n",
    "sales_values = order_group.values.ravel().tolist()"
   ]
  },
  {
   "cell_type": "code",
   "execution_count": 127,
   "metadata": {},
   "outputs": [
    {
     "data": {
      "application/vnd.plotly.v1+json": {
       "config": {
        "plotlyServerURL": "https://plot.ly"
       },
       "data": [
        {
         "name": "level_1",
         "type": "bar",
         "x": [
          "Critical",
          "High",
          "Low",
          "Medium",
          "Not Specified"
         ],
         "y": [
          1204481.0439999988,
          232268.56699999992,
          1288049.0614999984,
          1416794.412000001,
          246586.99899999992,
          1603974.949999998,
          1431122.3119999997,
          217800.60350000003,
          1633707.460499998,
          1042382.542,
          280417.79200000013,
          1539651.7850000013,
          1130098.408,
          207344.93549999993,
          1440919.951999998
         ]
        },
        {
         "name": "level_2",
         "type": "bar",
         "x": [
          "Delivery Truck",
          "Express Air",
          "Regular Air"
         ],
         "y": [
          1204481.0439999988,
          232268.56699999992,
          1288049.0614999984,
          1416794.412000001,
          246586.99899999992,
          1603974.949999998,
          1431122.3119999997,
          217800.60350000003,
          1633707.460499998,
          1042382.542,
          280417.79200000013,
          1539651.7850000013,
          1130098.408,
          207344.93549999993,
          1440919.951999998
         ]
        }
       ],
       "layout": {
        "barmode": "group",
        "template": {
         "data": {
          "bar": [
           {
            "error_x": {
             "color": "#2a3f5f"
            },
            "error_y": {
             "color": "#2a3f5f"
            },
            "marker": {
             "line": {
              "color": "#E5ECF6",
              "width": 0.5
             }
            },
            "type": "bar"
           }
          ],
          "barpolar": [
           {
            "marker": {
             "line": {
              "color": "#E5ECF6",
              "width": 0.5
             }
            },
            "type": "barpolar"
           }
          ],
          "carpet": [
           {
            "aaxis": {
             "endlinecolor": "#2a3f5f",
             "gridcolor": "white",
             "linecolor": "white",
             "minorgridcolor": "white",
             "startlinecolor": "#2a3f5f"
            },
            "baxis": {
             "endlinecolor": "#2a3f5f",
             "gridcolor": "white",
             "linecolor": "white",
             "minorgridcolor": "white",
             "startlinecolor": "#2a3f5f"
            },
            "type": "carpet"
           }
          ],
          "choropleth": [
           {
            "colorbar": {
             "outlinewidth": 0,
             "ticks": ""
            },
            "type": "choropleth"
           }
          ],
          "contour": [
           {
            "colorbar": {
             "outlinewidth": 0,
             "ticks": ""
            },
            "colorscale": [
             [
              0,
              "#0d0887"
             ],
             [
              0.1111111111111111,
              "#46039f"
             ],
             [
              0.2222222222222222,
              "#7201a8"
             ],
             [
              0.3333333333333333,
              "#9c179e"
             ],
             [
              0.4444444444444444,
              "#bd3786"
             ],
             [
              0.5555555555555556,
              "#d8576b"
             ],
             [
              0.6666666666666666,
              "#ed7953"
             ],
             [
              0.7777777777777778,
              "#fb9f3a"
             ],
             [
              0.8888888888888888,
              "#fdca26"
             ],
             [
              1,
              "#f0f921"
             ]
            ],
            "type": "contour"
           }
          ],
          "contourcarpet": [
           {
            "colorbar": {
             "outlinewidth": 0,
             "ticks": ""
            },
            "type": "contourcarpet"
           }
          ],
          "heatmap": [
           {
            "colorbar": {
             "outlinewidth": 0,
             "ticks": ""
            },
            "colorscale": [
             [
              0,
              "#0d0887"
             ],
             [
              0.1111111111111111,
              "#46039f"
             ],
             [
              0.2222222222222222,
              "#7201a8"
             ],
             [
              0.3333333333333333,
              "#9c179e"
             ],
             [
              0.4444444444444444,
              "#bd3786"
             ],
             [
              0.5555555555555556,
              "#d8576b"
             ],
             [
              0.6666666666666666,
              "#ed7953"
             ],
             [
              0.7777777777777778,
              "#fb9f3a"
             ],
             [
              0.8888888888888888,
              "#fdca26"
             ],
             [
              1,
              "#f0f921"
             ]
            ],
            "type": "heatmap"
           }
          ],
          "heatmapgl": [
           {
            "colorbar": {
             "outlinewidth": 0,
             "ticks": ""
            },
            "colorscale": [
             [
              0,
              "#0d0887"
             ],
             [
              0.1111111111111111,
              "#46039f"
             ],
             [
              0.2222222222222222,
              "#7201a8"
             ],
             [
              0.3333333333333333,
              "#9c179e"
             ],
             [
              0.4444444444444444,
              "#bd3786"
             ],
             [
              0.5555555555555556,
              "#d8576b"
             ],
             [
              0.6666666666666666,
              "#ed7953"
             ],
             [
              0.7777777777777778,
              "#fb9f3a"
             ],
             [
              0.8888888888888888,
              "#fdca26"
             ],
             [
              1,
              "#f0f921"
             ]
            ],
            "type": "heatmapgl"
           }
          ],
          "histogram": [
           {
            "marker": {
             "colorbar": {
              "outlinewidth": 0,
              "ticks": ""
             }
            },
            "type": "histogram"
           }
          ],
          "histogram2d": [
           {
            "colorbar": {
             "outlinewidth": 0,
             "ticks": ""
            },
            "colorscale": [
             [
              0,
              "#0d0887"
             ],
             [
              0.1111111111111111,
              "#46039f"
             ],
             [
              0.2222222222222222,
              "#7201a8"
             ],
             [
              0.3333333333333333,
              "#9c179e"
             ],
             [
              0.4444444444444444,
              "#bd3786"
             ],
             [
              0.5555555555555556,
              "#d8576b"
             ],
             [
              0.6666666666666666,
              "#ed7953"
             ],
             [
              0.7777777777777778,
              "#fb9f3a"
             ],
             [
              0.8888888888888888,
              "#fdca26"
             ],
             [
              1,
              "#f0f921"
             ]
            ],
            "type": "histogram2d"
           }
          ],
          "histogram2dcontour": [
           {
            "colorbar": {
             "outlinewidth": 0,
             "ticks": ""
            },
            "colorscale": [
             [
              0,
              "#0d0887"
             ],
             [
              0.1111111111111111,
              "#46039f"
             ],
             [
              0.2222222222222222,
              "#7201a8"
             ],
             [
              0.3333333333333333,
              "#9c179e"
             ],
             [
              0.4444444444444444,
              "#bd3786"
             ],
             [
              0.5555555555555556,
              "#d8576b"
             ],
             [
              0.6666666666666666,
              "#ed7953"
             ],
             [
              0.7777777777777778,
              "#fb9f3a"
             ],
             [
              0.8888888888888888,
              "#fdca26"
             ],
             [
              1,
              "#f0f921"
             ]
            ],
            "type": "histogram2dcontour"
           }
          ],
          "mesh3d": [
           {
            "colorbar": {
             "outlinewidth": 0,
             "ticks": ""
            },
            "type": "mesh3d"
           }
          ],
          "parcoords": [
           {
            "line": {
             "colorbar": {
              "outlinewidth": 0,
              "ticks": ""
             }
            },
            "type": "parcoords"
           }
          ],
          "pie": [
           {
            "automargin": true,
            "type": "pie"
           }
          ],
          "scatter": [
           {
            "marker": {
             "colorbar": {
              "outlinewidth": 0,
              "ticks": ""
             }
            },
            "type": "scatter"
           }
          ],
          "scatter3d": [
           {
            "line": {
             "colorbar": {
              "outlinewidth": 0,
              "ticks": ""
             }
            },
            "marker": {
             "colorbar": {
              "outlinewidth": 0,
              "ticks": ""
             }
            },
            "type": "scatter3d"
           }
          ],
          "scattercarpet": [
           {
            "marker": {
             "colorbar": {
              "outlinewidth": 0,
              "ticks": ""
             }
            },
            "type": "scattercarpet"
           }
          ],
          "scattergeo": [
           {
            "marker": {
             "colorbar": {
              "outlinewidth": 0,
              "ticks": ""
             }
            },
            "type": "scattergeo"
           }
          ],
          "scattergl": [
           {
            "marker": {
             "colorbar": {
              "outlinewidth": 0,
              "ticks": ""
             }
            },
            "type": "scattergl"
           }
          ],
          "scattermapbox": [
           {
            "marker": {
             "colorbar": {
              "outlinewidth": 0,
              "ticks": ""
             }
            },
            "type": "scattermapbox"
           }
          ],
          "scatterpolar": [
           {
            "marker": {
             "colorbar": {
              "outlinewidth": 0,
              "ticks": ""
             }
            },
            "type": "scatterpolar"
           }
          ],
          "scatterpolargl": [
           {
            "marker": {
             "colorbar": {
              "outlinewidth": 0,
              "ticks": ""
             }
            },
            "type": "scatterpolargl"
           }
          ],
          "scatterternary": [
           {
            "marker": {
             "colorbar": {
              "outlinewidth": 0,
              "ticks": ""
             }
            },
            "type": "scatterternary"
           }
          ],
          "surface": [
           {
            "colorbar": {
             "outlinewidth": 0,
             "ticks": ""
            },
            "colorscale": [
             [
              0,
              "#0d0887"
             ],
             [
              0.1111111111111111,
              "#46039f"
             ],
             [
              0.2222222222222222,
              "#7201a8"
             ],
             [
              0.3333333333333333,
              "#9c179e"
             ],
             [
              0.4444444444444444,
              "#bd3786"
             ],
             [
              0.5555555555555556,
              "#d8576b"
             ],
             [
              0.6666666666666666,
              "#ed7953"
             ],
             [
              0.7777777777777778,
              "#fb9f3a"
             ],
             [
              0.8888888888888888,
              "#fdca26"
             ],
             [
              1,
              "#f0f921"
             ]
            ],
            "type": "surface"
           }
          ],
          "table": [
           {
            "cells": {
             "fill": {
              "color": "#EBF0F8"
             },
             "line": {
              "color": "white"
             }
            },
            "header": {
             "fill": {
              "color": "#C8D4E3"
             },
             "line": {
              "color": "white"
             }
            },
            "type": "table"
           }
          ]
         },
         "layout": {
          "annotationdefaults": {
           "arrowcolor": "#2a3f5f",
           "arrowhead": 0,
           "arrowwidth": 1
          },
          "coloraxis": {
           "colorbar": {
            "outlinewidth": 0,
            "ticks": ""
           }
          },
          "colorscale": {
           "diverging": [
            [
             0,
             "#8e0152"
            ],
            [
             0.1,
             "#c51b7d"
            ],
            [
             0.2,
             "#de77ae"
            ],
            [
             0.3,
             "#f1b6da"
            ],
            [
             0.4,
             "#fde0ef"
            ],
            [
             0.5,
             "#f7f7f7"
            ],
            [
             0.6,
             "#e6f5d0"
            ],
            [
             0.7,
             "#b8e186"
            ],
            [
             0.8,
             "#7fbc41"
            ],
            [
             0.9,
             "#4d9221"
            ],
            [
             1,
             "#276419"
            ]
           ],
           "sequential": [
            [
             0,
             "#0d0887"
            ],
            [
             0.1111111111111111,
             "#46039f"
            ],
            [
             0.2222222222222222,
             "#7201a8"
            ],
            [
             0.3333333333333333,
             "#9c179e"
            ],
            [
             0.4444444444444444,
             "#bd3786"
            ],
            [
             0.5555555555555556,
             "#d8576b"
            ],
            [
             0.6666666666666666,
             "#ed7953"
            ],
            [
             0.7777777777777778,
             "#fb9f3a"
            ],
            [
             0.8888888888888888,
             "#fdca26"
            ],
            [
             1,
             "#f0f921"
            ]
           ],
           "sequentialminus": [
            [
             0,
             "#0d0887"
            ],
            [
             0.1111111111111111,
             "#46039f"
            ],
            [
             0.2222222222222222,
             "#7201a8"
            ],
            [
             0.3333333333333333,
             "#9c179e"
            ],
            [
             0.4444444444444444,
             "#bd3786"
            ],
            [
             0.5555555555555556,
             "#d8576b"
            ],
            [
             0.6666666666666666,
             "#ed7953"
            ],
            [
             0.7777777777777778,
             "#fb9f3a"
            ],
            [
             0.8888888888888888,
             "#fdca26"
            ],
            [
             1,
             "#f0f921"
            ]
           ]
          },
          "colorway": [
           "#636efa",
           "#EF553B",
           "#00cc96",
           "#ab63fa",
           "#FFA15A",
           "#19d3f3",
           "#FF6692",
           "#B6E880",
           "#FF97FF",
           "#FECB52"
          ],
          "font": {
           "color": "#2a3f5f"
          },
          "geo": {
           "bgcolor": "white",
           "lakecolor": "white",
           "landcolor": "#E5ECF6",
           "showlakes": true,
           "showland": true,
           "subunitcolor": "white"
          },
          "hoverlabel": {
           "align": "left"
          },
          "hovermode": "closest",
          "mapbox": {
           "style": "light"
          },
          "paper_bgcolor": "white",
          "plot_bgcolor": "#E5ECF6",
          "polar": {
           "angularaxis": {
            "gridcolor": "white",
            "linecolor": "white",
            "ticks": ""
           },
           "bgcolor": "#E5ECF6",
           "radialaxis": {
            "gridcolor": "white",
            "linecolor": "white",
            "ticks": ""
           }
          },
          "scene": {
           "xaxis": {
            "backgroundcolor": "#E5ECF6",
            "gridcolor": "white",
            "gridwidth": 2,
            "linecolor": "white",
            "showbackground": true,
            "ticks": "",
            "zerolinecolor": "white"
           },
           "yaxis": {
            "backgroundcolor": "#E5ECF6",
            "gridcolor": "white",
            "gridwidth": 2,
            "linecolor": "white",
            "showbackground": true,
            "ticks": "",
            "zerolinecolor": "white"
           },
           "zaxis": {
            "backgroundcolor": "#E5ECF6",
            "gridcolor": "white",
            "gridwidth": 2,
            "linecolor": "white",
            "showbackground": true,
            "ticks": "",
            "zerolinecolor": "white"
           }
          },
          "shapedefaults": {
           "line": {
            "color": "#2a3f5f"
           }
          },
          "ternary": {
           "aaxis": {
            "gridcolor": "white",
            "linecolor": "white",
            "ticks": ""
           },
           "baxis": {
            "gridcolor": "white",
            "linecolor": "white",
            "ticks": ""
           },
           "bgcolor": "#E5ECF6",
           "caxis": {
            "gridcolor": "white",
            "linecolor": "white",
            "ticks": ""
           }
          },
          "title": {
           "x": 0.05
          },
          "xaxis": {
           "automargin": true,
           "gridcolor": "white",
           "linecolor": "white",
           "ticks": "",
           "title": {
            "standoff": 15
           },
           "zerolinecolor": "white",
           "zerolinewidth": 2
          },
          "yaxis": {
           "automargin": true,
           "gridcolor": "white",
           "linecolor": "white",
           "ticks": "",
           "title": {
            "standoff": 15
           },
           "zerolinecolor": "white",
           "zerolinewidth": 2
          }
         }
        }
       }
      },
      "text/html": [
       "<div>\n",
       "        \n",
       "        \n",
       "            <div id=\"b40cfff5-f20b-456d-8849-1470fd6f7691\" class=\"plotly-graph-div\" style=\"height:525px; width:100%;\"></div>\n",
       "            <script type=\"text/javascript\">\n",
       "                require([\"plotly\"], function(Plotly) {\n",
       "                    window.PLOTLYENV=window.PLOTLYENV || {};\n",
       "                    \n",
       "                if (document.getElementById(\"b40cfff5-f20b-456d-8849-1470fd6f7691\")) {\n",
       "                    Plotly.newPlot(\n",
       "                        'b40cfff5-f20b-456d-8849-1470fd6f7691',\n",
       "                        [{\"name\": \"level_1\", \"type\": \"bar\", \"x\": [\"Critical\", \"High\", \"Low\", \"Medium\", \"Not Specified\"], \"y\": [1204481.0439999988, 232268.56699999992, 1288049.0614999984, 1416794.412000001, 246586.99899999992, 1603974.949999998, 1431122.3119999997, 217800.60350000003, 1633707.460499998, 1042382.542, 280417.79200000013, 1539651.7850000013, 1130098.408, 207344.93549999993, 1440919.951999998]}, {\"name\": \"level_2\", \"type\": \"bar\", \"x\": [\"Delivery Truck\", \"Express Air\", \"Regular Air\"], \"y\": [1204481.0439999988, 232268.56699999992, 1288049.0614999984, 1416794.412000001, 246586.99899999992, 1603974.949999998, 1431122.3119999997, 217800.60350000003, 1633707.460499998, 1042382.542, 280417.79200000013, 1539651.7850000013, 1130098.408, 207344.93549999993, 1440919.951999998]}],\n",
       "                        {\"barmode\": \"group\", \"template\": {\"data\": {\"bar\": [{\"error_x\": {\"color\": \"#2a3f5f\"}, \"error_y\": {\"color\": \"#2a3f5f\"}, \"marker\": {\"line\": {\"color\": \"#E5ECF6\", \"width\": 0.5}}, \"type\": \"bar\"}], \"barpolar\": [{\"marker\": {\"line\": {\"color\": \"#E5ECF6\", \"width\": 0.5}}, \"type\": \"barpolar\"}], \"carpet\": [{\"aaxis\": {\"endlinecolor\": \"#2a3f5f\", \"gridcolor\": \"white\", \"linecolor\": \"white\", \"minorgridcolor\": \"white\", \"startlinecolor\": \"#2a3f5f\"}, \"baxis\": {\"endlinecolor\": \"#2a3f5f\", \"gridcolor\": \"white\", \"linecolor\": \"white\", \"minorgridcolor\": \"white\", \"startlinecolor\": \"#2a3f5f\"}, \"type\": \"carpet\"}], \"choropleth\": [{\"colorbar\": {\"outlinewidth\": 0, \"ticks\": \"\"}, \"type\": \"choropleth\"}], \"contour\": [{\"colorbar\": {\"outlinewidth\": 0, \"ticks\": \"\"}, \"colorscale\": [[0.0, \"#0d0887\"], [0.1111111111111111, \"#46039f\"], [0.2222222222222222, \"#7201a8\"], [0.3333333333333333, \"#9c179e\"], [0.4444444444444444, \"#bd3786\"], [0.5555555555555556, \"#d8576b\"], [0.6666666666666666, \"#ed7953\"], [0.7777777777777778, \"#fb9f3a\"], [0.8888888888888888, \"#fdca26\"], [1.0, \"#f0f921\"]], \"type\": \"contour\"}], \"contourcarpet\": [{\"colorbar\": {\"outlinewidth\": 0, \"ticks\": \"\"}, \"type\": \"contourcarpet\"}], \"heatmap\": [{\"colorbar\": {\"outlinewidth\": 0, \"ticks\": \"\"}, \"colorscale\": [[0.0, \"#0d0887\"], [0.1111111111111111, \"#46039f\"], [0.2222222222222222, \"#7201a8\"], [0.3333333333333333, \"#9c179e\"], [0.4444444444444444, \"#bd3786\"], [0.5555555555555556, \"#d8576b\"], [0.6666666666666666, \"#ed7953\"], [0.7777777777777778, \"#fb9f3a\"], [0.8888888888888888, \"#fdca26\"], [1.0, \"#f0f921\"]], \"type\": \"heatmap\"}], \"heatmapgl\": [{\"colorbar\": {\"outlinewidth\": 0, \"ticks\": \"\"}, \"colorscale\": [[0.0, \"#0d0887\"], [0.1111111111111111, \"#46039f\"], [0.2222222222222222, \"#7201a8\"], [0.3333333333333333, \"#9c179e\"], [0.4444444444444444, \"#bd3786\"], [0.5555555555555556, \"#d8576b\"], [0.6666666666666666, \"#ed7953\"], [0.7777777777777778, \"#fb9f3a\"], [0.8888888888888888, \"#fdca26\"], [1.0, \"#f0f921\"]], \"type\": \"heatmapgl\"}], \"histogram\": [{\"marker\": {\"colorbar\": {\"outlinewidth\": 0, \"ticks\": \"\"}}, \"type\": \"histogram\"}], \"histogram2d\": [{\"colorbar\": {\"outlinewidth\": 0, \"ticks\": \"\"}, \"colorscale\": [[0.0, \"#0d0887\"], [0.1111111111111111, \"#46039f\"], [0.2222222222222222, \"#7201a8\"], [0.3333333333333333, \"#9c179e\"], [0.4444444444444444, \"#bd3786\"], [0.5555555555555556, \"#d8576b\"], [0.6666666666666666, \"#ed7953\"], [0.7777777777777778, \"#fb9f3a\"], [0.8888888888888888, \"#fdca26\"], [1.0, \"#f0f921\"]], \"type\": \"histogram2d\"}], \"histogram2dcontour\": [{\"colorbar\": {\"outlinewidth\": 0, \"ticks\": \"\"}, \"colorscale\": [[0.0, \"#0d0887\"], [0.1111111111111111, \"#46039f\"], [0.2222222222222222, \"#7201a8\"], [0.3333333333333333, \"#9c179e\"], [0.4444444444444444, \"#bd3786\"], [0.5555555555555556, \"#d8576b\"], [0.6666666666666666, \"#ed7953\"], [0.7777777777777778, \"#fb9f3a\"], [0.8888888888888888, \"#fdca26\"], [1.0, \"#f0f921\"]], \"type\": \"histogram2dcontour\"}], \"mesh3d\": [{\"colorbar\": {\"outlinewidth\": 0, \"ticks\": \"\"}, \"type\": \"mesh3d\"}], \"parcoords\": [{\"line\": {\"colorbar\": {\"outlinewidth\": 0, \"ticks\": \"\"}}, \"type\": \"parcoords\"}], \"pie\": [{\"automargin\": true, \"type\": \"pie\"}], \"scatter\": [{\"marker\": {\"colorbar\": {\"outlinewidth\": 0, \"ticks\": \"\"}}, \"type\": \"scatter\"}], \"scatter3d\": [{\"line\": {\"colorbar\": {\"outlinewidth\": 0, \"ticks\": \"\"}}, \"marker\": {\"colorbar\": {\"outlinewidth\": 0, \"ticks\": \"\"}}, \"type\": \"scatter3d\"}], \"scattercarpet\": [{\"marker\": {\"colorbar\": {\"outlinewidth\": 0, \"ticks\": \"\"}}, \"type\": \"scattercarpet\"}], \"scattergeo\": [{\"marker\": {\"colorbar\": {\"outlinewidth\": 0, \"ticks\": \"\"}}, \"type\": \"scattergeo\"}], \"scattergl\": [{\"marker\": {\"colorbar\": {\"outlinewidth\": 0, \"ticks\": \"\"}}, \"type\": \"scattergl\"}], \"scattermapbox\": [{\"marker\": {\"colorbar\": {\"outlinewidth\": 0, \"ticks\": \"\"}}, \"type\": \"scattermapbox\"}], \"scatterpolar\": [{\"marker\": {\"colorbar\": {\"outlinewidth\": 0, \"ticks\": \"\"}}, \"type\": \"scatterpolar\"}], \"scatterpolargl\": [{\"marker\": {\"colorbar\": {\"outlinewidth\": 0, \"ticks\": \"\"}}, \"type\": \"scatterpolargl\"}], \"scatterternary\": [{\"marker\": {\"colorbar\": {\"outlinewidth\": 0, \"ticks\": \"\"}}, \"type\": \"scatterternary\"}], \"surface\": [{\"colorbar\": {\"outlinewidth\": 0, \"ticks\": \"\"}, \"colorscale\": [[0.0, \"#0d0887\"], [0.1111111111111111, \"#46039f\"], [0.2222222222222222, \"#7201a8\"], [0.3333333333333333, \"#9c179e\"], [0.4444444444444444, \"#bd3786\"], [0.5555555555555556, \"#d8576b\"], [0.6666666666666666, \"#ed7953\"], [0.7777777777777778, \"#fb9f3a\"], [0.8888888888888888, \"#fdca26\"], [1.0, \"#f0f921\"]], \"type\": \"surface\"}], \"table\": [{\"cells\": {\"fill\": {\"color\": \"#EBF0F8\"}, \"line\": {\"color\": \"white\"}}, \"header\": {\"fill\": {\"color\": \"#C8D4E3\"}, \"line\": {\"color\": \"white\"}}, \"type\": \"table\"}]}, \"layout\": {\"annotationdefaults\": {\"arrowcolor\": \"#2a3f5f\", \"arrowhead\": 0, \"arrowwidth\": 1}, \"coloraxis\": {\"colorbar\": {\"outlinewidth\": 0, \"ticks\": \"\"}}, \"colorscale\": {\"diverging\": [[0, \"#8e0152\"], [0.1, \"#c51b7d\"], [0.2, \"#de77ae\"], [0.3, \"#f1b6da\"], [0.4, \"#fde0ef\"], [0.5, \"#f7f7f7\"], [0.6, \"#e6f5d0\"], [0.7, \"#b8e186\"], [0.8, \"#7fbc41\"], [0.9, \"#4d9221\"], [1, \"#276419\"]], \"sequential\": [[0.0, \"#0d0887\"], [0.1111111111111111, \"#46039f\"], [0.2222222222222222, \"#7201a8\"], [0.3333333333333333, \"#9c179e\"], [0.4444444444444444, \"#bd3786\"], [0.5555555555555556, \"#d8576b\"], [0.6666666666666666, \"#ed7953\"], [0.7777777777777778, \"#fb9f3a\"], [0.8888888888888888, \"#fdca26\"], [1.0, \"#f0f921\"]], \"sequentialminus\": [[0.0, \"#0d0887\"], [0.1111111111111111, \"#46039f\"], [0.2222222222222222, \"#7201a8\"], [0.3333333333333333, \"#9c179e\"], [0.4444444444444444, \"#bd3786\"], [0.5555555555555556, \"#d8576b\"], [0.6666666666666666, \"#ed7953\"], [0.7777777777777778, \"#fb9f3a\"], [0.8888888888888888, \"#fdca26\"], [1.0, \"#f0f921\"]]}, \"colorway\": [\"#636efa\", \"#EF553B\", \"#00cc96\", \"#ab63fa\", \"#FFA15A\", \"#19d3f3\", \"#FF6692\", \"#B6E880\", \"#FF97FF\", \"#FECB52\"], \"font\": {\"color\": \"#2a3f5f\"}, \"geo\": {\"bgcolor\": \"white\", \"lakecolor\": \"white\", \"landcolor\": \"#E5ECF6\", \"showlakes\": true, \"showland\": true, \"subunitcolor\": \"white\"}, \"hoverlabel\": {\"align\": \"left\"}, \"hovermode\": \"closest\", \"mapbox\": {\"style\": \"light\"}, \"paper_bgcolor\": \"white\", \"plot_bgcolor\": \"#E5ECF6\", \"polar\": {\"angularaxis\": {\"gridcolor\": \"white\", \"linecolor\": \"white\", \"ticks\": \"\"}, \"bgcolor\": \"#E5ECF6\", \"radialaxis\": {\"gridcolor\": \"white\", \"linecolor\": \"white\", \"ticks\": \"\"}}, \"scene\": {\"xaxis\": {\"backgroundcolor\": \"#E5ECF6\", \"gridcolor\": \"white\", \"gridwidth\": 2, \"linecolor\": \"white\", \"showbackground\": true, \"ticks\": \"\", \"zerolinecolor\": \"white\"}, \"yaxis\": {\"backgroundcolor\": \"#E5ECF6\", \"gridcolor\": \"white\", \"gridwidth\": 2, \"linecolor\": \"white\", \"showbackground\": true, \"ticks\": \"\", \"zerolinecolor\": \"white\"}, \"zaxis\": {\"backgroundcolor\": \"#E5ECF6\", \"gridcolor\": \"white\", \"gridwidth\": 2, \"linecolor\": \"white\", \"showbackground\": true, \"ticks\": \"\", \"zerolinecolor\": \"white\"}}, \"shapedefaults\": {\"line\": {\"color\": \"#2a3f5f\"}}, \"ternary\": {\"aaxis\": {\"gridcolor\": \"white\", \"linecolor\": \"white\", \"ticks\": \"\"}, \"baxis\": {\"gridcolor\": \"white\", \"linecolor\": \"white\", \"ticks\": \"\"}, \"bgcolor\": \"#E5ECF6\", \"caxis\": {\"gridcolor\": \"white\", \"linecolor\": \"white\", \"ticks\": \"\"}}, \"title\": {\"x\": 0.05}, \"xaxis\": {\"automargin\": true, \"gridcolor\": \"white\", \"linecolor\": \"white\", \"ticks\": \"\", \"title\": {\"standoff\": 15}, \"zerolinecolor\": \"white\", \"zerolinewidth\": 2}, \"yaxis\": {\"automargin\": true, \"gridcolor\": \"white\", \"linecolor\": \"white\", \"ticks\": \"\", \"title\": {\"standoff\": 15}, \"zerolinecolor\": \"white\", \"zerolinewidth\": 2}}}},\n",
       "                        {\"responsive\": true}\n",
       "                    ).then(function(){\n",
       "                            \n",
       "var gd = document.getElementById('b40cfff5-f20b-456d-8849-1470fd6f7691');\n",
       "var x = new MutationObserver(function (mutations, observer) {{\n",
       "        var display = window.getComputedStyle(gd).display;\n",
       "        if (!display || display === 'none') {{\n",
       "            console.log([gd, 'removed!']);\n",
       "            Plotly.purge(gd);\n",
       "            observer.disconnect();\n",
       "        }}\n",
       "}});\n",
       "\n",
       "// Listen for the removal of the full notebook cells\n",
       "var notebookContainer = gd.closest('#notebook-container');\n",
       "if (notebookContainer) {{\n",
       "    x.observe(notebookContainer, {childList: true});\n",
       "}}\n",
       "\n",
       "// Listen for the clearing of the current output cell\n",
       "var outputEl = gd.closest('.output');\n",
       "if (outputEl) {{\n",
       "    x.observe(outputEl, {childList: true});\n",
       "}}\n",
       "\n",
       "                        })\n",
       "                };\n",
       "                });\n",
       "            </script>\n",
       "        </div>"
      ]
     },
     "metadata": {},
     "output_type": "display_data"
    }
   ],
   "source": [
    "figure_3 = go.Figure(data=[\n",
    "    go.Bar(x=level1,y=sales_values, name='level_1'),\n",
    "    go.Bar(x=level2,y=sales_values, name='level_2')\n",
    "    ]\n",
    "    )\n",
    "figure_3.update_layout(barmode='group')\n",
    "figure_3.show()"
   ]
  },
  {
   "cell_type": "code",
   "execution_count": 136,
   "metadata": {},
   "outputs": [
    {
     "data": {
      "application/vnd.plotly.v1+json": {
       "config": {
        "plotlyServerURL": "https://plot.ly"
       },
       "data": [
        {
         "marker": {
          "color": "slateblue"
         },
         "name": "level_1",
         "text": [
          "1204481.0439999988",
          "232268.56699999992",
          "1288049.0614999984",
          "1416794.412000001",
          "246586.99899999992",
          "1603974.949999998",
          "1431122.3119999997",
          "217800.60350000003",
          "1633707.460499998",
          "1042382.542",
          "280417.79200000013",
          "1539651.7850000013",
          "1130098.408",
          "207344.93549999993",
          "1440919.951999998"
         ],
         "textposition": "outside",
         "texttemplate": "%{text:.3s}",
         "type": "bar",
         "x": [
          "Critical",
          "High",
          "Low",
          "Medium",
          "Not Specified"
         ],
         "y": [
          1204481.0439999988,
          232268.56699999992,
          1288049.0614999984,
          1416794.412000001,
          246586.99899999992,
          1603974.949999998,
          1431122.3119999997,
          217800.60350000003,
          1633707.460499998,
          1042382.542,
          280417.79200000013,
          1539651.7850000013,
          1130098.408,
          207344.93549999993,
          1440919.951999998
         ]
        },
        {
         "marker": {
          "color": "springgreen"
         },
         "name": "level_2",
         "text": [
          "1204481.0439999988",
          "232268.56699999992",
          "1288049.0614999984",
          "1416794.412000001",
          "246586.99899999992",
          "1603974.949999998",
          "1431122.3119999997",
          "217800.60350000003",
          "1633707.460499998",
          "1042382.542",
          "280417.79200000013",
          "1539651.7850000013",
          "1130098.408",
          "207344.93549999993",
          "1440919.951999998"
         ],
         "textposition": "outside",
         "texttemplate": "%{text:.3s}",
         "type": "bar",
         "x": [
          "Delivery Truck",
          "Express Air",
          "Regular Air"
         ],
         "y": [
          1204481.0439999988,
          232268.56699999992,
          1288049.0614999984,
          1416794.412000001,
          246586.99899999992,
          1603974.949999998,
          1431122.3119999997,
          217800.60350000003,
          1633707.460499998,
          1042382.542,
          280417.79200000013,
          1539651.7850000013,
          1130098.408,
          207344.93549999993,
          1440919.951999998
         ]
        }
       ],
       "layout": {
        "barmode": "group",
        "template": {
         "data": {
          "bar": [
           {
            "error_x": {
             "color": "#2a3f5f"
            },
            "error_y": {
             "color": "#2a3f5f"
            },
            "marker": {
             "line": {
              "color": "#E5ECF6",
              "width": 0.5
             }
            },
            "type": "bar"
           }
          ],
          "barpolar": [
           {
            "marker": {
             "line": {
              "color": "#E5ECF6",
              "width": 0.5
             }
            },
            "type": "barpolar"
           }
          ],
          "carpet": [
           {
            "aaxis": {
             "endlinecolor": "#2a3f5f",
             "gridcolor": "white",
             "linecolor": "white",
             "minorgridcolor": "white",
             "startlinecolor": "#2a3f5f"
            },
            "baxis": {
             "endlinecolor": "#2a3f5f",
             "gridcolor": "white",
             "linecolor": "white",
             "minorgridcolor": "white",
             "startlinecolor": "#2a3f5f"
            },
            "type": "carpet"
           }
          ],
          "choropleth": [
           {
            "colorbar": {
             "outlinewidth": 0,
             "ticks": ""
            },
            "type": "choropleth"
           }
          ],
          "contour": [
           {
            "colorbar": {
             "outlinewidth": 0,
             "ticks": ""
            },
            "colorscale": [
             [
              0,
              "#0d0887"
             ],
             [
              0.1111111111111111,
              "#46039f"
             ],
             [
              0.2222222222222222,
              "#7201a8"
             ],
             [
              0.3333333333333333,
              "#9c179e"
             ],
             [
              0.4444444444444444,
              "#bd3786"
             ],
             [
              0.5555555555555556,
              "#d8576b"
             ],
             [
              0.6666666666666666,
              "#ed7953"
             ],
             [
              0.7777777777777778,
              "#fb9f3a"
             ],
             [
              0.8888888888888888,
              "#fdca26"
             ],
             [
              1,
              "#f0f921"
             ]
            ],
            "type": "contour"
           }
          ],
          "contourcarpet": [
           {
            "colorbar": {
             "outlinewidth": 0,
             "ticks": ""
            },
            "type": "contourcarpet"
           }
          ],
          "heatmap": [
           {
            "colorbar": {
             "outlinewidth": 0,
             "ticks": ""
            },
            "colorscale": [
             [
              0,
              "#0d0887"
             ],
             [
              0.1111111111111111,
              "#46039f"
             ],
             [
              0.2222222222222222,
              "#7201a8"
             ],
             [
              0.3333333333333333,
              "#9c179e"
             ],
             [
              0.4444444444444444,
              "#bd3786"
             ],
             [
              0.5555555555555556,
              "#d8576b"
             ],
             [
              0.6666666666666666,
              "#ed7953"
             ],
             [
              0.7777777777777778,
              "#fb9f3a"
             ],
             [
              0.8888888888888888,
              "#fdca26"
             ],
             [
              1,
              "#f0f921"
             ]
            ],
            "type": "heatmap"
           }
          ],
          "heatmapgl": [
           {
            "colorbar": {
             "outlinewidth": 0,
             "ticks": ""
            },
            "colorscale": [
             [
              0,
              "#0d0887"
             ],
             [
              0.1111111111111111,
              "#46039f"
             ],
             [
              0.2222222222222222,
              "#7201a8"
             ],
             [
              0.3333333333333333,
              "#9c179e"
             ],
             [
              0.4444444444444444,
              "#bd3786"
             ],
             [
              0.5555555555555556,
              "#d8576b"
             ],
             [
              0.6666666666666666,
              "#ed7953"
             ],
             [
              0.7777777777777778,
              "#fb9f3a"
             ],
             [
              0.8888888888888888,
              "#fdca26"
             ],
             [
              1,
              "#f0f921"
             ]
            ],
            "type": "heatmapgl"
           }
          ],
          "histogram": [
           {
            "marker": {
             "colorbar": {
              "outlinewidth": 0,
              "ticks": ""
             }
            },
            "type": "histogram"
           }
          ],
          "histogram2d": [
           {
            "colorbar": {
             "outlinewidth": 0,
             "ticks": ""
            },
            "colorscale": [
             [
              0,
              "#0d0887"
             ],
             [
              0.1111111111111111,
              "#46039f"
             ],
             [
              0.2222222222222222,
              "#7201a8"
             ],
             [
              0.3333333333333333,
              "#9c179e"
             ],
             [
              0.4444444444444444,
              "#bd3786"
             ],
             [
              0.5555555555555556,
              "#d8576b"
             ],
             [
              0.6666666666666666,
              "#ed7953"
             ],
             [
              0.7777777777777778,
              "#fb9f3a"
             ],
             [
              0.8888888888888888,
              "#fdca26"
             ],
             [
              1,
              "#f0f921"
             ]
            ],
            "type": "histogram2d"
           }
          ],
          "histogram2dcontour": [
           {
            "colorbar": {
             "outlinewidth": 0,
             "ticks": ""
            },
            "colorscale": [
             [
              0,
              "#0d0887"
             ],
             [
              0.1111111111111111,
              "#46039f"
             ],
             [
              0.2222222222222222,
              "#7201a8"
             ],
             [
              0.3333333333333333,
              "#9c179e"
             ],
             [
              0.4444444444444444,
              "#bd3786"
             ],
             [
              0.5555555555555556,
              "#d8576b"
             ],
             [
              0.6666666666666666,
              "#ed7953"
             ],
             [
              0.7777777777777778,
              "#fb9f3a"
             ],
             [
              0.8888888888888888,
              "#fdca26"
             ],
             [
              1,
              "#f0f921"
             ]
            ],
            "type": "histogram2dcontour"
           }
          ],
          "mesh3d": [
           {
            "colorbar": {
             "outlinewidth": 0,
             "ticks": ""
            },
            "type": "mesh3d"
           }
          ],
          "parcoords": [
           {
            "line": {
             "colorbar": {
              "outlinewidth": 0,
              "ticks": ""
             }
            },
            "type": "parcoords"
           }
          ],
          "pie": [
           {
            "automargin": true,
            "type": "pie"
           }
          ],
          "scatter": [
           {
            "marker": {
             "colorbar": {
              "outlinewidth": 0,
              "ticks": ""
             }
            },
            "type": "scatter"
           }
          ],
          "scatter3d": [
           {
            "line": {
             "colorbar": {
              "outlinewidth": 0,
              "ticks": ""
             }
            },
            "marker": {
             "colorbar": {
              "outlinewidth": 0,
              "ticks": ""
             }
            },
            "type": "scatter3d"
           }
          ],
          "scattercarpet": [
           {
            "marker": {
             "colorbar": {
              "outlinewidth": 0,
              "ticks": ""
             }
            },
            "type": "scattercarpet"
           }
          ],
          "scattergeo": [
           {
            "marker": {
             "colorbar": {
              "outlinewidth": 0,
              "ticks": ""
             }
            },
            "type": "scattergeo"
           }
          ],
          "scattergl": [
           {
            "marker": {
             "colorbar": {
              "outlinewidth": 0,
              "ticks": ""
             }
            },
            "type": "scattergl"
           }
          ],
          "scattermapbox": [
           {
            "marker": {
             "colorbar": {
              "outlinewidth": 0,
              "ticks": ""
             }
            },
            "type": "scattermapbox"
           }
          ],
          "scatterpolar": [
           {
            "marker": {
             "colorbar": {
              "outlinewidth": 0,
              "ticks": ""
             }
            },
            "type": "scatterpolar"
           }
          ],
          "scatterpolargl": [
           {
            "marker": {
             "colorbar": {
              "outlinewidth": 0,
              "ticks": ""
             }
            },
            "type": "scatterpolargl"
           }
          ],
          "scatterternary": [
           {
            "marker": {
             "colorbar": {
              "outlinewidth": 0,
              "ticks": ""
             }
            },
            "type": "scatterternary"
           }
          ],
          "surface": [
           {
            "colorbar": {
             "outlinewidth": 0,
             "ticks": ""
            },
            "colorscale": [
             [
              0,
              "#0d0887"
             ],
             [
              0.1111111111111111,
              "#46039f"
             ],
             [
              0.2222222222222222,
              "#7201a8"
             ],
             [
              0.3333333333333333,
              "#9c179e"
             ],
             [
              0.4444444444444444,
              "#bd3786"
             ],
             [
              0.5555555555555556,
              "#d8576b"
             ],
             [
              0.6666666666666666,
              "#ed7953"
             ],
             [
              0.7777777777777778,
              "#fb9f3a"
             ],
             [
              0.8888888888888888,
              "#fdca26"
             ],
             [
              1,
              "#f0f921"
             ]
            ],
            "type": "surface"
           }
          ],
          "table": [
           {
            "cells": {
             "fill": {
              "color": "#EBF0F8"
             },
             "line": {
              "color": "white"
             }
            },
            "header": {
             "fill": {
              "color": "#C8D4E3"
             },
             "line": {
              "color": "white"
             }
            },
            "type": "table"
           }
          ]
         },
         "layout": {
          "annotationdefaults": {
           "arrowcolor": "#2a3f5f",
           "arrowhead": 0,
           "arrowwidth": 1
          },
          "coloraxis": {
           "colorbar": {
            "outlinewidth": 0,
            "ticks": ""
           }
          },
          "colorscale": {
           "diverging": [
            [
             0,
             "#8e0152"
            ],
            [
             0.1,
             "#c51b7d"
            ],
            [
             0.2,
             "#de77ae"
            ],
            [
             0.3,
             "#f1b6da"
            ],
            [
             0.4,
             "#fde0ef"
            ],
            [
             0.5,
             "#f7f7f7"
            ],
            [
             0.6,
             "#e6f5d0"
            ],
            [
             0.7,
             "#b8e186"
            ],
            [
             0.8,
             "#7fbc41"
            ],
            [
             0.9,
             "#4d9221"
            ],
            [
             1,
             "#276419"
            ]
           ],
           "sequential": [
            [
             0,
             "#0d0887"
            ],
            [
             0.1111111111111111,
             "#46039f"
            ],
            [
             0.2222222222222222,
             "#7201a8"
            ],
            [
             0.3333333333333333,
             "#9c179e"
            ],
            [
             0.4444444444444444,
             "#bd3786"
            ],
            [
             0.5555555555555556,
             "#d8576b"
            ],
            [
             0.6666666666666666,
             "#ed7953"
            ],
            [
             0.7777777777777778,
             "#fb9f3a"
            ],
            [
             0.8888888888888888,
             "#fdca26"
            ],
            [
             1,
             "#f0f921"
            ]
           ],
           "sequentialminus": [
            [
             0,
             "#0d0887"
            ],
            [
             0.1111111111111111,
             "#46039f"
            ],
            [
             0.2222222222222222,
             "#7201a8"
            ],
            [
             0.3333333333333333,
             "#9c179e"
            ],
            [
             0.4444444444444444,
             "#bd3786"
            ],
            [
             0.5555555555555556,
             "#d8576b"
            ],
            [
             0.6666666666666666,
             "#ed7953"
            ],
            [
             0.7777777777777778,
             "#fb9f3a"
            ],
            [
             0.8888888888888888,
             "#fdca26"
            ],
            [
             1,
             "#f0f921"
            ]
           ]
          },
          "colorway": [
           "#636efa",
           "#EF553B",
           "#00cc96",
           "#ab63fa",
           "#FFA15A",
           "#19d3f3",
           "#FF6692",
           "#B6E880",
           "#FF97FF",
           "#FECB52"
          ],
          "font": {
           "color": "#2a3f5f"
          },
          "geo": {
           "bgcolor": "white",
           "lakecolor": "white",
           "landcolor": "#E5ECF6",
           "showlakes": true,
           "showland": true,
           "subunitcolor": "white"
          },
          "hoverlabel": {
           "align": "left"
          },
          "hovermode": "closest",
          "mapbox": {
           "style": "light"
          },
          "paper_bgcolor": "white",
          "plot_bgcolor": "#E5ECF6",
          "polar": {
           "angularaxis": {
            "gridcolor": "white",
            "linecolor": "white",
            "ticks": ""
           },
           "bgcolor": "#E5ECF6",
           "radialaxis": {
            "gridcolor": "white",
            "linecolor": "white",
            "ticks": ""
           }
          },
          "scene": {
           "xaxis": {
            "backgroundcolor": "#E5ECF6",
            "gridcolor": "white",
            "gridwidth": 2,
            "linecolor": "white",
            "showbackground": true,
            "ticks": "",
            "zerolinecolor": "white"
           },
           "yaxis": {
            "backgroundcolor": "#E5ECF6",
            "gridcolor": "white",
            "gridwidth": 2,
            "linecolor": "white",
            "showbackground": true,
            "ticks": "",
            "zerolinecolor": "white"
           },
           "zaxis": {
            "backgroundcolor": "#E5ECF6",
            "gridcolor": "white",
            "gridwidth": 2,
            "linecolor": "white",
            "showbackground": true,
            "ticks": "",
            "zerolinecolor": "white"
           }
          },
          "shapedefaults": {
           "line": {
            "color": "#2a3f5f"
           }
          },
          "ternary": {
           "aaxis": {
            "gridcolor": "white",
            "linecolor": "white",
            "ticks": ""
           },
           "baxis": {
            "gridcolor": "white",
            "linecolor": "white",
            "ticks": ""
           },
           "bgcolor": "#E5ECF6",
           "caxis": {
            "gridcolor": "white",
            "linecolor": "white",
            "ticks": ""
           }
          },
          "title": {
           "x": 0.05
          },
          "xaxis": {
           "automargin": true,
           "gridcolor": "white",
           "linecolor": "white",
           "ticks": "",
           "title": {
            "standoff": 15
           },
           "zerolinecolor": "white",
           "zerolinewidth": 2
          },
          "yaxis": {
           "automargin": true,
           "gridcolor": "white",
           "linecolor": "white",
           "ticks": "",
           "title": {
            "standoff": 15
           },
           "zerolinecolor": "white",
           "zerolinewidth": 2
          }
         }
        }
       }
      },
      "text/html": [
       "<div>\n",
       "        \n",
       "        \n",
       "            <div id=\"71b550fe-e738-44ac-82fc-44f124c7e4bb\" class=\"plotly-graph-div\" style=\"height:525px; width:100%;\"></div>\n",
       "            <script type=\"text/javascript\">\n",
       "                require([\"plotly\"], function(Plotly) {\n",
       "                    window.PLOTLYENV=window.PLOTLYENV || {};\n",
       "                    \n",
       "                if (document.getElementById(\"71b550fe-e738-44ac-82fc-44f124c7e4bb\")) {\n",
       "                    Plotly.newPlot(\n",
       "                        '71b550fe-e738-44ac-82fc-44f124c7e4bb',\n",
       "                        [{\"marker\": {\"color\": \"slateblue\"}, \"name\": \"level_1\", \"text\": [\"1204481.0439999988\", \"232268.56699999992\", \"1288049.0614999984\", \"1416794.412000001\", \"246586.99899999992\", \"1603974.949999998\", \"1431122.3119999997\", \"217800.60350000003\", \"1633707.460499998\", \"1042382.542\", \"280417.79200000013\", \"1539651.7850000013\", \"1130098.408\", \"207344.93549999993\", \"1440919.951999998\"], \"textposition\": \"outside\", \"texttemplate\": \"%{text:.3s}\", \"type\": \"bar\", \"x\": [\"Critical\", \"High\", \"Low\", \"Medium\", \"Not Specified\"], \"y\": [1204481.0439999988, 232268.56699999992, 1288049.0614999984, 1416794.412000001, 246586.99899999992, 1603974.949999998, 1431122.3119999997, 217800.60350000003, 1633707.460499998, 1042382.542, 280417.79200000013, 1539651.7850000013, 1130098.408, 207344.93549999993, 1440919.951999998]}, {\"marker\": {\"color\": \"springgreen\"}, \"name\": \"level_2\", \"text\": [\"1204481.0439999988\", \"232268.56699999992\", \"1288049.0614999984\", \"1416794.412000001\", \"246586.99899999992\", \"1603974.949999998\", \"1431122.3119999997\", \"217800.60350000003\", \"1633707.460499998\", \"1042382.542\", \"280417.79200000013\", \"1539651.7850000013\", \"1130098.408\", \"207344.93549999993\", \"1440919.951999998\"], \"textposition\": \"outside\", \"texttemplate\": \"%{text:.3s}\", \"type\": \"bar\", \"x\": [\"Delivery Truck\", \"Express Air\", \"Regular Air\"], \"y\": [1204481.0439999988, 232268.56699999992, 1288049.0614999984, 1416794.412000001, 246586.99899999992, 1603974.949999998, 1431122.3119999997, 217800.60350000003, 1633707.460499998, 1042382.542, 280417.79200000013, 1539651.7850000013, 1130098.408, 207344.93549999993, 1440919.951999998]}],\n",
       "                        {\"barmode\": \"group\", \"template\": {\"data\": {\"bar\": [{\"error_x\": {\"color\": \"#2a3f5f\"}, \"error_y\": {\"color\": \"#2a3f5f\"}, \"marker\": {\"line\": {\"color\": \"#E5ECF6\", \"width\": 0.5}}, \"type\": \"bar\"}], \"barpolar\": [{\"marker\": {\"line\": {\"color\": \"#E5ECF6\", \"width\": 0.5}}, \"type\": \"barpolar\"}], \"carpet\": [{\"aaxis\": {\"endlinecolor\": \"#2a3f5f\", \"gridcolor\": \"white\", \"linecolor\": \"white\", \"minorgridcolor\": \"white\", \"startlinecolor\": \"#2a3f5f\"}, \"baxis\": {\"endlinecolor\": \"#2a3f5f\", \"gridcolor\": \"white\", \"linecolor\": \"white\", \"minorgridcolor\": \"white\", \"startlinecolor\": \"#2a3f5f\"}, \"type\": \"carpet\"}], \"choropleth\": [{\"colorbar\": {\"outlinewidth\": 0, \"ticks\": \"\"}, \"type\": \"choropleth\"}], \"contour\": [{\"colorbar\": {\"outlinewidth\": 0, \"ticks\": \"\"}, \"colorscale\": [[0.0, \"#0d0887\"], [0.1111111111111111, \"#46039f\"], [0.2222222222222222, \"#7201a8\"], [0.3333333333333333, \"#9c179e\"], [0.4444444444444444, \"#bd3786\"], [0.5555555555555556, \"#d8576b\"], [0.6666666666666666, \"#ed7953\"], [0.7777777777777778, \"#fb9f3a\"], [0.8888888888888888, \"#fdca26\"], [1.0, \"#f0f921\"]], \"type\": \"contour\"}], \"contourcarpet\": [{\"colorbar\": {\"outlinewidth\": 0, \"ticks\": \"\"}, \"type\": \"contourcarpet\"}], \"heatmap\": [{\"colorbar\": {\"outlinewidth\": 0, \"ticks\": \"\"}, \"colorscale\": [[0.0, \"#0d0887\"], [0.1111111111111111, \"#46039f\"], [0.2222222222222222, \"#7201a8\"], [0.3333333333333333, \"#9c179e\"], [0.4444444444444444, \"#bd3786\"], [0.5555555555555556, \"#d8576b\"], [0.6666666666666666, \"#ed7953\"], [0.7777777777777778, \"#fb9f3a\"], [0.8888888888888888, \"#fdca26\"], [1.0, \"#f0f921\"]], \"type\": \"heatmap\"}], \"heatmapgl\": [{\"colorbar\": {\"outlinewidth\": 0, \"ticks\": \"\"}, \"colorscale\": [[0.0, \"#0d0887\"], [0.1111111111111111, \"#46039f\"], [0.2222222222222222, \"#7201a8\"], [0.3333333333333333, \"#9c179e\"], [0.4444444444444444, \"#bd3786\"], [0.5555555555555556, \"#d8576b\"], [0.6666666666666666, \"#ed7953\"], [0.7777777777777778, \"#fb9f3a\"], [0.8888888888888888, \"#fdca26\"], [1.0, \"#f0f921\"]], \"type\": \"heatmapgl\"}], \"histogram\": [{\"marker\": {\"colorbar\": {\"outlinewidth\": 0, \"ticks\": \"\"}}, \"type\": \"histogram\"}], \"histogram2d\": [{\"colorbar\": {\"outlinewidth\": 0, \"ticks\": \"\"}, \"colorscale\": [[0.0, \"#0d0887\"], [0.1111111111111111, \"#46039f\"], [0.2222222222222222, \"#7201a8\"], [0.3333333333333333, \"#9c179e\"], [0.4444444444444444, \"#bd3786\"], [0.5555555555555556, \"#d8576b\"], [0.6666666666666666, \"#ed7953\"], [0.7777777777777778, \"#fb9f3a\"], [0.8888888888888888, \"#fdca26\"], [1.0, \"#f0f921\"]], \"type\": \"histogram2d\"}], \"histogram2dcontour\": [{\"colorbar\": {\"outlinewidth\": 0, \"ticks\": \"\"}, \"colorscale\": [[0.0, \"#0d0887\"], [0.1111111111111111, \"#46039f\"], [0.2222222222222222, \"#7201a8\"], [0.3333333333333333, \"#9c179e\"], [0.4444444444444444, \"#bd3786\"], [0.5555555555555556, \"#d8576b\"], [0.6666666666666666, \"#ed7953\"], [0.7777777777777778, \"#fb9f3a\"], [0.8888888888888888, \"#fdca26\"], [1.0, \"#f0f921\"]], \"type\": \"histogram2dcontour\"}], \"mesh3d\": [{\"colorbar\": {\"outlinewidth\": 0, \"ticks\": \"\"}, \"type\": \"mesh3d\"}], \"parcoords\": [{\"line\": {\"colorbar\": {\"outlinewidth\": 0, \"ticks\": \"\"}}, \"type\": \"parcoords\"}], \"pie\": [{\"automargin\": true, \"type\": \"pie\"}], \"scatter\": [{\"marker\": {\"colorbar\": {\"outlinewidth\": 0, \"ticks\": \"\"}}, \"type\": \"scatter\"}], \"scatter3d\": [{\"line\": {\"colorbar\": {\"outlinewidth\": 0, \"ticks\": \"\"}}, \"marker\": {\"colorbar\": {\"outlinewidth\": 0, \"ticks\": \"\"}}, \"type\": \"scatter3d\"}], \"scattercarpet\": [{\"marker\": {\"colorbar\": {\"outlinewidth\": 0, \"ticks\": \"\"}}, \"type\": \"scattercarpet\"}], \"scattergeo\": [{\"marker\": {\"colorbar\": {\"outlinewidth\": 0, \"ticks\": \"\"}}, \"type\": \"scattergeo\"}], \"scattergl\": [{\"marker\": {\"colorbar\": {\"outlinewidth\": 0, \"ticks\": \"\"}}, \"type\": \"scattergl\"}], \"scattermapbox\": [{\"marker\": {\"colorbar\": {\"outlinewidth\": 0, \"ticks\": \"\"}}, \"type\": \"scattermapbox\"}], \"scatterpolar\": [{\"marker\": {\"colorbar\": {\"outlinewidth\": 0, \"ticks\": \"\"}}, \"type\": \"scatterpolar\"}], \"scatterpolargl\": [{\"marker\": {\"colorbar\": {\"outlinewidth\": 0, \"ticks\": \"\"}}, \"type\": \"scatterpolargl\"}], \"scatterternary\": [{\"marker\": {\"colorbar\": {\"outlinewidth\": 0, \"ticks\": \"\"}}, \"type\": \"scatterternary\"}], \"surface\": [{\"colorbar\": {\"outlinewidth\": 0, \"ticks\": \"\"}, \"colorscale\": [[0.0, \"#0d0887\"], [0.1111111111111111, \"#46039f\"], [0.2222222222222222, \"#7201a8\"], [0.3333333333333333, \"#9c179e\"], [0.4444444444444444, \"#bd3786\"], [0.5555555555555556, \"#d8576b\"], [0.6666666666666666, \"#ed7953\"], [0.7777777777777778, \"#fb9f3a\"], [0.8888888888888888, \"#fdca26\"], [1.0, \"#f0f921\"]], \"type\": \"surface\"}], \"table\": [{\"cells\": {\"fill\": {\"color\": \"#EBF0F8\"}, \"line\": {\"color\": \"white\"}}, \"header\": {\"fill\": {\"color\": \"#C8D4E3\"}, \"line\": {\"color\": \"white\"}}, \"type\": \"table\"}]}, \"layout\": {\"annotationdefaults\": {\"arrowcolor\": \"#2a3f5f\", \"arrowhead\": 0, \"arrowwidth\": 1}, \"coloraxis\": {\"colorbar\": {\"outlinewidth\": 0, \"ticks\": \"\"}}, \"colorscale\": {\"diverging\": [[0, \"#8e0152\"], [0.1, \"#c51b7d\"], [0.2, \"#de77ae\"], [0.3, \"#f1b6da\"], [0.4, \"#fde0ef\"], [0.5, \"#f7f7f7\"], [0.6, \"#e6f5d0\"], [0.7, \"#b8e186\"], [0.8, \"#7fbc41\"], [0.9, \"#4d9221\"], [1, \"#276419\"]], \"sequential\": [[0.0, \"#0d0887\"], [0.1111111111111111, \"#46039f\"], [0.2222222222222222, \"#7201a8\"], [0.3333333333333333, \"#9c179e\"], [0.4444444444444444, \"#bd3786\"], [0.5555555555555556, \"#d8576b\"], [0.6666666666666666, \"#ed7953\"], [0.7777777777777778, \"#fb9f3a\"], [0.8888888888888888, \"#fdca26\"], [1.0, \"#f0f921\"]], \"sequentialminus\": [[0.0, \"#0d0887\"], [0.1111111111111111, \"#46039f\"], [0.2222222222222222, \"#7201a8\"], [0.3333333333333333, \"#9c179e\"], [0.4444444444444444, \"#bd3786\"], [0.5555555555555556, \"#d8576b\"], [0.6666666666666666, \"#ed7953\"], [0.7777777777777778, \"#fb9f3a\"], [0.8888888888888888, \"#fdca26\"], [1.0, \"#f0f921\"]]}, \"colorway\": [\"#636efa\", \"#EF553B\", \"#00cc96\", \"#ab63fa\", \"#FFA15A\", \"#19d3f3\", \"#FF6692\", \"#B6E880\", \"#FF97FF\", \"#FECB52\"], \"font\": {\"color\": \"#2a3f5f\"}, \"geo\": {\"bgcolor\": \"white\", \"lakecolor\": \"white\", \"landcolor\": \"#E5ECF6\", \"showlakes\": true, \"showland\": true, \"subunitcolor\": \"white\"}, \"hoverlabel\": {\"align\": \"left\"}, \"hovermode\": \"closest\", \"mapbox\": {\"style\": \"light\"}, \"paper_bgcolor\": \"white\", \"plot_bgcolor\": \"#E5ECF6\", \"polar\": {\"angularaxis\": {\"gridcolor\": \"white\", \"linecolor\": \"white\", \"ticks\": \"\"}, \"bgcolor\": \"#E5ECF6\", \"radialaxis\": {\"gridcolor\": \"white\", \"linecolor\": \"white\", \"ticks\": \"\"}}, \"scene\": {\"xaxis\": {\"backgroundcolor\": \"#E5ECF6\", \"gridcolor\": \"white\", \"gridwidth\": 2, \"linecolor\": \"white\", \"showbackground\": true, \"ticks\": \"\", \"zerolinecolor\": \"white\"}, \"yaxis\": {\"backgroundcolor\": \"#E5ECF6\", \"gridcolor\": \"white\", \"gridwidth\": 2, \"linecolor\": \"white\", \"showbackground\": true, \"ticks\": \"\", \"zerolinecolor\": \"white\"}, \"zaxis\": {\"backgroundcolor\": \"#E5ECF6\", \"gridcolor\": \"white\", \"gridwidth\": 2, \"linecolor\": \"white\", \"showbackground\": true, \"ticks\": \"\", \"zerolinecolor\": \"white\"}}, \"shapedefaults\": {\"line\": {\"color\": \"#2a3f5f\"}}, \"ternary\": {\"aaxis\": {\"gridcolor\": \"white\", \"linecolor\": \"white\", \"ticks\": \"\"}, \"baxis\": {\"gridcolor\": \"white\", \"linecolor\": \"white\", \"ticks\": \"\"}, \"bgcolor\": \"#E5ECF6\", \"caxis\": {\"gridcolor\": \"white\", \"linecolor\": \"white\", \"ticks\": \"\"}}, \"title\": {\"x\": 0.05}, \"xaxis\": {\"automargin\": true, \"gridcolor\": \"white\", \"linecolor\": \"white\", \"ticks\": \"\", \"title\": {\"standoff\": 15}, \"zerolinecolor\": \"white\", \"zerolinewidth\": 2}, \"yaxis\": {\"automargin\": true, \"gridcolor\": \"white\", \"linecolor\": \"white\", \"ticks\": \"\", \"title\": {\"standoff\": 15}, \"zerolinecolor\": \"white\", \"zerolinewidth\": 2}}}},\n",
       "                        {\"responsive\": true}\n",
       "                    ).then(function(){\n",
       "                            \n",
       "var gd = document.getElementById('71b550fe-e738-44ac-82fc-44f124c7e4bb');\n",
       "var x = new MutationObserver(function (mutations, observer) {{\n",
       "        var display = window.getComputedStyle(gd).display;\n",
       "        if (!display || display === 'none') {{\n",
       "            console.log([gd, 'removed!']);\n",
       "            Plotly.purge(gd);\n",
       "            observer.disconnect();\n",
       "        }}\n",
       "}});\n",
       "\n",
       "// Listen for the removal of the full notebook cells\n",
       "var notebookContainer = gd.closest('#notebook-container');\n",
       "if (notebookContainer) {{\n",
       "    x.observe(notebookContainer, {childList: true});\n",
       "}}\n",
       "\n",
       "// Listen for the clearing of the current output cell\n",
       "var outputEl = gd.closest('.output');\n",
       "if (outputEl) {{\n",
       "    x.observe(outputEl, {childList: true});\n",
       "}}\n",
       "\n",
       "                        })\n",
       "                };\n",
       "                });\n",
       "            </script>\n",
       "        </div>"
      ]
     },
     "metadata": {},
     "output_type": "display_data"
    }
   ],
   "source": [
    "fig = go.Figure()\n",
    "fig.add_trace(go.Bar(x=level1,y=sales_values, name='level_1',marker_color='slateblue',text=sales_values))\n",
    "fig.add_trace(go.Bar(x=level2,y=sales_values, name='level_2',marker_color='springgreen',text=sales_values))\n",
    "fig.update_layout(barmode='group')\n",
    "fig.update_traces(texttemplate='%{text:.3s}', textposition='outside')\n",
    "fig.show()"
   ]
  },
  {
   "cell_type": "code",
   "execution_count": null,
   "metadata": {},
   "outputs": [],
   "source": []
  }
 ],
 "metadata": {
  "kernelspec": {
   "display_name": "Python 3",
   "language": "python",
   "name": "python3"
  },
  "language_info": {
   "codemirror_mode": {
    "name": "ipython",
    "version": 3
   },
   "file_extension": ".py",
   "mimetype": "text/x-python",
   "name": "python",
   "nbconvert_exporter": "python",
   "pygments_lexer": "ipython3",
   "version": "3.6.8"
  }
 },
 "nbformat": 4,
 "nbformat_minor": 2
}
