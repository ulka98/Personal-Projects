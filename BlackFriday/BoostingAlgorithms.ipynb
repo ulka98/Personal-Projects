{
 "cells": [
  {
   "cell_type": "code",
   "execution_count": null,
   "metadata": {
    "colab": {},
    "colab_type": "code",
    "id": "-NeXMNsTLySA"
   },
   "outputs": [],
   "source": []
  },
  {
   "cell_type": "code",
   "execution_count": 1,
   "metadata": {
    "colab": {
     "base_uri": "https://localhost:8080/",
     "height": 70
    },
    "colab_type": "code",
    "id": "qcvM_9qKytVD",
    "outputId": "33487550-f8c8-4455-f375-00e5ddf63ac3"
   },
   "outputs": [],
   "source": [
    "import numpy as np\n",
    "import pandas as pd\n",
    "import seaborn as sns\n",
    "import matplotlib.pyplot as plt\n",
    "%matplotlib inline"
   ]
  },
  {
   "cell_type": "code",
   "execution_count": 2,
   "metadata": {
    "colab": {},
    "colab_type": "code",
    "id": "EGwd1mCsytVJ"
   },
   "outputs": [],
   "source": [
    "#pre-processing libraries\n",
    "from sklearn.preprocessing import LabelEncoder\n",
    "#from sklearn.preprocessing import Imputer\n",
    "from sklearn.model_selection import train_test_split"
   ]
  },
  {
   "cell_type": "code",
   "execution_count": 3,
   "metadata": {
    "colab": {
     "base_uri": "https://localhost:8080/",
     "height": 514
    },
    "colab_type": "code",
    "id": "nWdrweyJytVM",
    "outputId": "b67d0fcb-3db8-40a2-ac0a-c8243be70866"
   },
   "outputs": [
    {
     "data": {
      "text/html": [
       "<div>\n",
       "<style scoped>\n",
       "    .dataframe tbody tr th:only-of-type {\n",
       "        vertical-align: middle;\n",
       "    }\n",
       "\n",
       "    .dataframe tbody tr th {\n",
       "        vertical-align: top;\n",
       "    }\n",
       "\n",
       "    .dataframe thead th {\n",
       "        text-align: right;\n",
       "    }\n",
       "</style>\n",
       "<table border=\"1\" class=\"dataframe\">\n",
       "  <thead>\n",
       "    <tr style=\"text-align: right;\">\n",
       "      <th></th>\n",
       "      <th>User_ID</th>\n",
       "      <th>Product_ID</th>\n",
       "      <th>Gender</th>\n",
       "      <th>Age</th>\n",
       "      <th>Occupation</th>\n",
       "      <th>City_Category</th>\n",
       "      <th>Stay_In_Current_City_Years</th>\n",
       "      <th>Marital_Status</th>\n",
       "      <th>Product_Category_1</th>\n",
       "      <th>Product_Category_2</th>\n",
       "      <th>Product_Category_3</th>\n",
       "      <th>Purchase</th>\n",
       "    </tr>\n",
       "  </thead>\n",
       "  <tbody>\n",
       "    <tr>\n",
       "      <th>0</th>\n",
       "      <td>1000001</td>\n",
       "      <td>P00069042</td>\n",
       "      <td>F</td>\n",
       "      <td>0-17</td>\n",
       "      <td>10</td>\n",
       "      <td>A</td>\n",
       "      <td>2</td>\n",
       "      <td>0</td>\n",
       "      <td>3</td>\n",
       "      <td>NaN</td>\n",
       "      <td>NaN</td>\n",
       "      <td>8370</td>\n",
       "    </tr>\n",
       "    <tr>\n",
       "      <th>1</th>\n",
       "      <td>1000001</td>\n",
       "      <td>P00248942</td>\n",
       "      <td>F</td>\n",
       "      <td>0-17</td>\n",
       "      <td>10</td>\n",
       "      <td>A</td>\n",
       "      <td>2</td>\n",
       "      <td>0</td>\n",
       "      <td>1</td>\n",
       "      <td>6.0</td>\n",
       "      <td>14.0</td>\n",
       "      <td>15200</td>\n",
       "    </tr>\n",
       "    <tr>\n",
       "      <th>2</th>\n",
       "      <td>1000001</td>\n",
       "      <td>P00087842</td>\n",
       "      <td>F</td>\n",
       "      <td>0-17</td>\n",
       "      <td>10</td>\n",
       "      <td>A</td>\n",
       "      <td>2</td>\n",
       "      <td>0</td>\n",
       "      <td>12</td>\n",
       "      <td>NaN</td>\n",
       "      <td>NaN</td>\n",
       "      <td>1422</td>\n",
       "    </tr>\n",
       "    <tr>\n",
       "      <th>3</th>\n",
       "      <td>1000001</td>\n",
       "      <td>P00085442</td>\n",
       "      <td>F</td>\n",
       "      <td>0-17</td>\n",
       "      <td>10</td>\n",
       "      <td>A</td>\n",
       "      <td>2</td>\n",
       "      <td>0</td>\n",
       "      <td>12</td>\n",
       "      <td>14.0</td>\n",
       "      <td>NaN</td>\n",
       "      <td>1057</td>\n",
       "    </tr>\n",
       "    <tr>\n",
       "      <th>4</th>\n",
       "      <td>1000002</td>\n",
       "      <td>P00285442</td>\n",
       "      <td>M</td>\n",
       "      <td>55+</td>\n",
       "      <td>16</td>\n",
       "      <td>C</td>\n",
       "      <td>4+</td>\n",
       "      <td>0</td>\n",
       "      <td>8</td>\n",
       "      <td>NaN</td>\n",
       "      <td>NaN</td>\n",
       "      <td>7969</td>\n",
       "    </tr>\n",
       "    <tr>\n",
       "      <th>5</th>\n",
       "      <td>1000003</td>\n",
       "      <td>P00193542</td>\n",
       "      <td>M</td>\n",
       "      <td>26-35</td>\n",
       "      <td>15</td>\n",
       "      <td>A</td>\n",
       "      <td>3</td>\n",
       "      <td>0</td>\n",
       "      <td>1</td>\n",
       "      <td>2.0</td>\n",
       "      <td>NaN</td>\n",
       "      <td>15227</td>\n",
       "    </tr>\n",
       "    <tr>\n",
       "      <th>6</th>\n",
       "      <td>1000004</td>\n",
       "      <td>P00184942</td>\n",
       "      <td>M</td>\n",
       "      <td>46-50</td>\n",
       "      <td>7</td>\n",
       "      <td>B</td>\n",
       "      <td>2</td>\n",
       "      <td>1</td>\n",
       "      <td>1</td>\n",
       "      <td>8.0</td>\n",
       "      <td>17.0</td>\n",
       "      <td>19215</td>\n",
       "    </tr>\n",
       "    <tr>\n",
       "      <th>7</th>\n",
       "      <td>1000004</td>\n",
       "      <td>P00346142</td>\n",
       "      <td>M</td>\n",
       "      <td>46-50</td>\n",
       "      <td>7</td>\n",
       "      <td>B</td>\n",
       "      <td>2</td>\n",
       "      <td>1</td>\n",
       "      <td>1</td>\n",
       "      <td>15.0</td>\n",
       "      <td>NaN</td>\n",
       "      <td>15854</td>\n",
       "    </tr>\n",
       "    <tr>\n",
       "      <th>8</th>\n",
       "      <td>1000004</td>\n",
       "      <td>P0097242</td>\n",
       "      <td>M</td>\n",
       "      <td>46-50</td>\n",
       "      <td>7</td>\n",
       "      <td>B</td>\n",
       "      <td>2</td>\n",
       "      <td>1</td>\n",
       "      <td>1</td>\n",
       "      <td>16.0</td>\n",
       "      <td>NaN</td>\n",
       "      <td>15686</td>\n",
       "    </tr>\n",
       "    <tr>\n",
       "      <th>9</th>\n",
       "      <td>1000005</td>\n",
       "      <td>P00274942</td>\n",
       "      <td>M</td>\n",
       "      <td>26-35</td>\n",
       "      <td>20</td>\n",
       "      <td>A</td>\n",
       "      <td>1</td>\n",
       "      <td>1</td>\n",
       "      <td>8</td>\n",
       "      <td>NaN</td>\n",
       "      <td>NaN</td>\n",
       "      <td>7871</td>\n",
       "    </tr>\n",
       "  </tbody>\n",
       "</table>\n",
       "</div>"
      ],
      "text/plain": [
       "   User_ID Product_ID Gender    Age  Occupation City_Category  \\\n",
       "0  1000001  P00069042      F   0-17          10             A   \n",
       "1  1000001  P00248942      F   0-17          10             A   \n",
       "2  1000001  P00087842      F   0-17          10             A   \n",
       "3  1000001  P00085442      F   0-17          10             A   \n",
       "4  1000002  P00285442      M    55+          16             C   \n",
       "5  1000003  P00193542      M  26-35          15             A   \n",
       "6  1000004  P00184942      M  46-50           7             B   \n",
       "7  1000004  P00346142      M  46-50           7             B   \n",
       "8  1000004   P0097242      M  46-50           7             B   \n",
       "9  1000005  P00274942      M  26-35          20             A   \n",
       "\n",
       "  Stay_In_Current_City_Years  Marital_Status  Product_Category_1  \\\n",
       "0                          2               0                   3   \n",
       "1                          2               0                   1   \n",
       "2                          2               0                  12   \n",
       "3                          2               0                  12   \n",
       "4                         4+               0                   8   \n",
       "5                          3               0                   1   \n",
       "6                          2               1                   1   \n",
       "7                          2               1                   1   \n",
       "8                          2               1                   1   \n",
       "9                          1               1                   8   \n",
       "\n",
       "   Product_Category_2  Product_Category_3  Purchase  \n",
       "0                 NaN                 NaN      8370  \n",
       "1                 6.0                14.0     15200  \n",
       "2                 NaN                 NaN      1422  \n",
       "3                14.0                 NaN      1057  \n",
       "4                 NaN                 NaN      7969  \n",
       "5                 2.0                 NaN     15227  \n",
       "6                 8.0                17.0     19215  \n",
       "7                15.0                 NaN     15854  \n",
       "8                16.0                 NaN     15686  \n",
       "9                 NaN                 NaN      7871  "
      ]
     },
     "execution_count": 3,
     "metadata": {},
     "output_type": "execute_result"
    }
   ],
   "source": [
    "train = pd.read_csv('train.csv')\n",
    "train.head(10)"
   ]
  },
  {
   "cell_type": "code",
   "execution_count": 4,
   "metadata": {
    "colab": {
     "base_uri": "https://localhost:8080/",
     "height": 284
    },
    "colab_type": "code",
    "id": "a-Nwn3boytVR",
    "outputId": "d75bc3c5-d693-4d5d-93f1-a05a1e4fa6d5"
   },
   "outputs": [
    {
     "data": {
      "text/html": [
       "<div>\n",
       "<style scoped>\n",
       "    .dataframe tbody tr th:only-of-type {\n",
       "        vertical-align: middle;\n",
       "    }\n",
       "\n",
       "    .dataframe tbody tr th {\n",
       "        vertical-align: top;\n",
       "    }\n",
       "\n",
       "    .dataframe thead th {\n",
       "        text-align: right;\n",
       "    }\n",
       "</style>\n",
       "<table border=\"1\" class=\"dataframe\">\n",
       "  <thead>\n",
       "    <tr style=\"text-align: right;\">\n",
       "      <th></th>\n",
       "      <th>User_ID</th>\n",
       "      <th>Occupation</th>\n",
       "      <th>Marital_Status</th>\n",
       "      <th>Product_Category_1</th>\n",
       "      <th>Product_Category_2</th>\n",
       "      <th>Product_Category_3</th>\n",
       "      <th>Purchase</th>\n",
       "    </tr>\n",
       "  </thead>\n",
       "  <tbody>\n",
       "    <tr>\n",
       "      <th>count</th>\n",
       "      <td>5.500680e+05</td>\n",
       "      <td>550068.000000</td>\n",
       "      <td>550068.000000</td>\n",
       "      <td>550068.000000</td>\n",
       "      <td>376430.000000</td>\n",
       "      <td>166821.000000</td>\n",
       "      <td>550068.000000</td>\n",
       "    </tr>\n",
       "    <tr>\n",
       "      <th>mean</th>\n",
       "      <td>1.003029e+06</td>\n",
       "      <td>8.076707</td>\n",
       "      <td>0.409653</td>\n",
       "      <td>5.404270</td>\n",
       "      <td>9.842329</td>\n",
       "      <td>12.668243</td>\n",
       "      <td>9263.968713</td>\n",
       "    </tr>\n",
       "    <tr>\n",
       "      <th>std</th>\n",
       "      <td>1.727592e+03</td>\n",
       "      <td>6.522660</td>\n",
       "      <td>0.491770</td>\n",
       "      <td>3.936211</td>\n",
       "      <td>5.086590</td>\n",
       "      <td>4.125338</td>\n",
       "      <td>5023.065394</td>\n",
       "    </tr>\n",
       "    <tr>\n",
       "      <th>min</th>\n",
       "      <td>1.000001e+06</td>\n",
       "      <td>0.000000</td>\n",
       "      <td>0.000000</td>\n",
       "      <td>1.000000</td>\n",
       "      <td>2.000000</td>\n",
       "      <td>3.000000</td>\n",
       "      <td>12.000000</td>\n",
       "    </tr>\n",
       "    <tr>\n",
       "      <th>25%</th>\n",
       "      <td>1.001516e+06</td>\n",
       "      <td>2.000000</td>\n",
       "      <td>0.000000</td>\n",
       "      <td>1.000000</td>\n",
       "      <td>5.000000</td>\n",
       "      <td>9.000000</td>\n",
       "      <td>5823.000000</td>\n",
       "    </tr>\n",
       "    <tr>\n",
       "      <th>50%</th>\n",
       "      <td>1.003077e+06</td>\n",
       "      <td>7.000000</td>\n",
       "      <td>0.000000</td>\n",
       "      <td>5.000000</td>\n",
       "      <td>9.000000</td>\n",
       "      <td>14.000000</td>\n",
       "      <td>8047.000000</td>\n",
       "    </tr>\n",
       "    <tr>\n",
       "      <th>75%</th>\n",
       "      <td>1.004478e+06</td>\n",
       "      <td>14.000000</td>\n",
       "      <td>1.000000</td>\n",
       "      <td>8.000000</td>\n",
       "      <td>15.000000</td>\n",
       "      <td>16.000000</td>\n",
       "      <td>12054.000000</td>\n",
       "    </tr>\n",
       "    <tr>\n",
       "      <th>max</th>\n",
       "      <td>1.006040e+06</td>\n",
       "      <td>20.000000</td>\n",
       "      <td>1.000000</td>\n",
       "      <td>20.000000</td>\n",
       "      <td>18.000000</td>\n",
       "      <td>18.000000</td>\n",
       "      <td>23961.000000</td>\n",
       "    </tr>\n",
       "  </tbody>\n",
       "</table>\n",
       "</div>"
      ],
      "text/plain": [
       "            User_ID     Occupation  Marital_Status  Product_Category_1  \\\n",
       "count  5.500680e+05  550068.000000   550068.000000       550068.000000   \n",
       "mean   1.003029e+06       8.076707        0.409653            5.404270   \n",
       "std    1.727592e+03       6.522660        0.491770            3.936211   \n",
       "min    1.000001e+06       0.000000        0.000000            1.000000   \n",
       "25%    1.001516e+06       2.000000        0.000000            1.000000   \n",
       "50%    1.003077e+06       7.000000        0.000000            5.000000   \n",
       "75%    1.004478e+06      14.000000        1.000000            8.000000   \n",
       "max    1.006040e+06      20.000000        1.000000           20.000000   \n",
       "\n",
       "       Product_Category_2  Product_Category_3       Purchase  \n",
       "count       376430.000000       166821.000000  550068.000000  \n",
       "mean             9.842329           12.668243    9263.968713  \n",
       "std              5.086590            4.125338    5023.065394  \n",
       "min              2.000000            3.000000      12.000000  \n",
       "25%              5.000000            9.000000    5823.000000  \n",
       "50%              9.000000           14.000000    8047.000000  \n",
       "75%             15.000000           16.000000   12054.000000  \n",
       "max             18.000000           18.000000   23961.000000  "
      ]
     },
     "execution_count": 4,
     "metadata": {},
     "output_type": "execute_result"
    }
   ],
   "source": [
    "train.describe()"
   ]
  },
  {
   "cell_type": "code",
   "execution_count": 5,
   "metadata": {
    "colab": {
     "base_uri": "https://localhost:8080/",
     "height": 531
    },
    "colab_type": "code",
    "id": "zr9KRXpgytVW",
    "outputId": "284a420a-03b1-4966-f8aa-e14c2532768d"
   },
   "outputs": [
    {
     "data": {
      "text/html": [
       "<div>\n",
       "<style scoped>\n",
       "    .dataframe tbody tr th:only-of-type {\n",
       "        vertical-align: middle;\n",
       "    }\n",
       "\n",
       "    .dataframe tbody tr th {\n",
       "        vertical-align: top;\n",
       "    }\n",
       "\n",
       "    .dataframe thead th {\n",
       "        text-align: right;\n",
       "    }\n",
       "</style>\n",
       "<table border=\"1\" class=\"dataframe\">\n",
       "  <thead>\n",
       "    <tr style=\"text-align: right;\">\n",
       "      <th></th>\n",
       "      <th>User_ID</th>\n",
       "      <th>Product_ID</th>\n",
       "      <th>Gender</th>\n",
       "      <th>Age</th>\n",
       "      <th>Occupation</th>\n",
       "      <th>City_Category</th>\n",
       "      <th>Stay_In_Current_City_Years</th>\n",
       "      <th>Marital_Status</th>\n",
       "      <th>Product_Category_1</th>\n",
       "      <th>Product_Category_2</th>\n",
       "      <th>Product_Category_3</th>\n",
       "    </tr>\n",
       "  </thead>\n",
       "  <tbody>\n",
       "    <tr>\n",
       "      <th>0</th>\n",
       "      <td>1000004</td>\n",
       "      <td>P00128942</td>\n",
       "      <td>M</td>\n",
       "      <td>46-50</td>\n",
       "      <td>7</td>\n",
       "      <td>B</td>\n",
       "      <td>2</td>\n",
       "      <td>1</td>\n",
       "      <td>1</td>\n",
       "      <td>11.0</td>\n",
       "      <td>NaN</td>\n",
       "    </tr>\n",
       "    <tr>\n",
       "      <th>1</th>\n",
       "      <td>1000009</td>\n",
       "      <td>P00113442</td>\n",
       "      <td>M</td>\n",
       "      <td>26-35</td>\n",
       "      <td>17</td>\n",
       "      <td>C</td>\n",
       "      <td>0</td>\n",
       "      <td>0</td>\n",
       "      <td>3</td>\n",
       "      <td>5.0</td>\n",
       "      <td>NaN</td>\n",
       "    </tr>\n",
       "    <tr>\n",
       "      <th>2</th>\n",
       "      <td>1000010</td>\n",
       "      <td>P00288442</td>\n",
       "      <td>F</td>\n",
       "      <td>36-45</td>\n",
       "      <td>1</td>\n",
       "      <td>B</td>\n",
       "      <td>4+</td>\n",
       "      <td>1</td>\n",
       "      <td>5</td>\n",
       "      <td>14.0</td>\n",
       "      <td>NaN</td>\n",
       "    </tr>\n",
       "    <tr>\n",
       "      <th>3</th>\n",
       "      <td>1000010</td>\n",
       "      <td>P00145342</td>\n",
       "      <td>F</td>\n",
       "      <td>36-45</td>\n",
       "      <td>1</td>\n",
       "      <td>B</td>\n",
       "      <td>4+</td>\n",
       "      <td>1</td>\n",
       "      <td>4</td>\n",
       "      <td>9.0</td>\n",
       "      <td>NaN</td>\n",
       "    </tr>\n",
       "    <tr>\n",
       "      <th>4</th>\n",
       "      <td>1000011</td>\n",
       "      <td>P00053842</td>\n",
       "      <td>F</td>\n",
       "      <td>26-35</td>\n",
       "      <td>1</td>\n",
       "      <td>C</td>\n",
       "      <td>1</td>\n",
       "      <td>0</td>\n",
       "      <td>4</td>\n",
       "      <td>5.0</td>\n",
       "      <td>12.0</td>\n",
       "    </tr>\n",
       "    <tr>\n",
       "      <th>5</th>\n",
       "      <td>1000013</td>\n",
       "      <td>P00350442</td>\n",
       "      <td>M</td>\n",
       "      <td>46-50</td>\n",
       "      <td>1</td>\n",
       "      <td>C</td>\n",
       "      <td>3</td>\n",
       "      <td>1</td>\n",
       "      <td>2</td>\n",
       "      <td>3.0</td>\n",
       "      <td>15.0</td>\n",
       "    </tr>\n",
       "    <tr>\n",
       "      <th>6</th>\n",
       "      <td>1000013</td>\n",
       "      <td>P00155442</td>\n",
       "      <td>M</td>\n",
       "      <td>46-50</td>\n",
       "      <td>1</td>\n",
       "      <td>C</td>\n",
       "      <td>3</td>\n",
       "      <td>1</td>\n",
       "      <td>1</td>\n",
       "      <td>11.0</td>\n",
       "      <td>15.0</td>\n",
       "    </tr>\n",
       "    <tr>\n",
       "      <th>7</th>\n",
       "      <td>1000013</td>\n",
       "      <td>P0094542</td>\n",
       "      <td>M</td>\n",
       "      <td>46-50</td>\n",
       "      <td>1</td>\n",
       "      <td>C</td>\n",
       "      <td>3</td>\n",
       "      <td>1</td>\n",
       "      <td>2</td>\n",
       "      <td>4.0</td>\n",
       "      <td>9.0</td>\n",
       "    </tr>\n",
       "    <tr>\n",
       "      <th>8</th>\n",
       "      <td>1000015</td>\n",
       "      <td>P00161842</td>\n",
       "      <td>M</td>\n",
       "      <td>26-35</td>\n",
       "      <td>7</td>\n",
       "      <td>A</td>\n",
       "      <td>1</td>\n",
       "      <td>0</td>\n",
       "      <td>10</td>\n",
       "      <td>13.0</td>\n",
       "      <td>16.0</td>\n",
       "    </tr>\n",
       "    <tr>\n",
       "      <th>9</th>\n",
       "      <td>1000022</td>\n",
       "      <td>P00067942</td>\n",
       "      <td>M</td>\n",
       "      <td>18-25</td>\n",
       "      <td>15</td>\n",
       "      <td>A</td>\n",
       "      <td>4+</td>\n",
       "      <td>0</td>\n",
       "      <td>5</td>\n",
       "      <td>14.0</td>\n",
       "      <td>NaN</td>\n",
       "    </tr>\n",
       "  </tbody>\n",
       "</table>\n",
       "</div>"
      ],
      "text/plain": [
       "   User_ID Product_ID Gender    Age  Occupation City_Category  \\\n",
       "0  1000004  P00128942      M  46-50           7             B   \n",
       "1  1000009  P00113442      M  26-35          17             C   \n",
       "2  1000010  P00288442      F  36-45           1             B   \n",
       "3  1000010  P00145342      F  36-45           1             B   \n",
       "4  1000011  P00053842      F  26-35           1             C   \n",
       "5  1000013  P00350442      M  46-50           1             C   \n",
       "6  1000013  P00155442      M  46-50           1             C   \n",
       "7  1000013   P0094542      M  46-50           1             C   \n",
       "8  1000015  P00161842      M  26-35           7             A   \n",
       "9  1000022  P00067942      M  18-25          15             A   \n",
       "\n",
       "  Stay_In_Current_City_Years  Marital_Status  Product_Category_1  \\\n",
       "0                          2               1                   1   \n",
       "1                          0               0                   3   \n",
       "2                         4+               1                   5   \n",
       "3                         4+               1                   4   \n",
       "4                          1               0                   4   \n",
       "5                          3               1                   2   \n",
       "6                          3               1                   1   \n",
       "7                          3               1                   2   \n",
       "8                          1               0                  10   \n",
       "9                         4+               0                   5   \n",
       "\n",
       "   Product_Category_2  Product_Category_3  \n",
       "0                11.0                 NaN  \n",
       "1                 5.0                 NaN  \n",
       "2                14.0                 NaN  \n",
       "3                 9.0                 NaN  \n",
       "4                 5.0                12.0  \n",
       "5                 3.0                15.0  \n",
       "6                11.0                15.0  \n",
       "7                 4.0                 9.0  \n",
       "8                13.0                16.0  \n",
       "9                14.0                 NaN  "
      ]
     },
     "execution_count": 5,
     "metadata": {},
     "output_type": "execute_result"
    }
   ],
   "source": [
    "test = pd.read_csv('test.csv')\n",
    "test.head(10)"
   ]
  },
  {
   "cell_type": "code",
   "execution_count": 6,
   "metadata": {
    "colab": {
     "base_uri": "https://localhost:8080/",
     "height": 284
    },
    "colab_type": "code",
    "id": "KlHaY5RrytVZ",
    "outputId": "845db7a2-c2a0-4019-b6d6-897692131a34"
   },
   "outputs": [
    {
     "data": {
      "text/html": [
       "<div>\n",
       "<style scoped>\n",
       "    .dataframe tbody tr th:only-of-type {\n",
       "        vertical-align: middle;\n",
       "    }\n",
       "\n",
       "    .dataframe tbody tr th {\n",
       "        vertical-align: top;\n",
       "    }\n",
       "\n",
       "    .dataframe thead th {\n",
       "        text-align: right;\n",
       "    }\n",
       "</style>\n",
       "<table border=\"1\" class=\"dataframe\">\n",
       "  <thead>\n",
       "    <tr style=\"text-align: right;\">\n",
       "      <th></th>\n",
       "      <th>User_ID</th>\n",
       "      <th>Occupation</th>\n",
       "      <th>Marital_Status</th>\n",
       "      <th>Product_Category_1</th>\n",
       "      <th>Product_Category_2</th>\n",
       "      <th>Product_Category_3</th>\n",
       "    </tr>\n",
       "  </thead>\n",
       "  <tbody>\n",
       "    <tr>\n",
       "      <th>count</th>\n",
       "      <td>2.335990e+05</td>\n",
       "      <td>233599.000000</td>\n",
       "      <td>233599.000000</td>\n",
       "      <td>233599.000000</td>\n",
       "      <td>161255.000000</td>\n",
       "      <td>71037.000000</td>\n",
       "    </tr>\n",
       "    <tr>\n",
       "      <th>mean</th>\n",
       "      <td>1.003029e+06</td>\n",
       "      <td>8.085407</td>\n",
       "      <td>0.410070</td>\n",
       "      <td>5.276542</td>\n",
       "      <td>9.849586</td>\n",
       "      <td>12.669454</td>\n",
       "    </tr>\n",
       "    <tr>\n",
       "      <th>std</th>\n",
       "      <td>1.726505e+03</td>\n",
       "      <td>6.521146</td>\n",
       "      <td>0.491847</td>\n",
       "      <td>3.736380</td>\n",
       "      <td>5.094943</td>\n",
       "      <td>4.125944</td>\n",
       "    </tr>\n",
       "    <tr>\n",
       "      <th>min</th>\n",
       "      <td>1.000001e+06</td>\n",
       "      <td>0.000000</td>\n",
       "      <td>0.000000</td>\n",
       "      <td>1.000000</td>\n",
       "      <td>2.000000</td>\n",
       "      <td>3.000000</td>\n",
       "    </tr>\n",
       "    <tr>\n",
       "      <th>25%</th>\n",
       "      <td>1.001527e+06</td>\n",
       "      <td>2.000000</td>\n",
       "      <td>0.000000</td>\n",
       "      <td>1.000000</td>\n",
       "      <td>5.000000</td>\n",
       "      <td>9.000000</td>\n",
       "    </tr>\n",
       "    <tr>\n",
       "      <th>50%</th>\n",
       "      <td>1.003070e+06</td>\n",
       "      <td>7.000000</td>\n",
       "      <td>0.000000</td>\n",
       "      <td>5.000000</td>\n",
       "      <td>9.000000</td>\n",
       "      <td>14.000000</td>\n",
       "    </tr>\n",
       "    <tr>\n",
       "      <th>75%</th>\n",
       "      <td>1.004477e+06</td>\n",
       "      <td>14.000000</td>\n",
       "      <td>1.000000</td>\n",
       "      <td>8.000000</td>\n",
       "      <td>15.000000</td>\n",
       "      <td>16.000000</td>\n",
       "    </tr>\n",
       "    <tr>\n",
       "      <th>max</th>\n",
       "      <td>1.006040e+06</td>\n",
       "      <td>20.000000</td>\n",
       "      <td>1.000000</td>\n",
       "      <td>18.000000</td>\n",
       "      <td>18.000000</td>\n",
       "      <td>18.000000</td>\n",
       "    </tr>\n",
       "  </tbody>\n",
       "</table>\n",
       "</div>"
      ],
      "text/plain": [
       "            User_ID     Occupation  Marital_Status  Product_Category_1  \\\n",
       "count  2.335990e+05  233599.000000   233599.000000       233599.000000   \n",
       "mean   1.003029e+06       8.085407        0.410070            5.276542   \n",
       "std    1.726505e+03       6.521146        0.491847            3.736380   \n",
       "min    1.000001e+06       0.000000        0.000000            1.000000   \n",
       "25%    1.001527e+06       2.000000        0.000000            1.000000   \n",
       "50%    1.003070e+06       7.000000        0.000000            5.000000   \n",
       "75%    1.004477e+06      14.000000        1.000000            8.000000   \n",
       "max    1.006040e+06      20.000000        1.000000           18.000000   \n",
       "\n",
       "       Product_Category_2  Product_Category_3  \n",
       "count       161255.000000        71037.000000  \n",
       "mean             9.849586           12.669454  \n",
       "std              5.094943            4.125944  \n",
       "min              2.000000            3.000000  \n",
       "25%              5.000000            9.000000  \n",
       "50%              9.000000           14.000000  \n",
       "75%             15.000000           16.000000  \n",
       "max             18.000000           18.000000  "
      ]
     },
     "execution_count": 6,
     "metadata": {},
     "output_type": "execute_result"
    }
   ],
   "source": [
    "test.describe()"
   ]
  },
  {
   "cell_type": "code",
   "execution_count": 7,
   "metadata": {
    "colab": {
     "base_uri": "https://localhost:8080/",
     "height": 235
    },
    "colab_type": "code",
    "id": "GUUamKlnytVc",
    "outputId": "7c7db22e-9de0-434d-f8a7-a4a1e5919f75"
   },
   "outputs": [
    {
     "data": {
      "text/plain": [
       "User_ID                            0\n",
       "Product_ID                         0\n",
       "Gender                             0\n",
       "Age                                0\n",
       "Occupation                         0\n",
       "City_Category                      0\n",
       "Stay_In_Current_City_Years         0\n",
       "Marital_Status                     0\n",
       "Product_Category_1                 0\n",
       "Product_Category_2            173638\n",
       "Product_Category_3            383247\n",
       "Purchase                           0\n",
       "dtype: int64"
      ]
     },
     "execution_count": 7,
     "metadata": {},
     "output_type": "execute_result"
    }
   ],
   "source": [
    "train.isnull().sum()"
   ]
  },
  {
   "cell_type": "code",
   "execution_count": 8,
   "metadata": {
    "colab": {
     "base_uri": "https://localhost:8080/",
     "height": 218
    },
    "colab_type": "code",
    "id": "xybh9XE7ytVf",
    "outputId": "ed30de19-1ee9-4e7e-cddd-d8282f4ad88a"
   },
   "outputs": [
    {
     "data": {
      "text/plain": [
       "User_ID                            0\n",
       "Product_ID                         0\n",
       "Gender                             0\n",
       "Age                                0\n",
       "Occupation                         0\n",
       "City_Category                      0\n",
       "Stay_In_Current_City_Years         0\n",
       "Marital_Status                     0\n",
       "Product_Category_1                 0\n",
       "Product_Category_2             72344\n",
       "Product_Category_3            162562\n",
       "dtype: int64"
      ]
     },
     "execution_count": 8,
     "metadata": {},
     "output_type": "execute_result"
    }
   ],
   "source": [
    "test.isnull().sum()"
   ]
  },
  {
   "cell_type": "code",
   "execution_count": 9,
   "metadata": {
    "colab": {
     "base_uri": "https://localhost:8080/",
     "height": 50
    },
    "colab_type": "code",
    "id": "BKvS3FF0ytVi",
    "outputId": "aad29893-f23e-4e6f-979d-1f0ffba40643"
   },
   "outputs": [
    {
     "data": {
      "text/plain": [
       "array(['0-17', '55+', '26-35', '46-50', '51-55', '36-45', '18-25'],\n",
       "      dtype=object)"
      ]
     },
     "execution_count": 9,
     "metadata": {},
     "output_type": "execute_result"
    }
   ],
   "source": [
    "train.Age.unique()"
   ]
  },
  {
   "cell_type": "code",
   "execution_count": 10,
   "metadata": {
    "colab": {
     "base_uri": "https://localhost:8080/",
     "height": 50
    },
    "colab_type": "code",
    "id": "-tx_P2ErytVl",
    "outputId": "1bcdac14-0137-4463-8ef6-47434c3371e2"
   },
   "outputs": [
    {
     "data": {
      "text/plain": [
       "array([10, 16, 15,  7, 20,  9,  1, 12, 17,  0,  3,  4, 11,  8, 19,  2, 18,\n",
       "        5, 14, 13,  6])"
      ]
     },
     "execution_count": 10,
     "metadata": {},
     "output_type": "execute_result"
    }
   ],
   "source": [
    "train.Occupation.unique()"
   ]
  },
  {
   "cell_type": "code",
   "execution_count": 11,
   "metadata": {
    "colab": {
     "base_uri": "https://localhost:8080/",
     "height": 34
    },
    "colab_type": "code",
    "id": "gYENJMP1ytVn",
    "outputId": "7f58e046-706f-4caf-8543-ffe03abd41a8"
   },
   "outputs": [
    {
     "data": {
      "text/plain": [
       "array(['2', '4+', '3', '1', '0'], dtype=object)"
      ]
     },
     "execution_count": 11,
     "metadata": {},
     "output_type": "execute_result"
    }
   ],
   "source": [
    "train.Stay_In_Current_City_Years.unique()"
   ]
  },
  {
   "cell_type": "code",
   "execution_count": 12,
   "metadata": {
    "colab": {
     "base_uri": "https://localhost:8080/",
     "height": 319
    },
    "colab_type": "code",
    "id": "6UE7fZxCytVs",
    "outputId": "949b2279-5889-49fd-b574-deb141321122"
   },
   "outputs": [
    {
     "name": "stdout",
     "output_type": "stream",
     "text": [
      "<class 'pandas.core.frame.DataFrame'>\n",
      "RangeIndex: 233599 entries, 0 to 233598\n",
      "Data columns (total 11 columns):\n",
      " #   Column                      Non-Null Count   Dtype  \n",
      "---  ------                      --------------   -----  \n",
      " 0   User_ID                     233599 non-null  int64  \n",
      " 1   Product_ID                  233599 non-null  object \n",
      " 2   Gender                      233599 non-null  object \n",
      " 3   Age                         233599 non-null  object \n",
      " 4   Occupation                  233599 non-null  int64  \n",
      " 5   City_Category               233599 non-null  object \n",
      " 6   Stay_In_Current_City_Years  233599 non-null  object \n",
      " 7   Marital_Status              233599 non-null  int64  \n",
      " 8   Product_Category_1          233599 non-null  int64  \n",
      " 9   Product_Category_2          161255 non-null  float64\n",
      " 10  Product_Category_3          71037 non-null   float64\n",
      "dtypes: float64(2), int64(4), object(5)\n",
      "memory usage: 19.6+ MB\n"
     ]
    }
   ],
   "source": [
    "test.info()"
   ]
  },
  {
   "cell_type": "code",
   "execution_count": 13,
   "metadata": {
    "colab": {
     "base_uri": "https://localhost:8080/",
     "height": 202
    },
    "colab_type": "code",
    "id": "DZvu0-8KytVw",
    "outputId": "7525f3ad-77ec-4a79-ff57-cf3b04c10330"
   },
   "outputs": [
    {
     "data": {
      "text/plain": [
       "0    16.0\n",
       "1    16.0\n",
       "2    16.0\n",
       "3    16.0\n",
       "4    12.0\n",
       "5    15.0\n",
       "6    15.0\n",
       "7     9.0\n",
       "8    16.0\n",
       "9    16.0\n",
       "Name: Product_Category_3, dtype: float64"
      ]
     },
     "execution_count": 13,
     "metadata": {},
     "output_type": "execute_result"
    }
   ],
   "source": [
    "#Let us simply impute missing values using mode in category 2 and 3\n",
    "train['Product_Category_2'] = train['Product_Category_2'].fillna(train.Product_Category_2.mode()[0])\n",
    "train['Product_Category_3'] = train['Product_Category_3'].fillna(train.Product_Category_3.mode()[0])\n",
    "\n",
    "test['Product_Category_2'] = test['Product_Category_2'].fillna(test.Product_Category_2.mode()[0])\n",
    "test['Product_Category_3'] = test['Product_Category_3'].fillna(test.Product_Category_3.mode()[0])\n",
    "\n",
    "test.Product_Category_3.head(10)"
   ]
  },
  {
   "cell_type": "code",
   "execution_count": 14,
   "metadata": {
    "colab": {
     "base_uri": "https://localhost:8080/",
     "height": 118
    },
    "colab_type": "code",
    "id": "t2TwLq2zytVz",
    "outputId": "5c0c116a-2381-471a-fc1f-1171b7a1fcb5"
   },
   "outputs": [
    {
     "data": {
      "text/plain": [
       "0    16\n",
       "1    14\n",
       "2    16\n",
       "3    16\n",
       "4    16\n",
       "Name: Product_Category_3, dtype: object"
      ]
     },
     "execution_count": 14,
     "metadata": {},
     "output_type": "execute_result"
    }
   ],
   "source": [
    "test[\"Product_Category_2\"] = test.Product_Category_2.apply(lambda x: str(x)[:-2])\n",
    "test[\"Product_Category_3\"] = test.Product_Category_3.apply(lambda x: str(x)[:-2])\n",
    "\n",
    "train[\"Product_Category_2\"] = train.Product_Category_2.apply(lambda x: str(x)[:-2])\n",
    "train[\"Product_Category_3\"] = train.Product_Category_3.apply(lambda x: str(x)[:-2])\n",
    "\n",
    "train.Product_Category_3.head()"
   ]
  },
  {
   "cell_type": "code",
   "execution_count": 15,
   "metadata": {
    "colab": {
     "base_uri": "https://localhost:8080/",
     "height": 289
    },
    "colab_type": "code",
    "id": "DT_zcymM0QWp",
    "outputId": "906d18bb-8f32-4628-bde3-5b0a0b2d163d"
   },
   "outputs": [
    {
     "name": "stdout",
     "output_type": "stream",
     "text": [
      "Collecting category_encoders\n",
      "  Downloading category_encoders-2.5.1.post0-py2.py3-none-any.whl (72 kB)\n",
      "\u001b[K     |████████████████████████████████| 72 kB 1.6 MB/s eta 0:00:01\n",
      "\u001b[?25hRequirement already satisfied: statsmodels>=0.9.0 in /opt/anaconda3/lib/python3.9/site-packages (from category_encoders) (0.13.2)\n",
      "Requirement already satisfied: scipy>=1.0.0 in /opt/anaconda3/lib/python3.9/site-packages (from category_encoders) (1.7.3)\n",
      "Requirement already satisfied: pandas>=1.0.5 in /opt/anaconda3/lib/python3.9/site-packages (from category_encoders) (1.4.2)\n",
      "Requirement already satisfied: patsy>=0.5.1 in /opt/anaconda3/lib/python3.9/site-packages (from category_encoders) (0.5.2)\n",
      "Requirement already satisfied: numpy>=1.14.0 in /opt/anaconda3/lib/python3.9/site-packages (from category_encoders) (1.21.5)\n",
      "Requirement already satisfied: scikit-learn>=0.20.0 in /opt/anaconda3/lib/python3.9/site-packages (from category_encoders) (1.0.2)\n",
      "Requirement already satisfied: python-dateutil>=2.8.1 in /opt/anaconda3/lib/python3.9/site-packages (from pandas>=1.0.5->category_encoders) (2.8.2)\n",
      "Requirement already satisfied: pytz>=2020.1 in /opt/anaconda3/lib/python3.9/site-packages (from pandas>=1.0.5->category_encoders) (2021.3)\n",
      "Requirement already satisfied: six in /opt/anaconda3/lib/python3.9/site-packages (from patsy>=0.5.1->category_encoders) (1.16.0)\n",
      "Requirement already satisfied: threadpoolctl>=2.0.0 in /opt/anaconda3/lib/python3.9/site-packages (from scikit-learn>=0.20.0->category_encoders) (2.2.0)\n",
      "Requirement already satisfied: joblib>=0.11 in /opt/anaconda3/lib/python3.9/site-packages (from scikit-learn>=0.20.0->category_encoders) (1.1.0)\n",
      "Requirement already satisfied: packaging>=21.3 in /opt/anaconda3/lib/python3.9/site-packages (from statsmodels>=0.9.0->category_encoders) (21.3)\n",
      "Requirement already satisfied: pyparsing!=3.0.5,>=2.0.2 in /opt/anaconda3/lib/python3.9/site-packages (from packaging>=21.3->statsmodels>=0.9.0->category_encoders) (3.0.4)\n",
      "Installing collected packages: category-encoders\n",
      "Successfully installed category-encoders-2.5.1.post0\n"
     ]
    }
   ],
   "source": [
    "!pip install category_encoders"
   ]
  },
  {
   "cell_type": "code",
   "execution_count": 16,
   "metadata": {
    "colab": {},
    "colab_type": "code",
    "id": "xtdts8FyytV3"
   },
   "outputs": [],
   "source": [
    "from sklearn.preprocessing import LabelEncoder\n",
    "from sklearn.preprocessing import LabelBinarizer\n",
    "import category_encoders as ce"
   ]
  },
  {
   "cell_type": "code",
   "execution_count": 17,
   "metadata": {
    "colab": {
     "base_uri": "https://localhost:8080/",
     "height": 218
    },
    "colab_type": "code",
    "id": "JOARvsHWVt3R",
    "outputId": "f33a338a-f982-43ec-a5e7-c8ac557bdf18"
   },
   "outputs": [
    {
     "data": {
      "text/plain": [
       "0          2\n",
       "1          2\n",
       "2          2\n",
       "3          2\n",
       "4         4+\n",
       "          ..\n",
       "550063     1\n",
       "550064     3\n",
       "550065    4+\n",
       "550066     2\n",
       "550067    4+\n",
       "Name: Stay_In_Current_City_Years, Length: 550068, dtype: object"
      ]
     },
     "execution_count": 17,
     "metadata": {},
     "output_type": "execute_result"
    }
   ],
   "source": [
    "train['Stay_In_Current_City_Years']"
   ]
  },
  {
   "cell_type": "code",
   "execution_count": 18,
   "metadata": {
    "colab": {},
    "colab_type": "code",
    "id": "VxJv9ZLlytV7"
   },
   "outputs": [],
   "source": [
    "train['Stay_In_Current_City_Years'] = train['Stay_In_Current_City_Years'].replace('4+','4')"
   ]
  },
  {
   "cell_type": "code",
   "execution_count": 19,
   "metadata": {
    "colab": {
     "base_uri": "https://localhost:8080/",
     "height": 218
    },
    "colab_type": "code",
    "id": "aXXKa80EVZb4",
    "outputId": "88302d62-c571-4796-a08f-7f363fdd8f18"
   },
   "outputs": [
    {
     "data": {
      "text/plain": [
       "0         2\n",
       "1         2\n",
       "2         2\n",
       "3         2\n",
       "4         4\n",
       "         ..\n",
       "550063    1\n",
       "550064    3\n",
       "550065    4\n",
       "550066    2\n",
       "550067    4\n",
       "Name: Stay_In_Current_City_Years, Length: 550068, dtype: object"
      ]
     },
     "execution_count": 19,
     "metadata": {},
     "output_type": "execute_result"
    }
   ],
   "source": [
    "train['Stay_In_Current_City_Years']"
   ]
  },
  {
   "cell_type": "code",
   "execution_count": 20,
   "metadata": {
    "colab": {},
    "colab_type": "code",
    "id": "qu5WFHreWNlY"
   },
   "outputs": [],
   "source": [
    "train['Stay_In_Current_City_Years']=train['Stay_In_Current_City_Years'].astype('int64')"
   ]
  },
  {
   "cell_type": "code",
   "execution_count": 21,
   "metadata": {
    "colab": {
     "base_uri": "https://localhost:8080/",
     "height": 218
    },
    "colab_type": "code",
    "id": "GubHTCa9WUvs",
    "outputId": "0ffbabc2-0a6b-447b-aa22-166c048f10b4"
   },
   "outputs": [
    {
     "data": {
      "text/plain": [
       "0         2\n",
       "1         2\n",
       "2         2\n",
       "3         2\n",
       "4         4\n",
       "         ..\n",
       "550063    1\n",
       "550064    3\n",
       "550065    4\n",
       "550066    2\n",
       "550067    4\n",
       "Name: Stay_In_Current_City_Years, Length: 550068, dtype: int64"
      ]
     },
     "execution_count": 21,
     "metadata": {},
     "output_type": "execute_result"
    }
   ],
   "source": [
    "train['Stay_In_Current_City_Years']"
   ]
  },
  {
   "cell_type": "code",
   "execution_count": 22,
   "metadata": {
    "colab": {
     "base_uri": "https://localhost:8080/",
     "height": 218
    },
    "colab_type": "code",
    "id": "F7r0-qmUWofo",
    "outputId": "cc02bca1-7fbe-4bf8-f37d-8580be975aeb",
    "scrolled": true
   },
   "outputs": [
    {
     "data": {
      "text/plain": [
       "0          2\n",
       "1          0\n",
       "2         4+\n",
       "3         4+\n",
       "4          1\n",
       "          ..\n",
       "233594    4+\n",
       "233595    4+\n",
       "233596    4+\n",
       "233597    4+\n",
       "233598    4+\n",
       "Name: Stay_In_Current_City_Years, Length: 233599, dtype: object"
      ]
     },
     "execution_count": 22,
     "metadata": {},
     "output_type": "execute_result"
    }
   ],
   "source": [
    "test['Stay_In_Current_City_Years']"
   ]
  },
  {
   "cell_type": "code",
   "execution_count": 23,
   "metadata": {
    "colab": {},
    "colab_type": "code",
    "id": "2PFeVsdjWof0"
   },
   "outputs": [],
   "source": [
    "test['Stay_In_Current_City_Years'] = test['Stay_In_Current_City_Years'].replace('4+','4')"
   ]
  },
  {
   "cell_type": "code",
   "execution_count": 24,
   "metadata": {
    "colab": {
     "base_uri": "https://localhost:8080/",
     "height": 218
    },
    "colab_type": "code",
    "id": "17RXQ9ziWof7",
    "outputId": "069c1175-a152-4e25-9bbd-c8f394a06d99"
   },
   "outputs": [
    {
     "data": {
      "text/plain": [
       "0         2\n",
       "1         0\n",
       "2         4\n",
       "3         4\n",
       "4         1\n",
       "         ..\n",
       "233594    4\n",
       "233595    4\n",
       "233596    4\n",
       "233597    4\n",
       "233598    4\n",
       "Name: Stay_In_Current_City_Years, Length: 233599, dtype: object"
      ]
     },
     "execution_count": 24,
     "metadata": {},
     "output_type": "execute_result"
    }
   ],
   "source": [
    "test['Stay_In_Current_City_Years']"
   ]
  },
  {
   "cell_type": "code",
   "execution_count": 25,
   "metadata": {
    "colab": {},
    "colab_type": "code",
    "id": "VH6pAJexWof-"
   },
   "outputs": [],
   "source": [
    "test['Stay_In_Current_City_Years']=test['Stay_In_Current_City_Years'].astype('int64')"
   ]
  },
  {
   "cell_type": "code",
   "execution_count": 26,
   "metadata": {
    "colab": {
     "base_uri": "https://localhost:8080/",
     "height": 218
    },
    "colab_type": "code",
    "id": "D5LhoK_NWogB",
    "outputId": "4761a258-9e0e-4726-8749-1ac9e5178d27"
   },
   "outputs": [
    {
     "data": {
      "text/plain": [
       "0         2\n",
       "1         0\n",
       "2         4\n",
       "3         4\n",
       "4         1\n",
       "         ..\n",
       "233594    4\n",
       "233595    4\n",
       "233596    4\n",
       "233597    4\n",
       "233598    4\n",
       "Name: Stay_In_Current_City_Years, Length: 233599, dtype: int64"
      ]
     },
     "execution_count": 26,
     "metadata": {},
     "output_type": "execute_result"
    }
   ],
   "source": [
    "test['Stay_In_Current_City_Years']"
   ]
  },
  {
   "cell_type": "code",
   "execution_count": 27,
   "metadata": {
    "colab": {},
    "colab_type": "code",
    "id": "PZcaVuB0ytV9"
   },
   "outputs": [],
   "source": [
    "feat1 = [\"Gender\", \"Age\"]\n",
    "encoder1 = LabelEncoder()\n",
    "for f1 in feat1:\n",
    "    train[f1] = encoder1.fit_transform(train[f1].astype('str'))"
   ]
  },
  {
   "cell_type": "code",
   "execution_count": 28,
   "metadata": {
    "colab": {},
    "colab_type": "code",
    "id": "cTG7nLSLXQjp"
   },
   "outputs": [],
   "source": [
    "feat2 = [\"Gender\", \"Age\"]\n",
    "encoder2 = LabelEncoder()\n",
    "for f2 in feat2:\n",
    "    test[f2] = encoder2.fit_transform(test[f2].astype('str'))"
   ]
  },
  {
   "cell_type": "code",
   "execution_count": 29,
   "metadata": {
    "colab": {},
    "colab_type": "code",
    "id": "aGTo0T9kytWA"
   },
   "outputs": [],
   "source": [
    "lb = LabelBinarizer()"
   ]
  },
  {
   "cell_type": "code",
   "execution_count": 30,
   "metadata": {
    "colab": {
     "base_uri": "https://localhost:8080/",
     "height": 84
    },
    "colab_type": "code",
    "id": "KhEMUNoDytWE",
    "outputId": "d6789ae6-49ce-45e9-e9ee-c0f98103e10d"
   },
   "outputs": [
    {
     "data": {
      "text/plain": [
       "Index(['User_ID', 'Product_ID', 'Gender', 'Age', 'Occupation', 'City_Category',\n",
       "       'Stay_In_Current_City_Years', 'Marital_Status', 'Product_Category_1',\n",
       "       'Product_Category_2', 'Product_Category_3', 'Purchase'],\n",
       "      dtype='object')"
      ]
     },
     "execution_count": 30,
     "metadata": {},
     "output_type": "execute_result"
    }
   ],
   "source": [
    "train.columns"
   ]
  },
  {
   "cell_type": "code",
   "execution_count": 31,
   "metadata": {
    "colab": {},
    "colab_type": "code",
    "id": "gntwLfu5ytWI"
   },
   "outputs": [],
   "source": [
    "enc_feat = ['Product_Category_1','Product_Category_2', 'Product_Category_3', 'Occupation', 'City_Category',]"
   ]
  },
  {
   "cell_type": "code",
   "execution_count": 32,
   "metadata": {
    "colab": {},
    "colab_type": "code",
    "id": "-yX4K0ryytWO"
   },
   "outputs": [],
   "source": [
    "train_bin = train.copy()\n",
    "encode_bin = ce.BinaryEncoder(cols=enc_feat)\n",
    "train_bin = encode_bin.fit_transform(train_bin)"
   ]
  },
  {
   "cell_type": "code",
   "execution_count": 33,
   "metadata": {
    "colab": {
     "base_uri": "https://localhost:8080/",
     "height": 202
    },
    "colab_type": "code",
    "id": "81JwMGzDytWQ",
    "outputId": "660fbfe1-c2b1-4981-f03e-c9b3fe31fb1a"
   },
   "outputs": [
    {
     "data": {
      "text/plain": [
       "Index(['User_ID', 'Product_ID', 'Gender', 'Age', 'Occupation_0',\n",
       "       'Occupation_1', 'Occupation_2', 'Occupation_3', 'Occupation_4',\n",
       "       'City_Category_0', 'City_Category_1', 'Stay_In_Current_City_Years',\n",
       "       'Marital_Status', 'Product_Category_1_0', 'Product_Category_1_1',\n",
       "       'Product_Category_1_2', 'Product_Category_1_3', 'Product_Category_1_4',\n",
       "       'Product_Category_2_0', 'Product_Category_2_1', 'Product_Category_2_2',\n",
       "       'Product_Category_2_3', 'Product_Category_2_4', 'Product_Category_3_0',\n",
       "       'Product_Category_3_1', 'Product_Category_3_2', 'Product_Category_3_3',\n",
       "       'Purchase'],\n",
       "      dtype='object')"
      ]
     },
     "execution_count": 33,
     "metadata": {},
     "output_type": "execute_result"
    }
   ],
   "source": [
    "train_bin.columns"
   ]
  },
  {
   "cell_type": "code",
   "execution_count": 34,
   "metadata": {
    "colab": {
     "base_uri": "https://localhost:8080/",
     "height": 202
    },
    "colab_type": "code",
    "id": "uwcHcnyBytWT",
    "outputId": "7371a93b-e563-44b0-e3e9-2b19f3db4751"
   },
   "outputs": [
    {
     "data": {
      "text/plain": [
       "Index(['User_ID', 'Product_ID', 'Gender', 'Age', 'Occupation_0',\n",
       "       'Occupation_1', 'Occupation_2', 'Occupation_3', 'Occupation_4',\n",
       "       'City_Category_0', 'City_Category_1', 'Stay_In_Current_City_Years',\n",
       "       'Marital_Status', 'Product_Category_1_0', 'Product_Category_1_1',\n",
       "       'Product_Category_1_2', 'Product_Category_1_3', 'Product_Category_1_4',\n",
       "       'Product_Category_2_0', 'Product_Category_2_1', 'Product_Category_2_2',\n",
       "       'Product_Category_2_3', 'Product_Category_2_4', 'Product_Category_3_0',\n",
       "       'Product_Category_3_1', 'Product_Category_3_2', 'Product_Category_3_3'],\n",
       "      dtype='object')"
      ]
     },
     "execution_count": 34,
     "metadata": {},
     "output_type": "execute_result"
    }
   ],
   "source": [
    "test_bin = test.copy()\n",
    "encode_bin = ce.BinaryEncoder(cols=enc_feat)\n",
    "test_bin = encode_bin.fit_transform(test_bin)\n",
    "test_bin.columns"
   ]
  },
  {
   "cell_type": "code",
   "execution_count": 35,
   "metadata": {
    "colab": {
     "base_uri": "https://localhost:8080/",
     "height": 245
    },
    "colab_type": "code",
    "id": "K4-yTeKdytWV",
    "outputId": "3a9e4036-5289-43e3-daa2-5c70eb1415aa"
   },
   "outputs": [
    {
     "data": {
      "text/html": [
       "<div>\n",
       "<style scoped>\n",
       "    .dataframe tbody tr th:only-of-type {\n",
       "        vertical-align: middle;\n",
       "    }\n",
       "\n",
       "    .dataframe tbody tr th {\n",
       "        vertical-align: top;\n",
       "    }\n",
       "\n",
       "    .dataframe thead th {\n",
       "        text-align: right;\n",
       "    }\n",
       "</style>\n",
       "<table border=\"1\" class=\"dataframe\">\n",
       "  <thead>\n",
       "    <tr style=\"text-align: right;\">\n",
       "      <th></th>\n",
       "      <th>User_ID</th>\n",
       "      <th>Gender</th>\n",
       "      <th>Age</th>\n",
       "      <th>Occupation</th>\n",
       "      <th>Stay_In_Current_City_Years</th>\n",
       "      <th>Marital_Status</th>\n",
       "      <th>Product_Category_1</th>\n",
       "      <th>Purchase</th>\n",
       "      <th>Frequency_prod</th>\n",
       "      <th>Product_Score</th>\n",
       "    </tr>\n",
       "    <tr>\n",
       "      <th>Product_ID</th>\n",
       "      <th></th>\n",
       "      <th></th>\n",
       "      <th></th>\n",
       "      <th></th>\n",
       "      <th></th>\n",
       "      <th></th>\n",
       "      <th></th>\n",
       "      <th></th>\n",
       "      <th></th>\n",
       "      <th></th>\n",
       "    </tr>\n",
       "  </thead>\n",
       "  <tbody>\n",
       "    <tr>\n",
       "      <th>P00000142</th>\n",
       "      <td>1155549402</td>\n",
       "      <td>805</td>\n",
       "      <td>2600</td>\n",
       "      <td>9220</td>\n",
       "      <td>2064</td>\n",
       "      <td>435</td>\n",
       "      <td>3456</td>\n",
       "      <td>12837476</td>\n",
       "      <td>1152</td>\n",
       "      <td>0.0</td>\n",
       "    </tr>\n",
       "    <tr>\n",
       "      <th>P00000242</th>\n",
       "      <td>377161644</td>\n",
       "      <td>285</td>\n",
       "      <td>863</td>\n",
       "      <td>2860</td>\n",
       "      <td>719</td>\n",
       "      <td>140</td>\n",
       "      <td>752</td>\n",
       "      <td>3967496</td>\n",
       "      <td>376</td>\n",
       "      <td>0.0</td>\n",
       "    </tr>\n",
       "    <tr>\n",
       "      <th>P00000342</th>\n",
       "      <td>244674888</td>\n",
       "      <td>175</td>\n",
       "      <td>614</td>\n",
       "      <td>1953</td>\n",
       "      <td>434</td>\n",
       "      <td>97</td>\n",
       "      <td>1220</td>\n",
       "      <td>1296475</td>\n",
       "      <td>244</td>\n",
       "      <td>0.0</td>\n",
       "    </tr>\n",
       "    <tr>\n",
       "      <th>P00000442</th>\n",
       "      <td>92284575</td>\n",
       "      <td>46</td>\n",
       "      <td>204</td>\n",
       "      <td>630</td>\n",
       "      <td>166</td>\n",
       "      <td>38</td>\n",
       "      <td>460</td>\n",
       "      <td>441173</td>\n",
       "      <td>92</td>\n",
       "      <td>0.0</td>\n",
       "    </tr>\n",
       "    <tr>\n",
       "      <th>P00000542</th>\n",
       "      <td>149492005</td>\n",
       "      <td>99</td>\n",
       "      <td>327</td>\n",
       "      <td>1088</td>\n",
       "      <td>302</td>\n",
       "      <td>46</td>\n",
       "      <td>745</td>\n",
       "      <td>807212</td>\n",
       "      <td>149</td>\n",
       "      <td>0.0</td>\n",
       "    </tr>\n",
       "  </tbody>\n",
       "</table>\n",
       "</div>"
      ],
      "text/plain": [
       "               User_ID  Gender   Age  Occupation  Stay_In_Current_City_Years  \\\n",
       "Product_ID                                                                     \n",
       "P00000142   1155549402     805  2600        9220                        2064   \n",
       "P00000242    377161644     285   863        2860                         719   \n",
       "P00000342    244674888     175   614        1953                         434   \n",
       "P00000442     92284575      46   204         630                         166   \n",
       "P00000542    149492005      99   327        1088                         302   \n",
       "\n",
       "            Marital_Status  Product_Category_1  Purchase  Frequency_prod  \\\n",
       "Product_ID                                                                 \n",
       "P00000142              435                3456  12837476            1152   \n",
       "P00000242              140                 752   3967496             376   \n",
       "P00000342               97                1220   1296475             244   \n",
       "P00000442               38                 460    441173              92   \n",
       "P00000542               46                 745    807212             149   \n",
       "\n",
       "            Product_Score  \n",
       "Product_ID                 \n",
       "P00000142             0.0  \n",
       "P00000242             0.0  \n",
       "P00000342             0.0  \n",
       "P00000442             0.0  \n",
       "P00000542             0.0  "
      ]
     },
     "execution_count": 35,
     "metadata": {},
     "output_type": "execute_result"
    }
   ],
   "source": [
    "train_grouped = train.copy()\n",
    "train_grouped['Frequency_prod'] = 1\n",
    "train_grouped['Product_Score'] = 0.0\n",
    "\n",
    "train_grouped_prod = train_grouped.groupby(['Product_ID']).sum()\n",
    "\n",
    "train_grouped_prod.head()"
   ]
  },
  {
   "cell_type": "code",
   "execution_count": 36,
   "metadata": {
    "colab": {
     "base_uri": "https://localhost:8080/",
     "height": 118
    },
    "colab_type": "code",
    "id": "jCwyR2tCytWX",
    "outputId": "bdc13a7c-ab76-4852-dc40-592167a1fc61"
   },
   "outputs": [
    {
     "data": {
      "text/plain": [
       "0    0.612766\n",
       "1    0.200000\n",
       "2    0.129787\n",
       "3    0.048936\n",
       "4    0.079255\n",
       "Name: Product_Score, dtype: float64"
      ]
     },
     "execution_count": 36,
     "metadata": {},
     "output_type": "execute_result"
    }
   ],
   "source": [
    "max_freq_prod = train_grouped_prod.Frequency_prod.max()\n",
    "train_grouped_prod['Product_Score'] = train_grouped_prod['Frequency_prod'].apply(lambda x: float(x)/float(max_freq_prod))\n",
    "train_grouped_prod = train_grouped_prod.reset_index()\n",
    "train_grouped_prod['Product_Score'].head()"
   ]
  },
  {
   "cell_type": "code",
   "execution_count": 37,
   "metadata": {
    "colab": {
     "base_uri": "https://localhost:8080/",
     "height": 245
    },
    "colab_type": "code",
    "id": "hpMmdCWEytWd",
    "outputId": "8c6b6abf-fc43-4997-e1bd-ae9732ce3e12"
   },
   "outputs": [
    {
     "data": {
      "text/html": [
       "<div>\n",
       "<style scoped>\n",
       "    .dataframe tbody tr th:only-of-type {\n",
       "        vertical-align: middle;\n",
       "    }\n",
       "\n",
       "    .dataframe tbody tr th {\n",
       "        vertical-align: top;\n",
       "    }\n",
       "\n",
       "    .dataframe thead th {\n",
       "        text-align: right;\n",
       "    }\n",
       "</style>\n",
       "<table border=\"1\" class=\"dataframe\">\n",
       "  <thead>\n",
       "    <tr style=\"text-align: right;\">\n",
       "      <th></th>\n",
       "      <th>Gender</th>\n",
       "      <th>Age</th>\n",
       "      <th>Occupation</th>\n",
       "      <th>Stay_In_Current_City_Years</th>\n",
       "      <th>Marital_Status</th>\n",
       "      <th>Product_Category_1</th>\n",
       "      <th>Purchase</th>\n",
       "      <th>Frequency_prod</th>\n",
       "      <th>Product_Score</th>\n",
       "      <th>Frequency_user</th>\n",
       "      <th>User_Score</th>\n",
       "    </tr>\n",
       "    <tr>\n",
       "      <th>User_ID</th>\n",
       "      <th></th>\n",
       "      <th></th>\n",
       "      <th></th>\n",
       "      <th></th>\n",
       "      <th></th>\n",
       "      <th></th>\n",
       "      <th></th>\n",
       "      <th></th>\n",
       "      <th></th>\n",
       "      <th></th>\n",
       "      <th></th>\n",
       "    </tr>\n",
       "  </thead>\n",
       "  <tbody>\n",
       "    <tr>\n",
       "      <th>1000001</th>\n",
       "      <td>0</td>\n",
       "      <td>0</td>\n",
       "      <td>350</td>\n",
       "      <td>70</td>\n",
       "      <td>0</td>\n",
       "      <td>213</td>\n",
       "      <td>334093</td>\n",
       "      <td>35</td>\n",
       "      <td>0.0</td>\n",
       "      <td>35</td>\n",
       "      <td>0.0</td>\n",
       "    </tr>\n",
       "    <tr>\n",
       "      <th>1000002</th>\n",
       "      <td>77</td>\n",
       "      <td>462</td>\n",
       "      <td>1232</td>\n",
       "      <td>308</td>\n",
       "      <td>0</td>\n",
       "      <td>354</td>\n",
       "      <td>810472</td>\n",
       "      <td>77</td>\n",
       "      <td>0.0</td>\n",
       "      <td>77</td>\n",
       "      <td>0.0</td>\n",
       "    </tr>\n",
       "    <tr>\n",
       "      <th>1000003</th>\n",
       "      <td>29</td>\n",
       "      <td>58</td>\n",
       "      <td>435</td>\n",
       "      <td>87</td>\n",
       "      <td>0</td>\n",
       "      <td>93</td>\n",
       "      <td>341635</td>\n",
       "      <td>29</td>\n",
       "      <td>0.0</td>\n",
       "      <td>29</td>\n",
       "      <td>0.0</td>\n",
       "    </tr>\n",
       "    <tr>\n",
       "      <th>1000004</th>\n",
       "      <td>14</td>\n",
       "      <td>56</td>\n",
       "      <td>98</td>\n",
       "      <td>28</td>\n",
       "      <td>14</td>\n",
       "      <td>33</td>\n",
       "      <td>206468</td>\n",
       "      <td>14</td>\n",
       "      <td>0.0</td>\n",
       "      <td>14</td>\n",
       "      <td>0.0</td>\n",
       "    </tr>\n",
       "    <tr>\n",
       "      <th>1000005</th>\n",
       "      <td>106</td>\n",
       "      <td>212</td>\n",
       "      <td>2120</td>\n",
       "      <td>106</td>\n",
       "      <td>106</td>\n",
       "      <td>659</td>\n",
       "      <td>821001</td>\n",
       "      <td>106</td>\n",
       "      <td>0.0</td>\n",
       "      <td>106</td>\n",
       "      <td>0.0</td>\n",
       "    </tr>\n",
       "  </tbody>\n",
       "</table>\n",
       "</div>"
      ],
      "text/plain": [
       "         Gender  Age  Occupation  Stay_In_Current_City_Years  Marital_Status  \\\n",
       "User_ID                                                                        \n",
       "1000001       0    0         350                          70               0   \n",
       "1000002      77  462        1232                         308               0   \n",
       "1000003      29   58         435                          87               0   \n",
       "1000004      14   56          98                          28              14   \n",
       "1000005     106  212        2120                         106             106   \n",
       "\n",
       "         Product_Category_1  Purchase  Frequency_prod  Product_Score  \\\n",
       "User_ID                                                                \n",
       "1000001                 213    334093              35            0.0   \n",
       "1000002                 354    810472              77            0.0   \n",
       "1000003                  93    341635              29            0.0   \n",
       "1000004                  33    206468              14            0.0   \n",
       "1000005                 659    821001             106            0.0   \n",
       "\n",
       "         Frequency_user  User_Score  \n",
       "User_ID                              \n",
       "1000001              35         0.0  \n",
       "1000002              77         0.0  \n",
       "1000003              29         0.0  \n",
       "1000004              14         0.0  \n",
       "1000005             106         0.0  "
      ]
     },
     "execution_count": 37,
     "metadata": {},
     "output_type": "execute_result"
    }
   ],
   "source": [
    "train_grouped['Frequency_user'] = 1\n",
    "train_grouped['User_Score'] = 0.0\n",
    "train_grouped_user = train_grouped.groupby(['User_ID']).sum()\n",
    "train_grouped_user.head()"
   ]
  },
  {
   "cell_type": "code",
   "execution_count": 38,
   "metadata": {
    "colab": {
     "base_uri": "https://localhost:8080/",
     "height": 118
    },
    "colab_type": "code",
    "id": "z4yXpEhMytWh",
    "outputId": "c3bfb7d7-2bd5-428b-f56a-c203da453f72"
   },
   "outputs": [
    {
     "data": {
      "text/plain": [
       "0    0.034113\n",
       "1    0.075049\n",
       "2    0.028265\n",
       "3    0.013645\n",
       "4    0.103314\n",
       "Name: User_Score, dtype: float64"
      ]
     },
     "execution_count": 38,
     "metadata": {},
     "output_type": "execute_result"
    }
   ],
   "source": [
    "max_freq_user = train_grouped_user.Frequency_user.max()\n",
    "train_grouped_user['User_Score'] = train_grouped_user['Frequency_user'].apply(lambda x: float(x)/float(max_freq_user))\n",
    "train_grouped_user = train_grouped_user.reset_index()\n",
    "train_grouped_user['User_Score'].head()\n"
   ]
  },
  {
   "cell_type": "code",
   "execution_count": 39,
   "metadata": {
    "colab": {
     "base_uri": "https://localhost:8080/",
     "height": 118
    },
    "colab_type": "code",
    "id": "QAAIoIgEytWk",
    "outputId": "7539c9d7-b576-494c-848a-f814ca95497c"
   },
   "outputs": [
    {
     "data": {
      "text/plain": [
       "0    0.583836\n",
       "1    0.205066\n",
       "2    0.126659\n",
       "3    0.041013\n",
       "4    0.096502\n",
       "Name: Product_Score, dtype: float64"
      ]
     },
     "execution_count": 39,
     "metadata": {},
     "output_type": "execute_result"
    }
   ],
   "source": [
    "test_grouped = test.copy()\n",
    "test_grouped['Frequency_prod'] = 1\n",
    "test_grouped['Product_Score'] = 0.0\n",
    "\n",
    "test_grouped_prod = test_grouped.groupby(['Product_ID']).sum()\n",
    "\n",
    "\n",
    "max_freq_prod = test_grouped_prod.Frequency_prod.max()\n",
    "test_grouped_prod['Product_Score'] = test_grouped_prod['Frequency_prod'].apply(lambda x: float(x)/float(max_freq_prod))\n",
    "test_grouped_prod = test_grouped_prod.reset_index()\n",
    "test_grouped_prod['Product_Score'].head()"
   ]
  },
  {
   "cell_type": "code",
   "execution_count": 40,
   "metadata": {
    "colab": {
     "base_uri": "https://localhost:8080/",
     "height": 118
    },
    "colab_type": "code",
    "id": "eVfIhcntytWn",
    "outputId": "0f068b73-02be-4012-c4ca-2e3ded21197a"
   },
   "outputs": [
    {
     "data": {
      "text/plain": [
       "0    0.027149\n",
       "1    0.067873\n",
       "2    0.027149\n",
       "3    0.002262\n",
       "4    0.101810\n",
       "Name: User_Score, dtype: float64"
      ]
     },
     "execution_count": 40,
     "metadata": {},
     "output_type": "execute_result"
    }
   ],
   "source": [
    "test_grouped['Frequency_user'] = 1\n",
    "test_grouped['User_Score'] = 0.0\n",
    "test_grouped_user = test_grouped.groupby(['User_ID']).sum()\n",
    "\n",
    "max_freq_user = test_grouped_user.Frequency_user.max()\n",
    "test_grouped_user['User_Score'] = test_grouped_user['Frequency_user'].apply(lambda x: float(x)/float(max_freq_user))\n",
    "test_grouped_user = test_grouped_user.reset_index()\n",
    "test_grouped_user['User_Score'].head()\n"
   ]
  },
  {
   "cell_type": "code",
   "execution_count": 41,
   "metadata": {
    "colab": {},
    "colab_type": "code",
    "id": "p62T7JPqytWp"
   },
   "outputs": [],
   "source": [
    "train_new = train.copy()"
   ]
  },
  {
   "cell_type": "code",
   "execution_count": 42,
   "metadata": {
    "colab": {},
    "colab_type": "code",
    "id": "rbeHN28OytWt"
   },
   "outputs": [],
   "source": [
    "test_new = test.copy()"
   ]
  },
  {
   "cell_type": "code",
   "execution_count": 43,
   "metadata": {
    "colab": {},
    "colab_type": "code",
    "id": "YkR5hs2wytWv"
   },
   "outputs": [],
   "source": [
    "for ix,row in train_new.iterrows():\n",
    "    p_score = train_grouped_prod.loc[train_grouped_prod['Product_ID']==row['Product_ID'],'Product_Score'].values[0]\n",
    "    train_new.at[ix,'Product_score']=p_score"
   ]
  },
  {
   "cell_type": "code",
   "execution_count": 44,
   "metadata": {
    "colab": {
     "base_uri": "https://localhost:8080/",
     "height": 118
    },
    "colab_type": "code",
    "id": "dxGVGmR0TP3b",
    "outputId": "481e3feb-58f8-4c53-a569-47443c9b004b"
   },
   "outputs": [
    {
     "data": {
      "text/plain": [
       "0    0.120745\n",
       "1    0.309043\n",
       "2    0.054255\n",
       "3    0.181383\n",
       "4    0.107979\n",
       "Name: Product_score, dtype: float64"
      ]
     },
     "execution_count": 44,
     "metadata": {},
     "output_type": "execute_result"
    }
   ],
   "source": [
    "train_new['Product_score'].head()"
   ]
  },
  {
   "cell_type": "code",
   "execution_count": 45,
   "metadata": {
    "colab": {},
    "colab_type": "code",
    "id": "eaMYdTsJytWx"
   },
   "outputs": [],
   "source": [
    "for ix,row in train_new.iterrows():\n",
    "    u_score = train_grouped_user.loc[train_grouped_user['User_ID']==row['User_ID'],'User_Score'].values[0]\n",
    "    train_new.at[ix,'User_score']=u_score"
   ]
  },
  {
   "cell_type": "code",
   "execution_count": 46,
   "metadata": {
    "colab": {},
    "colab_type": "code",
    "id": "CSH_HofGytWz"
   },
   "outputs": [],
   "source": [
    "for ix,row in test_new.iterrows():\n",
    "    p_score = test_grouped_prod.loc[test_grouped_prod['Product_ID']==row['Product_ID'],'Product_Score'].values[0]\n",
    "    test_new.at[ix,'Product_score']=p_score"
   ]
  },
  {
   "cell_type": "code",
   "execution_count": 47,
   "metadata": {
    "colab": {},
    "colab_type": "code",
    "id": "8KdjSAoIytW2"
   },
   "outputs": [],
   "source": [
    "for ix,row in test_new.iterrows():\n",
    "    u_score = test_grouped_user.loc[test_grouped_user['User_ID']==row['User_ID'],'User_Score'].values[0]\n",
    "    test_new.at[ix,'User_score']=u_score"
   ]
  },
  {
   "cell_type": "code",
   "execution_count": 48,
   "metadata": {
    "colab": {
     "base_uri": "https://localhost:8080/",
     "height": 370
    },
    "colab_type": "code",
    "id": "qdO1D4WL0e6H",
    "outputId": "5863d446-b68f-4d4b-f486-cac3196b5bc3"
   },
   "outputs": [
    {
     "name": "stdout",
     "output_type": "stream",
     "text": [
      "<class 'pandas.core.frame.DataFrame'>\n",
      "RangeIndex: 550068 entries, 0 to 550067\n",
      "Data columns (total 14 columns):\n",
      " #   Column                      Non-Null Count   Dtype  \n",
      "---  ------                      --------------   -----  \n",
      " 0   User_ID                     550068 non-null  int64  \n",
      " 1   Product_ID                  550068 non-null  int64  \n",
      " 2   Gender                      550068 non-null  int64  \n",
      " 3   Age                         550068 non-null  int64  \n",
      " 4   Occupation                  550068 non-null  int64  \n",
      " 5   City_Category               550068 non-null  int64  \n",
      " 6   Stay_In_Current_City_Years  550068 non-null  int64  \n",
      " 7   Marital_Status              550068 non-null  int64  \n",
      " 8   Product_Category_1          550068 non-null  int64  \n",
      " 9   Product_Category_2          550068 non-null  int64  \n",
      " 10  Product_Category_3          550068 non-null  int64  \n",
      " 11  Purchase                    550068 non-null  int64  \n",
      " 12  Product_score               550068 non-null  float64\n",
      " 13  User_score                  550068 non-null  float64\n",
      "dtypes: float64(2), int64(12)\n",
      "memory usage: 58.8 MB\n"
     ]
    }
   ],
   "source": [
    "df = train_new.copy()\n",
    "labenc = LabelEncoder()\n",
    "flist = [\"Product_ID\", \"City_Category\", \"Product_Category_2\", \"Product_Category_3\"]\n",
    "for i in flist:\n",
    "  df[i] = labenc.fit_transform(df[i])\n",
    "\n",
    "df.info()"
   ]
  },
  {
   "cell_type": "code",
   "execution_count": 49,
   "metadata": {
    "colab": {},
    "colab_type": "code",
    "id": "3VbsFtkBytW5"
   },
   "outputs": [],
   "source": [
    "corrmat = df.corr()"
   ]
  },
  {
   "cell_type": "code",
   "execution_count": 50,
   "metadata": {
    "colab": {
     "base_uri": "https://localhost:8080/",
     "height": 370
    },
    "colab_type": "code",
    "id": "IBDXCZcQytW7",
    "outputId": "58d07bad-79c3-4550-aff2-34603c54df7a"
   },
   "outputs": [
    {
     "name": "stdout",
     "output_type": "stream",
     "text": [
      "<class 'pandas.core.frame.DataFrame'>\n",
      "Index: 14 entries, User_ID to User_score\n",
      "Data columns (total 14 columns):\n",
      " #   Column                      Non-Null Count  Dtype  \n",
      "---  ------                      --------------  -----  \n",
      " 0   User_ID                     14 non-null     float64\n",
      " 1   Product_ID                  14 non-null     float64\n",
      " 2   Gender                      14 non-null     float64\n",
      " 3   Age                         14 non-null     float64\n",
      " 4   Occupation                  14 non-null     float64\n",
      " 5   City_Category               14 non-null     float64\n",
      " 6   Stay_In_Current_City_Years  14 non-null     float64\n",
      " 7   Marital_Status              14 non-null     float64\n",
      " 8   Product_Category_1          14 non-null     float64\n",
      " 9   Product_Category_2          14 non-null     float64\n",
      " 10  Product_Category_3          14 non-null     float64\n",
      " 11  Purchase                    14 non-null     float64\n",
      " 12  Product_score               14 non-null     float64\n",
      " 13  User_score                  14 non-null     float64\n",
      "dtypes: float64(14)\n",
      "memory usage: 2.2+ KB\n"
     ]
    }
   ],
   "source": [
    "corrmat.info()"
   ]
  },
  {
   "cell_type": "code",
   "execution_count": 51,
   "metadata": {
    "colab": {
     "base_uri": "https://localhost:8080/",
     "height": 683
    },
    "colab_type": "code",
    "id": "PjEcNXNQytW-",
    "outputId": "e97ac060-c9b7-4123-f52e-ecec457ffc70"
   },
   "outputs": [
    {
     "data": {
      "image/png": "[encoded data removed]",
      "text/plain": [
       "<Figure size 1080x648 with 2 Axes>"
      ]
     },
     "metadata": {},
     "output_type": "display_data"
    }
   ],
   "source": [
    "sns.set(rc={'figure.figsize':(15,9)})\n",
    "sns.heatmap(corrmat,annot=True,cmap='cividis')\n",
    "plt.show()"
   ]
  },
  {
   "cell_type": "code",
   "execution_count": 52,
   "metadata": {
    "colab": {
     "base_uri": "https://localhost:8080/",
     "height": 215
    },
    "colab_type": "code",
    "id": "zQE2OMXrytXB",
    "outputId": "8785ab28-2446-4740-8082-f4d75c32b43d"
   },
   "outputs": [
    {
     "data": {
      "text/html": [
       "<div>\n",
       "<style scoped>\n",
       "    .dataframe tbody tr th:only-of-type {\n",
       "        vertical-align: middle;\n",
       "    }\n",
       "\n",
       "    .dataframe tbody tr th {\n",
       "        vertical-align: top;\n",
       "    }\n",
       "\n",
       "    .dataframe thead th {\n",
       "        text-align: right;\n",
       "    }\n",
       "</style>\n",
       "<table border=\"1\" class=\"dataframe\">\n",
       "  <thead>\n",
       "    <tr style=\"text-align: right;\">\n",
       "      <th></th>\n",
       "      <th>User_ID</th>\n",
       "      <th>Product_ID</th>\n",
       "      <th>Gender</th>\n",
       "      <th>Age</th>\n",
       "      <th>Occupation_0</th>\n",
       "      <th>Occupation_1</th>\n",
       "      <th>Occupation_2</th>\n",
       "      <th>Occupation_3</th>\n",
       "      <th>Occupation_4</th>\n",
       "      <th>City_Category_0</th>\n",
       "      <th>...</th>\n",
       "      <th>Product_Category_2_0</th>\n",
       "      <th>Product_Category_2_1</th>\n",
       "      <th>Product_Category_2_2</th>\n",
       "      <th>Product_Category_2_3</th>\n",
       "      <th>Product_Category_2_4</th>\n",
       "      <th>Product_Category_3_0</th>\n",
       "      <th>Product_Category_3_1</th>\n",
       "      <th>Product_Category_3_2</th>\n",
       "      <th>Product_Category_3_3</th>\n",
       "      <th>Purchase</th>\n",
       "    </tr>\n",
       "  </thead>\n",
       "  <tbody>\n",
       "    <tr>\n",
       "      <th>0</th>\n",
       "      <td>1000001</td>\n",
       "      <td>P00069042</td>\n",
       "      <td>0</td>\n",
       "      <td>0</td>\n",
       "      <td>0</td>\n",
       "      <td>0</td>\n",
       "      <td>0</td>\n",
       "      <td>0</td>\n",
       "      <td>1</td>\n",
       "      <td>0</td>\n",
       "      <td>...</td>\n",
       "      <td>0</td>\n",
       "      <td>0</td>\n",
       "      <td>0</td>\n",
       "      <td>0</td>\n",
       "      <td>1</td>\n",
       "      <td>0</td>\n",
       "      <td>0</td>\n",
       "      <td>0</td>\n",
       "      <td>1</td>\n",
       "      <td>8370</td>\n",
       "    </tr>\n",
       "    <tr>\n",
       "      <th>1</th>\n",
       "      <td>1000001</td>\n",
       "      <td>P00248942</td>\n",
       "      <td>0</td>\n",
       "      <td>0</td>\n",
       "      <td>0</td>\n",
       "      <td>0</td>\n",
       "      <td>0</td>\n",
       "      <td>0</td>\n",
       "      <td>1</td>\n",
       "      <td>0</td>\n",
       "      <td>...</td>\n",
       "      <td>0</td>\n",
       "      <td>0</td>\n",
       "      <td>0</td>\n",
       "      <td>1</td>\n",
       "      <td>0</td>\n",
       "      <td>0</td>\n",
       "      <td>0</td>\n",
       "      <td>1</td>\n",
       "      <td>0</td>\n",
       "      <td>15200</td>\n",
       "    </tr>\n",
       "    <tr>\n",
       "      <th>2</th>\n",
       "      <td>1000001</td>\n",
       "      <td>P00087842</td>\n",
       "      <td>0</td>\n",
       "      <td>0</td>\n",
       "      <td>0</td>\n",
       "      <td>0</td>\n",
       "      <td>0</td>\n",
       "      <td>0</td>\n",
       "      <td>1</td>\n",
       "      <td>0</td>\n",
       "      <td>...</td>\n",
       "      <td>0</td>\n",
       "      <td>0</td>\n",
       "      <td>0</td>\n",
       "      <td>0</td>\n",
       "      <td>1</td>\n",
       "      <td>0</td>\n",
       "      <td>0</td>\n",
       "      <td>0</td>\n",
       "      <td>1</td>\n",
       "      <td>1422</td>\n",
       "    </tr>\n",
       "    <tr>\n",
       "      <th>3</th>\n",
       "      <td>1000001</td>\n",
       "      <td>P00085442</td>\n",
       "      <td>0</td>\n",
       "      <td>0</td>\n",
       "      <td>0</td>\n",
       "      <td>0</td>\n",
       "      <td>0</td>\n",
       "      <td>0</td>\n",
       "      <td>1</td>\n",
       "      <td>0</td>\n",
       "      <td>...</td>\n",
       "      <td>0</td>\n",
       "      <td>0</td>\n",
       "      <td>0</td>\n",
       "      <td>1</td>\n",
       "      <td>1</td>\n",
       "      <td>0</td>\n",
       "      <td>0</td>\n",
       "      <td>0</td>\n",
       "      <td>1</td>\n",
       "      <td>1057</td>\n",
       "    </tr>\n",
       "    <tr>\n",
       "      <th>4</th>\n",
       "      <td>1000002</td>\n",
       "      <td>P00285442</td>\n",
       "      <td>1</td>\n",
       "      <td>6</td>\n",
       "      <td>0</td>\n",
       "      <td>0</td>\n",
       "      <td>0</td>\n",
       "      <td>1</td>\n",
       "      <td>0</td>\n",
       "      <td>1</td>\n",
       "      <td>...</td>\n",
       "      <td>0</td>\n",
       "      <td>0</td>\n",
       "      <td>0</td>\n",
       "      <td>0</td>\n",
       "      <td>1</td>\n",
       "      <td>0</td>\n",
       "      <td>0</td>\n",
       "      <td>0</td>\n",
       "      <td>1</td>\n",
       "      <td>7969</td>\n",
       "    </tr>\n",
       "  </tbody>\n",
       "</table>\n",
       "<p>5 rows × 28 columns</p>\n",
       "</div>"
      ],
      "text/plain": [
       "   User_ID Product_ID  Gender  Age  Occupation_0  Occupation_1  Occupation_2  \\\n",
       "0  1000001  P00069042       0    0             0             0             0   \n",
       "1  1000001  P00248942       0    0             0             0             0   \n",
       "2  1000001  P00087842       0    0             0             0             0   \n",
       "3  1000001  P00085442       0    0             0             0             0   \n",
       "4  1000002  P00285442       1    6             0             0             0   \n",
       "\n",
       "   Occupation_3  Occupation_4  City_Category_0  ...  Product_Category_2_0  \\\n",
       "0             0             1                0  ...                     0   \n",
       "1             0             1                0  ...                     0   \n",
       "2             0             1                0  ...                     0   \n",
       "3             0             1                0  ...                     0   \n",
       "4             1             0                1  ...                     0   \n",
       "\n",
       "   Product_Category_2_1  Product_Category_2_2  Product_Category_2_3  \\\n",
       "0                     0                     0                     0   \n",
       "1                     0                     0                     1   \n",
       "2                     0                     0                     0   \n",
       "3                     0                     0                     1   \n",
       "4                     0                     0                     0   \n",
       "\n",
       "   Product_Category_2_4  Product_Category_3_0  Product_Category_3_1  \\\n",
       "0                     1                     0                     0   \n",
       "1                     0                     0                     0   \n",
       "2                     1                     0                     0   \n",
       "3                     1                     0                     0   \n",
       "4                     1                     0                     0   \n",
       "\n",
       "   Product_Category_3_2  Product_Category_3_3  Purchase  \n",
       "0                     0                     1      8370  \n",
       "1                     1                     0     15200  \n",
       "2                     0                     1      1422  \n",
       "3                     0                     1      1057  \n",
       "4                     0                     1      7969  \n",
       "\n",
       "[5 rows x 28 columns]"
      ]
     },
     "execution_count": 52,
     "metadata": {},
     "output_type": "execute_result"
    }
   ],
   "source": [
    "train_bin.head()"
   ]
  },
  {
   "cell_type": "code",
   "execution_count": 53,
   "metadata": {
    "colab": {
     "base_uri": "https://localhost:8080/",
     "height": 185
    },
    "colab_type": "code",
    "id": "xzYXNTm7ytXD",
    "outputId": "72a83f6c-50ae-4abe-ab90-fe5898d5f7be"
   },
   "outputs": [
    {
     "data": {
      "text/plain": [
       "Index(['User_ID', 'Product_ID', 'Occupation_0', 'Occupation_1', 'Occupation_2',\n",
       "       'Occupation_3', 'Occupation_4', 'City_Category_0', 'City_Category_1',\n",
       "       'Product_Category_1_0', 'Product_Category_1_1', 'Product_Category_1_2',\n",
       "       'Product_Category_1_3', 'Product_Category_1_4', 'Product_Category_2_0',\n",
       "       'Product_Category_2_1', 'Product_Category_2_2', 'Product_Category_2_3',\n",
       "       'Product_Category_2_4', 'Product_Category_3_0', 'Product_Category_3_1',\n",
       "       'Product_Category_3_2', 'Product_Category_3_3'],\n",
       "      dtype='object')"
      ]
     },
     "execution_count": 53,
     "metadata": {},
     "output_type": "execute_result"
    }
   ],
   "source": [
    "df_tr = train_bin.drop(['Gender', 'Age','Stay_In_Current_City_Years', 'Marital_Status','Purchase'],axis=1)\n",
    "df_tr.columns"
   ]
  },
  {
   "cell_type": "code",
   "execution_count": 54,
   "metadata": {
    "colab": {
     "base_uri": "https://localhost:8080/",
     "height": 185
    },
    "colab_type": "code",
    "id": "1VzpwZDlytXF",
    "outputId": "453e713d-5a0b-4cbe-b9a4-fd64445286ab"
   },
   "outputs": [
    {
     "data": {
      "text/plain": [
       "Index(['User_ID', 'Product_ID', 'Occupation_0', 'Occupation_1', 'Occupation_2',\n",
       "       'Occupation_3', 'Occupation_4', 'City_Category_0', 'City_Category_1',\n",
       "       'Product_Category_1_0', 'Product_Category_1_1', 'Product_Category_1_2',\n",
       "       'Product_Category_1_3', 'Product_Category_1_4', 'Product_Category_2_0',\n",
       "       'Product_Category_2_1', 'Product_Category_2_2', 'Product_Category_2_3',\n",
       "       'Product_Category_2_4', 'Product_Category_3_0', 'Product_Category_3_1',\n",
       "       'Product_Category_3_2', 'Product_Category_3_3'],\n",
       "      dtype='object')"
      ]
     },
     "execution_count": 54,
     "metadata": {},
     "output_type": "execute_result"
    }
   ],
   "source": [
    "df_ts = test_bin.drop(['Gender', 'Age','Stay_In_Current_City_Years', 'Marital_Status'],axis=1)\n",
    "df_ts.columns"
   ]
  },
  {
   "cell_type": "code",
   "execution_count": 55,
   "metadata": {
    "colab": {
     "base_uri": "https://localhost:8080/",
     "height": 235
    },
    "colab_type": "code",
    "id": "n21n9i8bytXI",
    "outputId": "dbef8f39-125c-437e-c918-cc969f2aa5a1"
   },
   "outputs": [
    {
     "data": {
      "text/plain": [
       "Index(['User_ID', 'Product_ID', 'Gender', 'Age', 'Occupation', 'City_Category',\n",
       "       'Stay_In_Current_City_Years', 'Marital_Status', 'Product_Category_1',\n",
       "       'Product_Category_2', 'Product_Category_3', 'Purchase', 'Product_score',\n",
       "       'User_score', 'Occupation_0', 'Occupation_1', 'Occupation_2',\n",
       "       'Occupation_3', 'Occupation_4', 'City_Category_0', 'City_Category_1',\n",
       "       'Product_Category_1_0', 'Product_Category_1_1', 'Product_Category_1_2',\n",
       "       'Product_Category_1_3', 'Product_Category_1_4', 'Product_Category_2_0',\n",
       "       'Product_Category_2_1', 'Product_Category_2_2', 'Product_Category_2_3',\n",
       "       'Product_Category_2_4', 'Product_Category_3_0', 'Product_Category_3_1',\n",
       "       'Product_Category_3_2', 'Product_Category_3_3'],\n",
       "      dtype='object')"
      ]
     },
     "execution_count": 55,
     "metadata": {},
     "output_type": "execute_result"
    }
   ],
   "source": [
    "train_new = pd.merge(train_new,df_tr,on=['User_ID', 'Product_ID'],how='outer')\n",
    "train_new.columns"
   ]
  },
  {
   "cell_type": "code",
   "execution_count": 56,
   "metadata": {
    "colab": {
     "base_uri": "https://localhost:8080/",
     "height": 235
    },
    "colab_type": "code",
    "id": "d-NEEZyHytXL",
    "outputId": "a7037c5c-8233-4b95-f3ff-f8684eb4c5e7"
   },
   "outputs": [
    {
     "data": {
      "text/plain": [
       "Index(['User_ID', 'Product_ID', 'Gender', 'Age', 'Occupation', 'City_Category',\n",
       "       'Stay_In_Current_City_Years', 'Marital_Status', 'Product_Category_1',\n",
       "       'Product_Category_2', 'Product_Category_3', 'Product_score',\n",
       "       'User_score', 'Occupation_0', 'Occupation_1', 'Occupation_2',\n",
       "       'Occupation_3', 'Occupation_4', 'City_Category_0', 'City_Category_1',\n",
       "       'Product_Category_1_0', 'Product_Category_1_1', 'Product_Category_1_2',\n",
       "       'Product_Category_1_3', 'Product_Category_1_4', 'Product_Category_2_0',\n",
       "       'Product_Category_2_1', 'Product_Category_2_2', 'Product_Category_2_3',\n",
       "       'Product_Category_2_4', 'Product_Category_3_0', 'Product_Category_3_1',\n",
       "       'Product_Category_3_2', 'Product_Category_3_3'],\n",
       "      dtype='object')"
      ]
     },
     "execution_count": 56,
     "metadata": {},
     "output_type": "execute_result"
    }
   ],
   "source": [
    "test_new = pd.merge(test_new,df_ts,on=['User_ID', 'Product_ID'],how='outer')\n",
    "test_new.columns"
   ]
  },
  {
   "cell_type": "code",
   "execution_count": null,
   "metadata": {
    "colab": {},
    "colab_type": "code",
    "id": "eQJpVzX5ytXQ"
   },
   "outputs": [],
   "source": []
  },
  {
   "cell_type": "code",
   "execution_count": null,
   "metadata": {
    "colab": {},
    "colab_type": "code",
    "id": "sl_ZV5RsytXT"
   },
   "outputs": [],
   "source": []
  },
  {
   "cell_type": "code",
   "execution_count": null,
   "metadata": {
    "colab": {},
    "colab_type": "code",
    "id": "NcO8ypqUytXX"
   },
   "outputs": [],
   "source": []
  },
  {
   "cell_type": "code",
   "execution_count": 57,
   "metadata": {
    "colab": {},
    "colab_type": "code",
    "id": "2wNppXq8ytXe"
   },
   "outputs": [],
   "source": [
    "from sklearn.model_selection import KFold\n",
    "from sklearn.metrics import mean_squared_error"
   ]
  },
  {
   "cell_type": "code",
   "execution_count": 58,
   "metadata": {
    "colab": {},
    "colab_type": "code",
    "id": "nEokoLFpytXh"
   },
   "outputs": [],
   "source": [
    "def model_cv_score(model,data,target,randomstate):\n",
    "    i=1;\n",
    "    train_score = []\n",
    "    test_score = []\n",
    "    kf = KFold(n_splits=10,random_state=randomstate)\n",
    "    for trian_ix,test_ix in kf.split(data):\n",
    "        \n",
    "        print(\"{} of Fold {}\".format(i,kf.get_n_splits(data)))\n",
    "        \n",
    "        X_train, X_test = data.iloc[trian_ix], data.iloc[test_ix]\n",
    "        y_train, y_test = target.iloc[trian_ix], target.iloc[test_ix]   \n",
    "        '''\n",
    "        X_train_scaled = scaler.fit_transform(X_train)\n",
    "        X_test_scaled = scaler.transform(X_test)\n",
    "        '''\n",
    "        \n",
    "        modelfit = model.fit(X_train,y_train)\n",
    "        mse_train = mean_squared_error(y_true=y_train,y_pred=modelfit.predict(X_train))\n",
    "        mse_test = mean_squared_error(y_true=y_test,y_pred=modelfit.predict(X_test))\n",
    "        \n",
    "        train_score.append(np.sqrt(mse_train))\n",
    "        test_score.append(np.sqrt(mse_test))\n",
    "        print(\"Train score: {}\\nTest score: {}\".format(np.sqrt(mse_train),np.sqrt(mse_test)))\n",
    "        i += 1\n",
    "    return train_score,test_score\n"
   ]
  },
  {
   "cell_type": "code",
   "execution_count": 59,
   "metadata": {
    "colab": {
     "base_uri": "https://localhost:8080/",
     "height": 118
    },
    "colab_type": "code",
    "id": "gXkIfjcbytXj",
    "outputId": "432944e7-6a31-4e98-fe3b-d4877331d37b"
   },
   "outputs": [
    {
     "data": {
      "text/plain": [
       "0     8370\n",
       "1    15200\n",
       "2     1422\n",
       "3     1057\n",
       "4     7969\n",
       "Name: Purchase, dtype: int64"
      ]
     },
     "execution_count": 59,
     "metadata": {},
     "output_type": "execute_result"
    }
   ],
   "source": [
    "df = train_new.drop(['Purchase','User_ID','Product_ID','Product_Category_1',\n",
    "       'Product_Category_2', 'Product_Category_3','Occupation', 'City_Category',],axis=1)\n",
    "target = train_new['Purchase']\n",
    "target.head()"
   ]
  },
  {
   "cell_type": "code",
   "execution_count": 60,
   "metadata": {
    "colab": {
     "base_uri": "https://localhost:8080/",
     "height": 672
    },
    "colab_type": "code",
    "id": "rNfUo0NwytXl",
    "outputId": "5dbf20c6-7fe2-4888-b19d-d9e1531865ef"
   },
   "outputs": [
    {
     "name": "stdout",
     "output_type": "stream",
     "text": [
      "<class 'pandas.core.frame.DataFrame'>\n",
      "Int64Index: 550068 entries, 0 to 550067\n",
      "Data columns (total 27 columns):\n",
      " #   Column                      Non-Null Count   Dtype  \n",
      "---  ------                      --------------   -----  \n",
      " 0   Gender                      550068 non-null  int64  \n",
      " 1   Age                         550068 non-null  int64  \n",
      " 2   Stay_In_Current_City_Years  550068 non-null  int64  \n",
      " 3   Marital_Status              550068 non-null  int64  \n",
      " 4   Product_score               550068 non-null  float64\n",
      " 5   User_score                  550068 non-null  float64\n",
      " 6   Occupation_0                550068 non-null  int64  \n",
      " 7   Occupation_1                550068 non-null  int64  \n",
      " 8   Occupation_2                550068 non-null  int64  \n",
      " 9   Occupation_3                550068 non-null  int64  \n",
      " 10  Occupation_4                550068 non-null  int64  \n",
      " 11  City_Category_0             550068 non-null  int64  \n",
      " 12  City_Category_1             550068 non-null  int64  \n",
      " 13  Product_Category_1_0        550068 non-null  int64  \n",
      " 14  Product_Category_1_1        550068 non-null  int64  \n",
      " 15  Product_Category_1_2        550068 non-null  int64  \n",
      " 16  Product_Category_1_3        550068 non-null  int64  \n",
      " 17  Product_Category_1_4        550068 non-null  int64  \n",
      " 18  Product_Category_2_0        550068 non-null  int64  \n",
      " 19  Product_Category_2_1        550068 non-null  int64  \n",
      " 20  Product_Category_2_2        550068 non-null  int64  \n",
      " 21  Product_Category_2_3        550068 non-null  int64  \n",
      " 22  Product_Category_2_4        550068 non-null  int64  \n",
      " 23  Product_Category_3_0        550068 non-null  int64  \n",
      " 24  Product_Category_3_1        550068 non-null  int64  \n",
      " 25  Product_Category_3_2        550068 non-null  int64  \n",
      " 26  Product_Category_3_3        550068 non-null  int64  \n",
      "dtypes: float64(2), int64(25)\n",
      "memory usage: 117.5 MB\n"
     ]
    }
   ],
   "source": [
    "df.info()"
   ]
  },
  {
   "cell_type": "code",
   "execution_count": 61,
   "metadata": {
    "colab": {
     "base_uri": "https://localhost:8080/",
     "height": 238
    },
    "colab_type": "code",
    "id": "mdeAnFZ4JVCX",
    "outputId": "3ad13c06-7e11-47ba-b02c-5ab07ffbbf13"
   },
   "outputs": [
    {
     "name": "stdout",
     "output_type": "stream",
     "text": [
      "Collecting scikit-optimize\n",
      "  Downloading scikit_optimize-0.9.0-py2.py3-none-any.whl (100 kB)\n",
      "\u001b[K     |████████████████████████████████| 100 kB 2.5 MB/s ta 0:00:01\n",
      "\u001b[?25hRequirement already satisfied: scipy>=0.19.1 in /opt/anaconda3/lib/python3.9/site-packages (from scikit-optimize) (1.7.3)\n",
      "Collecting pyaml>=16.9\n",
      "  Downloading pyaml-21.10.1-py2.py3-none-any.whl (24 kB)\n",
      "Requirement already satisfied: numpy>=1.13.3 in /opt/anaconda3/lib/python3.9/site-packages (from scikit-optimize) (1.21.5)\n",
      "Requirement already satisfied: scikit-learn>=0.20.0 in /opt/anaconda3/lib/python3.9/site-packages (from scikit-optimize) (1.0.2)\n",
      "Requirement already satisfied: joblib>=0.11 in /opt/anaconda3/lib/python3.9/site-packages (from scikit-optimize) (1.1.0)\n",
      "Requirement already satisfied: PyYAML in /opt/anaconda3/lib/python3.9/site-packages (from pyaml>=16.9->scikit-optimize) (6.0)\n",
      "Requirement already satisfied: threadpoolctl>=2.0.0 in /opt/anaconda3/lib/python3.9/site-packages (from scikit-learn>=0.20.0->scikit-optimize) (2.2.0)\n",
      "Installing collected packages: pyaml, scikit-optimize\n",
      "Successfully installed pyaml-21.10.1 scikit-optimize-0.9.0\n"
     ]
    }
   ],
   "source": [
    "!pip install scikit-optimize"
   ]
  },
  {
   "cell_type": "markdown",
   "metadata": {
    "colab_type": "text",
    "id": "MzhaM5Y4r_5U"
   },
   "source": [
    "# ***Boosting Alogorithms***\n",
    "\n",
    "\n",
    "*   These are sequential and adaptive algorithms, which produces weak learners and each later learner learns from the errors/mistakes of the previous learner.\n",
    "*   A predictor/tree is choosen from a wide variety like random forest ordecision trees.\n",
    "*   Since predictors are learning from mistakes of previous one, the subsequent predictors require less time/iterations to reach to actual value\n",
    "*   In adaboost algorithm, weights are assigned initially as 1/n. After calculating the residual, observation which has high residual or is hard to fit is assigned larger weight and others are assigned smaller weights.\n",
    "\n"
   ]
  },
  {
   "cell_type": "code",
   "execution_count": 62,
   "metadata": {
    "colab": {},
    "colab_type": "code",
    "id": "15MAAxNNs1Pf"
   },
   "outputs": [],
   "source": [
    "from sklearn.model_selection import RandomizedSearchCV,GridSearchCV,cross_val_score\n",
    "from skopt import gp_minimize"
   ]
  },
  {
   "cell_type": "code",
   "execution_count": 63,
   "metadata": {
    "colab": {},
    "colab_type": "code",
    "id": "RJ8Emjm_FBce"
   },
   "outputs": [],
   "source": [
    "from sklearn.ensemble import AdaBoostRegressor"
   ]
  },
  {
   "cell_type": "code",
   "execution_count": 64,
   "metadata": {
    "colab": {},
    "colab_type": "code",
    "id": "3aaZCGgkoeh-"
   },
   "outputs": [],
   "source": [
    "from sklearn.tree import DecisionTreeRegressor"
   ]
  },
  {
   "cell_type": "code",
   "execution_count": 65,
   "metadata": {
    "colab": {},
    "colab_type": "code",
    "id": "OgTUFgLQbThb"
   },
   "outputs": [],
   "source": [
    "from skopt.space import Real, Integer\n",
    "from skopt.utils import use_named_args"
   ]
  },
  {
   "cell_type": "code",
   "execution_count": 66,
   "metadata": {
    "colab": {},
    "colab_type": "code",
    "id": "xF4gN7vRu_-d"
   },
   "outputs": [],
   "source": [
    "from skopt import BayesSearchCV\n",
    "from skopt.space import Categorical,Integer,Real"
   ]
  },
  {
   "cell_type": "code",
   "execution_count": 67,
   "metadata": {
    "colab": {},
    "colab_type": "code",
    "id": "hmntQwRAolQw"
   },
   "outputs": [],
   "source": [
    "Dtree = DecisionTreeRegressor(max_depth=9,min_samples_leaf=2,min_samples_split=5)"
   ]
  },
  {
   "cell_type": "code",
   "execution_count": 68,
   "metadata": {
    "colab": {},
    "colab_type": "code",
    "id": "919EmtfDbTdb"
   },
   "outputs": [],
   "source": [
    "space  = [Real(10**-5, 10**0, \"log-uniform\", name='learning_rate'),\n",
    "          Integer(30, 200, name='n_estimator'),\n",
    "          Categorical([Dtree,None],name='base_estimator'),\n",
    "          Categorical(['linear', 'square', 'exponential'],name='loss')]"
   ]
  },
  {
   "cell_type": "code",
   "execution_count": 69,
   "metadata": {
    "colab": {},
    "colab_type": "code",
    "id": "Km5CjWhwnKUK"
   },
   "outputs": [],
   "source": [
    "params = {'base_estimator':[None,Dtree],\n",
    "          'n_estimators':[50,100,200,300],\n",
    "          'learning_rate':[0.001,0.1,0.5,1],\n",
    "          'loss':['linear', 'square', 'exponential']}"
   ]
  },
  {
   "cell_type": "code",
   "execution_count": 70,
   "metadata": {
    "colab": {},
    "colab_type": "code",
    "id": "KguU5Y5ad19h"
   },
   "outputs": [],
   "source": [
    "bayOpt = BayesSearchCV(AdaBoostRegressor(),\n",
    "                       {\n",
    "                        'base_estimator':Categorical([None,Dtree]),\n",
    "                        'n_estimators':Integer(30,200),\n",
    "                        'learning_rate':Real(0.001,1,prior='log-uniform'),\n",
    "                        'loss':Categorical(['linear', 'square', 'exponential'])\n",
    "                       },\n",
    "                        scoring='neg_mean_squared_error',cv=5,return_train_score=True)"
   ]
  },
  {
   "cell_type": "code",
   "execution_count": null,
   "metadata": {
    "colab": {},
    "colab_type": "code",
    "id": "W81316QUd17Y"
   },
   "outputs": [],
   "source": [
    "bayOpt.fit(df,target)"
   ]
  },
  {
   "cell_type": "code",
   "execution_count": null,
   "metadata": {
    "colab": {},
    "colab_type": "code",
    "id": "8WoeYywsd15h"
   },
   "outputs": [],
   "source": []
  },
  {
   "cell_type": "code",
   "execution_count": null,
   "metadata": {
    "colab": {},
    "colab_type": "code",
    "id": "FpX4eixgMIEs"
   },
   "outputs": [],
   "source": [
    "from google.colab import drive\n",
    "drive.mount('/content/drive')"
   ]
  },
  {
   "cell_type": "code",
   "execution_count": null,
   "metadata": {
    "colab": {},
    "colab_type": "code",
    "id": "AcpUaOB8d12x"
   },
   "outputs": [],
   "source": []
  },
  {
   "cell_type": "code",
   "execution_count": null,
   "metadata": {
    "colab": {},
    "colab_type": "code",
    "id": "tLs2vKaYd1z-"
   },
   "outputs": [],
   "source": []
  },
  {
   "cell_type": "code",
   "execution_count": null,
   "metadata": {
    "colab": {},
    "colab_type": "code",
    "id": "Q1FSpkrsrse5"
   },
   "outputs": [],
   "source": [
    "adaboost = AdaBoostRegressor(base_estimator=Dtree,n_estimators=30,learning_rate=0.05,loss='linear')\n"
   ]
  },
  {
   "cell_type": "markdown",
   "metadata": {
    "colab_type": "text",
    "id": "Dz1uARIA4vZh"
   },
   "source": [
    "base_estimator=Dtree,n_estimators=30,learning_rate=0.05,loss='linear' : 2700ish"
   ]
  },
  {
   "cell_type": "markdown",
   "metadata": {
    "colab_type": "text",
    "id": "7mjCCkfTwQrE"
   },
   "source": [
    "radcvAdaboost = GridSearchCV(AdaBoostRegressor(),param_grid=params,scoring='neg_mean_squared_error',cv=10,return_train_score=True)\n",
    "radcvAdaboost.fit(df,target)"
   ]
  },
  {
   "cell_type": "markdown",
   "metadata": {
    "colab_type": "text",
    "id": "wwYOjXWqWo0i"
   },
   "source": [
    "grid_ada = GridSearchCV(AdaBoostRegressor(),param_grid=params,scoring='neg_mean_squared_error',return_train_score=True)\n",
    "grid_ada.fit(df,target)"
   ]
  },
  {
   "cell_type": "code",
   "execution_count": null,
   "metadata": {
    "colab": {},
    "colab_type": "code",
    "id": "i82FYmMzFtq6"
   },
   "outputs": [],
   "source": [
    "train_score,test_score = model_cv_score(adaboost,df,target,None)"
   ]
  },
  {
   "cell_type": "code",
   "execution_count": null,
   "metadata": {
    "colab": {},
    "colab_type": "code",
    "id": "_uRLig0XGxo5"
   },
   "outputs": [],
   "source": [
    "from sklearn.metrics import mean_squared_error\n",
    "from sklearn.ensemble import GradientBoostingRegressor"
   ]
  },
  {
   "cell_type": "code",
   "execution_count": null,
   "metadata": {
    "colab": {},
    "colab_type": "code",
    "id": "FtbNrzaIrtBs"
   },
   "outputs": [],
   "source": [
    "gbr_final = GradientBoostingRegressor(n_estimators=90,\n",
    " min_samples_split=2,\n",
    " min_samples_leaf= 7,\n",
    " max_depth= 7,\n",
    " learning_rate=0.8)"
   ]
  },
  {
   "cell_type": "code",
   "execution_count": null,
   "metadata": {
    "colab": {},
    "colab_type": "code",
    "id": "SdcPjBZEP25g"
   },
   "outputs": [],
   "source": [
    "train_gbr,test_gbr = model_cv_score(gbr_final,df,target,None)"
   ]
  },
  {
   "cell_type": "code",
   "execution_count": null,
   "metadata": {
    "colab": {},
    "colab_type": "code",
    "id": "-BPfJ8WCQExq"
   },
   "outputs": [],
   "source": [
    "submission_gbr = pd.read_csv(\"sample_submission_V9Inaty.csv\")\n",
    "submission_gbr.head()"
   ]
  },
  {
   "cell_type": "code",
   "execution_count": null,
   "metadata": {
    "colab": {},
    "colab_type": "code",
    "id": "hBUzO9NWSuq-"
   },
   "outputs": [],
   "source": []
  },
  {
   "cell_type": "code",
   "execution_count": null,
   "metadata": {
    "colab": {},
    "colab_type": "code",
    "id": "o8xqkTo4Rala"
   },
   "outputs": [],
   "source": [
    "test_new.head()"
   ]
  },
  {
   "cell_type": "code",
   "execution_count": null,
   "metadata": {
    "colab": {},
    "colab_type": "code",
    "id": "dOoCKw6xSHKt"
   },
   "outputs": [],
   "source": [
    "test_new.columns"
   ]
  },
  {
   "cell_type": "code",
   "execution_count": null,
   "metadata": {
    "colab": {},
    "colab_type": "code",
    "id": "GFtvCv0-iyX4"
   },
   "outputs": [],
   "source": [
    "exclude = ['User_ID', 'Product_ID', 'Occupation', 'City_Category','Product_Category_1',\n",
    "       'Product_Category_2', 'Product_Category_3']"
   ]
  },
  {
   "cell_type": "code",
   "execution_count": null,
   "metadata": {
    "colab": {},
    "colab_type": "code",
    "id": "GteuCH8fTIe_"
   },
   "outputs": [],
   "source": [
    "df_test = test_new.drop(exclude,axis=1)\n",
    "df_test.columns"
   ]
  },
  {
   "cell_type": "code",
   "execution_count": null,
   "metadata": {
    "colab": {},
    "colab_type": "code",
    "id": "hOzA17E4jdKQ"
   },
   "outputs": [],
   "source": [
    "pred_test_gbr = (gbr_final.predict(df_test))"
   ]
  },
  {
   "cell_type": "code",
   "execution_count": null,
   "metadata": {
    "colab": {},
    "colab_type": "code",
    "id": "B_vVHnXtjkSL"
   },
   "outputs": [],
   "source": [
    "submission_gbr['Purchase'] = pred_test_gbr"
   ]
  },
  {
   "cell_type": "code",
   "execution_count": null,
   "metadata": {
    "colab": {},
    "colab_type": "code",
    "id": "-qvI7Gyaj9V3"
   },
   "outputs": [],
   "source": [
    "submission_gbr.head()"
   ]
  },
  {
   "cell_type": "code",
   "execution_count": null,
   "metadata": {
    "colab": {},
    "colab_type": "code",
    "id": "wPQsIyVmj_K7"
   },
   "outputs": [],
   "source": [
    "submission_gbr.to_csv(\"Submission_gbr.csv\")"
   ]
  },
  {
   "cell_type": "code",
   "execution_count": null,
   "metadata": {
    "colab": {},
    "colab_type": "code",
    "id": "P90A9mbBkLCY"
   },
   "outputs": [],
   "source": []
  }
 ],
 "metadata": {
  "accelerator": "GPU",
  "colab": {
   "collapsed_sections": [],
   "name": "Copy of BlackFriday4_GBR.ipynb",
   "provenance": [],
   "toc_visible": true
  },
  "kernelspec": {
   "display_name": "Python 3 (ipykernel)",
   "language": "python",
   "name": "python3"
  },
  "language_info": {
   "codemirror_mode": {
    "name": "ipython",
    "version": 3
   },
   "file_extension": ".py",
   "mimetype": "text/x-python",
   "name": "python",
   "nbconvert_exporter": "python",
   "pygments_lexer": "ipython3",
   "version": "3.9.12"
  }
 },
 "nbformat": 4,
 "nbformat_minor": 1
}
