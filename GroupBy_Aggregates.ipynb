{
 "cells": [
  {
   "cell_type": "markdown",
   "id": "7e25df21",
   "metadata": {},
   "source": [
    "# GroupBy and Aggregate functions "
   ]
  },
  {
   "cell_type": "code",
   "execution_count": 1,
   "id": "85732ef0",
   "metadata": {},
   "outputs": [],
   "source": [
    "from pyspark.sql import SparkSession"
   ]
  },
  {
   "cell_type": "code",
   "execution_count": 2,
   "id": "61243cea",
   "metadata": {},
   "outputs": [
    {
     "name": "stderr",
     "output_type": "stream",
     "text": [
      "Setting default log level to \"WARN\".\n",
      "To adjust logging level use sc.setLogLevel(newLevel). For SparkR, use setLogLevel(newLevel).\n"
     ]
    },
    {
     "name": "stdout",
     "output_type": "stream",
     "text": [
      "23/03/13 23:23:04 WARN NativeCodeLoader: Unable to load native-hadoop library for your platform... using builtin-java classes where applicable\n"
     ]
    }
   ],
   "source": [
    "spark = SparkSession.builder.appName('grpby-agg-demo').getOrCreate()"
   ]
  },
  {
   "cell_type": "code",
   "execution_count": 3,
   "id": "46c9a085",
   "metadata": {},
   "outputs": [
    {
     "name": "stderr",
     "output_type": "stream",
     "text": [
      "                                                                                \r"
     ]
    },
    {
     "name": "stdout",
     "output_type": "stream",
     "text": [
      "+---------+------------+------+\n",
      "|     Name| Departments|salary|\n",
      "+---------+------------+------+\n",
      "|    Krish|Data Science| 10000|\n",
      "|    Krish|         IOT|  5000|\n",
      "|   Mahesh|    Big Data|  4000|\n",
      "|    Krish|    Big Data|  4000|\n",
      "|   Mahesh|Data Science|  3000|\n",
      "|Sudhanshu|Data Science| 20000|\n",
      "|Sudhanshu|         IOT| 10000|\n",
      "|Sudhanshu|    Big Data|  5000|\n",
      "|    Sunny|Data Science| 10000|\n",
      "|    Sunny|    Big Data|  2000|\n",
      "+---------+------------+------+\n",
      "\n"
     ]
    }
   ],
   "source": [
    "dfs = spark.read.csv('test3.csv',header=True,inferSchema=True)\n",
    "dfs.show()"
   ]
  },
  {
   "cell_type": "markdown",
   "id": "e78d2cfb",
   "metadata": {},
   "source": [
    "### Grouped to find the maximum salary"
   ]
  },
  {
   "cell_type": "code",
   "execution_count": 7,
   "id": "45c2a558",
   "metadata": {},
   "outputs": [
    {
     "name": "stdout",
     "output_type": "stream",
     "text": [
      "+------------+-----------+\n",
      "| Departments|sum(salary)|\n",
      "+------------+-----------+\n",
      "|         IOT|      15000|\n",
      "|    Big Data|      15000|\n",
      "|Data Science|      43000|\n",
      "+------------+-----------+\n",
      "\n"
     ]
    }
   ],
   "source": [
    "dfs.groupBy('Departments').sum().show()"
   ]
  },
  {
   "cell_type": "code",
   "execution_count": 8,
   "id": "831c40d4",
   "metadata": {},
   "outputs": [
    {
     "name": "stdout",
     "output_type": "stream",
     "text": [
      "+------------+-----------+\n",
      "| Departments|avg(salary)|\n",
      "+------------+-----------+\n",
      "|         IOT|     7500.0|\n",
      "|    Big Data|     3750.0|\n",
      "|Data Science|    10750.0|\n",
      "+------------+-----------+\n",
      "\n"
     ]
    }
   ],
   "source": [
    "dfs.groupBy('Departments').avg().show()"
   ]
  },
  {
   "cell_type": "markdown",
   "id": "1e6ff2d0",
   "metadata": {},
   "source": [
    "### Groupby Departmernts counts"
   ]
  },
  {
   "cell_type": "code",
   "execution_count": 9,
   "id": "1d046deb",
   "metadata": {},
   "outputs": [
    {
     "name": "stdout",
     "output_type": "stream",
     "text": [
      "+------------+-----+\n",
      "| Departments|count|\n",
      "+------------+-----+\n",
      "|         IOT|    2|\n",
      "|    Big Data|    4|\n",
      "|Data Science|    4|\n",
      "+------------+-----+\n",
      "\n"
     ]
    }
   ],
   "source": [
    "dfs.groupBy('Departments').count().show()"
   ]
  },
  {
   "cell_type": "markdown",
   "id": "e4d1a58f",
   "metadata": {},
   "source": [
    "### Groupby Departmernts maximum salary"
   ]
  },
  {
   "cell_type": "code",
   "execution_count": 13,
   "id": "ca3881c2",
   "metadata": {},
   "outputs": [
    {
     "name": "stdout",
     "output_type": "stream",
     "text": [
      "+------------+-----------+\n",
      "| Departments|max(salary)|\n",
      "+------------+-----------+\n",
      "|         IOT|      10000|\n",
      "|    Big Data|       5000|\n",
      "|Data Science|      20000|\n",
      "+------------+-----------+\n",
      "\n"
     ]
    }
   ],
   "source": [
    "dfs.groupBy('Departments').max().show()"
   ]
  },
  {
   "cell_type": "code",
   "execution_count": 18,
   "id": "04726591",
   "metadata": {},
   "outputs": [
    {
     "name": "stdout",
     "output_type": "stream",
     "text": [
      "+------------+---------+-----------+\n",
      "| Departments|     Name|max(salary)|\n",
      "+------------+---------+-----------+\n",
      "|Data Science|   Mahesh|       3000|\n",
      "|         IOT|Sudhanshu|      10000|\n",
      "|    Big Data|Sudhanshu|       5000|\n",
      "|Data Science|    Krish|      10000|\n",
      "|Data Science|Sudhanshu|      20000|\n",
      "|    Big Data|    Krish|       4000|\n",
      "|         IOT|    Krish|       5000|\n",
      "|    Big Data|    Sunny|       2000|\n",
      "|Data Science|    Sunny|      10000|\n",
      "|    Big Data|   Mahesh|       4000|\n",
      "+------------+---------+-----------+\n",
      "\n"
     ]
    }
   ],
   "source": [
    "dfs.groupBy(['Departments','Name']).max().show()"
   ]
  },
  {
   "cell_type": "markdown",
   "id": "87598961",
   "metadata": {},
   "source": [
    "### Aggregation --> No GroupBy"
   ]
  },
  {
   "cell_type": "code",
   "execution_count": 15,
   "id": "d3399206",
   "metadata": {},
   "outputs": [
    {
     "name": "stdout",
     "output_type": "stream",
     "text": [
      "+-----------+\n",
      "|sum(Salary)|\n",
      "+-----------+\n",
      "|      73000|\n",
      "+-----------+\n",
      "\n"
     ]
    }
   ],
   "source": [
    "dfs.agg({'Salary':'sum'}).show()"
   ]
  },
  {
   "cell_type": "code",
   "execution_count": 16,
   "id": "19b9d25a",
   "metadata": {},
   "outputs": [
    {
     "name": "stdout",
     "output_type": "stream",
     "text": [
      "+-----------+\n",
      "|avg(Salary)|\n",
      "+-----------+\n",
      "|     7300.0|\n",
      "+-----------+\n",
      "\n"
     ]
    }
   ],
   "source": [
    "dfs.agg({'Salary':'avg'}).show()"
   ]
  },
  {
   "cell_type": "code",
   "execution_count": 17,
   "id": "83fd0d13",
   "metadata": {},
   "outputs": [
    {
     "name": "stdout",
     "output_type": "stream",
     "text": [
      "+-----------+\n",
      "|max(Salary)|\n",
      "+-----------+\n",
      "|      20000|\n",
      "+-----------+\n",
      "\n"
     ]
    }
   ],
   "source": [
    "dfs.agg({'Salary':'max'}).show()"
   ]
  },
  {
   "cell_type": "code",
   "execution_count": null,
   "id": "be4bf5cf",
   "metadata": {},
   "outputs": [],
   "source": []
  }
 ],
 "metadata": {
  "kernelspec": {
   "display_name": "Python 3 (ipykernel)",
   "language": "python",
   "name": "python3"
  },
  "language_info": {
   "codemirror_mode": {
    "name": "ipython",
    "version": 3
   },
   "file_extension": ".py",
   "mimetype": "text/x-python",
   "name": "python",
   "nbconvert_exporter": "python",
   "pygments_lexer": "ipython3",
   "version": "3.9.12"
  }
 },
 "nbformat": 4,
 "nbformat_minor": 5
}
