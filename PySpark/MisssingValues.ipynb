{
 "cells": [
  {
   "cell_type": "markdown",
   "id": "05701e70",
   "metadata": {},
   "source": [
    "# Handling Missing values "
   ]
  },
  {
   "cell_type": "code",
   "execution_count": 8,
   "id": "4dfcac92",
   "metadata": {},
   "outputs": [],
   "source": [
    "from pyspark.sql import SparkSession\n",
    "import pandas as pd"
   ]
  },
  {
   "cell_type": "code",
   "execution_count": 9,
   "id": "88a83743",
   "metadata": {},
   "outputs": [],
   "source": [
    "spark = SparkSession.builder.appName('spark-missingvalue-demao').getOrCreate()"
   ]
  },
  {
   "cell_type": "code",
   "execution_count": 18,
   "id": "9cb71dcd",
   "metadata": {},
   "outputs": [
    {
     "data": {
      "text/plain": [
       "Name          2\n",
       "age           1\n",
       "Experience    2\n",
       "Salary        1\n",
       "dtype: int64"
      ]
     },
     "execution_count": 18,
     "metadata": {},
     "output_type": "execute_result"
    }
   ],
   "source": [
    "df= pd.read_csv('test2.csv')\n",
    "df.isnull().sum()"
   ]
  },
  {
   "cell_type": "code",
   "execution_count": 19,
   "id": "12b3d223",
   "metadata": {},
   "outputs": [
    {
     "name": "stdout",
     "output_type": "stream",
     "text": [
      "+---------+----+----------+------+\n",
      "|     Name| age|Experience|Salary|\n",
      "+---------+----+----------+------+\n",
      "|    Krish|  31|        10| 30000|\n",
      "|Sudhanshu|  30|         8| 25000|\n",
      "|    Sunny|  29|         4| 20000|\n",
      "|     Paul|  24|         3| 20000|\n",
      "|   Harsha|  21|         1| 15000|\n",
      "|  Shubham|  23|         2| 18000|\n",
      "|   Mahesh|null|      null| 40000|\n",
      "|     null|  34|        10| 38000|\n",
      "|     null|  36|      null|  null|\n",
      "+---------+----+----------+------+\n",
      "\n"
     ]
    }
   ],
   "source": [
    "dfs = spark.read.csv('test2.csv',header=True)\n",
    "dfs.show()"
   ]
  },
  {
   "cell_type": "markdown",
   "id": "42d85081",
   "metadata": {},
   "source": [
    "## parameters of 'na.drop' function\n",
    "how = 'any' --> drop row where any value is null \n",
    "\n",
    "how = 'all' --> drop row where all values are null\n",
    "\n",
    "subset = ['columns_name'] --> removes/checks null only from that columns\n",
    "\n",
    "thresh = number  --> minimum number of non-null values in a row"
   ]
  },
  {
   "cell_type": "code",
   "execution_count": 25,
   "id": "79ad6861",
   "metadata": {},
   "outputs": [
    {
     "name": "stdout",
     "output_type": "stream",
     "text": [
      "+---------+---+----------+------+\n",
      "|     Name|age|Experience|Salary|\n",
      "+---------+---+----------+------+\n",
      "|    Krish| 31|        10| 30000|\n",
      "|Sudhanshu| 30|         8| 25000|\n",
      "|    Sunny| 29|         4| 20000|\n",
      "|     Paul| 24|         3| 20000|\n",
      "|   Harsha| 21|         1| 15000|\n",
      "|  Shubham| 23|         2| 18000|\n",
      "+---------+---+----------+------+\n",
      "\n"
     ]
    }
   ],
   "source": [
    "dfs.na.drop(how='any').show()"
   ]
  },
  {
   "cell_type": "code",
   "execution_count": 26,
   "id": "0e8a18aa",
   "metadata": {},
   "outputs": [
    {
     "name": "stdout",
     "output_type": "stream",
     "text": [
      "+---------+---+----------+------+\n",
      "|     Name|age|Experience|Salary|\n",
      "+---------+---+----------+------+\n",
      "|    Krish| 31|        10| 30000|\n",
      "|Sudhanshu| 30|         8| 25000|\n",
      "|    Sunny| 29|         4| 20000|\n",
      "|     Paul| 24|         3| 20000|\n",
      "|   Harsha| 21|         1| 15000|\n",
      "|  Shubham| 23|         2| 18000|\n",
      "|     null| 34|        10| 38000|\n",
      "+---------+---+----------+------+\n",
      "\n"
     ]
    }
   ],
   "source": [
    "dfs.na.drop(how='any',subset=['Experience']).show()"
   ]
  },
  {
   "cell_type": "code",
   "execution_count": 28,
   "id": "769f2cca",
   "metadata": {},
   "outputs": [
    {
     "name": "stdout",
     "output_type": "stream",
     "text": [
      "+---------+---+----------+------+\n",
      "|     Name|age|Experience|Salary|\n",
      "+---------+---+----------+------+\n",
      "|    Krish| 31|        10| 30000|\n",
      "|Sudhanshu| 30|         8| 25000|\n",
      "|    Sunny| 29|         4| 20000|\n",
      "|     Paul| 24|         3| 20000|\n",
      "|   Harsha| 21|         1| 15000|\n",
      "|  Shubham| 23|         2| 18000|\n",
      "|     null| 34|        10| 38000|\n",
      "+---------+---+----------+------+\n",
      "\n"
     ]
    }
   ],
   "source": [
    "dfs.na.drop(how='any',thresh=3).show()"
   ]
  },
  {
   "cell_type": "markdown",
   "id": "cc2e6b1e",
   "metadata": {},
   "source": [
    "## Filling missing values\n",
    "fill(value,columns)"
   ]
  },
  {
   "cell_type": "code",
   "execution_count": 29,
   "id": "ff5364a4",
   "metadata": {},
   "outputs": [
    {
     "name": "stdout",
     "output_type": "stream",
     "text": [
      "+-------------+-------------+-------------+-------------+\n",
      "|         Name|          age|   Experience|       Salary|\n",
      "+-------------+-------------+-------------+-------------+\n",
      "|        Krish|           31|           10|        30000|\n",
      "|    Sudhanshu|           30|            8|        25000|\n",
      "|        Sunny|           29|            4|        20000|\n",
      "|         Paul|           24|            3|        20000|\n",
      "|       Harsha|           21|            1|        15000|\n",
      "|      Shubham|           23|            2|        18000|\n",
      "|       Mahesh|Missing Value|Missing Value|        40000|\n",
      "|Missing Value|           34|           10|        38000|\n",
      "|Missing Value|           36|Missing Value|Missing Value|\n",
      "+-------------+-------------+-------------+-------------+\n",
      "\n"
     ]
    }
   ],
   "source": [
    "dfs.na.fill(\"Missing Value\").show()"
   ]
  },
  {
   "cell_type": "code",
   "execution_count": 30,
   "id": "d4102013",
   "metadata": {},
   "outputs": [
    {
     "name": "stdout",
     "output_type": "stream",
     "text": [
      "+---------+-------------+-------------+------+\n",
      "|     Name|          age|   Experience|Salary|\n",
      "+---------+-------------+-------------+------+\n",
      "|    Krish|           31|           10| 30000|\n",
      "|Sudhanshu|           30|            8| 25000|\n",
      "|    Sunny|           29|            4| 20000|\n",
      "|     Paul|           24|            3| 20000|\n",
      "|   Harsha|           21|            1| 15000|\n",
      "|  Shubham|           23|            2| 18000|\n",
      "|   Mahesh|Missing Value|Missing Value| 40000|\n",
      "|     null|           34|           10| 38000|\n",
      "|     null|           36|Missing Value|  null|\n",
      "+---------+-------------+-------------+------+\n",
      "\n"
     ]
    }
   ],
   "source": [
    "dfs.na.fill(\"Missing Value\",['Experience','age']).show()"
   ]
  },
  {
   "cell_type": "code",
   "execution_count": 34,
   "id": "556290a7",
   "metadata": {},
   "outputs": [
    {
     "name": "stdout",
     "output_type": "stream",
     "text": [
      "root\n",
      " |-- Name: string (nullable = true)\n",
      " |-- age: string (nullable = true)\n",
      " |-- Experience: string (nullable = true)\n",
      " |-- Salary: string (nullable = true)\n",
      "\n"
     ]
    }
   ],
   "source": [
    "dfs.printSchema()"
   ]
  },
  {
   "cell_type": "code",
   "execution_count": 35,
   "id": "6e9b0941",
   "metadata": {},
   "outputs": [
    {
     "name": "stdout",
     "output_type": "stream",
     "text": [
      "root\n",
      " |-- Name: string (nullable = true)\n",
      " |-- age: integer (nullable = true)\n",
      " |-- Experience: integer (nullable = true)\n",
      " |-- Salary: integer (nullable = true)\n",
      "\n"
     ]
    }
   ],
   "source": [
    "dfs = spark.read.csv('test2.csv',header=True,inferSchema=True)\n",
    "dfs.printSchema()"
   ]
  },
  {
   "cell_type": "code",
   "execution_count": 36,
   "id": "a7d0817c",
   "metadata": {},
   "outputs": [],
   "source": [
    "from pyspark.ml.feature import Imputer\n",
    "\n",
    "imputer = Imputer(\n",
    "    inputCols=['age', 'Experience', 'Salary'], \n",
    "    outputCols=[\"{}_imputed\".format(c) for c in ['age', 'Experience', 'Salary']]\n",
    "    ).setStrategy(\"mean\")"
   ]
  },
  {
   "cell_type": "code",
   "execution_count": 37,
   "id": "a4254ce7",
   "metadata": {},
   "outputs": [
    {
     "name": "stdout",
     "output_type": "stream",
     "text": [
      "+---------+----+----------+------+-----------+------------------+--------------+\n",
      "|     Name| age|Experience|Salary|age_imputed|Experience_imputed|Salary_imputed|\n",
      "+---------+----+----------+------+-----------+------------------+--------------+\n",
      "|    Krish|  31|        10| 30000|         31|                10|         30000|\n",
      "|Sudhanshu|  30|         8| 25000|         30|                 8|         25000|\n",
      "|    Sunny|  29|         4| 20000|         29|                 4|         20000|\n",
      "|     Paul|  24|         3| 20000|         24|                 3|         20000|\n",
      "|   Harsha|  21|         1| 15000|         21|                 1|         15000|\n",
      "|  Shubham|  23|         2| 18000|         23|                 2|         18000|\n",
      "|   Mahesh|null|      null| 40000|         28|                 5|         40000|\n",
      "|     null|  34|        10| 38000|         34|                10|         38000|\n",
      "|     null|  36|      null|  null|         36|                 5|         25750|\n",
      "+---------+----+----------+------+-----------+------------------+--------------+\n",
      "\n"
     ]
    }
   ],
   "source": [
    "# Add imputation cols to df\n",
    "imputer.fit(dfs).transform(dfs).show()"
   ]
  },
  {
   "cell_type": "code",
   "execution_count": null,
   "id": "2de63200",
   "metadata": {},
   "outputs": [],
   "source": [
    "##"
   ]
  },
  {
   "cell_type": "code",
   "execution_count": null,
   "id": "a1fc2d77",
   "metadata": {},
   "outputs": [],
   "source": []
  }
 ],
 "metadata": {
  "kernelspec": {
   "display_name": "Python 3 (ipykernel)",
   "language": "python",
   "name": "python3"
  },
  "language_info": {
   "codemirror_mode": {
    "name": "ipython",
    "version": 3
   },
   "file_extension": ".py",
   "mimetype": "text/x-python",
   "name": "python",
   "nbconvert_exporter": "python",
   "pygments_lexer": "ipython3",
   "version": "3.9.12"
  }
 },
 "nbformat": 4,
 "nbformat_minor": 5
}
